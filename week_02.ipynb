{
 "cells": [
  {
   "cell_type": "markdown",
   "id": "1eceba56",
   "metadata": {},
   "source": [
    "## Ch02. Variable\n",
    "- string\n",
    "- float\n",
    "- integer\n",
    "- booleen"
   ]
  },
  {
   "cell_type": "code",
   "execution_count": 1,
   "id": "ccec6cd5",
   "metadata": {},
   "outputs": [
    {
     "data": {
      "text/plain": [
       "2"
      ]
     },
     "execution_count": 1,
     "metadata": {},
     "output_type": "execute_result"
    }
   ],
   "source": [
    "#여러 이름 동시에 할당\n",
    "two = deux = dos = 2 #dos -> deux -> two\n",
    "two"
   ]
  },
  {
   "cell_type": "code",
   "execution_count": 2,
   "id": "2d7f9785",
   "metadata": {},
   "outputs": [
    {
     "name": "stdout",
     "output_type": "stream",
     "text": [
      "4 2\n"
     ]
    }
   ],
   "source": [
    "# 불변객체이므로\n",
    "two = 4\n",
    "print(two, deux) #two에 deux가 할당되었던게 4로 대체되었지만 deux는 여전히 2인 것"
   ]
  },
  {
   "cell_type": "code",
   "execution_count": 3,
   "id": "d5ee2337",
   "metadata": {},
   "outputs": [
    {
     "data": {
      "text/plain": [
       "(2450071841168, 2450071841104)"
      ]
     },
     "execution_count": 3,
     "metadata": {},
     "output_type": "execute_result"
    }
   ],
   "source": [
    "id(two), id(deux)  #할때마다, 컴퓨터마다 변한다."
   ]
  },
  {
   "cell_type": "code",
   "execution_count": 4,
   "id": "9fdaf631",
   "metadata": {},
   "outputs": [
    {
     "data": {
      "text/plain": [
       "([1, 2, 3], [1, 2, 3])"
      ]
     },
     "execution_count": 4,
     "metadata": {},
     "output_type": "execute_result"
    }
   ],
   "source": [
    "p = [1, 2, 3]\n",
    "q = p\n",
    "p, q"
   ]
  },
  {
   "cell_type": "code",
   "execution_count": 5,
   "id": "3aaf622e",
   "metadata": {},
   "outputs": [
    {
     "data": {
      "text/plain": [
       "(2450151038656, 2450151038656)"
      ]
     },
     "execution_count": 5,
     "metadata": {},
     "output_type": "execute_result"
    }
   ],
   "source": [
    "id(p), id(q)  #id가 동일하게 나옴. 컴퓨터에 같은 위치"
   ]
  },
  {
   "cell_type": "code",
   "execution_count": 6,
   "id": "8177c2b7",
   "metadata": {},
   "outputs": [
    {
     "data": {
      "text/plain": [
       "([9, 2, 3], [9, 2, 3])"
      ]
     },
     "execution_count": 6,
     "metadata": {},
     "output_type": "execute_result"
    }
   ],
   "source": [
    "p[0] = 9  #p = [1, 2, 3] --> p = [9, 2, 3], p를 q에 할당해서 q도 [9, 2, 3]로 바뀜 \n",
    "p, q"
   ]
  },
  {
   "cell_type": "code",
   "execution_count": 18,
   "id": "ce019fa3",
   "metadata": {},
   "outputs": [
    {
     "data": {
      "text/plain": [
       "(2450151038656, 2450151038656)"
      ]
     },
     "execution_count": 18,
     "metadata": {},
     "output_type": "execute_result"
    }
   ],
   "source": [
    "id(p), id(q)"
   ]
  },
  {
   "cell_type": "code",
   "execution_count": 19,
   "id": "50f1eccb",
   "metadata": {},
   "outputs": [
    {
     "data": {
      "text/plain": [
       "([5, 2, 3], [5, 2, 3])"
      ]
     },
     "execution_count": 19,
     "metadata": {},
     "output_type": "execute_result"
    }
   ],
   "source": [
    "# 개인 실험\n",
    "q[0] = 5\n",
    "p, q  #  # q = [9, 2, 3] --> q[5, 2, 3] -->    ?????????????????????????????"
   ]
  },
  {
   "cell_type": "markdown",
   "id": "e215be14",
   "metadata": {},
   "source": [
    "#### 좋은 변수명\n",
    "- 간결하고 명확한 이름\n",
    "- 의미가 담겨야 함. a, b, c. ...\n",
    "- 코드에는 의미가 담기고 주석에는 의도가 담긴다.\n",
    " - 예: the number of students n < the_number_of_students < num_students\n",
    " - 카멜표기법: numStudents"
   ]
  },
  {
   "cell_type": "markdown",
   "id": "ed187694",
   "metadata": {},
   "source": [
    "### 자료형 변환, 형 변환\n",
    "- str(<변환할 값>), int(), float(), bool()"
   ]
  },
  {
   "cell_type": "code",
   "execution_count": 8,
   "id": "3e3fd40a",
   "metadata": {},
   "outputs": [
    {
     "data": {
      "text/plain": [
       "True"
      ]
     },
     "execution_count": 8,
     "metadata": {},
     "output_type": "execute_result"
    }
   ],
   "source": [
    "a = 10\n",
    "\n",
    "# str\n",
    "str(a)  #문자열로 변환\n",
    "\n",
    "#float\n",
    "float(a) #실수로 변환\n",
    "\n",
    "#bool\n",
    "bool(a) # 어떤 값이 False로 변환이 되는 지"
   ]
  },
  {
   "cell_type": "markdown",
   "id": "3858c3ba",
   "metadata": {},
   "source": [
    "주의할 점: float --> int"
   ]
  },
  {
   "cell_type": "code",
   "execution_count": 11,
   "id": "1af24ac3",
   "metadata": {},
   "outputs": [
    {
     "data": {
      "text/plain": [
       "10"
      ]
     },
     "execution_count": 11,
     "metadata": {},
     "output_type": "execute_result"
    }
   ],
   "source": [
    "x = 10.7 #소수점 내림\n",
    "int(x)"
   ]
  },
  {
   "cell_type": "code",
   "execution_count": 20,
   "id": "f80849a7",
   "metadata": {},
   "outputs": [
    {
     "name": "stdout",
     "output_type": "stream",
     "text": [
      "30\n",
      "29\n"
     ]
    }
   ],
   "source": [
    "y = 19.8\n",
    "\n",
    "print(int(x + y))\n",
    "print(int(x) + int(y))"
   ]
  },
  {
   "cell_type": "code",
   "execution_count": 22,
   "id": "adcd0244",
   "metadata": {},
   "outputs": [
    {
     "data": {
      "text/plain": [
       "10.7"
      ]
     },
     "execution_count": 22,
     "metadata": {},
     "output_type": "execute_result"
    }
   ],
   "source": [
    "# 개인 시험\n",
    "x = 10.7\n",
    "int(x)\n",
    "float(x)  #x는 항상 10.7인거고 변환은 일시적인 것???"
   ]
  },
  {
   "cell_type": "markdown",
   "id": "32e184b4",
   "metadata": {},
   "source": [
    "주의할 점 2: str --> int/float"
   ]
  },
  {
   "cell_type": "code",
   "execution_count": 21,
   "id": "2ca9f425",
   "metadata": {},
   "outputs": [
    {
     "data": {
      "text/plain": [
       "(10, 10.0)"
      ]
     },
     "execution_count": 21,
     "metadata": {},
     "output_type": "execute_result"
    }
   ],
   "source": [
    "i = '10'\n",
    "int(i), float(i)"
   ]
  },
  {
   "cell_type": "code",
   "execution_count": null,
   "id": "130c420b",
   "metadata": {},
   "outputs": [],
   "source": []
  },
  {
   "cell_type": "code",
   "execution_count": null,
   "id": "8fe0b45a",
   "metadata": {},
   "outputs": [],
   "source": []
  },
  {
   "cell_type": "code",
   "execution_count": 24,
   "id": "e60428c8",
   "metadata": {},
   "outputs": [
    {
     "ename": "ValueError",
     "evalue": "invalid literal for int() with base 10: '10.7'",
     "output_type": "error",
     "traceback": [
      "\u001b[1;31m---------------------------------------------------------------------------\u001b[0m",
      "\u001b[1;31mValueError\u001b[0m                                Traceback (most recent call last)",
      "\u001b[1;32m~\\AppData\\Local\\Temp/ipykernel_14680/912595414.py\u001b[0m in \u001b[0;36m<module>\u001b[1;34m\u001b[0m\n\u001b[0;32m      1\u001b[0m \u001b[0mj\u001b[0m \u001b[1;33m=\u001b[0m \u001b[1;34m'10.7'\u001b[0m\u001b[1;33m\u001b[0m\u001b[1;33m\u001b[0m\u001b[0m\n\u001b[1;32m----> 2\u001b[1;33m \u001b[0mint\u001b[0m\u001b[1;33m(\u001b[0m\u001b[0mj\u001b[0m\u001b[1;33m)\u001b[0m  \u001b[1;31m#10.7은 integer이 아님(float으로 형 변환 먼저해)\u001b[0m\u001b[1;33m\u001b[0m\u001b[1;33m\u001b[0m\u001b[0m\n\u001b[0m",
      "\u001b[1;31mValueError\u001b[0m: invalid literal for int() with base 10: '10.7'"
     ]
    }
   ],
   "source": [
    "j = '10.7'\n",
    "int(j)  #10.7은 integer이 아님(float으로 형 변환 먼저해)"
   ]
  },
  {
   "cell_type": "code",
   "execution_count": 26,
   "id": "8f617089",
   "metadata": {},
   "outputs": [
    {
     "data": {
      "text/plain": [
       "10.7"
      ]
     },
     "execution_count": 26,
     "metadata": {},
     "output_type": "execute_result"
    }
   ],
   "source": [
    "#개인 시험\n",
    "j = '10.7'\n",
    "float(j)"
   ]
  },
  {
   "cell_type": "code",
   "execution_count": 28,
   "id": "7d2eaeda",
   "metadata": {},
   "outputs": [
    {
     "ename": "ValueError",
     "evalue": "invalid literal for int() with base 10: '10.7'",
     "output_type": "error",
     "traceback": [
      "\u001b[1;31m---------------------------------------------------------------------------\u001b[0m",
      "\u001b[1;31mValueError\u001b[0m                                Traceback (most recent call last)",
      "\u001b[1;32m~\\AppData\\Local\\Temp/ipykernel_14680/2317952690.py\u001b[0m in \u001b[0;36m<module>\u001b[1;34m\u001b[0m\n\u001b[0;32m      2\u001b[0m \u001b[0mj\u001b[0m \u001b[1;33m=\u001b[0m \u001b[1;34m'10.7'\u001b[0m\u001b[1;33m\u001b[0m\u001b[1;33m\u001b[0m\u001b[0m\n\u001b[0;32m      3\u001b[0m \u001b[0mfloat\u001b[0m\u001b[1;33m(\u001b[0m\u001b[0mj\u001b[0m\u001b[1;33m)\u001b[0m\u001b[1;33m\u001b[0m\u001b[1;33m\u001b[0m\u001b[0m\n\u001b[1;32m----> 4\u001b[1;33m \u001b[0mint\u001b[0m\u001b[1;33m(\u001b[0m\u001b[0mj\u001b[0m\u001b[1;33m)\u001b[0m\u001b[1;33m\u001b[0m\u001b[1;33m\u001b[0m\u001b[0m\n\u001b[0m",
      "\u001b[1;31mValueError\u001b[0m: invalid literal for int() with base 10: '10.7'"
     ]
    }
   ],
   "source": [
    "#개인 시험\n",
    "j = '10.7'\n",
    "float(j)\n",
    "int(j)   #??????????"
   ]
  },
  {
   "cell_type": "code",
   "execution_count": 29,
   "id": "3c550d8f",
   "metadata": {},
   "outputs": [
    {
     "data": {
      "text/plain": [
       "10"
      ]
     },
     "execution_count": 29,
     "metadata": {},
     "output_type": "execute_result"
    }
   ],
   "source": [
    "#개인 시험\n",
    "int(float(j))"
   ]
  },
  {
   "cell_type": "markdown",
   "id": "44c6f72c",
   "metadata": {},
   "source": [
    "### 꿀팁 'print()'\n",
    "병렬 출력"
   ]
  },
  {
   "cell_type": "code",
   "execution_count": 14,
   "id": "ff121d41",
   "metadata": {},
   "outputs": [
    {
     "name": "stdout",
     "output_type": "stream",
     "text": [
      "dogcatlion\n",
      "dog cat lion\n"
     ]
    }
   ],
   "source": [
    "dog = 'dog'\n",
    "cat = 'cat'\n",
    "lion = 'lion'\n",
    "\n",
    "print(dog + cat + lion) #space x \\n\n",
    "print(dog, cat, lion) #space o, \\n"
   ]
  },
  {
   "cell_type": "markdown",
   "id": "4b23533e",
   "metadata": {},
   "source": [
    "print(, sep=' ', end='\\n') # argument 안에서는 = 앞뒤 띄어쓰기 x"
   ]
  },
  {
   "cell_type": "code",
   "execution_count": 16,
   "id": "a8464716",
   "metadata": {},
   "outputs": [
    {
     "name": "stdout",
     "output_type": "stream",
     "text": [
      "dog cat lion\n",
      "dog/cat/lion\n",
      "\n",
      "EOL\n"
     ]
    }
   ],
   "source": [
    "print(dog, cat, lion, sep=' ', end='\\n') #default\n",
    "print(dog, cat, lion, sep='/', end='\\n\\n')\n",
    "print('EOL')"
   ]
  },
  {
   "cell_type": "code",
   "execution_count": 17,
   "id": "85b99114",
   "metadata": {
    "scrolled": true
   },
   "outputs": [
    {
     "name": "stdout",
     "output_type": "stream",
     "text": [
      "My favorite animal is dog\n",
      "My favorite animal is dog.\n"
     ]
    }
   ],
   "source": [
    "#1.\n",
    "print(\"My favorite animal is\", dog)\n",
    "\n",
    "#2\n",
    "print(f\"My favorite animal is {dog}.\")"
   ]
  },
  {
   "cell_type": "markdown",
   "id": "d2be9863",
   "metadata": {},
   "source": [
    "코드 줄이 짧을 때 ;(semicolon)을 이용하여 한 줄로 쓸 수 있다."
   ]
  },
  {
   "cell_type": "code",
   "execution_count": 1,
   "id": "55bea3af",
   "metadata": {},
   "outputs": [
    {
     "name": "stdout",
     "output_type": "stream",
     "text": [
      "dog\n"
     ]
    }
   ],
   "source": [
    "dog = 'dog'; cat = 'cat'; lion = 'lion'\n",
    "print(dog)"
   ]
  },
  {
   "cell_type": "markdown",
   "id": "acd3b3ea",
   "metadata": {},
   "source": [
    "### input()' 함수\n",
    "- console에서 사용자가 입력하는 값을 받을 수 있는 함수\n",
    "- 입력 받는 값은 분자열로 인식 된다.\n",
    "- 입력 받은 값을 변수에 담아서 사용한다. 안 그러면 사라짐\n",
    "- 숫자일 경우 형 변환 한다."
   ]
  },
  {
   "cell_type": "code",
   "execution_count": 2,
   "id": "2023f65d",
   "metadata": {},
   "outputs": [
    {
     "name": "stdout",
     "output_type": "stream",
     "text": [
      "Hello? Hi\n"
     ]
    },
    {
     "data": {
      "text/plain": [
       "'Hi'"
      ]
     },
     "execution_count": 2,
     "metadata": {},
     "output_type": "execute_result"
    }
   ],
   "source": [
    "input(\"Hello? \")"
   ]
  },
  {
   "cell_type": "code",
   "execution_count": 4,
   "id": "b3431d58",
   "metadata": {},
   "outputs": [
    {
     "name": "stdout",
     "output_type": "stream",
     "text": [
      "나이가 어떻게 되나요? 55\n"
     ]
    },
    {
     "data": {
      "text/plain": [
       "55"
      ]
     },
     "execution_count": 4,
     "metadata": {},
     "output_type": "execute_result"
    }
   ],
   "source": [
    "int(input('나이가 어떻게 되나요? '))"
   ]
  },
  {
   "cell_type": "markdown",
   "id": "2f370b99",
   "metadata": {},
   "source": [
    "- 변수에 할당하는 방법"
   ]
  },
  {
   "cell_type": "code",
   "execution_count": 10,
   "id": "042f2635",
   "metadata": {},
   "outputs": [
    {
     "name": "stdout",
     "output_type": "stream",
     "text": [
      "나이가 어떻게 되나요? 15\n"
     ]
    }
   ],
   "source": [
    "#1.\n",
    "age = input('나이가 어떻게 되나요? ')  #한번에 입력 받은 걸 변수에 할당, I like this one best!"
   ]
  },
  {
   "cell_type": "code",
   "execution_count": 11,
   "id": "70b8e368",
   "metadata": {},
   "outputs": [
    {
     "data": {
      "text/plain": [
       "'15'"
      ]
     },
     "execution_count": 11,
     "metadata": {},
     "output_type": "execute_result"
    }
   ],
   "source": [
    "age"
   ]
  },
  {
   "cell_type": "code",
   "execution_count": 12,
   "id": "13e6faa4",
   "metadata": {},
   "outputs": [
    {
     "name": "stdout",
     "output_type": "stream",
     "text": [
      "나이가? \n",
      "88\n"
     ]
    }
   ],
   "source": [
    "#2.\n",
    "print(\"나이가? \")  #설명 따로 할당 따로\n",
    "age = input()"
   ]
  },
  {
   "cell_type": "code",
   "execution_count": 13,
   "id": "5a92609c",
   "metadata": {},
   "outputs": [
    {
     "data": {
      "text/plain": [
       "'88'"
      ]
     },
     "execution_count": 13,
     "metadata": {},
     "output_type": "execute_result"
    }
   ],
   "source": [
    "age"
   ]
  },
  {
   "cell_type": "markdown",
   "id": "27ab4730",
   "metadata": {},
   "source": [
    "### Quiz 1\n",
    " - 섭씨를 입력 받아서 화씨로 변환하기\n",
    " - \"섭씨*1.8 + 32 = 화씨\""
   ]
  },
  {
   "cell_type": "code",
   "execution_count": 11,
   "id": "82954927",
   "metadata": {},
   "outputs": [
    {
     "name": "stdout",
     "output_type": "stream",
     "text": [
      "섭씨 온도는? 44\n",
      "화씨 온도는 111.2f 이다.\n"
     ]
    }
   ],
   "source": [
    "# first try\n",
    "Cell = int(input(\"섭씨 온도는? \")) #feedback: 대문자 쓰지마 특별한 거 아닌 이상/ int말고 float 써!/ Cell과 Fahr는 가독성이 나쁨\n",
    "Fahr = Cell * 1.8 + 32\n",
    "print(f\"화씨 온도는 {Fahr}f 이다.\")"
   ]
  },
  {
   "cell_type": "code",
   "execution_count": 13,
   "id": "0d145b04",
   "metadata": {},
   "outputs": [
    {
     "name": "stdout",
     "output_type": "stream",
     "text": [
      "섭씨 온도는? 33.5\n",
      "화씨 온도는 92.30000000000001f 이다.\n"
     ]
    }
   ],
   "source": [
    "#수정본\n",
    "cellcius = float(input(\"섭씨 온도는? \"))\n",
    "fahrenheit = cellcius * 1.8 + 32\n",
    "print(f\"화씨 온도는 {fahrenheit}f 이다.\")"
   ]
  },
  {
   "cell_type": "markdown",
   "id": "97260754",
   "metadata": {},
   "source": [
    "### Quiz 2\n",
    "- 택배 정보 입력 받고, 총 합계 계산하기\n",
    "- 출력값:\n",
    " - \"==택배 정보==\"\n",
    " - 수취인 성명: <이름>\n",
    " - 수취인 주소: <주소>\n",
    " - 배송비: 3000원\n",
    " - 물건 비용: <가격>원\n",
    " - 총합계 = 배송비 + 물건 비용\n",
    "- 물건 비용 = 무게(g) * 5\n",
    "- 합계 = 배송비 + 물건 비용"
   ]
  },
  {
   "cell_type": "code",
   "execution_count": 9,
   "id": "a1b2ac78",
   "metadata": {},
   "outputs": [
    {
     "name": "stdout",
     "output_type": "stream",
     "text": [
      "상품명이 무엇입니까? 운동기구\n",
      "성명이 무엇입니까? 이유경\n",
      "주소가 어떻게 됩니까?(상세 주소까지 입력하시오.) 성북구\n",
      "상품 무게는 어떻게 됩니까? (g단위) 50000\n",
      "==택배 정보==\n",
      "상품명: 운동기구\n",
      "무게: 50000.0\n",
      "수취인 성명: 이유경\n",
      "수취인 주소: 성북구\n",
      "배송비: 3000원\n",
      "물건 비용: 250000.0원\n",
      "총합계 = 253000.0원\n"
     ]
    }
   ],
   "source": [
    "info = input(\"상품명이 무엇입니까? \")\n",
    "name = input(\"성명이 무엇입니까? \")\n",
    "address = input(\"주소가 어떻게 됩니까?(상세 주소까지 입력하시오.) \")\n",
    "weight = float(input(\"상품 무게는 어떻게 됩니까? (g단위) \"))\n",
    "price = weight * 5\n",
    "fee = 3000\n",
    "total = fee + price\n",
    "print(f\"==택배 정보==\\n상품명: {info}\\n무게: {weight}\\n수취인 성명: {name}\\n수취인 주소: {address}\") #너무 길어서 끊음\n",
    "print(f\"배송비: {fee}원\\n물건 비용: {price}원\\n총합계 = {fee + price}원\")"
   ]
  },
  {
   "cell_type": "code",
   "execution_count": 1,
   "id": "5d2f1b48",
   "metadata": {
    "scrolled": true
   },
   "outputs": [
    {
     "data": {
      "text/plain": [
       "True"
      ]
     },
     "execution_count": 1,
     "metadata": {},
     "output_type": "execute_result"
    }
   ],
   "source": [
    "bool(1)"
   ]
  },
  {
   "cell_type": "code",
   "execution_count": 2,
   "id": "d2122200",
   "metadata": {},
   "outputs": [
    {
     "data": {
      "text/plain": [
       "False"
      ]
     },
     "execution_count": 2,
     "metadata": {},
     "output_type": "execute_result"
    }
   ],
   "source": [
    "bool(\"\")"
   ]
  },
  {
   "cell_type": "markdown",
   "id": "cf0a02d4",
   "metadata": {},
   "source": [
    "#### integer\n",
    "- 소수점 없음\n",
    "- default 양수, 음수는 앞에 -를 붙인다.\n",
    "- 숫자 앞에는 0을 붙일 수 없다. 예: 05\n",
    " - 예외적으로 0bxxx, => 다른 진수 표현법\n",
    "- 리터럴: 4\n",
    "- 공백이 많아도 무시가 된다.\n",
    "- 10,000원 -> 10,000원이 두 개로 인식 => _사용\n",
    "  -예: 10_000"
   ]
  },
  {
   "cell_type": "code",
   "execution_count": 15,
   "id": "a6249cfe",
   "metadata": {},
   "outputs": [
    {
     "data": {
      "text/plain": [
       "-1"
      ]
     },
     "execution_count": 15,
     "metadata": {},
     "output_type": "execute_result"
    }
   ],
   "source": [
    "a = -9\n",
    "8 + a"
   ]
  },
  {
   "cell_type": "code",
   "execution_count": 16,
   "id": "d73baa9e",
   "metadata": {},
   "outputs": [
    {
     "ename": "SyntaxError",
     "evalue": "leading zeros in decimal integer literals are not permitted; use an 0o prefix for octal integers (Temp/ipykernel_13076/2890110653.py, line 1)",
     "output_type": "error",
     "traceback": [
      "\u001b[1;36m  File \u001b[1;32m\"C:\\Users\\sunny\\AppData\\Local\\Temp/ipykernel_13076/2890110653.py\"\u001b[1;36m, line \u001b[1;32m1\u001b[0m\n\u001b[1;33m    a = 09\u001b[0m\n\u001b[1;37m         ^\u001b[0m\n\u001b[1;31mSyntaxError\u001b[0m\u001b[1;31m:\u001b[0m leading zeros in decimal integer literals are not permitted; use an 0o prefix for octal integers\n"
     ]
    }
   ],
   "source": [
    "a = 09  #숫자 앞에 0 x"
   ]
  },
  {
   "cell_type": "code",
   "execution_count": 17,
   "id": "984e4293",
   "metadata": {},
   "outputs": [
    {
     "data": {
      "text/plain": [
       "-6"
      ]
     },
     "execution_count": 17,
     "metadata": {},
     "output_type": "execute_result"
    }
   ],
   "source": [
    "-9 + 8                -5 #공백있어도 계산됨"
   ]
  },
  {
   "cell_type": "code",
   "execution_count": 18,
   "id": "bd98f16f",
   "metadata": {},
   "outputs": [
    {
     "name": "stdout",
     "output_type": "stream",
     "text": [
      "10000\n"
     ]
    }
   ],
   "source": [
    "a = 10_000  #10000할때와 같게 나옴\n",
    "print(a)"
   ]
  },
  {
   "cell_type": "markdown",
   "id": "290c2c1e",
   "metadata": {},
   "source": [
    "## 연산\n",
    "- 연산자|operator: +,-, \n",
    "- 피연산자|operand: 4,5, ....\n",
    "- 수식|expression"
   ]
  },
  {
   "cell_type": "code",
   "execution_count": 20,
   "id": "9864be33",
   "metadata": {},
   "outputs": [
    {
     "data": {
      "text/plain": [
       "262144"
      ]
     },
     "execution_count": 20,
     "metadata": {},
     "output_type": "execute_result"
    }
   ],
   "source": [
    "x = 4\n",
    "y = 9\n",
    "\n",
    "x + y\n",
    "x - y\n",
    "x * y\n",
    "x / y #실수형 몫\n",
    "#추가적으로\n",
    "x // y #은 정수형 몫\n",
    "x % y #은 나머지 연산자\n",
    "\n",
    "#거듭제곱|exponential\n",
    "x ** y"
   ]
  },
  {
   "cell_type": "markdown",
   "id": "068214c9",
   "metadata": {},
   "source": [
    "나눗셈 주의할 사항"
   ]
  },
  {
   "cell_type": "code",
   "execution_count": 22,
   "id": "65effe5e",
   "metadata": {},
   "outputs": [
    {
     "data": {
      "text/plain": [
       "(0, 4, 0.4444444444444444)"
      ]
     },
     "execution_count": 22,
     "metadata": {},
     "output_type": "execute_result"
    }
   ],
   "source": [
    "#1. division by zero => 주의 (y != 0)\n",
    "#2. 몫, 나머지\n",
    "x // y, x % y, x / y"
   ]
  },
  {
   "cell_type": "code",
   "execution_count": 24,
   "id": "442c8535",
   "metadata": {},
   "outputs": [
    {
     "data": {
      "text/plain": [
       "(0, 4)"
      ]
     },
     "execution_count": 24,
     "metadata": {},
     "output_type": "execute_result"
    }
   ],
   "source": [
    "divmod(x, y)  #divmod(dividend, divisor) the dividend is divided by the divisor 그래서 divmod(a, b) 답으로 (a//b, a%b)"
   ]
  },
  {
   "cell_type": "markdown",
   "id": "d9f081df",
   "metadata": {},
   "source": [
    "### 복합 대입연산자|compound assignment operator"
   ]
  },
  {
   "cell_type": "code",
   "execution_count": 25,
   "id": "ba40fac5",
   "metadata": {},
   "outputs": [
    {
     "name": "stdout",
     "output_type": "stream",
     "text": [
      "5\n"
     ]
    }
   ],
   "source": [
    "a = 5\n",
    "a - 3\n",
    "print(a)"
   ]
  },
  {
   "cell_type": "code",
   "execution_count": 27,
   "id": "6bc557e1",
   "metadata": {},
   "outputs": [],
   "source": [
    "a = a - 3\n",
    "#1. a - 3 계산\n",
    "#2. 임시변수 temp = a -3\n",
    "#3. a = a- 3\n",
    "\n",
    "a -= 3"
   ]
  },
  {
   "cell_type": "code",
   "execution_count": 28,
   "id": "0bad1f9c",
   "metadata": {},
   "outputs": [],
   "source": [
    "a += 3\n",
    "a -= 3\n",
    "a *= 3\n",
    "a /= 3"
   ]
  },
  {
   "cell_type": "code",
   "execution_count": 32,
   "id": "93721759",
   "metadata": {},
   "outputs": [
    {
     "ename": "NameError",
     "evalue": "name 'u' is not defined",
     "output_type": "error",
     "traceback": [
      "\u001b[1;31m---------------------------------------------------------------------------\u001b[0m",
      "\u001b[1;31mNameError\u001b[0m                                 Traceback (most recent call last)",
      "\u001b[1;32m~\\AppData\\Local\\Temp/ipykernel_13076/278541355.py\u001b[0m in \u001b[0;36m<module>\u001b[1;34m\u001b[0m\n\u001b[1;32m----> 1\u001b[1;33m \u001b[0mu\u001b[0m \u001b[1;33m=\u001b[0m \u001b[0mu\u001b[0m \u001b[1;33m+\u001b[0m \u001b[1;36m1\u001b[0m\u001b[1;33m\u001b[0m\u001b[1;33m\u001b[0m\u001b[0m\n\u001b[0m",
      "\u001b[1;31mNameError\u001b[0m: name 'u' is not defined"
     ]
    }
   ],
   "source": [
    "u = u + 1"
   ]
  },
  {
   "cell_type": "code",
   "execution_count": 41,
   "id": "cea62e40",
   "metadata": {},
   "outputs": [],
   "source": [
    "#그래서 u의 값을 초기화해야해\n",
    "u = 4\n",
    "u = u + 1"
   ]
  },
  {
   "cell_type": "markdown",
   "id": "33df4d5e",
   "metadata": {},
   "source": [
    "### Quiz 3\n",
    "- 정수를 입력 받고 3의 배수인지 확인하세요.\n",
    "- =홀수인지 확인하세요."
   ]
  },
  {
   "cell_type": "code",
   "execution_count": 10,
   "id": "ae8f992a",
   "metadata": {},
   "outputs": [
    {
     "name": "stdout",
     "output_type": "stream",
     "text": [
      "정수 숫자: 473992\n",
      "473992은 3의 배수가 아닙니다.\n",
      "473992은 홀수가 아닙니다.\n"
     ]
    }
   ],
   "source": [
    "# if 쓰고. 근데 쓰지 말고 해보는 거\n",
    "num = int(input(\"정수를 입력하시오. \"))\n",
    "if num % 3 == 0:\n",
    "    print(f\"{num}은 3의 배수입니다.\")\n",
    "else:\n",
    "    print(f\"{num}은 3의 배수가 아닙니다.\")\n",
    "if num % 2 == 0:\n",
    "    print(f\"{num}은 홀수가 아닙니다.\")\n",
    "else:\n",
    "    print(f\"{num}은 홀수입니다.\")"
   ]
  },
  {
   "cell_type": "code",
   "execution_count": 11,
   "id": "891f6ac0",
   "metadata": {},
   "outputs": [
    {
     "name": "stdout",
     "output_type": "stream",
     "text": [
      "정수를 입력하시오. 5\n"
     ]
    },
    {
     "data": {
      "text/plain": [
       "False"
      ]
     },
     "execution_count": 11,
     "metadata": {},
     "output_type": "execute_result"
    }
   ],
   "source": [
    "# 모범 답안\n",
    "num = int(input(\"정수를 입력하시오. \"))\n",
    "num % 3 == 0"
   ]
  },
  {
   "cell_type": "code",
   "execution_count": 12,
   "id": "4aac3870",
   "metadata": {},
   "outputs": [
    {
     "name": "stdout",
     "output_type": "stream",
     "text": [
      "정수를 입력하시오. 6\n"
     ]
    },
    {
     "data": {
      "text/plain": [
       "True"
      ]
     },
     "execution_count": 12,
     "metadata": {},
     "output_type": "execute_result"
    }
   ],
   "source": [
    "num = int(input(\"정수를 입력하시오. \"))\n",
    "num % 2 == 0"
   ]
  },
  {
   "cell_type": "markdown",
   "id": "b606f42c",
   "metadata": {},
   "source": [
    "#### 지수 표현\n",
    "- e, E 둘다 가능하다\n",
    "- 앞부분은 float, int\n",
    "- 뒷부분은 int만 온다.\n",
    " - 양수면 0 앞으로\n",
    " - 음수명 0 뒤로 (소숫점)"
   ]
  },
  {
   "cell_type": "code",
   "execution_count": 13,
   "id": "5c2bb190",
   "metadata": {},
   "outputs": [
    {
     "data": {
      "text/plain": [
       "1000000.0"
      ]
     },
     "execution_count": 13,
     "metadata": {},
     "output_type": "execute_result"
    }
   ],
   "source": [
    "1.0e6 #float"
   ]
  },
  {
   "cell_type": "code",
   "execution_count": 42,
   "id": "f80a893a",
   "metadata": {},
   "outputs": [
    {
     "data": {
      "text/plain": [
       "0.000789"
      ]
     },
     "execution_count": 42,
     "metadata": {},
     "output_type": "execute_result"
    }
   ],
   "source": [
    "789e-6 #소숫점을 움직이는 거야"
   ]
  },
  {
   "cell_type": "markdown",
   "id": "8567301d",
   "metadata": {},
   "source": [
    "## 조건문, if\n",
    "- code structure"
   ]
  },
  {
   "cell_type": "markdown",
   "id": "3f01c6be",
   "metadata": {},
   "source": [
    "### 코드 짜는 법\n",
    "- 주석 다는 법\n",
    " - 설명하는 부분\n",
    " - 목적: 의도를 표현한다.\n",
    " - '#' hash, sharp,...\n",
    " - 시작된 부분부터 그 라인에 끝까지가 주석\n",
    " - 문자열 안에 들어있는 해시는 문자열로 인식\n",
    " - \"\"\"<주석>\"\"\"\n",
    " \n",
    "- 라인 유지하기\n",
    " - 들여쓰기, 공백 4개, 텝 1개\n",
    " - 한 줄에 최대 88자 넘지 않게\n",
    " - \"\\\" 백슬래시로 끊어 준다."
   ]
  },
  {
   "cell_type": "code",
   "execution_count": 19,
   "id": "a28f619d",
   "metadata": {},
   "outputs": [],
   "source": [
    "a = 3 # 여기서부터 라인 끝\n",
    "b = 2"
   ]
  },
  {
   "cell_type": "code",
   "execution_count": 37,
   "id": "558cb40e",
   "metadata": {},
   "outputs": [
    {
     "name": "stdout",
     "output_type": "stream",
     "text": [
      "146698\n"
     ]
    }
   ],
   "source": [
    "num = 2 + 4\\\n",
    "- 9 + 8\\\n",
    "+ 789789 - 643096\n",
    "print(num)  # \\를 쓰면 다음 줄까지도 하나로 인식"
   ]
  },
  {
   "cell_type": "code",
   "execution_count": 24,
   "id": "ca9644fa",
   "metadata": {},
   "outputs": [
    {
     "name": "stdout",
     "output_type": "stream",
     "text": [
      "hey ###\n"
     ]
    },
    {
     "data": {
      "text/plain": [
       "'\\n주석1\\n이렇게 달면 출력이 되네\\n주석3\\n'"
      ]
     },
     "execution_count": 24,
     "metadata": {},
     "output_type": "execute_result"
    }
   ],
   "source": [
    "example = 'hey ###'\n",
    "print(example)\n",
    "\"\"\"이렇게 하면 주석으로 인식되지만\"\"\"\n",
    "\"\"\"\n",
    "주석1\n",
    "이렇게 달면 출력이 되네\n",
    "주석3\n",
    "\"\"\""
   ]
  },
  {
   "cell_type": "code",
   "execution_count": null,
   "id": "d4e0f90f",
   "metadata": {},
   "outputs": [],
   "source": [
    "if .....:\n",
    "        ###if 조건문 형식"
   ]
  },
  {
   "cell_type": "markdown",
   "id": "3d997f6c",
   "metadata": {},
   "source": [
    "- 조건 1개\n",
    "    if <조건식>:\n",
    "        <실행할 코드>"
   ]
  },
  {
   "cell_type": "code",
   "execution_count": 5,
   "id": "416ec301",
   "metadata": {},
   "outputs": [
    {
     "name": "stdout",
     "output_type": "stream",
     "text": [
      "Yay!\n"
     ]
    }
   ],
   "source": [
    "if 4 != 9:\n",
    "    print('Yay!')"
   ]
  },
  {
   "cell_type": "markdown",
   "id": "af3af2c9",
   "metadata": {},
   "source": [
    "- 조건 2개\n",
    "    if <조건식1>:\n",
    "        <실행할 코드>\n",
    "    else:\n",
    "        <실행할 코드 2>"
   ]
  },
  {
   "cell_type": "code",
   "execution_count": 25,
   "id": "0e2890e1",
   "metadata": {},
   "outputs": [
    {
     "name": "stdout",
     "output_type": "stream",
     "text": [
      "Hey!\n"
     ]
    }
   ],
   "source": [
    "if 4 == 9:\n",
    "    print('Yay!')\n",
    "else:\n",
    "    print('Hey!')"
   ]
  },
  {
   "cell_type": "code",
   "execution_count": null,
   "id": "2c933cc6",
   "metadata": {},
   "outputs": [],
   "source": [
    "- 조건 1개\n",
    "    if <조건식>:\n",
    "        <실행할 코드>\n",
    "    elif <조건식2>:\n",
    "    \n",
    "    else:\n",
    "        <실행할 코드3>"
   ]
  },
  {
   "cell_type": "code",
   "execution_count": 27,
   "id": "a98d4c77",
   "metadata": {},
   "outputs": [
    {
     "name": "stdout",
     "output_type": "stream",
     "text": [
      "Whoo hoo!\n"
     ]
    }
   ],
   "source": [
    "if 4 > 9:\n",
    "    print('Yay!')\n",
    "elif 4 == 9:\n",
    "    print('Hurray!')\n",
    "else:\n",
    "    print('Whoo hoo!')"
   ]
  },
  {
   "cell_type": "markdown",
   "id": "bb72e342",
   "metadata": {},
   "source": [
    "#### 비교연산자\n",
    "- x < y, x <= y\n",
    "- x>y, x >= y\n",
    "- x == y(값)\n",
    "- x != y (값)\n",
    "- x is y (값, 메모리주소)\n",
    "- x is not y"
   ]
  },
  {
   "cell_type": "markdown",
   "id": "6c8c1fb3",
   "metadata": {},
   "source": [
    "### Quiz 4\n",
    "- 학점 부여하기\n",
    "- 학점을 입력 받아서\n",
    " - 90점 이상이면 A\n",
    " - 80, B\n",
    " - 70, C\n",
    " - 그외, D\n",
    "- 변수 설정 유의"
   ]
  },
  {
   "cell_type": "code",
   "execution_count": 16,
   "id": "15bc0adc",
   "metadata": {},
   "outputs": [
    {
     "name": "stdout",
     "output_type": "stream",
     "text": [
      "받은 점수는 89\n",
      "최종 학점은B\n"
     ]
    }
   ],
   "source": [
    "grade = float(input(\"받은 점수는 \"))\n",
    "print(\"최종 학점은\", end=' ')\n",
    "if grade >= 90:\n",
    "    print(\"A\")\n",
    "elif 90 > grade >= 80:  # 처음이 false이니 \"90 >\" 빼\n",
    "    print(\"B\")\n",
    "elif 80 > grade >= 70:\n",
    "    print(\"C\")\n",
    "else:\n",
    "    print(\"D\")  #print 같은 줄. 최종으로"
   ]
  },
  {
   "cell_type": "code",
   "execution_count": 30,
   "id": "c65caeec",
   "metadata": {},
   "outputs": [
    {
     "name": "stdout",
     "output_type": "stream",
     "text": [
      "받은 점수: 90\n",
      "최종 학점은 A\n"
     ]
    }
   ],
   "source": [
    "#수정본\n",
    "score = int(input(\"받은 점수: \"))\n",
    "if score >= 90:\n",
    "    grade = 'A'\n",
    "elif score >= 80:\n",
    "    grade = 'B'\n",
    "elif score >= 70:\n",
    "    grade = 'C'\n",
    "else:\n",
    "    grade = 'D'\n",
    "print(f\"최종 학점은 {grade}\")"
   ]
  },
  {
   "cell_type": "markdown",
   "id": "0f1f59c6",
   "metadata": {},
   "source": [
    "### Quiz 5\n",
    "- 아이디와 비번 입력 받아서 \n",
    "- 둘다 일치하면 로그인하기\n",
    "- 아이디, 비번 각자 정해놓기\n",
    "- 일치하지 않을 때에는 창의적으로 어떤 걸로 반환하기"
   ]
  },
  {
   "cell_type": "code",
   "execution_count": 13,
   "id": "d261d8ed",
   "metadata": {},
   "outputs": [
    {
     "name": "stdout",
     "output_type": "stream",
     "text": [
      "비밀번호: iseeyou24\n",
      "아이디: djsk\n",
      "비밀번호 또는 아이디 불일치\n"
     ]
    }
   ],
   "source": [
    "# first try\n",
    "pw = \"iseeyou24\"\n",
    "id = \"iknowu\"   #id 이미 있는 거\n",
    "pwtry = input(\"비밀번호: \")  #pwtry x, idtry x 가독성이 떨어짐\n",
    "idtry = input(\"아이디: \")\n",
    "if pwtry == pw and idtry == id:\n",
    "    print(\"로그인 성공\")\n",
    "elif pwtry == pw or idtry == id:\n",
    "    print(\"비밀번호 또는 아이디 불일치\")\n",
    "else:\n",
    "    print(\"로그인 실패\")"
   ]
  },
  {
   "cell_type": "code",
   "execution_count": 41,
   "id": "df4dc79f",
   "metadata": {},
   "outputs": [
    {
     "name": "stdout",
     "output_type": "stream",
     "text": [
      "비밀번호: iamahero\n",
      "아이디: iamhere\n",
      "로그인 성공\n"
     ]
    }
   ],
   "source": [
    "#수정본 1\n",
    "password = input(\"비밀번호: \")\n",
    "identification = input(\"아이디: \")\n",
    "if password == \"iamahero\" and identification == \"iamhere\":\n",
    "    print(\"로그인 성공\")\n",
    "else:\n",
    "    print(\"로그인 실패\")"
   ]
  },
  {
   "cell_type": "code",
   "execution_count": 43,
   "id": "4480e940",
   "metadata": {},
   "outputs": [
    {
     "name": "stdout",
     "output_type": "stream",
     "text": [
      "비밀번호: 안녕~~\n",
      "아이디: iamhere\n",
      "비밀 번호 불일치\n"
     ]
    }
   ],
   "source": [
    "#수정본 2\n",
    "password = input(\"비밀번호: \")\n",
    "identification = input(\"아이디: \")\n",
    "if password == \"iamahero\" and identification == \"iamhere\":\n",
    "    print(\"로그인 성공\")\n",
    "elif password != \"iamahero\" and identification != \"iamhere\":\n",
    "    print(\"비밀 번호와 아이디가 불일치\")\n",
    "elif password != \"iamahero\" and identification == \"iamhere\":\n",
    "    print(\"비밀 번호 불일치\")\n",
    "else:\n",
    "    print(\"아이디 불일치\")"
   ]
  },
  {
   "cell_type": "markdown",
   "id": "84472227",
   "metadata": {},
   "source": [
    "#### 논리연산자\n",
    "- 여러조건식을 비교할 때\n",
    "- 예: 10 < x < 20\n",
    "    - 파이썬에서만 가능한 표현\n",
    "    - 다른 프로그램 언어: x > 10 혹은 x < 20\n",
    "- and, &\n",
    "- or, |  (shift+\\)\n",
    "- not"
   ]
  },
  {
   "cell_type": "markdown",
   "id": "f96dffe6",
   "metadata": {},
   "source": [
    "### Quiz 6\n",
    "- quiz 4 확정판\n",
    "- 결석 횟수를 받아서 점수가 80점 이상인데 결석이 2번 이상이면 F, 나머지는 점수대로"
   ]
  },
  {
   "cell_type": "code",
   "execution_count": 44,
   "id": "5f02e4ef",
   "metadata": {},
   "outputs": [
    {
     "name": "stdout",
     "output_type": "stream",
     "text": [
      "받은 점수: 93\n",
      "결석 횟수: 3\n",
      "최종 점수는 F\n"
     ]
    }
   ],
   "source": [
    "score = int(input(\"받은 점수: \"))\n",
    "attendance = int(input(\"결석 횟수: \"))\n",
    "if attendance >= 2:\n",
    "    grade = \"F\"\n",
    "elif score >= 90:\n",
    "    grade = \"A\"\n",
    "elif score >= 80:\n",
    "    grade = \"B\"\n",
    "elif score >= 70:\n",
    "    grade = \"C\"\n",
    "else:\n",
    "    grade = \"D\"\n",
    "print(f\"최종 점수는 {grade}\")"
   ]
  }
 ],
 "metadata": {
  "kernelspec": {
   "display_name": "Python 3 (ipykernel)",
   "language": "python",
   "name": "python3"
  },
  "language_info": {
   "codemirror_mode": {
    "name": "ipython",
    "version": 3
   },
   "file_extension": ".py",
   "mimetype": "text/x-python",
   "name": "python",
   "nbconvert_exporter": "python",
   "pygments_lexer": "ipython3",
   "version": "3.9.7"
  }
 },
 "nbformat": 4,
 "nbformat_minor": 5
}
