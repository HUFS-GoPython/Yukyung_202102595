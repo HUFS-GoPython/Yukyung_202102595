{
 "cells": [
  {
   "cell_type": "markdown",
   "id": "acd3b3ea",
   "metadata": {},
   "source": [
    "### input()' 함수\n",
    "- console에서 사용자가 입력하는 값을 받을 수 있는 함수\n",
    "- 입력 받는 값은 분자열로 인식 된다.\n",
    "- 입력 받은 값을 변수에 담아서 사용한다. 안 그러면 사라짐\n",
    "- 숫자일 경우 형 변환 한다."
   ]
  },
  {
   "cell_type": "code",
   "execution_count": 2,
   "id": "2023f65d",
   "metadata": {},
   "outputs": [
    {
     "name": "stdout",
     "output_type": "stream",
     "text": [
      "Hello? Hi\n"
     ]
    },
    {
     "data": {
      "text/plain": [
       "'Hi'"
      ]
     },
     "execution_count": 2,
     "metadata": {},
     "output_type": "execute_result"
    }
   ],
   "source": [
    "input(\"Hello? \")"
   ]
  },
  {
   "cell_type": "code",
   "execution_count": 4,
   "id": "b3431d58",
   "metadata": {},
   "outputs": [
    {
     "name": "stdout",
     "output_type": "stream",
     "text": [
      "나이가 어떻게 되나요? 55\n"
     ]
    },
    {
     "data": {
      "text/plain": [
       "55"
      ]
     },
     "execution_count": 4,
     "metadata": {},
     "output_type": "execute_result"
    }
   ],
   "source": [
    "int(input('나이가 어떻게 되나요? '))"
   ]
  },
  {
   "cell_type": "markdown",
   "id": "2f370b99",
   "metadata": {},
   "source": [
    "- 변수에 할당하는 방법"
   ]
  },
  {
   "cell_type": "code",
   "execution_count": 10,
   "id": "042f2635",
   "metadata": {},
   "outputs": [
    {
     "name": "stdout",
     "output_type": "stream",
     "text": [
      "나이가 어떻게 되나요? 15\n"
     ]
    }
   ],
   "source": [
    "#1.\n",
    "age = input('나이가 어떻게 되나요? ')  #한번에 입력 받은 걸 변수에 할당, I like this one best!"
   ]
  },
  {
   "cell_type": "code",
   "execution_count": 11,
   "id": "70b8e368",
   "metadata": {},
   "outputs": [
    {
     "data": {
      "text/plain": [
       "'15'"
      ]
     },
     "execution_count": 11,
     "metadata": {},
     "output_type": "execute_result"
    }
   ],
   "source": [
    "age"
   ]
  },
  {
   "cell_type": "code",
   "execution_count": 12,
   "id": "13e6faa4",
   "metadata": {},
   "outputs": [
    {
     "name": "stdout",
     "output_type": "stream",
     "text": [
      "나이가? \n",
      "88\n"
     ]
    }
   ],
   "source": [
    "#2.\n",
    "print(\"나이가? \")  #설명 따로 할당 따로\n",
    "age = input()"
   ]
  },
  {
   "cell_type": "code",
   "execution_count": 13,
   "id": "5a92609c",
   "metadata": {},
   "outputs": [
    {
     "data": {
      "text/plain": [
       "'88'"
      ]
     },
     "execution_count": 13,
     "metadata": {},
     "output_type": "execute_result"
    }
   ],
   "source": [
    "age"
   ]
  },
  {
   "cell_type": "markdown",
   "id": "27ab4730",
   "metadata": {},
   "source": [
    "### Quiz 1\n",
    " - 섭씨를 입력 받아서 화씨로 변환하기\n",
    " - \"섭씨*1.8 + 32 = 화씨\""
   ]
  },
  {
   "cell_type": "code",
   "execution_count": 11,
   "id": "82954927",
   "metadata": {},
   "outputs": [
    {
     "name": "stdout",
     "output_type": "stream",
     "text": [
      "섭씨 온도는? 44\n",
      "화씨 온도는 111.2f 이다.\n"
     ]
    }
   ],
   "source": [
    "# first try\n",
    "Cell = int(input(\"섭씨 온도는? \")) #feedback: 대문자 쓰지마 특별한 거 아닌 이상/ int말고 float 써!/ Cell과 Fahr는 가독성이 나쁨\n",
    "Fahr = Cell * 1.8 + 32\n",
    "print(f\"화씨 온도는 {Fahr}f 이다.\")"
   ]
  },
  {
   "cell_type": "code",
   "execution_count": 13,
   "id": "0d145b04",
   "metadata": {},
   "outputs": [
    {
     "name": "stdout",
     "output_type": "stream",
     "text": [
      "섭씨 온도는? 33.5\n",
      "화씨 온도는 92.30000000000001f 이다.\n"
     ]
    }
   ],
   "source": [
    "#수정본\n",
    "cellcius = float(input(\"섭씨 온도는? \"))\n",
    "fahrenheit = cellcius * 1.8 + 32\n",
    "print(f\"화씨 온도는 {fahrenheit}f 이다.\")"
   ]
  },
  {
   "cell_type": "markdown",
   "id": "97260754",
   "metadata": {},
   "source": [
    "### Quiz 2\n",
    "- 택배 정보 입력 받고, 총 합계 계산하기\n",
    "- 출력값:\n",
    " - \"==택배 정보==\"\n",
    " - 수취인 성명: <이름>\n",
    " - 수취인 주소: <주소>\n",
    " - 배송비: 3000원\n",
    " - 물건 비용: <가격>원\n",
    " - 총합계 = 배송비 + 물건 비용\n",
    "- 물건 비용 = 무게(g) * 5\n",
    "- 합계 = 배송비 + 물건 비용"
   ]
  },
  {
   "cell_type": "code",
   "execution_count": 9,
   "id": "a1b2ac78",
   "metadata": {},
   "outputs": [
    {
     "name": "stdout",
     "output_type": "stream",
     "text": [
      "상품명이 무엇입니까? 운동기구\n",
      "성명이 무엇입니까? 이유경\n",
      "주소가 어떻게 됩니까?(상세 주소까지 입력하시오.) 성북구\n",
      "상품 무게는 어떻게 됩니까? (g단위) 50000\n",
      "==택배 정보==\n",
      "상품명: 운동기구\n",
      "무게: 50000.0\n",
      "수취인 성명: 이유경\n",
      "수취인 주소: 성북구\n",
      "배송비: 3000원\n",
      "물건 비용: 250000.0원\n",
      "총합계 = 253000.0원\n"
     ]
    }
   ],
   "source": [
    "info = input(\"상품명이 무엇입니까? \")\n",
    "name = input(\"성명이 무엇입니까? \")\n",
    "address = input(\"주소가 어떻게 됩니까?(상세 주소까지 입력하시오.) \")\n",
    "weight = float(input(\"상품 무게는 어떻게 됩니까? (g단위) \"))\n",
    "price = weight * 5\n",
    "fee = 3000\n",
    "total = fee + price\n",
    "print(f\"==택배 정보==\\n상품명: {info}\\n무게: {weight}\\n수취인 성명: {name}\\n수취인 주소: {address}\") #너무 길어서 끊음\n",
    "print(f\"배송비: {fee}원\\n물건 비용: {price}원\\n총합계 = {fee + price}원\")"
   ]
  },
  {
   "cell_type": "code",
   "execution_count": null,
   "id": "59159b95",
   "metadata": {},
   "outputs": [],
   "source": []
  }
 ],
 "metadata": {
  "kernelspec": {
   "display_name": "Python 3 (ipykernel)",
   "language": "python",
   "name": "python3"
  },
  "language_info": {
   "codemirror_mode": {
    "name": "ipython",
    "version": 3
   },
   "file_extension": ".py",
   "mimetype": "text/x-python",
   "name": "python",
   "nbconvert_exporter": "python",
   "pygments_lexer": "ipython3",
   "version": "3.9.7"
  }
 },
 "nbformat": 4,
 "nbformat_minor": 5
}
