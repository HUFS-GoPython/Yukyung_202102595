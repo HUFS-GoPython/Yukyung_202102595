{
 "cells": [
  {
   "cell_type": "markdown",
   "id": "773ad1d7",
   "metadata": {},
   "source": [
    "## 중첩조건문 | nested conditional\n",
    "- if 블록 안에 또 if 블록이 만들어지는 경우\n",
    "    - 예: if....\n",
    "            if....\n",
    "                if.....\n",
    "    - 구분은 들여쓰기로 한다\n",
    "    - 조건이 여러 개임 경우 사용한다.\n",
    "    - 지양. 더 예쁜 방법은 찾아본다"
   ]
  },
  {
   "cell_type": "code",
   "execution_count": 16,
   "id": "e2e987f7",
   "metadata": {},
   "outputs": [
    {
     "name": "stdout",
     "output_type": "stream",
     "text": [
      "Block B\n"
     ]
    }
   ],
   "source": [
    "x = 0\n",
    "y = 4\n",
    "\n",
    "if x == y:\n",
    "    print(\"Block A\")\n",
    "else:\n",
    "    if x < y:\n",
    "            print(\"Block B\")\n",
    "    else:\n",
    "            print(\"Block C\")"
   ]
  },
  {
   "cell_type": "code",
   "execution_count": 50,
   "id": "e09a6887",
   "metadata": {},
   "outputs": [
    {
     "name": "stdout",
     "output_type": "stream",
     "text": [
      "D\n"
     ]
    }
   ],
   "source": [
    "# 0 < x < 10\n",
    "if x > 0:\n",
    "    print('A')\n",
    "    if x < 10:\n",
    "        print('B')\n",
    "    else:\n",
    "        print('C')\n",
    "else:\n",
    "    print('D')"
   ]
  },
  {
   "cell_type": "code",
   "execution_count": null,
   "id": "f0b4698c",
   "metadata": {},
   "outputs": [],
   "source": [
    "# 방법 1\n",
    "if x > 0 and x < 10:  #논리 연산자 사용\n",
    "    #A\n",
    "else:\n",
    "    #B\n",
    "    \n",
    "#방법 2\n",
    "if 0 < x < 10:  #파이썬에서만 가능\n",
    "    #block a\n",
    "else:\n",
    "    #block b"
   ]
  },
  {
   "cell_type": "markdown",
   "id": "e3598dfb",
   "metadata": {},
   "source": [
    "### 논리연산자\n",
    "- 비교연산 조건을 여러 번 사용하는 경우\n",
    "    - x > 0, x < 10\n",
    "- and, or, not\n",
    "    - A and B: A 그리고 B. A, B 둘다 참일 때 True(&)\n",
    "    - A or B: A 혹은 B. 둘 중 하나만 참이면 True(|)\n",
    "    - not A: A 참이면 False, 거짓이면 True(~)\n",
    "   "
   ]
  },
  {
   "cell_type": "markdown",
   "id": "ad16644a",
   "metadata": {},
   "source": [
    "## True/False\n",
    "- A = True\n",
    "- \"만약 A가 참이면,...\""
   ]
  },
  {
   "cell_type": "markdown",
   "id": "9b3a3cb6",
   "metadata": {},
   "source": [
    "if a  == True:  #아님\n",
    "        print()\n",
    "if a:\n",
    "    print()"
   ]
  },
  {
   "cell_type": "markdown",
   "id": "7b911941",
   "metadata": {},
   "source": [
    "### in\n",
    "- membership operator\n",
    "- 요소가 안에 포함되어 있는가 or 비를한 조건문이 여럿일 떄\n",
    "- A in B = A가 B에 포함되어 있냐"
   ]
  },
  {
   "cell_type": "code",
   "execution_count": 1,
   "id": "2e774fff",
   "metadata": {},
   "outputs": [
    {
     "name": "stdout",
     "output_type": "stream",
     "text": [
      "자음\n"
     ]
    }
   ],
   "source": [
    "# ex1. 모음인지 아닌지 판별하라(a, e, i, o, u)\n",
    "letter = 'l'\n",
    "#if letter == 'a' or letter == 'e',...\n",
    "if letter in ['a', 'e', 'i', 'o', 'u' ]:\n",
    "    print(\"모음\")\n",
    "else:\n",
    "    print(\"자음\")"
   ]
  },
  {
   "cell_type": "code",
   "execution_count": 2,
   "id": "e3b460c4",
   "metadata": {
    "scrolled": false
   },
   "outputs": [
    {
     "name": "stdout",
     "output_type": "stream",
     "text": [
      "자음\n"
     ]
    }
   ],
   "source": [
    "word = 'banana'\n",
    "if 'a' or 'e' or 'i' or 'o' or 'u' in word:\n",
    "    print('자음')"
   ]
  },
  {
   "cell_type": "markdown",
   "id": "683d45bb",
   "metadata": {},
   "source": [
    "## 코끼리연산자\n",
    "### 어려움 자주 복습, 영어에서 삽입문 느낌\n",
    "- walrus operator\n",
    "- :=\n",
    "- 할당 + 테스트 동시에 하는 기능"
   ]
  },
  {
   "cell_type": "code",
   "execution_count": 53,
   "id": "dd8ca29e",
   "metadata": {},
   "outputs": [
    {
     "data": {
      "text/plain": [
       "'blahblahblahblahblahblahblahblahblahblahblahblahblahblahblahblahblahblahblahblahblahblahblahblahblahblahblahblahblahblahblahblahblahblahblahblahblahblahblahblahblahblahblahblahblahblahblahblahblahblah'"
      ]
     },
     "execution_count": 53,
     "metadata": {},
     "output_type": "execute_result"
    }
   ],
   "source": [
    "tweet_limit = 200\n",
    "tweet_sting = 'blah' * 50 #4 * 50 = 200\n",
    "tweet_sting"
   ]
  },
  {
   "cell_type": "code",
   "execution_count": 54,
   "id": "095ea693",
   "metadata": {},
   "outputs": [
    {
     "data": {
      "text/plain": [
       "200"
      ]
     },
     "execution_count": 54,
     "metadata": {},
     "output_type": "execute_result"
    }
   ],
   "source": [
    "len(tweet_sting)  #글자수 출력 len"
   ]
  },
  {
   "cell_type": "code",
   "execution_count": 47,
   "id": "c3db2fed",
   "metadata": {},
   "outputs": [
    {
     "name": "stdout",
     "output_type": "stream",
     "text": [
      "가능하다\n"
     ]
    }
   ],
   "source": [
    "diff = tweet_limit = len(tweet_sting)\n",
    "if diff > 0:\n",
    "    print(\"가능하다\")\n",
    "else:\n",
    "    print(\"불가능하다\")"
   ]
  },
  {
   "cell_type": "code",
   "execution_count": 59,
   "id": "2718f0d8",
   "metadata": {},
   "outputs": [
    {
     "ename": "SyntaxError",
     "evalue": "invalid syntax (Temp/ipykernel_15960/1045223821.py, line 1)",
     "output_type": "error",
     "traceback": [
      "\u001b[1;36m  File \u001b[1;32m\"C:\\Users\\sunny\\AppData\\Local\\Temp/ipykernel_15960/1045223821.py\"\u001b[1;36m, line \u001b[1;32m1\u001b[0m\n\u001b[1;33m    if diff := tweet_limit = len(tweet_sting) > 0:\u001b[0m\n\u001b[1;37m                           ^\u001b[0m\n\u001b[1;31mSyntaxError\u001b[0m\u001b[1;31m:\u001b[0m invalid syntax\n"
     ]
    }
   ],
   "source": [
    "if diff := tweet_limit = len(tweet_sting) > 0:\n",
    "        print('yes')\n",
    "else:\n",
    "    print('no')"
   ]
  },
  {
   "cell_type": "markdown",
   "id": "6830e7ae",
   "metadata": {},
   "source": [
    "### 퀴즈 1\n",
    "- 윤년을 구해봅시다.\n",
    "    - 연도 입력 받는다.\n",
    "    - 4로 나눠지면 윤년\n",
    "    - 100으로 나눠지면 안된다.\n",
    "    - 400으로 나눠지면 윤년\n",
    "- 출력: '{}년은 윤년입니다.'/ '아닙니다.'"
   ]
  },
  {
   "cell_type": "code",
   "execution_count": 11,
   "id": "8a863640",
   "metadata": {},
   "outputs": [
    {
     "name": "stdout",
     "output_type": "stream",
     "text": [
      "연도: 3492\n",
      "3492년은 윤년입니다.\n"
     ]
    }
   ],
   "source": [
    "year = int(input(\"연도: \"))\n",
    "if year % 400 == 0:\n",
    "    print(f'{year}은 윤년입니다.')\n",
    "elif year % 4 == 0 and year % 100 != 0:\n",
    "    print(f'{year}년은 윤년입니다.')\n",
    "else:\n",
    "    print(f'{year}년은 윤년이 아닙니다.')"
   ]
  },
  {
   "cell_type": "markdown",
   "id": "d3b38b60",
   "metadata": {},
   "source": [
    "## String | 문자열\n",
    "- 시스템에서 가장 작은 단위\n",
    "- 불변적인 성격을 가진다. immutable\n",
    "    - 예: jack --> jeck\n",
    "-  ',\"으로 선언한다.\n",
    "    - 예: \"25.5\"\n",
    "    - ''', \"\"\" 주석이다\n",
    "- 형변환은 str()\n",
    "\n",
    "### escape character | 이스케이프 문자\n",
    "- 특수한 형태의 문자열. 눈에 보이는 대로 인식되지 않는 문자\n",
    "- \\ + 초\n",
    "- 예: \\n, \\t, \\b, \\(역슬래시)', (역슬래시)\\\", ...\n",
    "    - \\n 출력하고 싶다?   \n",
    "        - r''  #row를 사용 r\"어쩌고\\n저쩌고\"\n",
    "        - \\\\n\n",
    "- 다른 스트링을 만드는 것이 아님. 문자열을 바꾸는 게 아니라 출력되는 모습을 바꾸는 것이다."
   ]
  },
  {
   "cell_type": "code",
   "execution_count": 8,
   "id": "7cab4f7e",
   "metadata": {},
   "outputs": [
    {
     "name": "stdout",
     "output_type": "stream",
     "text": [
      "hello\\nworld\n"
     ]
    }
   ],
   "source": [
    "sent = r'hello\\nworld'\n",
    "print(sent)"
   ]
  },
  {
   "cell_type": "code",
   "execution_count": 3,
   "id": "c183f151",
   "metadata": {},
   "outputs": [
    {
     "data": {
      "text/plain": [
       "\"I'm a student of hufs\""
      ]
     },
     "execution_count": 3,
     "metadata": {},
     "output_type": "execute_result"
    }
   ],
   "source": [
    "'I\\'m a student of hufs'"
   ]
  },
  {
   "cell_type": "code",
   "execution_count": 7,
   "id": "e9129cbe",
   "metadata": {},
   "outputs": [
    {
     "name": "stdout",
     "output_type": "stream",
     "text": [
      "hello\n",
      "world\n"
     ]
    }
   ],
   "source": [
    "sent = 'hello\\nworld'\n",
    "sent\n",
    "print(sent)"
   ]
  },
  {
   "cell_type": "markdown",
   "id": "b6c7dbbe",
   "metadata": {},
   "source": [
    "### 연산\n",
    "- concaternatation\n",
    "    - \"+\" => 공백 없이 결합하는 방법\n",
    "- 곱하기\n",
    "    - \"*5\" => 복제"
   ]
  },
  {
   "cell_type": "code",
   "execution_count": 23,
   "id": "d30d9247",
   "metadata": {},
   "outputs": [
    {
     "data": {
      "text/plain": [
       "'jackjack'"
      ]
     },
     "execution_count": 23,
     "metadata": {},
     "output_type": "execute_result"
    }
   ],
   "source": [
    "name = 'jack'\n",
    "name + name"
   ]
  },
  {
   "cell_type": "code",
   "execution_count": 24,
   "id": "4302acdf",
   "metadata": {},
   "outputs": [
    {
     "data": {
      "text/plain": [
       "'jackjackjackjack'"
      ]
     },
     "execution_count": 24,
     "metadata": {},
     "output_type": "execute_result"
    }
   ],
   "source": [
    "name * 4"
   ]
  },
  {
   "cell_type": "code",
   "execution_count": 4,
   "id": "cd40123a",
   "metadata": {},
   "outputs": [
    {
     "ename": "NameError",
     "evalue": "name 'name' is not defined",
     "output_type": "error",
     "traceback": [
      "\u001b[1;31m---------------------------------------------------------------------------\u001b[0m",
      "\u001b[1;31mNameError\u001b[0m                                 Traceback (most recent call last)",
      "\u001b[1;32m~\\AppData\\Local\\Temp/ipykernel_6712/2532674078.py\u001b[0m in \u001b[0;36m<module>\u001b[1;34m\u001b[0m\n\u001b[0;32m      1\u001b[0m \u001b[1;31m# immutable\u001b[0m\u001b[1;33m\u001b[0m\u001b[1;33m\u001b[0m\u001b[0m\n\u001b[1;32m----> 2\u001b[1;33m \u001b[0mname\u001b[0m\u001b[1;33m[\u001b[0m\u001b[1;36m1\u001b[0m\u001b[1;33m]\u001b[0m \u001b[1;33m=\u001b[0m \u001b[1;34m'e'\u001b[0m   \u001b[1;31m#불변이라 하나만 못 바꿔. 그래서 jack를 jeck으로 못 바꿈\u001b[0m\u001b[1;33m\u001b[0m\u001b[1;33m\u001b[0m\u001b[0m\n\u001b[0m",
      "\u001b[1;31mNameError\u001b[0m: name 'name' is not defined"
     ]
    }
   ],
   "source": [
    "# immutable\n",
    "name[1] = 'e'   #불변이라 하나만 못 바꿔. 그래서 jack를 jeck으로 못 바꿈"
   ]
  },
  {
   "cell_type": "markdown",
   "id": "a1bb34ce",
   "metadata": {},
   "source": [
    "### 슬라이싱, 추출\n",
    "- 문자열의 일부분을 떼어내는 작업\n",
    "- 대괄호 사용, 그 안에 오프셋을 지정\n",
    "- 오프셋은 0부터 시작한다.\n",
    "    0123\n",
    "    jack\n",
    "    -4 -1\n",
    "- 음수도 가능함. -1부터 시작\n",
    "- 오프셋은 [시작:끝:스텝] # 스텝은 생략 가능. 생략시 step=1\n",
    "- 오프셋의 시작은 포함, 끝은 포함하지 않음 (이상~미만)"
   ]
  },
  {
   "cell_type": "code",
   "execution_count": 27,
   "id": "49456c9d",
   "metadata": {},
   "outputs": [
    {
     "data": {
      "text/plain": [
       "'k'"
      ]
     },
     "execution_count": 27,
     "metadata": {},
     "output_type": "execute_result"
    }
   ],
   "source": [
    "name = 'jack'\n",
    "name[-1]"
   ]
  },
  {
   "cell_type": "code",
   "execution_count": 14,
   "id": "4452fc21",
   "metadata": {},
   "outputs": [
    {
     "name": "stdout",
     "output_type": "stream",
     "text": [
      "hello\n",
      "world\n"
     ]
    }
   ],
   "source": [
    "sent = 'hello\\nworld'\n",
    "print(sent)"
   ]
  },
  {
   "cell_type": "code",
   "execution_count": 15,
   "id": "8a041bbb",
   "metadata": {},
   "outputs": [
    {
     "data": {
      "text/plain": [
       "'l'"
      ]
     },
     "execution_count": 15,
     "metadata": {},
     "output_type": "execute_result"
    }
   ],
   "source": [
    "sent[3:4]"
   ]
  },
  {
   "cell_type": "code",
   "execution_count": 16,
   "id": "2fcab5d8",
   "metadata": {},
   "outputs": [
    {
     "data": {
      "text/plain": [
       "'hello\\n'"
      ]
     },
     "execution_count": 16,
     "metadata": {},
     "output_type": "execute_result"
    }
   ],
   "source": [
    "# 처음부터 5까지 출력\n",
    "sent[0:6]\n",
    "sent[:6]   #더 간단해서 이게 낫다"
   ]
  },
  {
   "cell_type": "code",
   "execution_count": 17,
   "id": "6073f25c",
   "metadata": {},
   "outputs": [
    {
     "data": {
      "text/plain": [
       "'hlowrd'"
      ]
     },
     "execution_count": 17,
     "metadata": {},
     "output_type": "execute_result"
    }
   ],
   "source": [
    "#처음부터 끝까지 2스텝씩 출력\n",
    "sent[::2]#my answer yay it was right!"
   ]
  },
  {
   "cell_type": "code",
   "execution_count": 18,
   "id": "13d778c5",
   "metadata": {},
   "outputs": [
    {
     "data": {
      "text/plain": [
       "'dlrow\\nolleh'"
      ]
     },
     "execution_count": 18,
     "metadata": {},
     "output_type": "execute_result"
    }
   ],
   "source": [
    "# 모든 글자를 거꾸로 출력하세요\n",
    "sent[-1::-1] #my answer\n",
    "sent[::-1] #best answer\n",
    "# 음수일 때 가장 뒤에있는게 당연히 첫번째"
   ]
  },
  {
   "cell_type": "markdown",
   "id": "92760d29",
   "metadata": {},
   "source": [
    "# NLTK"
   ]
  },
  {
   "cell_type": "markdown",
   "id": "f2c41f4f",
   "metadata": {},
   "source": [
    "- natural language toolkit\n",
    "- 자연어 분석을 위해 교육용으로 배포된 패키지\n",
    "- 내장함수, 기능들이 추가됨\n",
    "    - 토크나이즈, 파싱, 태깅, ...."
   ]
  },
  {
   "cell_type": "code",
   "execution_count": 19,
   "id": "942e32af",
   "metadata": {},
   "outputs": [],
   "source": [
    "#!pip install nltk"
   ]
  },
  {
   "cell_type": "code",
   "execution_count": 20,
   "id": "634611a0",
   "metadata": {},
   "outputs": [
    {
     "data": {
      "text/plain": [
       "True"
      ]
     },
     "execution_count": 20,
     "metadata": {},
     "output_type": "execute_result"
    }
   ],
   "source": [
    "import nltk  #가져오기\n",
    "nltk.download('book', quiet=True) #부분적으로 다운"
   ]
  },
  {
   "cell_type": "code",
   "execution_count": 21,
   "id": "4c898cd2",
   "metadata": {},
   "outputs": [
    {
     "name": "stdout",
     "output_type": "stream",
     "text": [
      "*** Introductory Examples for the NLTK Book ***\n",
      "Loading text1, ..., text9 and sent1, ..., sent9\n",
      "Type the name of the text or sentence to view it.\n",
      "Type: 'texts()' or 'sents()' to list the materials.\n",
      "text1: Moby Dick by Herman Melville 1851\n",
      "text2: Sense and Sensibility by Jane Austen 1811\n",
      "text3: The Book of Genesis\n",
      "text4: Inaugural Address Corpus\n",
      "text5: Chat Corpus\n",
      "text6: Monty Python and the Holy Grail\n",
      "text7: Wall Street Journal\n",
      "text8: Personals Corpus\n",
      "text9: The Man Who Was Thursday by G . K . Chesterton 1908\n"
     ]
    }
   ],
   "source": [
    "from nltk import book #가져오기  #*표는 실행 중이라는 뜻"
   ]
  },
  {
   "cell_type": "code",
   "execution_count": 22,
   "id": "84f6388a",
   "metadata": {},
   "outputs": [
    {
     "data": {
      "text/plain": [
       "['[',\n",
       " 'Moby',\n",
       " 'Dick',\n",
       " 'by',\n",
       " 'Herman',\n",
       " 'Melville',\n",
       " '1851',\n",
       " ']',\n",
       " 'ETYMOLOGY',\n",
       " '.']"
      ]
     },
     "execution_count": 22,
     "metadata": {},
     "output_type": "execute_result"
    }
   ],
   "source": [
    "moby = book.text1\n",
    "moby.tokens[:10]  #토큰에 접근하는 방법\n",
    "# 토큰: 프로그래밍의 단어 단위 hello world, I'm not a coward\n",
    "    # I'm /I, 'm/ I, am"
   ]
  },
  {
   "cell_type": "code",
   "execution_count": 23,
   "id": "6a8c600e",
   "metadata": {},
   "outputs": [
    {
     "data": {
      "text/plain": [
       "260819"
      ]
     },
     "execution_count": 23,
     "metadata": {},
     "output_type": "execute_result"
    }
   ],
   "source": [
    "# 1. 길이 세기\n",
    "len(moby) #26만자"
   ]
  },
  {
   "cell_type": "code",
   "execution_count": 24,
   "id": "fd2028f5",
   "metadata": {},
   "outputs": [
    {
     "data": {
      "text/plain": [
       "19317"
      ]
     },
     "execution_count": 24,
     "metadata": {},
     "output_type": "execute_result"
    }
   ],
   "source": [
    "#2. 중복 없이 단어 몇개?\n",
    "len(set(moby))  #1만9천자 1.9만자 list -> set"
   ]
  },
  {
   "cell_type": "markdown",
   "id": "5bc71a7e",
   "metadata": {},
   "source": [
    "- list\n",
    "    - ['a', a, True]\n",
    "    - 순서가 있고\n",
    "    - 중복 허용된다\n",
    "    - list()\n",
    "    - 대괄호 사용 []\n",
    "- set\n",
    "    - {'a', 2, True}\n",
    "    - 순서 없고\n",
    "    - 중복 허용 안 됨\n",
    "    - set()\n",
    "    - 수학의 집합 개념\n",
    "    - 중괄호 사용 {}"
   ]
  },
  {
   "cell_type": "code",
   "execution_count": 32,
   "id": "c74b2520",
   "metadata": {},
   "outputs": [
    {
     "data": {
      "text/plain": [
       "['kia', 'hyundai', 'renault', 'benz', 'benz', 'kia']"
      ]
     },
     "execution_count": 32,
     "metadata": {},
     "output_type": "execute_result"
    }
   ],
   "source": [
    "cars = ['kia', 'hyundai','renault', 'benz', 'benz', 'kia']\n",
    "cars"
   ]
  },
  {
   "cell_type": "code",
   "execution_count": 33,
   "id": "314ff290",
   "metadata": {},
   "outputs": [
    {
     "data": {
      "text/plain": [
       "{'benz', 'hyundai', 'kia', 'renault'}"
      ]
     },
     "execution_count": 33,
     "metadata": {},
     "output_type": "execute_result"
    }
   ],
   "source": [
    "set(cars)"
   ]
  },
  {
   "cell_type": "code",
   "execution_count": 34,
   "id": "4ba8b13c",
   "metadata": {},
   "outputs": [
    {
     "data": {
      "text/plain": [
       "0.07406285585022564"
      ]
     },
     "execution_count": 34,
     "metadata": {},
     "output_type": "execute_result"
    }
   ],
   "source": [
    "#lexical diversity\n",
    "len(set(moby)) / len(moby)"
   ]
  },
  {
   "cell_type": "code",
   "execution_count": 35,
   "id": "0cb72706",
   "metadata": {},
   "outputs": [
    {
     "data": {
      "text/plain": [
       "7.406285585022563"
      ]
     },
     "execution_count": 35,
     "metadata": {},
     "output_type": "execute_result"
    }
   ],
   "source": [
    "# 단어 다양성 %\n",
    "len(set(moby))/len(moby) * 100"
   ]
  },
  {
   "cell_type": "code",
   "execution_count": 36,
   "id": "7bb24c9d",
   "metadata": {},
   "outputs": [
    {
     "data": {
      "text/plain": [
       "['renault', 'kia', 'kia', 'hyundai', 'benz', 'benz']"
      ]
     },
     "execution_count": 36,
     "metadata": {},
     "output_type": "execute_result"
    }
   ],
   "source": [
    "# 정렬\n",
    "sorted(cars, reverse=True) #순서를 거꾸로 바꿈 reverse=True"
   ]
  },
  {
   "cell_type": "code",
   "execution_count": 37,
   "id": "ff785d6c",
   "metadata": {},
   "outputs": [
    {
     "data": {
      "text/plain": [
       "['.',\n",
       " '1851',\n",
       " 'Dick',\n",
       " 'ETYMOLOGY',\n",
       " 'Herman',\n",
       " 'Melville',\n",
       " 'Moby',\n",
       " '[',\n",
       " ']',\n",
       " 'by']"
      ]
     },
     "execution_count": 37,
     "metadata": {},
     "output_type": "execute_result"
    }
   ],
   "source": [
    "sorted(set(moby[:10]))  # 중복을 없애고 정리"
   ]
  },
  {
   "cell_type": "code",
   "execution_count": 38,
   "id": "6f73491e",
   "metadata": {},
   "outputs": [
    {
     "data": {
      "text/plain": [
       "['!', '!', '!', '!', '!', '!', '!', '!', '!', '!']"
      ]
     },
     "execution_count": 38,
     "metadata": {},
     "output_type": "execute_result"
    }
   ],
   "source": [
    "sorted(moby)[:10]  # sort를 먼저하고 앞에 10개\n",
    "# 기호, 대문자, 소문자 순으로 정리"
   ]
  },
  {
   "cell_type": "markdown",
   "id": "45e7564b",
   "metadata": {},
   "source": [
    "### Quiz 1\n",
    "- text6 가져와서 토큰을 변수에 담고\n",
    "- 중복 없는 셋으로 저장하고 내림차순\n",
    "    - 앞에서 10개 단어 출력\n",
    "    - 단어에 z가 있으면 대문자로 바꾸라"
   ]
  },
  {
   "cell_type": "code",
   "execution_count": 39,
   "id": "c0d30768",
   "metadata": {},
   "outputs": [],
   "source": [
    "from nltk import book"
   ]
  },
  {
   "cell_type": "code",
   "execution_count": 40,
   "id": "c5695318",
   "metadata": {},
   "outputs": [
    {
     "name": "stdout",
     "output_type": "stream",
     "text": [
      "ZOOSH\n",
      "ZOOP\n",
      "ZOO\n",
      "ZONE\n",
      "ZHIV\n",
      "yourself\n",
      "yours\n",
      "your\n",
      "young\n",
      "you\n"
     ]
    }
   ],
   "source": [
    "# quiz1-1\n",
    "MontyAndHoly = book.text6\n",
    "words10 = sorted(set(MontyAndHoly.tokens), reverse=True)[:10]\n",
    "for i in range(10):\n",
    "    if 'z' in words10[i]:\n",
    "        words10[i] = words10[i].upper()\n",
    "    print(words10[i], end = '\\n')"
   ]
  },
  {
   "cell_type": "code",
   "execution_count": 41,
   "id": "726aabe7",
   "metadata": {},
   "outputs": [
    {
     "name": "stdout",
     "output_type": "stream",
     "text": [
      "ZOOSH\n",
      "ZOOP\n",
      "ZOO\n",
      "ZONE\n",
      "ZHIV\n",
      "yourself\n",
      "yours\n",
      "your\n",
      "young\n",
      "you\n",
      "yet\n",
      "yes\n",
      "yellow\n",
      "yelling\n",
      "yel\n",
      "year\n",
      "yeah\n",
      "ye\n",
      "y\n",
      "wrong\n"
     ]
    }
   ],
   "source": [
    "# quiz1-2: 20개 단어\n",
    "MontyAndHoly = book.text6\n",
    "words = sorted(set(MontyAndHoly.tokens), reverse=True)[:20]\n",
    "for i in range(len(words)):\n",
    "    if 'z' in words[i]:\n",
    "        words[i] = words[i].upper()\n",
    "    print(words[i])"
   ]
  },
  {
   "cell_type": "code",
   "execution_count": 42,
   "id": "aa202d93",
   "metadata": {},
   "outputs": [
    {
     "data": {
      "text/plain": [
       "'BIG'"
      ]
     },
     "execution_count": 42,
     "metadata": {},
     "output_type": "execute_result"
    }
   ],
   "source": [
    "a = 'big'  #대문자로 변환하기\n",
    "a.upper()"
   ]
  },
  {
   "cell_type": "markdown",
   "id": "6ef5e420",
   "metadata": {},
   "source": [
    "### Quiz 2\n",
    "- 주민번호, 휴대폰 번호, 이메일 주소 입력 받는다.\n",
    "- 주민번호, 휴대폰번호는 숫자만 입력 받는다(-없이)\n",
    "- 이메인주소는 아이디만 입력받는다. (@xx 없이)\n",
    "    - 1. \"당신은 {}년 {}월 {}일 출생의 {남성/여성}입니다.\"\n",
    "    - 2. 휴대폰 번호: 000-0000-0000\n",
    "    - 3. 이메일주소: xxxx@gmail.com"
   ]
  },
  {
   "cell_type": "code",
   "execution_count": 43,
   "id": "7b50a6df",
   "metadata": {},
   "outputs": [
    {
     "name": "stdout",
     "output_type": "stream",
     "text": [
      "주민번호 앞 7글자만 입력하시오: 0210312\n",
      "전화번호를 입력하시오(- 없이): 01012345678\n",
      "이메일 아이디를 입력하시오: lalalolo\n",
      "당신은 1902년 10월 31일 출생의 여성입니다.\n",
      "휴대폰 번호: 010-1234-5678\n",
      "이메일주소: lalalolo@gmail.com\n"
     ]
    }
   ],
   "source": [
    "# quiz2-1\n",
    "citizenNum = input(\"주민번호 앞 7글자만 입력하시오: \")\n",
    "phoneNum = input(\"전화번호를 입력하시오(- 없이): \")     #int is not subscriptable이라고 계속 나옴 --> int일 때 슬라이싱 안되는 듯 \n",
    "email_ID = input(\"이메일 아이디를 입력하시오: \")\n",
    "if citizenNum[6] == 2 or 4:\n",
    "    sex = \"여성\"\n",
    "else:\n",
    "    sex = \"남성\"\n",
    "\n",
    "if citizenNum[6] == 3 or citizenNum == 4:\n",
    "    birthYear = 2000 + int(citizenNum[:2])\n",
    "else:\n",
    "    birthYear = 1900 + int(citizenNum[:2])\n",
    "birthMonth = citizenNum[2:4]\n",
    "birthDay = citizenNum[4:6]\n",
    "print(f\"당신은 {birthYear}년 {birthMonth}월 {birthDay}일 출생의 {sex}입니다.\")\n",
    "print(f\"휴대폰 번호: {phoneNum[:3]}-{phoneNum[3:7]}-{phoneNum[7:]}\")\n",
    "print(f\"이메일주소: {email_ID}@gmail.com\")"
   ]
  },
  {
   "cell_type": "code",
   "execution_count": 44,
   "id": "552868f3",
   "metadata": {},
   "outputs": [
    {
     "ename": "TypeError",
     "evalue": "'int' object is not subscriptable",
     "output_type": "error",
     "traceback": [
      "\u001b[1;31m---------------------------------------------------------------------------\u001b[0m",
      "\u001b[1;31mTypeError\u001b[0m                                 Traceback (most recent call last)",
      "\u001b[1;32m~\\AppData\\Local\\Temp/ipykernel_6712/2084122928.py\u001b[0m in \u001b[0;36m<module>\u001b[1;34m\u001b[0m\n\u001b[0;32m      1\u001b[0m \u001b[1;31m#\"int is not subscriptable이라고 계속 나옴 --> int일 때 슬라이싱 안되는 듯\" 확인\u001b[0m\u001b[1;33m\u001b[0m\u001b[1;33m\u001b[0m\u001b[0m\n\u001b[0;32m      2\u001b[0m \u001b[0mnum\u001b[0m \u001b[1;33m=\u001b[0m \u001b[1;36m42839084\u001b[0m\u001b[1;33m\u001b[0m\u001b[1;33m\u001b[0m\u001b[0m\n\u001b[1;32m----> 3\u001b[1;33m \u001b[0mnum\u001b[0m\u001b[1;33m[\u001b[0m\u001b[1;33m:\u001b[0m\u001b[1;36m3\u001b[0m\u001b[1;33m]\u001b[0m\u001b[1;33m\u001b[0m\u001b[1;33m\u001b[0m\u001b[0m\n\u001b[0m",
      "\u001b[1;31mTypeError\u001b[0m: 'int' object is not subscriptable"
     ]
    }
   ],
   "source": [
    "#\"int is not subscriptable이라고 계속 나옴 --> int일 때 슬라이싱 안되는 듯\" 확인\n",
    "num = 42839084\n",
    "num[:3]"
   ]
  }
 ],
 "metadata": {
  "kernelspec": {
   "display_name": "Python 3 (ipykernel)",
   "language": "python",
   "name": "python3"
  },
  "language_info": {
   "codemirror_mode": {
    "name": "ipython",
    "version": 3
   },
   "file_extension": ".py",
   "mimetype": "text/x-python",
   "name": "python",
   "nbconvert_exporter": "python",
   "pygments_lexer": "ipython3",
   "version": "3.9.7"
  }
 },
 "nbformat": 4,
 "nbformat_minor": 5
}
