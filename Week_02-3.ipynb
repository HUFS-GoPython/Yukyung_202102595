{
 "cells": [
  {
   "cell_type": "code",
   "execution_count": 1,
   "id": "5d2f1b48",
   "metadata": {},
   "outputs": [
    {
     "data": {
      "text/plain": [
       "True"
      ]
     },
     "execution_count": 1,
     "metadata": {},
     "output_type": "execute_result"
    }
   ],
   "source": [
    "bool(1)"
   ]
  },
  {
   "cell_type": "code",
   "execution_count": 2,
   "id": "d2122200",
   "metadata": {},
   "outputs": [
    {
     "data": {
      "text/plain": [
       "False"
      ]
     },
     "execution_count": 2,
     "metadata": {},
     "output_type": "execute_result"
    }
   ],
   "source": [
    "bool(\"\")"
   ]
  },
  {
   "cell_type": "markdown",
   "id": "cf0a02d4",
   "metadata": {},
   "source": [
    "#### integer\n",
    "- 소수점 없음\n",
    "- default 양수, 음수는 앞에 -를 붙인다.\n",
    "- 숫자 앞에는 0을 붙일 수 없다. 예: 05\n",
    " - 예외적으로 0bxxx, => 다른 진수 표현법\n",
    "- 리터럴: 4\n",
    "- 공백이 많아도 무시가 된다.\n",
    "- 10,000원 -> 10,000원이 두 개로 인식 => _사용\n",
    "  -예: 10_000"
   ]
  },
  {
   "cell_type": "code",
   "execution_count": 15,
   "id": "a6249cfe",
   "metadata": {},
   "outputs": [
    {
     "data": {
      "text/plain": [
       "-1"
      ]
     },
     "execution_count": 15,
     "metadata": {},
     "output_type": "execute_result"
    }
   ],
   "source": [
    "a = -9\n",
    "8 + a"
   ]
  },
  {
   "cell_type": "code",
   "execution_count": 16,
   "id": "d73baa9e",
   "metadata": {},
   "outputs": [
    {
     "ename": "SyntaxError",
     "evalue": "leading zeros in decimal integer literals are not permitted; use an 0o prefix for octal integers (Temp/ipykernel_13076/2890110653.py, line 1)",
     "output_type": "error",
     "traceback": [
      "\u001b[1;36m  File \u001b[1;32m\"C:\\Users\\sunny\\AppData\\Local\\Temp/ipykernel_13076/2890110653.py\"\u001b[1;36m, line \u001b[1;32m1\u001b[0m\n\u001b[1;33m    a = 09\u001b[0m\n\u001b[1;37m         ^\u001b[0m\n\u001b[1;31mSyntaxError\u001b[0m\u001b[1;31m:\u001b[0m leading zeros in decimal integer literals are not permitted; use an 0o prefix for octal integers\n"
     ]
    }
   ],
   "source": [
    "a = 09  #숫자 앞에 0 x"
   ]
  },
  {
   "cell_type": "code",
   "execution_count": 17,
   "id": "984e4293",
   "metadata": {},
   "outputs": [
    {
     "data": {
      "text/plain": [
       "-6"
      ]
     },
     "execution_count": 17,
     "metadata": {},
     "output_type": "execute_result"
    }
   ],
   "source": [
    "-9 + 8                -5 #공백있어도 계산됨"
   ]
  },
  {
   "cell_type": "code",
   "execution_count": 18,
   "id": "bd98f16f",
   "metadata": {},
   "outputs": [
    {
     "name": "stdout",
     "output_type": "stream",
     "text": [
      "10000\n"
     ]
    }
   ],
   "source": [
    "a = 10_000  #10000할때와 같게 나옴\n",
    "print(a)"
   ]
  },
  {
   "cell_type": "markdown",
   "id": "290c2c1e",
   "metadata": {},
   "source": [
    "## 연산\n",
    "- 연산자|operator: +,-, \n",
    "- 피연산자|operand: 4,5, ....\n",
    "- 수식|expression"
   ]
  },
  {
   "cell_type": "code",
   "execution_count": 20,
   "id": "9864be33",
   "metadata": {},
   "outputs": [
    {
     "data": {
      "text/plain": [
       "262144"
      ]
     },
     "execution_count": 20,
     "metadata": {},
     "output_type": "execute_result"
    }
   ],
   "source": [
    "x = 4\n",
    "y = 9\n",
    "\n",
    "x + y\n",
    "x - y\n",
    "x * y\n",
    "x / y #실수형 몫\n",
    "#추가적으로\n",
    "x // y #은 정수형 몫\n",
    "x % y #은 나머지 연산자\n",
    "\n",
    "#거듭제곱|exponential\n",
    "x ** y"
   ]
  },
  {
   "cell_type": "markdown",
   "id": "068214c9",
   "metadata": {},
   "source": [
    "나눗셈 주의할 사항"
   ]
  },
  {
   "cell_type": "code",
   "execution_count": 22,
   "id": "65effe5e",
   "metadata": {},
   "outputs": [
    {
     "data": {
      "text/plain": [
       "(0, 4, 0.4444444444444444)"
      ]
     },
     "execution_count": 22,
     "metadata": {},
     "output_type": "execute_result"
    }
   ],
   "source": [
    "#1. division by zero => 주의 (y != 0)\n",
    "#2. 몫, 나머지\n",
    "x // y, x % y, x / y"
   ]
  },
  {
   "cell_type": "code",
   "execution_count": 24,
   "id": "442c8535",
   "metadata": {},
   "outputs": [
    {
     "data": {
      "text/plain": [
       "(0, 4)"
      ]
     },
     "execution_count": 24,
     "metadata": {},
     "output_type": "execute_result"
    }
   ],
   "source": [
    "divmod(x, y)  #divmod(dividend, divisor) the dividend is divided by the divisor 그래서 divmod(a, b) 답으로 (a//b, a%b)"
   ]
  },
  {
   "cell_type": "markdown",
   "id": "d9f081df",
   "metadata": {},
   "source": [
    "### 복합 대입연산자|compound assignment operator"
   ]
  },
  {
   "cell_type": "code",
   "execution_count": 25,
   "id": "ba40fac5",
   "metadata": {},
   "outputs": [
    {
     "name": "stdout",
     "output_type": "stream",
     "text": [
      "5\n"
     ]
    }
   ],
   "source": [
    "a = 5\n",
    "a - 3\n",
    "print(a)"
   ]
  },
  {
   "cell_type": "code",
   "execution_count": 27,
   "id": "6bc557e1",
   "metadata": {},
   "outputs": [],
   "source": [
    "a = a - 3\n",
    "#1. a - 3 계산\n",
    "#2. 임시변수 temp = a -3\n",
    "#3. a = a- 3\n",
    "\n",
    "a -= 3"
   ]
  },
  {
   "cell_type": "code",
   "execution_count": 28,
   "id": "0bad1f9c",
   "metadata": {},
   "outputs": [],
   "source": [
    "a += 3\n",
    "a -= 3\n",
    "a *= 3\n",
    "a /= 3"
   ]
  },
  {
   "cell_type": "code",
   "execution_count": 32,
   "id": "93721759",
   "metadata": {},
   "outputs": [
    {
     "ename": "NameError",
     "evalue": "name 'u' is not defined",
     "output_type": "error",
     "traceback": [
      "\u001b[1;31m---------------------------------------------------------------------------\u001b[0m",
      "\u001b[1;31mNameError\u001b[0m                                 Traceback (most recent call last)",
      "\u001b[1;32m~\\AppData\\Local\\Temp/ipykernel_13076/278541355.py\u001b[0m in \u001b[0;36m<module>\u001b[1;34m\u001b[0m\n\u001b[1;32m----> 1\u001b[1;33m \u001b[0mu\u001b[0m \u001b[1;33m=\u001b[0m \u001b[0mu\u001b[0m \u001b[1;33m+\u001b[0m \u001b[1;36m1\u001b[0m\u001b[1;33m\u001b[0m\u001b[1;33m\u001b[0m\u001b[0m\n\u001b[0m",
      "\u001b[1;31mNameError\u001b[0m: name 'u' is not defined"
     ]
    }
   ],
   "source": [
    "u = u + 1"
   ]
  },
  {
   "cell_type": "code",
   "execution_count": 41,
   "id": "cea62e40",
   "metadata": {},
   "outputs": [],
   "source": [
    "#그래서 u의 값을 초기화해야해\n",
    "u = 4\n",
    "u = u + 1"
   ]
  },
  {
   "cell_type": "markdown",
   "id": "33df4d5e",
   "metadata": {},
   "source": [
    "### Quiz 3\n",
    "- 정수를 입력 받고 3의 배수인지 확인하세요.\n",
    "- =홀수인지 확인하세요."
   ]
  },
  {
   "cell_type": "code",
   "execution_count": 10,
   "id": "ae8f992a",
   "metadata": {},
   "outputs": [
    {
     "name": "stdout",
     "output_type": "stream",
     "text": [
      "정수 숫자: 473992\n",
      "473992은 3의 배수가 아닙니다.\n",
      "473992은 홀수가 아닙니다.\n"
     ]
    }
   ],
   "source": [
    "# if 쓰고. 근데 쓰지 말고 해보는 거\n",
    "num = int(input(\"정수를 입력하시오. \"))\n",
    "if num % 3 == 0:\n",
    "    print(f\"{num}은 3의 배수입니다.\")\n",
    "else:\n",
    "    print(f\"{num}은 3의 배수가 아닙니다.\")\n",
    "if num % 2 == 0:\n",
    "    print(f\"{num}은 홀수가 아닙니다.\")\n",
    "else:\n",
    "    print(f\"{num}은 홀수입니다.\")"
   ]
  },
  {
   "cell_type": "code",
   "execution_count": 11,
   "id": "891f6ac0",
   "metadata": {},
   "outputs": [
    {
     "name": "stdout",
     "output_type": "stream",
     "text": [
      "정수를 입력하시오. 5\n"
     ]
    },
    {
     "data": {
      "text/plain": [
       "False"
      ]
     },
     "execution_count": 11,
     "metadata": {},
     "output_type": "execute_result"
    }
   ],
   "source": [
    "# 모범 답안\n",
    "num = int(input(\"정수를 입력하시오. \"))\n",
    "num % 3 == 0"
   ]
  },
  {
   "cell_type": "code",
   "execution_count": 12,
   "id": "4aac3870",
   "metadata": {},
   "outputs": [
    {
     "name": "stdout",
     "output_type": "stream",
     "text": [
      "정수를 입력하시오. 6\n"
     ]
    },
    {
     "data": {
      "text/plain": [
       "True"
      ]
     },
     "execution_count": 12,
     "metadata": {},
     "output_type": "execute_result"
    }
   ],
   "source": [
    "num = int(input(\"정수를 입력하시오. \"))\n",
    "num % 2 == 0"
   ]
  },
  {
   "cell_type": "markdown",
   "id": "b606f42c",
   "metadata": {},
   "source": [
    "#### 지수 표현\n",
    "- e, E 둘다 가능하다\n",
    "- 앞부분은 float, int\n",
    "- 뒷부분은 int만 온다.\n",
    " - 양수면 0 앞으로\n",
    " - 음수명 0 뒤로 (소숫점)"
   ]
  },
  {
   "cell_type": "code",
   "execution_count": 13,
   "id": "5c2bb190",
   "metadata": {},
   "outputs": [
    {
     "data": {
      "text/plain": [
       "1000000.0"
      ]
     },
     "execution_count": 13,
     "metadata": {},
     "output_type": "execute_result"
    }
   ],
   "source": [
    "1.0e6 #float"
   ]
  },
  {
   "cell_type": "code",
   "execution_count": 42,
   "id": "f80a893a",
   "metadata": {},
   "outputs": [
    {
     "data": {
      "text/plain": [
       "0.000789"
      ]
     },
     "execution_count": 42,
     "metadata": {},
     "output_type": "execute_result"
    }
   ],
   "source": [
    "789e-6 #소숫점을 움직이는 거야"
   ]
  },
  {
   "cell_type": "code",
   "execution_count": null,
   "id": "51c446dc",
   "metadata": {},
   "outputs": [],
   "source": []
  }
 ],
 "metadata": {
  "kernelspec": {
   "display_name": "Python 3 (ipykernel)",
   "language": "python",
   "name": "python3"
  },
  "language_info": {
   "codemirror_mode": {
    "name": "ipython",
    "version": 3
   },
   "file_extension": ".py",
   "mimetype": "text/x-python",
   "name": "python",
   "nbconvert_exporter": "python",
   "pygments_lexer": "ipython3",
   "version": "3.9.7"
  }
 },
 "nbformat": 4,
 "nbformat_minor": 5
}
