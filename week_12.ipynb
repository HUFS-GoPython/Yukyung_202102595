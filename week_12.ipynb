{
 "cells": [
  {
   "cell_type": "markdown",
   "id": "01cbfa21",
   "metadata": {},
   "source": [
    "### Store, Item, Customer\n",
    "\n",
    "- 1. AbCustomer -> Customer가 이를 상속 받아야함.\n",
    "- 2. Person <- Customer이 Person 상속 가능: Customer(Person)\n",
    "- is-a과계를 대체적으로 구현했는데 has-a관계이어야 했다."
   ]
  },
  {
   "cell_type": "code",
   "execution_count": null,
   "id": "09e62bf9",
   "metadata": {},
   "outputs": [],
   "source": [
    "# 이건 is-a관계\n",
    "class Person:\n",
    "    pass\n",
    "class Customer(Person): # is-a관계\n",
    "    pass\n",
    "\n",
    "# 이게 has-a관계\n",
    "class Store:\n",
    "    def __init__(customer):\n",
    "        self.customer = customer # Customer타입 # has-a관계\n",
    "        self.item = item # item은 객체를 받음\n",
    "        self.item_list = self.item.name, self.item.price # 여기서 딕셔너리 쓰지마\n",
    "class Item:\n",
    "    name\n",
    "    cnt\n",
    "    price\n",
    "    \n",
    "class Seller:\n",
    "    pass"
   ]
  },
  {
   "cell_type": "markdown",
   "id": "945142b4",
   "metadata": {},
   "source": [
    "### 매직 메소드\n",
    "- special method\n",
    "- __str__, __repr__\n",
    "- 이외 더"
   ]
  },
  {
   "cell_type": "code",
   "execution_count": 3,
   "id": "5f36e31d",
   "metadata": {},
   "outputs": [],
   "source": [
    "class Customer:\n",
    "    def __init__(self, name):\n",
    "        self.name = name\n",
    "        \n",
    "    def __str__(self):\n",
    "        # print() 함수로 나온 출력값을 변경하는 것\n",
    "        return self.name\n",
    "    \n",
    "    def __repr__(self):\n",
    "        # 설정 안 하면 __str__ 동일함\n",
    "        # 인스턴스를 출력하는 방식 => 사용자가 이해하는 객체의 모습을 표현\n",
    "        return f'Customer({self.name})'\n",
    "    \n",
    "c = Customer('kim')"
   ]
  },
  {
   "cell_type": "code",
   "execution_count": 4,
   "id": "fd5fc702",
   "metadata": {},
   "outputs": [
    {
     "data": {
      "text/plain": [
       "Customer(kim)"
      ]
     },
     "execution_count": 4,
     "metadata": {},
     "output_type": "execute_result"
    }
   ],
   "source": [
    "c"
   ]
  },
  {
   "cell_type": "code",
   "execution_count": 5,
   "id": "50236f26",
   "metadata": {},
   "outputs": [
    {
     "name": "stdout",
     "output_type": "stream",
     "text": [
      "kim\n"
     ]
    }
   ],
   "source": [
    "print(c)"
   ]
  },
  {
   "cell_type": "code",
   "execution_count": 6,
   "id": "0c08c68f",
   "metadata": {},
   "outputs": [
    {
     "data": {
      "text/plain": [
       "'Customer(kim)'"
      ]
     },
     "execution_count": 6,
     "metadata": {},
     "output_type": "execute_result"
    }
   ],
   "source": [
    "repr(c)"
   ]
  },
  {
   "cell_type": "code",
   "execution_count": 9,
   "id": "34b264bd",
   "metadata": {},
   "outputs": [
    {
     "data": {
      "text/plain": [
       "'kim'"
      ]
     },
     "execution_count": 9,
     "metadata": {},
     "output_type": "execute_result"
    }
   ],
   "source": [
    "str(c)"
   ]
  },
  {
   "cell_type": "markdown",
   "id": "5534f772",
   "metadata": {},
   "source": [
    "### NamedTuple, DataClass\n",
    "- 객체보다 효율적임 (간단한 속성만 가진 클래스일 경우 활용)\n",
    "- 딕셔너리의 키처럼 사용 가능하다\n",
    "- NameTuple은 python 3.7 이상에서만 가능"
   ]
  },
  {
   "cell_type": "code",
   "execution_count": 12,
   "id": "7f56140c",
   "metadata": {},
   "outputs": [
    {
     "data": {
      "text/plain": [
       "('lee', 21, 2002, 'kimchi')"
      ]
     },
     "execution_count": 12,
     "metadata": {},
     "output_type": "execute_result"
    }
   ],
   "source": [
    "from collections import namedtuple\n",
    "\n",
    "Customer = namedtuple('Customer', 'name age birth_year favorite_food')\n",
    "a = Customer('lee', 21, 2002, 'kimchi')\n",
    "a.name, a.age, a.birth_year, a.favorite_food"
   ]
  },
  {
   "cell_type": "code",
   "execution_count": 15,
   "id": "6b4ef3a9",
   "metadata": {},
   "outputs": [
    {
     "data": {
      "text/plain": [
       "('hong', 88, 'HUFS')"
      ]
     },
     "execution_count": 15,
     "metadata": {},
     "output_type": "execute_result"
    }
   ],
   "source": [
    "from dataclasses import dataclass\n",
    "# 3.7 이상에서만 가능\n",
    "\n",
    "@dataclass\n",
    "class Customer2:\n",
    "    name: str\n",
    "    school: str\n",
    "    age: int\n",
    "        \n",
    "b = Customer2('hong', 'HUFS', 88)\n",
    "b.name, b.age, b.school"
   ]
  },
  {
   "cell_type": "markdown",
   "id": "0c2aa70b",
   "metadata": {},
   "source": [
    "### 함수 2\n",
    "- \\*, \\**\n",
    "- 일급객체\n",
    "- 내부함수, 클로저\n",
    "- 익명함수\n",
    "- 제너레이터\n",
    "- 재귀함수\n",
    "\n",
    "asterisk: \\*\n",
    "- 여러 개를 하나로 묶어주는 역할, 패킹"
   ]
  },
  {
   "cell_type": "code",
   "execution_count": 16,
   "id": "469b57de",
   "metadata": {},
   "outputs": [
    {
     "name": "stdout",
     "output_type": "stream",
     "text": [
      "(1, 2, 3, 4, 5, 6)\n"
     ]
    }
   ],
   "source": [
    "def print_arg(*args): # *은 여러개의 인자가 있을 때 패킹해준다(묶어준다)\n",
    "    print(args)\n",
    "    \n",
    "print_arg(1, 2, 3, 4, 5, 6)"
   ]
  },
  {
   "cell_type": "code",
   "execution_count": 17,
   "id": "3e3ded34",
   "metadata": {},
   "outputs": [
    {
     "name": "stdout",
     "output_type": "stream",
     "text": [
      "1 2 3 4 5 6\n"
     ]
    }
   ],
   "source": [
    "def print_arg(*args): # *은 여러개의 인자가 있을 때 패킹해준다(묶어준다)\n",
    "    print(*args)\n",
    "    \n",
    "print_arg(1, 2, 3, 4, 5, 6)"
   ]
  },
  {
   "cell_type": "code",
   "execution_count": 18,
   "id": "197027cd",
   "metadata": {},
   "outputs": [
    {
     "name": "stdout",
     "output_type": "stream",
     "text": [
      "1 2\n",
      "optional\n"
     ]
    }
   ],
   "source": [
    "def print_more(num1, num2, *args):\n",
    "    print(num1, num2)\n",
    "    print(*args, 'optional')\n",
    "    \n",
    "print_more(1, 2)"
   ]
  },
  {
   "cell_type": "code",
   "execution_count": 19,
   "id": "66525d99",
   "metadata": {},
   "outputs": [
    {
     "name": "stdout",
     "output_type": "stream",
     "text": [
      "0 1 2 3 4 5 6 7 8 9\n"
     ]
    }
   ],
   "source": [
    "empty = list(range(10))\n",
    "print(*empty)"
   ]
  },
  {
   "cell_type": "code",
   "execution_count": 20,
   "id": "e3cd971d",
   "metadata": {},
   "outputs": [
    {
     "name": "stdout",
     "output_type": "stream",
     "text": [
      "(1, 3, 5)\n",
      "(2, 4, 6)\n"
     ]
    }
   ],
   "source": [
    "# 행렬, 테이블 데이터\n",
    "matrix = [\n",
    "    [1, 2],\n",
    "    [3, 4],\n",
    "    [5, 6]\n",
    "]\n",
    "# 1, 2, 3, 4, 5, 6 (열만 타고 싶다)\n",
    "for item in zip(*matrix):\n",
    "    print(item)"
   ]
  },
  {
   "cell_type": "code",
   "execution_count": 26,
   "id": "6548d511",
   "metadata": {},
   "outputs": [
    {
     "name": "stdout",
     "output_type": "stream",
     "text": [
      "(1, 3, 5)\n",
      "(2, 4, 6)\n"
     ]
    }
   ],
   "source": [
    "# zip 복습\n",
    "for item in zip([1, 2], [3, 4], [5, 6]):\n",
    "    print(item)"
   ]
  },
  {
   "cell_type": "code",
   "execution_count": 22,
   "id": "f2ea0afe",
   "metadata": {},
   "outputs": [
    {
     "name": "stdout",
     "output_type": "stream",
     "text": [
      "0\n",
      "1\n",
      "2\n",
      "3\n",
      "4\n",
      "5\n",
      "6\n",
      "7\n",
      "8\n",
      "9\n"
     ]
    }
   ],
   "source": [
    "# 키워드 전용 인수 선언 시 사용\n",
    "def print_data(data, start, end):\n",
    "    for item in data[start:end]:\n",
    "        print(item)\n",
    "        \n",
    "print_data(empty, start=0, end=12) # empty = [1, 2, 3, 4, 5, 6, 7, 8, 9]까지라 10, 11 출력 X\n",
    "#print_data(empty, 0, 1)"
   ]
  },
  {
   "cell_type": "markdown",
   "id": "5db3c4a8",
   "metadata": {},
   "source": [
    "#### kargs: **"
   ]
  },
  {
   "cell_type": "code",
   "execution_count": 33,
   "id": "d40f91ee",
   "metadata": {},
   "outputs": [
    {
     "name": "stdout",
     "output_type": "stream",
     "text": [
      "{'wine': 'crianza', 'drink': 'water'}\n"
     ]
    }
   ],
   "source": [
    "def print_kargs(**kargs): # 키: 값 => 딕셔너리로 반환\n",
    "    print(kargs)\n",
    "    #print(**kargs) 이거 안 됨, 언패킹 안 되서\n",
    "print_kargs(wine='crianza', drink='water')"
   ]
  },
  {
   "cell_type": "code",
   "execution_count": 34,
   "id": "e2b98994",
   "metadata": {},
   "outputs": [
    {
     "name": "stdout",
     "output_type": "stream",
     "text": [
      "{'wine': 'cabernet', 'drink': 'water'}\n",
      "{'wine': 'crianza', 'drink': 'water'}\n",
      "{'wine': 'shiraz', 'drink': 'water'}\n"
     ]
    }
   ],
   "source": [
    "for wine in ['cabernet', 'crianza', 'shiraz']:\n",
    "    print_kargs(wine=wine, drink='water')"
   ]
  },
  {
   "cell_type": "code",
   "execution_count": 27,
   "id": "7f4c3ff2",
   "metadata": {},
   "outputs": [
    {
     "name": "stdout",
     "output_type": "stream",
     "text": [
      "3420790 2\n",
      "1011\n",
      "{'a': 6, 'b': 4, 'c': 349539759}\n"
     ]
    }
   ],
   "source": [
    "def print_all(num1, num2, *args, **kargs):\n",
    "    print(num1, num2)\n",
    "    print(sum(args))\n",
    "    print(kargs)\n",
    "    \n",
    "print_all(3420790, 2, 683, 4, 324, a = 6, b = 4, c = 349539759)"
   ]
  },
  {
   "cell_type": "code",
   "execution_count": 23,
   "id": "0ed0336a",
   "metadata": {},
   "outputs": [],
   "source": [
    "# 딕셔너리 조인\n",
    "a = {1: 'a', 2: 'b'}\n",
    "b = {2: 'c', 3: 'd'}\n",
    "c = {**a, **b}"
   ]
  }
 ],
 "metadata": {
  "kernelspec": {
   "display_name": "Python 3 (ipykernel)",
   "language": "python",
   "name": "python3"
  },
  "language_info": {
   "codemirror_mode": {
    "name": "ipython",
    "version": 3
   },
   "file_extension": ".py",
   "mimetype": "text/x-python",
   "name": "python",
   "nbconvert_exporter": "python",
   "pygments_lexer": "ipython3",
   "version": "3.9.7"
  }
 },
 "nbformat": 4,
 "nbformat_minor": 5
}
