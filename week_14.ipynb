{
 "cells": [
  {
   "cell_type": "markdown",
   "id": "b7b48a19",
   "metadata": {},
   "source": [
    "### 함수 2\n"
   ]
  },
  {
   "cell_type": "markdown",
   "id": "7560b565",
   "metadata": {},
   "source": [
    "1. 일급 객체\n",
    "2. 중첩 함수\n",
    "    A. 클로저\n",
    "    B. 데코레이터\n",
    "    C. 범위\n",
    "3. 익명 함수\n",
    "4. 제너레이터\n",
    "5. 재귀 함수"
   ]
  },
  {
   "cell_type": "markdown",
   "id": "029a54f5",
   "metadata": {},
   "source": [
    "#### 일급 객체\n",
    "- first class object, first class citizen\n",
    "- 파이썬에서는 함수도 일급 객체에 포함된다.\n",
    "- 일급 객체의 조건\n",
    "    1. 함수의 인자로 전달된다.\n",
    "        - def fx(func)\n",
    "    2. 함수의 반환값이 된다.\n",
    "        - def fx(func): return func\n",
    "    3. 수정, 할당이 된다.\n",
    "        - var = fx()"
   ]
  },
  {
   "cell_type": "code",
   "execution_count": 1,
   "id": "408cb74a",
   "metadata": {},
   "outputs": [
    {
     "name": "stdout",
     "output_type": "stream",
     "text": [
      "42\n"
     ]
    }
   ],
   "source": [
    "def answer():\n",
    "    print(42)\n",
    "    \n",
    "def run_sth(func):\n",
    "    func() # func vs func()\n",
    "    \n",
    "run_sth(answer)"
   ]
  },
  {
   "cell_type": "code",
   "execution_count": 4,
   "id": "96183356",
   "metadata": {},
   "outputs": [
    {
     "name": "stdout",
     "output_type": "stream",
     "text": [
      "120\n"
     ]
    }
   ],
   "source": [
    "def add_args(arg1, arg2, arg3):\n",
    "    print(arg1 * arg2 * arg3)\n",
    "    \n",
    "def run_sth2(func, *args):\n",
    "    func(*args)\n",
    "    \n",
    "run_sth2(add_args, 3, 5, 8)"
   ]
  },
  {
   "cell_type": "markdown",
   "id": "2cf361cb",
   "metadata": {},
   "source": [
    "#### 중첩함수\n",
    "- 함수 내에서 또다른 함수를 정의하는 것\n",
    "- 내부함수 캡슐화\n",
    "    - 메모리를 절약할 수 있다.\n",
    "    - 변수가 섞여서 불필요하게 충돌하는 것을 방지한다.\n",
    "    - 목적에 맛게 변수를 그룹화할 수 있다. 관리, 책임 명확히할 수 있다."
   ]
  },
  {
   "cell_type": "code",
   "execution_count": 3,
   "id": "b034b6a9",
   "metadata": {},
   "outputs": [
    {
     "data": {
      "text/plain": [
       "2"
      ]
     },
     "execution_count": 3,
     "metadata": {},
     "output_type": "execute_result"
    }
   ],
   "source": [
    "def outer(a, b): # 외부 함수\n",
    "    def inner(c, d): # 내부함수\n",
    "        return c+d\n",
    "    return inner(a, b)\n",
    "\n",
    "outer(1, 1)"
   ]
  },
  {
   "cell_type": "code",
   "execution_count": 5,
   "id": "92fb19f1",
   "metadata": {},
   "outputs": [
    {
     "ename": "NameError",
     "evalue": "name 'inner' is not defined",
     "output_type": "error",
     "traceback": [
      "\u001b[1;31m---------------------------------------------------------------------------\u001b[0m",
      "\u001b[1;31mNameError\u001b[0m                                 Traceback (most recent call last)",
      "\u001b[1;32m~\\AppData\\Local\\Temp/ipykernel_8392/468872844.py\u001b[0m in \u001b[0;36m<module>\u001b[1;34m\u001b[0m\n\u001b[1;32m----> 1\u001b[1;33m \u001b[0minner\u001b[0m\u001b[1;33m(\u001b[0m\u001b[1;36m1\u001b[0m\u001b[1;33m,\u001b[0m \u001b[1;36m1\u001b[0m\u001b[1;33m)\u001b[0m \u001b[1;31m# 함수 안에서만 쓰임 그래서 에러\u001b[0m\u001b[1;33m\u001b[0m\u001b[1;33m\u001b[0m\u001b[0m\n\u001b[0m",
      "\u001b[1;31mNameError\u001b[0m: name 'inner' is not defined"
     ]
    }
   ],
   "source": [
    "inner(1, 1) # 함수 안에서만 쓰임 그래서 에러"
   ]
  },
  {
   "cell_type": "code",
   "execution_count": 6,
   "id": "2c8c5a40",
   "metadata": {},
   "outputs": [
    {
     "ename": "NameError",
     "evalue": "name 'c' is not defined",
     "output_type": "error",
     "traceback": [
      "\u001b[1;31m---------------------------------------------------------------------------\u001b[0m",
      "\u001b[1;31mNameError\u001b[0m                                 Traceback (most recent call last)",
      "\u001b[1;32m~\\AppData\\Local\\Temp/ipykernel_8392/3235490055.py\u001b[0m in \u001b[0;36m<module>\u001b[1;34m\u001b[0m\n\u001b[1;32m----> 1\u001b[1;33m \u001b[0mc\u001b[0m\u001b[1;33m\u001b[0m\u001b[1;33m\u001b[0m\u001b[0m\n\u001b[0m",
      "\u001b[1;31mNameError\u001b[0m: name 'c' is not defined"
     ]
    }
   ],
   "source": [
    "c"
   ]
  },
  {
   "cell_type": "code",
   "execution_count": 7,
   "id": "ee1f58f8",
   "metadata": {},
   "outputs": [],
   "source": [
    "def knight(saying):\n",
    "    def inner():\n",
    "        return f'We are the knights who say: {saying}'\n",
    "    return inner\n",
    "\n",
    "a = knight('hi')\n",
    "b = knight('안녕')"
   ]
  },
  {
   "cell_type": "markdown",
   "id": "5576ef31",
   "metadata": {},
   "source": [
    "- 외부함수만 인자를 \"창조\"할 수 있다.\n",
    "- 수정/활용은 안 됨"
   ]
  },
  {
   "cell_type": "code",
   "execution_count": 8,
   "id": "fde44957",
   "metadata": {},
   "outputs": [
    {
     "data": {
      "text/plain": [
       "<function __main__.knight.<locals>.inner()>"
      ]
     },
     "execution_count": 8,
     "metadata": {},
     "output_type": "execute_result"
    }
   ],
   "source": [
    "a # 실행 안 시켜서 지금은 함수"
   ]
  },
  {
   "cell_type": "code",
   "execution_count": 9,
   "id": "bb4a434d",
   "metadata": {},
   "outputs": [
    {
     "data": {
      "text/plain": [
       "<function __main__.knight.<locals>.inner()>"
      ]
     },
     "execution_count": 9,
     "metadata": {},
     "output_type": "execute_result"
    }
   ],
   "source": [
    "b # 즉, 실행시키려면 () 필수"
   ]
  },
  {
   "cell_type": "code",
   "execution_count": 10,
   "id": "d46f0cd6",
   "metadata": {},
   "outputs": [
    {
     "data": {
      "text/plain": [
       "'We are the knights who say: hi'"
      ]
     },
     "execution_count": 10,
     "metadata": {},
     "output_type": "execute_result"
    }
   ],
   "source": [
    "a()"
   ]
  },
  {
   "cell_type": "code",
   "execution_count": 11,
   "id": "e161e9ee",
   "metadata": {},
   "outputs": [
    {
     "data": {
      "text/plain": [
       "'We are the knights who say: 안녕'"
      ]
     },
     "execution_count": 11,
     "metadata": {},
     "output_type": "execute_result"
    }
   ],
   "source": [
    "b()"
   ]
  },
  {
   "cell_type": "code",
   "execution_count": 12,
   "id": "9569e27a",
   "metadata": {},
   "outputs": [],
   "source": [
    "def inner():\n",
    "        return f'We are the knights who say: {saying}'"
   ]
  },
  {
   "cell_type": "code",
   "execution_count": 13,
   "id": "4616e6d2",
   "metadata": {},
   "outputs": [
    {
     "ename": "NameError",
     "evalue": "name 'saying' is not defined",
     "output_type": "error",
     "traceback": [
      "\u001b[1;31m---------------------------------------------------------------------------\u001b[0m",
      "\u001b[1;31mNameError\u001b[0m                                 Traceback (most recent call last)",
      "\u001b[1;32m~\\AppData\\Local\\Temp/ipykernel_8392/2365295047.py\u001b[0m in \u001b[0;36m<module>\u001b[1;34m\u001b[0m\n\u001b[1;32m----> 1\u001b[1;33m \u001b[0minner\u001b[0m\u001b[1;33m(\u001b[0m\u001b[1;33m)\u001b[0m \u001b[1;31m# saying을 따로 정해주지 않으면 에러 발생\u001b[0m\u001b[1;33m\u001b[0m\u001b[1;33m\u001b[0m\u001b[0m\n\u001b[0m",
      "\u001b[1;32m~\\AppData\\Local\\Temp/ipykernel_8392/1727384476.py\u001b[0m in \u001b[0;36minner\u001b[1;34m()\u001b[0m\n\u001b[0;32m      1\u001b[0m \u001b[1;32mdef\u001b[0m \u001b[0minner\u001b[0m\u001b[1;33m(\u001b[0m\u001b[1;33m)\u001b[0m\u001b[1;33m:\u001b[0m\u001b[1;33m\u001b[0m\u001b[1;33m\u001b[0m\u001b[0m\n\u001b[1;32m----> 2\u001b[1;33m         \u001b[1;32mreturn\u001b[0m \u001b[1;34mf'We are the knights who say: {saying}'\u001b[0m\u001b[1;33m\u001b[0m\u001b[1;33m\u001b[0m\u001b[0m\n\u001b[0m",
      "\u001b[1;31mNameError\u001b[0m: name 'saying' is not defined"
     ]
    }
   ],
   "source": [
    "inner() # saying을 따로 정해주지 않으면 에러 발생"
   ]
  },
  {
   "cell_type": "markdown",
   "id": "e27302c8",
   "metadata": {},
   "source": [
    "#### 클로저 | closure\n",
    "- 조건\n",
    "    1. 중첩함수일 것\n",
    "    2. 내부함수가 외부함수의 상댓값을 참조할 것\n",
    "    3. 외부함수의 리턴값이 내부함수일 것\n",
    "- 외부함수의 상태값을 기억하는 함수(호출 시 사용 가능)"
   ]
  },
  {
   "cell_type": "code",
   "execution_count": 18,
   "id": "12ace88a",
   "metadata": {},
   "outputs": [],
   "source": [
    "def multiply(x):\n",
    "    def inner(y): # 1.\n",
    "        return x * y # 2.\n",
    "    return inner # 3."
   ]
  },
  {
   "cell_type": "code",
   "execution_count": 19,
   "id": "979c7acb",
   "metadata": {},
   "outputs": [],
   "source": [
    "m = multiply(5)\n",
    "n = multiply(6)"
   ]
  },
  {
   "cell_type": "code",
   "execution_count": 20,
   "id": "c874bdb6",
   "metadata": {},
   "outputs": [
    {
     "data": {
      "text/plain": [
       "(<function __main__.multiply.<locals>.inner(y)>,\n",
       " <function __main__.multiply.<locals>.inner(y)>)"
      ]
     },
     "execution_count": 20,
     "metadata": {},
     "output_type": "execute_result"
    }
   ],
   "source": [
    "m, n"
   ]
  },
  {
   "cell_type": "code",
   "execution_count": 21,
   "id": "2cbf838b",
   "metadata": {},
   "outputs": [
    {
     "data": {
      "text/plain": [
       "50"
      ]
     },
     "execution_count": 21,
     "metadata": {},
     "output_type": "execute_result"
    }
   ],
   "source": [
    "m(10)"
   ]
  },
  {
   "cell_type": "code",
   "execution_count": 22,
   "id": "01e91101",
   "metadata": {},
   "outputs": [
    {
     "data": {
      "text/plain": [
       "60"
      ]
     },
     "execution_count": 22,
     "metadata": {},
     "output_type": "execute_result"
    }
   ],
   "source": [
    "n(10)"
   ]
  },
  {
   "cell_type": "code",
   "execution_count": 23,
   "id": "048b6fe3",
   "metadata": {},
   "outputs": [],
   "source": [
    "del(multiply)"
   ]
  },
  {
   "cell_type": "code",
   "execution_count": 27,
   "id": "50f72551",
   "metadata": {},
   "outputs": [
    {
     "ename": "NameError",
     "evalue": "name 'multiply' is not defined",
     "output_type": "error",
     "traceback": [
      "\u001b[1;31m---------------------------------------------------------------------------\u001b[0m",
      "\u001b[1;31mNameError\u001b[0m                                 Traceback (most recent call last)",
      "\u001b[1;32m~\\AppData\\Local\\Temp/ipykernel_15132/659864642.py\u001b[0m in \u001b[0;36m<module>\u001b[1;34m\u001b[0m\n\u001b[1;32m----> 1\u001b[1;33m \u001b[0mmultiply\u001b[0m \u001b[1;31m# \"multiply 기억 안 난다\" but...\u001b[0m\u001b[1;33m\u001b[0m\u001b[1;33m\u001b[0m\u001b[0m\n\u001b[0m",
      "\u001b[1;31mNameError\u001b[0m: name 'multiply' is not defined"
     ]
    }
   ],
   "source": [
    "multiply # \"multiply 기억 안 난다\" but..."
   ]
  },
  {
   "cell_type": "code",
   "execution_count": 28,
   "id": "691f727f",
   "metadata": {},
   "outputs": [
    {
     "data": {
      "text/plain": [
       "40"
      ]
     },
     "execution_count": 28,
     "metadata": {},
     "output_type": "execute_result"
    }
   ],
   "source": [
    "m(8) # 이로 인해 만들어진 함수 m, n은 계속 사용 가능"
   ]
  },
  {
   "cell_type": "code",
   "execution_count": 29,
   "id": "329974a9",
   "metadata": {},
   "outputs": [],
   "source": [
    "def add(a, b):\n",
    "    return a + b\n",
    "\n",
    "# 리턴값 * 리턴값 (8 * 8)\n",
    "def square(func):\n",
    "    return\n",
    "\n",
    "square(add(4, 5))"
   ]
  },
  {
   "cell_type": "code",
   "execution_count": 30,
   "id": "f4a33273",
   "metadata": {},
   "outputs": [],
   "source": [
    "# my answer...very wrong\n",
    "def add(a, b):\n",
    "    func = a + b\n",
    "    def inner(func):\n",
    "        return (func) ** 2\n",
    "    return inner"
   ]
  },
  {
   "cell_type": "code",
   "execution_count": 34,
   "id": "f62b6ef2",
   "metadata": {},
   "outputs": [
    {
     "data": {
      "text/plain": [
       "81"
      ]
     },
     "execution_count": 34,
     "metadata": {},
     "output_type": "execute_result"
    }
   ],
   "source": [
    "# good answer\n",
    "def add(a, b):\n",
    "    return a + b\n",
    "\n",
    "def square(func):\n",
    "    def inner(a, b):\n",
    "        result = func(a, b)\n",
    "        return result * result\n",
    "    return inner\n",
    "\n",
    "fx = square(add)\n",
    "fx(4, 5) # (4+5)*(4+5)\n",
    "# fx(3, 3)"
   ]
  },
  {
   "cell_type": "markdown",
   "id": "a72b083f",
   "metadata": {},
   "source": [
    "#### 데코레이터\n",
    "- 메인 함수에 또 다른 함수를 취해 반환할 수 있게 함\n",
    "- 재사용성 높음\n",
    "- 가독성, 직관성 좋다"
   ]
  },
  {
   "cell_type": "code",
   "execution_count": 36,
   "id": "dd556376",
   "metadata": {},
   "outputs": [
    {
     "data": {
      "text/plain": [
       "81"
      ]
     },
     "execution_count": 36,
     "metadata": {},
     "output_type": "execute_result"
    }
   ],
   "source": [
    "@square\n",
    "def plus(a, b):\n",
    "    return a + b\n",
    "\n",
    "plus(4, 5)"
   ]
  },
  {
   "cell_type": "markdown",
   "id": "24791140",
   "metadata": {},
   "source": [
    "#### scope | 범위\n",
    "- 전역: global\n",
    "- 지역: local\n",
    "- nonlocal"
   ]
  },
  {
   "cell_type": "code",
   "execution_count": 38,
   "id": "41dd3020",
   "metadata": {},
   "outputs": [
    {
     "data": {
      "text/plain": [
       "999"
      ]
     },
     "execution_count": 38,
     "metadata": {},
     "output_type": "execute_result"
    }
   ],
   "source": [
    "a = 3 # global\n",
    "\n",
    "def outer(c): # c = 9\n",
    "    b = 5 # local\n",
    "    def inner():\n",
    "        # c = 9지만 밑에서 바뀜\n",
    "        c = 999\n",
    "        return c # nonlocal\n",
    "    return inner()\n",
    "\n",
    "outer(9)"
   ]
  },
  {
   "cell_type": "code",
   "execution_count": 43,
   "id": "f8f4afbc",
   "metadata": {},
   "outputs": [
    {
     "data": {
      "text/plain": [
       "10"
      ]
     },
     "execution_count": 43,
     "metadata": {},
     "output_type": "execute_result"
    }
   ],
   "source": [
    "a = 3 # global\n",
    "\n",
    "def outer(c): # c = 9\n",
    "    b = 5 # local\n",
    "    def inner():\n",
    "        nonlocal c\n",
    "        c += 1 # 읽기는 되지만 쓰기는 안 됨. 고치려면 nonlocal 써줘야 함.\n",
    "        return c # nonlocal\n",
    "    return inner()\n",
    "\n",
    "outer(9)"
   ]
  },
  {
   "cell_type": "markdown",
   "id": "c4c78a6d",
   "metadata": {},
   "source": [
    "#### 실습\n",
    "- fx1: speed, limit 내 속도가 제한속도를 위반하는지 t/f\n",
    "- fx2: 클로저, 초과할 경우 얼마나 초과하는지 프린트하는 함수\n",
    "- 실행은 데코레이터로"
   ]
  },
  {
   "cell_type": "code",
   "execution_count": 54,
   "id": "2f8b4eaa",
   "metadata": {},
   "outputs": [],
   "source": [
    "# my answer\n",
    "limit = 60 # global\n",
    "\n",
    "def speed(a):\n",
    "    if a > limit:\n",
    "        legal = 'f'\n",
    "    else:\n",
    "        legal = 't'\n",
    "    \n",
    "    def over_limit(speed):\n",
    "        if legal == 'f':\n",
    "            over = a - limit\n",
    "        else:\n",
    "            over = 0\n",
    "        return over\n",
    "    return inner"
   ]
  },
  {
   "cell_type": "code",
   "execution_count": 55,
   "id": "de784b2a",
   "metadata": {},
   "outputs": [
    {
     "data": {
      "text/plain": [
       "<function __main__.inner()>"
      ]
     },
     "execution_count": 55,
     "metadata": {},
     "output_type": "execute_result"
    }
   ],
   "source": [
    "speed(70)"
   ]
  },
  {
   "cell_type": "code",
   "execution_count": null,
   "id": "70e17e60",
   "metadata": {},
   "outputs": [],
   "source": [
    "# 교수님\n",
    "def violate():\n",
    "    def inner(speed, limit):\n",
    "        if func(speed, limit): #True\n",
    "            return f'초과: {speed- limit}km/h'\n",
    "        else: return\n",
    "\n",
    "def is_speeding(speed, limit):\n",
    "    return speed > limit"
   ]
  },
  {
   "cell_type": "markdown",
   "id": "3e96fe43",
   "metadata": {},
   "source": [
    "### 익명함수 | lambda\n",
    "- 이름이 없다.\n",
    "def is_speeding():\n",
    "    return\n",
    "- def, return\n",
    "- is_speeding\n",
    "- 단순한 용도의 함수가 필요할 경우 사용\n",
    "- 잦은 사용은 권하지 않음\n",
    "- lambda x: <x를 요리할 코드>"
   ]
  },
  {
   "cell_type": "code",
   "execution_count": 57,
   "id": "801f0465",
   "metadata": {},
   "outputs": [
    {
     "data": {
      "text/plain": [
       "3"
      ]
     },
     "execution_count": 57,
     "metadata": {},
     "output_type": "execute_result"
    }
   ],
   "source": [
    "def add_one(x):\n",
    "    return x + 1\n",
    "add_one(2)"
   ]
  },
  {
   "cell_type": "code",
   "execution_count": 56,
   "id": "501c3da5",
   "metadata": {},
   "outputs": [
    {
     "data": {
      "text/plain": [
       "3"
      ]
     },
     "execution_count": 56,
     "metadata": {},
     "output_type": "execute_result"
    }
   ],
   "source": [
    "(lambda x: x + 1)(2)"
   ]
  },
  {
   "cell_type": "code",
   "execution_count": 58,
   "id": "2b0b8965",
   "metadata": {},
   "outputs": [
    {
     "data": {
      "text/plain": [
       "8"
      ]
     },
     "execution_count": 58,
     "metadata": {},
     "output_type": "execute_result"
    }
   ],
   "source": [
    "f = lambda x, y: x + y\n",
    "f(3, 5)"
   ]
  },
  {
   "cell_type": "code",
   "execution_count": null,
   "id": "101be7a9",
   "metadata": {},
   "outputs": [],
   "source": [
    "# 실습\n",
    "- 단어가 들어왔을 때 첫글자 대문자로 바꾸고 단어 끝에 !를 붙이도록 람다를 만들자.\n",
    "- ex) hello -> Hello!"
   ]
  },
  {
   "cell_type": "code",
   "execution_count": 65,
   "id": "6facb0d6",
   "metadata": {},
   "outputs": [],
   "source": [
    "h = lambda x: x.capitalize() + '!'"
   ]
  },
  {
   "cell_type": "code",
   "execution_count": 66,
   "id": "4b1fc4b8",
   "metadata": {},
   "outputs": [
    {
     "data": {
      "text/plain": [
       "'Hello!'"
      ]
     },
     "execution_count": 66,
     "metadata": {},
     "output_type": "execute_result"
    }
   ],
   "source": [
    "h('hello')"
   ]
  },
  {
   "cell_type": "code",
   "execution_count": null,
   "id": "61483ce3",
   "metadata": {},
   "outputs": [],
   "source": [
    "#### 제너레이터\n",
    "- return 대신에 yield 사용\n",
    "- 시퀸스를 순회할 때 시퀸스를 생성하는 객체\n",
    "- 한번 사용되고 사라짐 => 메모리 효율 좋음\n"
   ]
  },
  {
   "cell_type": "code",
   "execution_count": 67,
   "id": "9f652149",
   "metadata": {},
   "outputs": [
    {
     "data": {
      "text/plain": [
       "<generator object print_number at 0x000002AFD5F0DBA0>"
      ]
     },
     "execution_count": 67,
     "metadata": {},
     "output_type": "execute_result"
    }
   ],
   "source": [
    "def print_number(num):\n",
    "    for i in range(num):\n",
    "        yield i\n",
    "print_number(10)"
   ]
  },
  {
   "cell_type": "code",
   "execution_count": 68,
   "id": "b6176357",
   "metadata": {
    "scrolled": true
   },
   "outputs": [
    {
     "name": "stdout",
     "output_type": "stream",
     "text": [
      "0\n",
      "1\n",
      "2\n",
      "3\n",
      "4\n",
      "5\n",
      "6\n",
      "7\n",
      "8\n",
      "9\n"
     ]
    }
   ],
   "source": [
    "fx = print_number(10)\n",
    "for i in fx:\n",
    "    print(i)"
   ]
  },
  {
   "cell_type": "code",
   "execution_count": 71,
   "id": "5efa56cd",
   "metadata": {},
   "outputs": [],
   "source": [
    "for i in fx:\n",
    "    print(i) # 일회용이라 이제 안 나옴"
   ]
  },
  {
   "cell_type": "markdown",
   "id": "c580c739",
   "metadata": {},
   "source": [
    "### 실습\n",
    "range() 구현하기\n",
    "\n",
    "    - 제너레이터 사용\n",
    "    - def my_range(start, end, step): yield\n",
    "        \n",
    "ranger = my_range(a, b, c)"
   ]
  },
  {
   "cell_type": "code",
   "execution_count": 88,
   "id": "d6e7880f",
   "metadata": {},
   "outputs": [],
   "source": [
    "# classmate's answer which I liked\n",
    "def my_range(end, start = 0, step = 1):\n",
    "    i = start\n",
    "    while i <= end:\n",
    "        yield i\n",
    "        i += step"
   ]
  },
  {
   "cell_type": "code",
   "execution_count": 90,
   "id": "5245e538",
   "metadata": {},
   "outputs": [
    {
     "name": "stdout",
     "output_type": "stream",
     "text": [
      "3\n",
      "5\n",
      "7\n",
      "9\n",
      "11\n",
      "13\n"
     ]
    }
   ],
   "source": [
    "for i in my_range(13, 3, 2):\n",
    "    print(i)"
   ]
  },
  {
   "cell_type": "code",
   "execution_count": 91,
   "id": "ff1b02da",
   "metadata": {},
   "outputs": [
    {
     "data": {
      "text/plain": [
       "[0, 1, 2, 3, 4]"
      ]
     },
     "execution_count": 91,
     "metadata": {},
     "output_type": "execute_result"
    }
   ],
   "source": [
    "[i for i in range(5)]"
   ]
  },
  {
   "cell_type": "code",
   "execution_count": 95,
   "id": "f1957ac7",
   "metadata": {},
   "outputs": [],
   "source": [
    "ranger = (i for i in range(5)) # generator"
   ]
  },
  {
   "cell_type": "code",
   "execution_count": 96,
   "id": "7435f86a",
   "metadata": {},
   "outputs": [
    {
     "name": "stdout",
     "output_type": "stream",
     "text": [
      "0\n",
      "1\n",
      "2\n",
      "3\n",
      "4\n"
     ]
    }
   ],
   "source": [
    "for i in ranger:\n",
    "    print(i)"
   ]
  },
  {
   "cell_type": "markdown",
   "id": "8f3a94a0",
   "metadata": {},
   "source": [
    "#### 재귀함수\n",
    "- 너무 깊으면 예외 발생 => 주의\n",
    "- 자기 자신을 호출하는 함수\n",
    "- [1, 2, 3], [[[1, 1]], 4, 5] -> [1, 2, 3, 1, 1, 4, 5]  # 차원이 다른 애들도 하나로 묶으려고"
   ]
  },
  {
   "cell_type": "code",
   "execution_count": 101,
   "id": "80d5a28e",
   "metadata": {},
   "outputs": [],
   "source": [
    "def flatten(sent):\n",
    "    for word in sent:\n",
    "        if isinstance(word, list):\n",
    "            # true\n",
    "            for sub_word in flatten(word):\n",
    "                yield sub_word\n",
    "            # python 3.3 이후로 위 두 줄을 밑에 한 줄로 요약 가능\n",
    "            # yield from flatten(word)    \n",
    "            \n",
    "        else:\n",
    "            # false\n",
    "            yield word"
   ]
  },
  {
   "cell_type": "code",
   "execution_count": 102,
   "id": "7eb54091",
   "metadata": {},
   "outputs": [
    {
     "data": {
      "text/plain": [
       "False"
      ]
     },
     "execution_count": 102,
     "metadata": {},
     "output_type": "execute_result"
    }
   ],
   "source": [
    "isinstance('h', int)"
   ]
  },
  {
   "cell_type": "code",
   "execution_count": 103,
   "id": "03bad027",
   "metadata": {},
   "outputs": [
    {
     "data": {
      "text/plain": [
       "<generator object flatten at 0x000002AFD5F215F0>"
      ]
     },
     "execution_count": 103,
     "metadata": {},
     "output_type": "execute_result"
    }
   ],
   "source": [
    "a = [1, 2, 3], [[[1, 1]], 4, 5]\n",
    "flatten(a)"
   ]
  },
  {
   "cell_type": "code",
   "execution_count": 104,
   "id": "3daa9c97",
   "metadata": {},
   "outputs": [
    {
     "name": "stdout",
     "output_type": "stream",
     "text": [
      "1\n",
      "2\n",
      "3\n",
      "1\n",
      "1\n",
      "4\n",
      "5\n"
     ]
    }
   ],
   "source": [
    "for i in flatten(a):\n",
    "    print(i)"
   ]
  },
  {
   "cell_type": "markdown",
   "id": "14af2c3b",
   "metadata": {},
   "source": [
    "### 예외 처리 | exception handling\n",
    "- 목적: 프로그램 정상 종료\n",
    "- 예외 발생 시, 사용자에게 알리고 조치를 취함\n",
    "- 소프트랜딩"
   ]
  },
  {
   "cell_type": "code",
   "execution_count": 106,
   "id": "c21b008b",
   "metadata": {},
   "outputs": [
    {
     "ename": "ZeroDivisionError",
     "evalue": "division by zero",
     "output_type": "error",
     "traceback": [
      "\u001b[1;31m---------------------------------------------------------------------------\u001b[0m",
      "\u001b[1;31mZeroDivisionError\u001b[0m                         Traceback (most recent call last)",
      "\u001b[1;32m~\\AppData\\Local\\Temp/ipykernel_15132/3415763458.py\u001b[0m in \u001b[0;36m<module>\u001b[1;34m\u001b[0m\n\u001b[1;32m----> 1\u001b[1;33m \u001b[1;36m10\u001b[0m \u001b[1;33m/\u001b[0m \u001b[1;36m0\u001b[0m \u001b[1;31m# 0으로 나눌 수 없는 에러\u001b[0m\u001b[1;33m\u001b[0m\u001b[1;33m\u001b[0m\u001b[0m\n\u001b[0m",
      "\u001b[1;31mZeroDivisionError\u001b[0m: division by zero"
     ]
    }
   ],
   "source": [
    "10 / 0 # 0으로 나눌 수 없는 에러"
   ]
  },
  {
   "cell_type": "code",
   "execution_count": 107,
   "id": "49e2ebf8",
   "metadata": {},
   "outputs": [
    {
     "ename": "ValueError",
     "evalue": "invalid literal for int() with base 10: 'ssss'",
     "output_type": "error",
     "traceback": [
      "\u001b[1;31m---------------------------------------------------------------------------\u001b[0m",
      "\u001b[1;31mValueError\u001b[0m                                Traceback (most recent call last)",
      "\u001b[1;32m~\\AppData\\Local\\Temp/ipykernel_15132/1699319061.py\u001b[0m in \u001b[0;36m<module>\u001b[1;34m\u001b[0m\n\u001b[1;32m----> 1\u001b[1;33m \u001b[0mint\u001b[0m\u001b[1;33m(\u001b[0m\u001b[1;34m'ssss'\u001b[0m\u001b[1;33m)\u001b[0m \u001b[1;31m# 문자 숫자화 에러\u001b[0m\u001b[1;33m\u001b[0m\u001b[1;33m\u001b[0m\u001b[0m\n\u001b[0m",
      "\u001b[1;31mValueError\u001b[0m: invalid literal for int() with base 10: 'ssss'"
     ]
    }
   ],
   "source": [
    "int('ssss') # 문자 숫자화 에러"
   ]
  },
  {
   "cell_type": "code",
   "execution_count": 108,
   "id": "7608ec36",
   "metadata": {},
   "outputs": [
    {
     "ename": "NameError",
     "evalue": "name 'hello' is not defined",
     "output_type": "error",
     "traceback": [
      "\u001b[1;31m---------------------------------------------------------------------------\u001b[0m",
      "\u001b[1;31mNameError\u001b[0m                                 Traceback (most recent call last)",
      "\u001b[1;32m~\\AppData\\Local\\Temp/ipykernel_15132/1652506347.py\u001b[0m in \u001b[0;36m<module>\u001b[1;34m\u001b[0m\n\u001b[1;32m----> 1\u001b[1;33m \u001b[0mhello\u001b[0m \u001b[1;33m+=\u001b[0m \u001b[1;36m1\u001b[0m \u001b[1;31m# 문자 + 숫자\u001b[0m\u001b[1;33m\u001b[0m\u001b[1;33m\u001b[0m\u001b[0m\n\u001b[0m",
      "\u001b[1;31mNameError\u001b[0m: name 'hello' is not defined"
     ]
    }
   ],
   "source": [
    "hello += 1 # 문자 + 숫자"
   ]
  },
  {
   "cell_type": "code",
   "execution_count": 109,
   "id": "f1f29c81",
   "metadata": {},
   "outputs": [
    {
     "ename": "IndexError",
     "evalue": "string index out of range",
     "output_type": "error",
     "traceback": [
      "\u001b[1;31m---------------------------------------------------------------------------\u001b[0m",
      "\u001b[1;31mIndexError\u001b[0m                                Traceback (most recent call last)",
      "\u001b[1;32m~\\AppData\\Local\\Temp/ipykernel_15132/10073807.py\u001b[0m in \u001b[0;36m<module>\u001b[1;34m\u001b[0m\n\u001b[1;32m----> 1\u001b[1;33m \u001b[1;34m'ssss'\u001b[0m\u001b[1;33m[\u001b[0m\u001b[1;36m10\u001b[0m\u001b[1;33m]\u001b[0m \u001b[1;31m# 없는 인덱스 에러\u001b[0m\u001b[1;33m\u001b[0m\u001b[1;33m\u001b[0m\u001b[0m\n\u001b[0m",
      "\u001b[1;31mIndexError\u001b[0m: string index out of range"
     ]
    }
   ],
   "source": [
    "'ssss'[10] # 없는 인덱스 에러"
   ]
  },
  {
   "cell_type": "code",
   "execution_count": 110,
   "id": "4a7f37d0",
   "metadata": {},
   "outputs": [
    {
     "name": "stdout",
     "output_type": "stream",
     "text": [
      "0으로 나눌 수 없음\n"
     ]
    }
   ],
   "source": [
    "try:\n",
    "    #<에러 발생될 법한 코드 블럭>\n",
    "    10/0\n",
    "except ZeroDivisionError: #<에러타입>:\n",
    "    #<처리할 방법>\n",
    "    print('0으로 나눌 수 없음')"
   ]
  },
  {
   "cell_type": "code",
   "execution_count": 113,
   "id": "eb153e03",
   "metadata": {},
   "outputs": [
    {
     "name": "stdout",
     "output_type": "stream",
     "text": [
      "error\n"
     ]
    }
   ],
   "source": [
    "try:\n",
    "    for i in range(10):\n",
    "        print(10/i)\n",
    "except ZeroDivisionError:\n",
    "    print('error')\n",
    "# 첫 0부터 에러 걸려서 실행 중지됨"
   ]
  },
  {
   "cell_type": "code",
   "execution_count": 14,
   "id": "f36b5d1c",
   "metadata": {},
   "outputs": [
    {
     "name": "stdout",
     "output_type": "stream",
     "text": [
      "error\n",
      "10.0\n",
      "5.0\n",
      "3.3333333333333335\n",
      "2.5\n",
      "2.0\n",
      "1.6666666666666667\n",
      "1.4285714285714286\n",
      "1.25\n",
      "1.1111111111111112\n"
     ]
    }
   ],
   "source": [
    "# 그래서 try:의 위치가 중요함\n",
    "for i in range(10):\n",
    "    try:\n",
    "        print(10/i)\n",
    "    except ZeroDivisionError:\n",
    "        print('error')"
   ]
  },
  {
   "cell_type": "code",
   "execution_count": 120,
   "id": "35e66c95",
   "metadata": {},
   "outputs": [
    {
     "name": "stdout",
     "output_type": "stream",
     "text": [
      "인덱스 입력하세요> 8\n",
      "index error\n",
      "인덱스 입력하세요> 3\n",
      "l\n",
      "인덱스 입력하세요> sdf\n",
      "type error\n",
      "인덱스 입력하세요> qqq\n",
      "type error\n",
      "인덱스 입력하세요> q\n"
     ]
    }
   ],
   "source": [
    "word = 'hello'\n",
    "while True:\n",
    "    index = input('인덱스 입력하세요> ')\n",
    "    if index == 'q':\n",
    "        break\n",
    "    try:\n",
    "        print(word[int(index)])\n",
    "    except IndexError:\n",
    "        print('index error')\n",
    "    except ValueError:\n",
    "        print('type error')"
   ]
  },
  {
   "cell_type": "markdown",
   "id": "00be7773",
   "metadata": {},
   "source": [
    "#### 2. 예외 발생시키기\n",
    "프로그램을 강제 종료하고자 할 때 사용함\n",
    "- raise\n",
    "- assert"
   ]
  },
  {
   "cell_type": "code",
   "execution_count": null,
   "id": "d8f90404",
   "metadata": {},
   "outputs": [],
   "source": [
    "raise ValueError('print....')"
   ]
  },
  {
   "cell_type": "code",
   "execution_count": 123,
   "id": "39381d4b",
   "metadata": {},
   "outputs": [
    {
     "name": "stdout",
     "output_type": "stream",
     "text": [
      "number>> d\n"
     ]
    },
    {
     "ename": "ValueError",
     "evalue": "숫자가 아닙니다.",
     "output_type": "error",
     "traceback": [
      "\u001b[1;31m---------------------------------------------------------------------------\u001b[0m",
      "\u001b[1;31mValueError\u001b[0m                                Traceback (most recent call last)",
      "\u001b[1;32m~\\AppData\\Local\\Temp/ipykernel_15132/2941626252.py\u001b[0m in \u001b[0;36m<module>\u001b[1;34m\u001b[0m\n\u001b[0;32m      2\u001b[0m     \u001b[0mnum\u001b[0m \u001b[1;33m=\u001b[0m \u001b[0minput\u001b[0m\u001b[1;33m(\u001b[0m\u001b[1;34m'number>> '\u001b[0m\u001b[1;33m)\u001b[0m\u001b[1;33m\u001b[0m\u001b[1;33m\u001b[0m\u001b[0m\n\u001b[0;32m      3\u001b[0m     \u001b[1;32mif\u001b[0m \u001b[1;32mnot\u001b[0m \u001b[0mnum\u001b[0m\u001b[1;33m.\u001b[0m\u001b[0misdigit\u001b[0m\u001b[1;33m(\u001b[0m\u001b[1;33m)\u001b[0m\u001b[1;33m:\u001b[0m\u001b[1;33m\u001b[0m\u001b[1;33m\u001b[0m\u001b[0m\n\u001b[1;32m----> 4\u001b[1;33m         \u001b[1;32mraise\u001b[0m \u001b[0mValueError\u001b[0m\u001b[1;33m(\u001b[0m\u001b[1;34m'숫자가 아닙니다.'\u001b[0m\u001b[1;33m)\u001b[0m\u001b[1;33m\u001b[0m\u001b[1;33m\u001b[0m\u001b[0m\n\u001b[0m\u001b[0;32m      5\u001b[0m     \u001b[1;32melse\u001b[0m\u001b[1;33m:\u001b[0m\u001b[1;33m\u001b[0m\u001b[1;33m\u001b[0m\u001b[0m\n\u001b[0;32m      6\u001b[0m         \u001b[0mprint\u001b[0m\u001b[1;33m(\u001b[0m\u001b[0mnum\u001b[0m\u001b[1;33m)\u001b[0m\u001b[1;33m\u001b[0m\u001b[1;33m\u001b[0m\u001b[0m\n",
      "\u001b[1;31mValueError\u001b[0m: 숫자가 아닙니다."
     ]
    }
   ],
   "source": [
    "while True:\n",
    "    num = input('number>> ')\n",
    "    if not num.isdigit():\n",
    "        raise ValueError('숫자가 아닙니다.')\n",
    "    else:\n",
    "        print(num)\n",
    "        break"
   ]
  },
  {
   "cell_type": "code",
   "execution_count": null,
   "id": "edc62414",
   "metadata": {},
   "outputs": [],
   "source": [
    "assert <참인 조건>, '예외 메시지' # AssertionError"
   ]
  },
  {
   "cell_type": "code",
   "execution_count": 126,
   "id": "f4d20ff9",
   "metadata": {},
   "outputs": [
    {
     "ename": "AssertionError",
     "evalue": "정수 아님",
     "output_type": "error",
     "traceback": [
      "\u001b[1;31m---------------------------------------------------------------------------\u001b[0m",
      "\u001b[1;31mAssertionError\u001b[0m                            Traceback (most recent call last)",
      "\u001b[1;32m~\\AppData\\Local\\Temp/ipykernel_15132/3039164845.py\u001b[0m in \u001b[0;36m<module>\u001b[1;34m\u001b[0m\n\u001b[0;32m      3\u001b[0m     \u001b[1;32mreturn\u001b[0m \u001b[0mbin\u001b[0m\u001b[1;33m(\u001b[0m\u001b[0mnum\u001b[0m\u001b[1;33m)\u001b[0m\u001b[1;33m\u001b[0m\u001b[1;33m\u001b[0m\u001b[0m\n\u001b[0;32m      4\u001b[0m \u001b[1;33m\u001b[0m\u001b[0m\n\u001b[1;32m----> 5\u001b[1;33m \u001b[0mget_binary\u001b[0m\u001b[1;33m(\u001b[0m\u001b[1;34m'ee'\u001b[0m\u001b[1;33m)\u001b[0m\u001b[1;33m\u001b[0m\u001b[1;33m\u001b[0m\u001b[0m\n\u001b[0m",
      "\u001b[1;32m~\\AppData\\Local\\Temp/ipykernel_15132/3039164845.py\u001b[0m in \u001b[0;36mget_binary\u001b[1;34m(num)\u001b[0m\n\u001b[0;32m      1\u001b[0m \u001b[1;32mdef\u001b[0m \u001b[0mget_binary\u001b[0m\u001b[1;33m(\u001b[0m\u001b[0mnum\u001b[0m\u001b[1;33m)\u001b[0m\u001b[1;33m:\u001b[0m\u001b[1;33m\u001b[0m\u001b[1;33m\u001b[0m\u001b[0m\n\u001b[1;32m----> 2\u001b[1;33m     \u001b[1;32massert\u001b[0m \u001b[0misinstance\u001b[0m\u001b[1;33m(\u001b[0m\u001b[0mnum\u001b[0m\u001b[1;33m,\u001b[0m \u001b[0mint\u001b[0m\u001b[1;33m)\u001b[0m\u001b[1;33m,\u001b[0m \u001b[1;34m'정수 아님'\u001b[0m \u001b[1;31m# check 기능\u001b[0m\u001b[1;33m\u001b[0m\u001b[1;33m\u001b[0m\u001b[0m\n\u001b[0m\u001b[0;32m      3\u001b[0m     \u001b[1;32mreturn\u001b[0m \u001b[0mbin\u001b[0m\u001b[1;33m(\u001b[0m\u001b[0mnum\u001b[0m\u001b[1;33m)\u001b[0m\u001b[1;33m\u001b[0m\u001b[1;33m\u001b[0m\u001b[0m\n\u001b[0;32m      4\u001b[0m \u001b[1;33m\u001b[0m\u001b[0m\n\u001b[0;32m      5\u001b[0m \u001b[0mget_binary\u001b[0m\u001b[1;33m(\u001b[0m\u001b[1;34m'ee'\u001b[0m\u001b[1;33m)\u001b[0m\u001b[1;33m\u001b[0m\u001b[1;33m\u001b[0m\u001b[0m\n",
      "\u001b[1;31mAssertionError\u001b[0m: 정수 아님"
     ]
    }
   ],
   "source": [
    "def get_binary(num):\n",
    "    assert isinstance(num, int), '정수 아님' # check 기능\n",
    "    return bin(num)\n",
    "\n",
    "get_binary('ee')"
   ]
  },
  {
   "cell_type": "markdown",
   "id": "775ac676",
   "metadata": {},
   "source": [
    "#### 예외 정의하기\n",
    "- 사용자 정의 예외\n",
    "- Exception이라는 부모클라스를 상속받는다."
   ]
  },
  {
   "cell_type": "code",
   "execution_count": 20,
   "id": "d23f56f8",
   "metadata": {},
   "outputs": [],
   "source": [
    "class MyException(Exception):\n",
    "    pass"
   ]
  },
  {
   "cell_type": "code",
   "execution_count": 21,
   "id": "25b05410",
   "metadata": {},
   "outputs": [
    {
     "name": "stdout",
     "output_type": "stream",
     "text": [
      "a\n",
      "b\n"
     ]
    },
    {
     "ename": "MyException",
     "evalue": "대문자 안 됨!",
     "output_type": "error",
     "traceback": [
      "\u001b[1;31m---------------------------------------------------------------------------\u001b[0m",
      "\u001b[1;31mMyException\u001b[0m                               Traceback (most recent call last)",
      "\u001b[1;32m~\\AppData\\Local\\Temp/ipykernel_8392/1587679071.py\u001b[0m in \u001b[0;36m<module>\u001b[1;34m\u001b[0m\n\u001b[0;32m      1\u001b[0m \u001b[1;32mfor\u001b[0m \u001b[0mword\u001b[0m \u001b[1;32min\u001b[0m \u001b[1;33m[\u001b[0m\u001b[1;34m'a'\u001b[0m\u001b[1;33m,\u001b[0m \u001b[1;34m'b'\u001b[0m\u001b[1;33m,\u001b[0m \u001b[1;34m'C'\u001b[0m\u001b[1;33m]\u001b[0m\u001b[1;33m:\u001b[0m\u001b[1;33m\u001b[0m\u001b[1;33m\u001b[0m\u001b[0m\n\u001b[0;32m      2\u001b[0m     \u001b[1;32mif\u001b[0m \u001b[0mword\u001b[0m\u001b[1;33m.\u001b[0m\u001b[0misupper\u001b[0m\u001b[1;33m(\u001b[0m\u001b[1;33m)\u001b[0m\u001b[1;33m:\u001b[0m\u001b[1;33m\u001b[0m\u001b[1;33m\u001b[0m\u001b[0m\n\u001b[1;32m----> 3\u001b[1;33m         \u001b[1;32mraise\u001b[0m \u001b[0mMyException\u001b[0m\u001b[1;33m(\u001b[0m\u001b[1;34m'대문자 안 됨!'\u001b[0m\u001b[1;33m)\u001b[0m\u001b[1;33m\u001b[0m\u001b[1;33m\u001b[0m\u001b[0m\n\u001b[0m\u001b[0;32m      4\u001b[0m     \u001b[1;32melse\u001b[0m\u001b[1;33m:\u001b[0m\u001b[1;33m\u001b[0m\u001b[1;33m\u001b[0m\u001b[0m\n\u001b[0;32m      5\u001b[0m         \u001b[0mprint\u001b[0m\u001b[1;33m(\u001b[0m\u001b[0mword\u001b[0m\u001b[1;33m)\u001b[0m\u001b[1;33m\u001b[0m\u001b[1;33m\u001b[0m\u001b[0m\n",
      "\u001b[1;31mMyException\u001b[0m: 대문자 안 됨!"
     ]
    }
   ],
   "source": [
    "for word in ['a', 'b', 'C']:\n",
    "    if word.isupper():\n",
    "        raise MyException('대문자 안 됨!')\n",
    "    else:\n",
    "        print(word)"
   ]
  },
  {
   "cell_type": "code",
   "execution_count": 22,
   "id": "ebe54ac2",
   "metadata": {},
   "outputs": [
    {
     "name": "stdout",
     "output_type": "stream",
     "text": [
      "a\n",
      "b\n"
     ]
    },
    {
     "ename": "UppercaseException",
     "evalue": "대문자 안된다구",
     "output_type": "error",
     "traceback": [
      "\u001b[1;31m---------------------------------------------------------------------------\u001b[0m",
      "\u001b[1;31mUppercaseException\u001b[0m                        Traceback (most recent call last)",
      "\u001b[1;32m~\\AppData\\Local\\Temp/ipykernel_8392/583830789.py\u001b[0m in \u001b[0;36m<module>\u001b[1;34m\u001b[0m\n\u001b[0;32m      5\u001b[0m \u001b[1;32mfor\u001b[0m \u001b[0mword\u001b[0m \u001b[1;32min\u001b[0m \u001b[1;33m[\u001b[0m\u001b[1;34m'a'\u001b[0m\u001b[1;33m,\u001b[0m \u001b[1;34m'b'\u001b[0m\u001b[1;33m,\u001b[0m \u001b[1;34m'C'\u001b[0m\u001b[1;33m]\u001b[0m\u001b[1;33m:\u001b[0m\u001b[1;33m\u001b[0m\u001b[1;33m\u001b[0m\u001b[0m\n\u001b[0;32m      6\u001b[0m     \u001b[1;32mif\u001b[0m \u001b[0mword\u001b[0m\u001b[1;33m.\u001b[0m\u001b[0misupper\u001b[0m\u001b[1;33m(\u001b[0m\u001b[1;33m)\u001b[0m\u001b[1;33m:\u001b[0m\u001b[1;33m\u001b[0m\u001b[1;33m\u001b[0m\u001b[0m\n\u001b[1;32m----> 7\u001b[1;33m         \u001b[1;32mraise\u001b[0m \u001b[0mUppercaseException\u001b[0m\u001b[1;33m\u001b[0m\u001b[1;33m\u001b[0m\u001b[0m\n\u001b[0m\u001b[0;32m      8\u001b[0m     \u001b[1;32melse\u001b[0m\u001b[1;33m:\u001b[0m\u001b[1;33m\u001b[0m\u001b[1;33m\u001b[0m\u001b[0m\n\u001b[0;32m      9\u001b[0m         \u001b[0mprint\u001b[0m\u001b[1;33m(\u001b[0m\u001b[0mword\u001b[0m\u001b[1;33m)\u001b[0m\u001b[1;33m\u001b[0m\u001b[1;33m\u001b[0m\u001b[0m\n",
      "\u001b[1;31mUppercaseException\u001b[0m: 대문자 안된다구"
     ]
    }
   ],
   "source": [
    "class UppercaseException(Exception):\n",
    "    def __init__(self):\n",
    "        super().__init__('대문자 안된다구')\n",
    "        \n",
    "for word in ['a', 'b', 'C']:\n",
    "    if word.isupper():\n",
    "        raise UppercaseException\n",
    "    else:\n",
    "        print(word)"
   ]
  }
 ],
 "metadata": {
  "kernelspec": {
   "display_name": "Python 3 (ipykernel)",
   "language": "python",
   "name": "python3"
  },
  "language_info": {
   "codemirror_mode": {
    "name": "ipython",
    "version": 3
   },
   "file_extension": ".py",
   "mimetype": "text/x-python",
   "name": "python",
   "nbconvert_exporter": "python",
   "pygments_lexer": "ipython3",
   "version": "3.9.7"
  }
 },
 "nbformat": 4,
 "nbformat_minor": 5
}
