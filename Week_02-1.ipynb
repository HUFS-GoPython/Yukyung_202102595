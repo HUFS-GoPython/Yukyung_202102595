{
 "cells": [
  {
   "cell_type": "markdown",
   "id": "1eceba56",
   "metadata": {},
   "source": [
    "## Ch02. Variable\n",
    "- string\n",
    "- float\n",
    "- integer\n",
    "- booleen"
   ]
  },
  {
   "cell_type": "code",
   "execution_count": 1,
   "id": "ccec6cd5",
   "metadata": {},
   "outputs": [
    {
     "data": {
      "text/plain": [
       "2"
      ]
     },
     "execution_count": 1,
     "metadata": {},
     "output_type": "execute_result"
    }
   ],
   "source": [
    "#여러 이름 동시에 할당\n",
    "two = deux = dos = 2 #dos -> deux -> two\n",
    "two"
   ]
  },
  {
   "cell_type": "code",
   "execution_count": 2,
   "id": "2d7f9785",
   "metadata": {},
   "outputs": [
    {
     "name": "stdout",
     "output_type": "stream",
     "text": [
      "4 2\n"
     ]
    }
   ],
   "source": [
    "# 불변객체이므로\n",
    "two = 4\n",
    "print(two, deux) #two에 deux가 할당되었던게 4로 대체되었지만 deux는 여전히 2인 것"
   ]
  },
  {
   "cell_type": "code",
   "execution_count": 3,
   "id": "d5ee2337",
   "metadata": {},
   "outputs": [
    {
     "data": {
      "text/plain": [
       "(2450071841168, 2450071841104)"
      ]
     },
     "execution_count": 3,
     "metadata": {},
     "output_type": "execute_result"
    }
   ],
   "source": [
    "id(two), id(deux)  #할때마다, 컴퓨터마다 변한다."
   ]
  },
  {
   "cell_type": "code",
   "execution_count": 4,
   "id": "9fdaf631",
   "metadata": {},
   "outputs": [
    {
     "data": {
      "text/plain": [
       "([1, 2, 3], [1, 2, 3])"
      ]
     },
     "execution_count": 4,
     "metadata": {},
     "output_type": "execute_result"
    }
   ],
   "source": [
    "p = [1, 2, 3]\n",
    "q = p\n",
    "p, q"
   ]
  },
  {
   "cell_type": "code",
   "execution_count": 5,
   "id": "3aaf622e",
   "metadata": {},
   "outputs": [
    {
     "data": {
      "text/plain": [
       "(2450151038656, 2450151038656)"
      ]
     },
     "execution_count": 5,
     "metadata": {},
     "output_type": "execute_result"
    }
   ],
   "source": [
    "id(p), id(q)  #id가 동일하게 나옴. 컴퓨터에 같은 위치"
   ]
  },
  {
   "cell_type": "code",
   "execution_count": 6,
   "id": "8177c2b7",
   "metadata": {},
   "outputs": [
    {
     "data": {
      "text/plain": [
       "([9, 2, 3], [9, 2, 3])"
      ]
     },
     "execution_count": 6,
     "metadata": {},
     "output_type": "execute_result"
    }
   ],
   "source": [
    "p[0] = 9  #p = [1, 2, 3] --> p = [9, 2, 3], p를 q에 할당해서 q도 [9, 2, 3]로 바뀜 \n",
    "p, q"
   ]
  },
  {
   "cell_type": "code",
   "execution_count": 18,
   "id": "ce019fa3",
   "metadata": {},
   "outputs": [
    {
     "data": {
      "text/plain": [
       "(2450151038656, 2450151038656)"
      ]
     },
     "execution_count": 18,
     "metadata": {},
     "output_type": "execute_result"
    }
   ],
   "source": [
    "id(p), id(q)"
   ]
  },
  {
   "cell_type": "code",
   "execution_count": 19,
   "id": "50f1eccb",
   "metadata": {},
   "outputs": [
    {
     "data": {
      "text/plain": [
       "([5, 2, 3], [5, 2, 3])"
      ]
     },
     "execution_count": 19,
     "metadata": {},
     "output_type": "execute_result"
    }
   ],
   "source": [
    "# 개인 실험\n",
    "q[0] = 5\n",
    "p, q  #  # q = [9, 2, 3] --> q[5, 2, 3] -->    ?????????????????????????????"
   ]
  },
  {
   "cell_type": "markdown",
   "id": "e215be14",
   "metadata": {},
   "source": [
    "#### 좋은 변수명\n",
    "- 간결하고 명확한 이름\n",
    "- 의미가 담겨야 함. a, b, c. ...\n",
    "- 코드에는 의미가 담기고 주석에는 의도가 담긴다.\n",
    " - 예: the number of students n < the_number_of_students < num_students\n",
    " - 카멜표기법: numStudents"
   ]
  },
  {
   "cell_type": "markdown",
   "id": "ed187694",
   "metadata": {},
   "source": [
    "### 자료형 변환, 형 변환\n",
    "- str(<변환할 값>), int(), float(), bool()"
   ]
  },
  {
   "cell_type": "code",
   "execution_count": 8,
   "id": "3e3fd40a",
   "metadata": {},
   "outputs": [
    {
     "data": {
      "text/plain": [
       "True"
      ]
     },
     "execution_count": 8,
     "metadata": {},
     "output_type": "execute_result"
    }
   ],
   "source": [
    "a = 10\n",
    "\n",
    "# str\n",
    "str(a)  #문자열로 변환\n",
    "\n",
    "#float\n",
    "float(a) #실수로 변환\n",
    "\n",
    "#bool\n",
    "bool(a) # 어떤 값이 False로 변환이 되는 지"
   ]
  },
  {
   "cell_type": "markdown",
   "id": "3858c3ba",
   "metadata": {},
   "source": [
    "주의할 점: float --> int"
   ]
  },
  {
   "cell_type": "code",
   "execution_count": 11,
   "id": "1af24ac3",
   "metadata": {},
   "outputs": [
    {
     "data": {
      "text/plain": [
       "10"
      ]
     },
     "execution_count": 11,
     "metadata": {},
     "output_type": "execute_result"
    }
   ],
   "source": [
    "x = 10.7 #소수점 내림\n",
    "int(x)"
   ]
  },
  {
   "cell_type": "code",
   "execution_count": 20,
   "id": "f80849a7",
   "metadata": {},
   "outputs": [
    {
     "name": "stdout",
     "output_type": "stream",
     "text": [
      "30\n",
      "29\n"
     ]
    }
   ],
   "source": [
    "y = 19.8\n",
    "\n",
    "print(int(x + y))\n",
    "print(int(x) + int(y))"
   ]
  },
  {
   "cell_type": "code",
   "execution_count": 22,
   "id": "adcd0244",
   "metadata": {},
   "outputs": [
    {
     "data": {
      "text/plain": [
       "10.7"
      ]
     },
     "execution_count": 22,
     "metadata": {},
     "output_type": "execute_result"
    }
   ],
   "source": [
    "# 개인 시험\n",
    "x = 10.7\n",
    "int(x)\n",
    "float(x)  #x는 항상 10.7인거고 변환은 일시적인 것???"
   ]
  },
  {
   "cell_type": "markdown",
   "id": "32e184b4",
   "metadata": {},
   "source": [
    "주의할 점 2: str --> int/float"
   ]
  },
  {
   "cell_type": "code",
   "execution_count": 21,
   "id": "2ca9f425",
   "metadata": {},
   "outputs": [
    {
     "data": {
      "text/plain": [
       "(10, 10.0)"
      ]
     },
     "execution_count": 21,
     "metadata": {},
     "output_type": "execute_result"
    }
   ],
   "source": [
    "i = '10'\n",
    "int(i), float(i)"
   ]
  },
  {
   "cell_type": "code",
   "execution_count": null,
   "id": "130c420b",
   "metadata": {},
   "outputs": [],
   "source": []
  },
  {
   "cell_type": "code",
   "execution_count": null,
   "id": "8fe0b45a",
   "metadata": {},
   "outputs": [],
   "source": []
  },
  {
   "cell_type": "code",
   "execution_count": 24,
   "id": "e60428c8",
   "metadata": {},
   "outputs": [
    {
     "ename": "ValueError",
     "evalue": "invalid literal for int() with base 10: '10.7'",
     "output_type": "error",
     "traceback": [
      "\u001b[1;31m---------------------------------------------------------------------------\u001b[0m",
      "\u001b[1;31mValueError\u001b[0m                                Traceback (most recent call last)",
      "\u001b[1;32m~\\AppData\\Local\\Temp/ipykernel_14680/912595414.py\u001b[0m in \u001b[0;36m<module>\u001b[1;34m\u001b[0m\n\u001b[0;32m      1\u001b[0m \u001b[0mj\u001b[0m \u001b[1;33m=\u001b[0m \u001b[1;34m'10.7'\u001b[0m\u001b[1;33m\u001b[0m\u001b[1;33m\u001b[0m\u001b[0m\n\u001b[1;32m----> 2\u001b[1;33m \u001b[0mint\u001b[0m\u001b[1;33m(\u001b[0m\u001b[0mj\u001b[0m\u001b[1;33m)\u001b[0m  \u001b[1;31m#10.7은 integer이 아님(float으로 형 변환 먼저해)\u001b[0m\u001b[1;33m\u001b[0m\u001b[1;33m\u001b[0m\u001b[0m\n\u001b[0m",
      "\u001b[1;31mValueError\u001b[0m: invalid literal for int() with base 10: '10.7'"
     ]
    }
   ],
   "source": [
    "j = '10.7'\n",
    "int(j)  #10.7은 integer이 아님(float으로 형 변환 먼저해)"
   ]
  },
  {
   "cell_type": "code",
   "execution_count": 26,
   "id": "8f617089",
   "metadata": {},
   "outputs": [
    {
     "data": {
      "text/plain": [
       "10.7"
      ]
     },
     "execution_count": 26,
     "metadata": {},
     "output_type": "execute_result"
    }
   ],
   "source": [
    "#개인 시험\n",
    "j = '10.7'\n",
    "float(j)"
   ]
  },
  {
   "cell_type": "code",
   "execution_count": 28,
   "id": "7d2eaeda",
   "metadata": {},
   "outputs": [
    {
     "ename": "ValueError",
     "evalue": "invalid literal for int() with base 10: '10.7'",
     "output_type": "error",
     "traceback": [
      "\u001b[1;31m---------------------------------------------------------------------------\u001b[0m",
      "\u001b[1;31mValueError\u001b[0m                                Traceback (most recent call last)",
      "\u001b[1;32m~\\AppData\\Local\\Temp/ipykernel_14680/2317952690.py\u001b[0m in \u001b[0;36m<module>\u001b[1;34m\u001b[0m\n\u001b[0;32m      2\u001b[0m \u001b[0mj\u001b[0m \u001b[1;33m=\u001b[0m \u001b[1;34m'10.7'\u001b[0m\u001b[1;33m\u001b[0m\u001b[1;33m\u001b[0m\u001b[0m\n\u001b[0;32m      3\u001b[0m \u001b[0mfloat\u001b[0m\u001b[1;33m(\u001b[0m\u001b[0mj\u001b[0m\u001b[1;33m)\u001b[0m\u001b[1;33m\u001b[0m\u001b[1;33m\u001b[0m\u001b[0m\n\u001b[1;32m----> 4\u001b[1;33m \u001b[0mint\u001b[0m\u001b[1;33m(\u001b[0m\u001b[0mj\u001b[0m\u001b[1;33m)\u001b[0m\u001b[1;33m\u001b[0m\u001b[1;33m\u001b[0m\u001b[0m\n\u001b[0m",
      "\u001b[1;31mValueError\u001b[0m: invalid literal for int() with base 10: '10.7'"
     ]
    }
   ],
   "source": [
    "#개인 시험\n",
    "j = '10.7'\n",
    "float(j)\n",
    "int(j)   #??????????"
   ]
  },
  {
   "cell_type": "code",
   "execution_count": 29,
   "id": "3c550d8f",
   "metadata": {},
   "outputs": [
    {
     "data": {
      "text/plain": [
       "10"
      ]
     },
     "execution_count": 29,
     "metadata": {},
     "output_type": "execute_result"
    }
   ],
   "source": [
    "#개인 시험\n",
    "int(float(j))"
   ]
  },
  {
   "cell_type": "markdown",
   "id": "44c6f72c",
   "metadata": {},
   "source": [
    "### 꿀팁 'print()'\n",
    "병렬 출력"
   ]
  },
  {
   "cell_type": "code",
   "execution_count": 14,
   "id": "ff121d41",
   "metadata": {},
   "outputs": [
    {
     "name": "stdout",
     "output_type": "stream",
     "text": [
      "dogcatlion\n",
      "dog cat lion\n"
     ]
    }
   ],
   "source": [
    "dog = 'dog'\n",
    "cat = 'cat'\n",
    "lion = 'lion'\n",
    "\n",
    "print(dog + cat + lion) #space x \\n\n",
    "print(dog, cat, lion) #space o, \\n"
   ]
  },
  {
   "cell_type": "markdown",
   "id": "4b23533e",
   "metadata": {},
   "source": [
    "print(, sep=' ', end='\\n') # argument 안에서는 = 앞뒤 띄어쓰기 x"
   ]
  },
  {
   "cell_type": "code",
   "execution_count": 16,
   "id": "a8464716",
   "metadata": {},
   "outputs": [
    {
     "name": "stdout",
     "output_type": "stream",
     "text": [
      "dog cat lion\n",
      "dog/cat/lion\n",
      "\n",
      "EOL\n"
     ]
    }
   ],
   "source": [
    "print(dog, cat, lion, sep=' ', end='\\n') #default\n",
    "print(dog, cat, lion, sep='/', end='\\n\\n')\n",
    "print('EOL')"
   ]
  },
  {
   "cell_type": "code",
   "execution_count": 17,
   "id": "85b99114",
   "metadata": {
    "scrolled": true
   },
   "outputs": [
    {
     "name": "stdout",
     "output_type": "stream",
     "text": [
      "My favorite animal is dog\n",
      "My favorite animal is dog.\n"
     ]
    }
   ],
   "source": [
    "#1.\n",
    "print(\"My favorite animal is\", dog)\n",
    "\n",
    "#2\n",
    "print(f\"My favorite animal is {dog}.\")"
   ]
  },
  {
   "cell_type": "markdown",
   "id": "d2be9863",
   "metadata": {},
   "source": [
    "코드 줄이 짧을 때 ;(semicolon)을 이용하여 한 줄로 쓸 수 있다."
   ]
  },
  {
   "cell_type": "code",
   "execution_count": 23,
   "id": "1e3fdc33",
   "metadata": {},
   "outputs": [
    {
     "name": "stdout",
     "output_type": "stream",
     "text": [
      "dog\n"
     ]
    }
   ],
   "source": [
    "dog = 'dog'; cat = 'cat'; lion = 'lion'\n",
    "print(dog)"
   ]
  },
  {
   "cell_type": "code",
   "execution_count": null,
   "id": "7991ade2",
   "metadata": {},
   "outputs": [],
   "source": []
  }
 ],
 "metadata": {
  "kernelspec": {
   "display_name": "Python 3 (ipykernel)",
   "language": "python",
   "name": "python3"
  },
  "language_info": {
   "codemirror_mode": {
    "name": "ipython",
    "version": 3
   },
   "file_extension": ".py",
   "mimetype": "text/x-python",
   "name": "python",
   "nbconvert_exporter": "python",
   "pygments_lexer": "ipython3",
   "version": "3.9.7"
  }
 },
 "nbformat": 4,
 "nbformat_minor": 5
}
