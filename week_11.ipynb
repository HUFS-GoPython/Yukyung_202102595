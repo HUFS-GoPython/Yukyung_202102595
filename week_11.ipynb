{
 "cells": [
  {
   "cell_type": "markdown",
   "id": "dcbaef92",
   "metadata": {},
   "source": [
    "### 객체 2\n",
    "- 상속(inheritance)\n",
    "- 재사용할 때, A vs B\n",
    "    - \"A의 대부분을 쓰고, 나머지를 추가, 변경하고 싶다\"\n",
    "    - 부모의 모든 속성을 그대로 가져와서 쓰겠다.\n",
    "- 반복되는 부분을 가져오겠다. 물려받겠다.\n",
    "- A <- B\n",
    "    - 부모, 슈퍼, 베이스\n",
    "    - 자식, 서브, derived\n",
    "- 자식 클래스는 부모 클래스를 구체화한다.\n",
    "- is-a 관계: Car is-a Vehicle(포함된다.)"
   ]
  },
  {
   "cell_type": "code",
   "execution_count": 8,
   "id": "150f4d9b",
   "metadata": {},
   "outputs": [],
   "source": [
    "class Vehicle: # parent, super\n",
    "    def __init__(self, speed):\n",
    "        self.speed = speed\n",
    "        \n",
    "    def go(self):\n",
    "        print(f'{self.speed}의 속도로 달린다.')\n",
    "        \n",
    "# child\n",
    "class Car(Vehicle): # child, sub\n",
    "    pass"
   ]
  },
  {
   "cell_type": "code",
   "execution_count": 9,
   "id": "aa8f5e68",
   "metadata": {},
   "outputs": [],
   "source": [
    "car = Car('20km/h')"
   ]
  },
  {
   "cell_type": "code",
   "execution_count": 10,
   "id": "aaf2df4d",
   "metadata": {},
   "outputs": [
    {
     "name": "stdout",
     "output_type": "stream",
     "text": [
      "20km/h의 속도로 달린다.\n"
     ]
    }
   ],
   "source": [
    "car.go()"
   ]
  },
  {
   "cell_type": "markdown",
   "id": "55baf2f4",
   "metadata": {},
   "source": [
    "### 변수 추가, 변경"
   ]
  },
  {
   "cell_type": "code",
   "execution_count": 11,
   "id": "9338927d",
   "metadata": {},
   "outputs": [],
   "source": [
    "class Car(Vehicle): # child, sub\n",
    "    def __init__(self, speed, brand):\n",
    "        # speed == 부모\n",
    "        super().__init__(speed) # self.speed 말고 speed라고 해야 부모가 바뀔때 그걸 상속 받음\n",
    "        # brand == 자식\n",
    "        self.brand = brand"
   ]
  },
  {
   "cell_type": "code",
   "execution_count": 12,
   "id": "df3ea1af",
   "metadata": {},
   "outputs": [],
   "source": [
    "car2 = Car('20km/h', 'kia')"
   ]
  },
  {
   "cell_type": "code",
   "execution_count": 13,
   "id": "9514c143",
   "metadata": {},
   "outputs": [
    {
     "data": {
      "text/plain": [
       "'kia'"
      ]
     },
     "execution_count": 13,
     "metadata": {},
     "output_type": "execute_result"
    }
   ],
   "source": [
    "car2.brand"
   ]
  },
  {
   "cell_type": "code",
   "execution_count": 14,
   "id": "68d4a4af",
   "metadata": {},
   "outputs": [],
   "source": [
    "v = Vehicle('33km/h')\n",
    "# v.brand\n",
    "# error남. 왜냐면 Vehicle은 부모니까 자식 속성을 물려 받지 않음"
   ]
  },
  {
   "cell_type": "markdown",
   "id": "e12bee43",
   "metadata": {},
   "source": [
    "### 메소드 추가, 변경\n",
    "- override하면 부모의 메소드가 잊혀진다."
   ]
  },
  {
   "cell_type": "code",
   "execution_count": 15,
   "id": "6889261d",
   "metadata": {},
   "outputs": [],
   "source": [
    "class Car(Vehicle): # child, sub\n",
    "    def __init__(self, speed, brand):\n",
    "        super().__init__(speed)\n",
    "        self.brand = brand # 나의 고유한 특성이 된다\n",
    "        \n",
    "    # 오버라이드(override); 재정의\n",
    "    def go(self):\n",
    "        # 부모의 go도 함께 가져가고 싶다면?\n",
    "        super().go() # 부모 꺼 타고 나서\n",
    "        print(f'차종 {self.brand}의 속도 {self.speed}') # 자식 꺼를 탄다\n",
    "        \n",
    "    # 메소드 추가\n",
    "    def stop():\n",
    "        pass"
   ]
  },
  {
   "cell_type": "code",
   "execution_count": 16,
   "id": "ac09a816",
   "metadata": {},
   "outputs": [
    {
     "name": "stdout",
     "output_type": "stream",
     "text": [
      "33km/h의 속도로 달린다.\n",
      "차종 mini의 속도 33km/h\n"
     ]
    }
   ],
   "source": [
    "car3 = Car('33km/h', 'mini')\n",
    "car3.go()"
   ]
  },
  {
   "cell_type": "markdown",
   "id": "94f1a789",
   "metadata": {},
   "source": [
    "### 실습"
   ]
  },
  {
   "cell_type": "code",
   "execution_count": 20,
   "id": "874b2804",
   "metadata": {},
   "outputs": [],
   "source": [
    "class Person:\n",
    "    def __init__(self, name):\n",
    "        self.name = name # pablo\n",
    "        \n",
    "class Doctor(Person): # Dr. Pablo\n",
    "    def __init__(self, name):\n",
    "        super().__init__(name)\n",
    "        self.name = \"Dr.\" + name\n",
    "        print(self.name)\n",
    "        \n",
    "class Male(Person): # Mr. Pablo\n",
    "    def __init__(self, name):\n",
    "        super().__init__(name)\n",
    "        self.name = \"Mr.\" + name\n",
    "        print(self.name)\n",
    "        \n",
    "class Female(Person): # Mrs. Pablo\n",
    "    def __init__(self, name):\n",
    "        super().__init__(name)\n",
    "        self.name = \"Mrs.\" + name\n",
    "        print(self.name)"
   ]
  },
  {
   "cell_type": "code",
   "execution_count": 21,
   "id": "9a1d7393",
   "metadata": {},
   "outputs": [
    {
     "name": "stdout",
     "output_type": "stream",
     "text": [
      "Mrs.Lee\n"
     ]
    },
    {
     "data": {
      "text/plain": [
       "<__main__.Female at 0x1878bd7d700>"
      ]
     },
     "execution_count": 21,
     "metadata": {},
     "output_type": "execute_result"
    }
   ],
   "source": [
    "Female('Lee')"
   ]
  },
  {
   "cell_type": "markdown",
   "id": "990165cf",
   "metadata": {},
   "source": [
    "### 다중상속\n",
    "- method resolution order(MRO)\n",
    "- Animal <- Horse\n",
    "    <- Donkey\n",
    "        <- Mule (Donkey > Horse)\n",
    "        <- Hinny (Horse > Donkey)"
   ]
  },
  {
   "cell_type": "code",
   "execution_count": 22,
   "id": "00961d48",
   "metadata": {},
   "outputs": [],
   "source": [
    "class Animal:\n",
    "    def says(self):\n",
    "        return '동물이 온다'\n",
    "    \n",
    "# 자식\n",
    "class Horse(Animal):\n",
    "    def says(self):\n",
    "        return '히히힝'\n",
    "    \n",
    "class Donkey(Animal):\n",
    "    def says(self):\n",
    "        return '히이호'\n",
    "    \n",
    "# 손주 \n",
    "class Mule(Donkey, Horse):\n",
    "    pass\n",
    "class Hinny(Horse, Donkey):\n",
    "    pass"
   ]
  },
  {
   "cell_type": "code",
   "execution_count": 23,
   "id": "4d81b616",
   "metadata": {},
   "outputs": [
    {
     "data": {
      "text/plain": [
       "'히이호'"
      ]
     },
     "execution_count": 23,
     "metadata": {},
     "output_type": "execute_result"
    }
   ],
   "source": [
    "m = Mule()\n",
    "m.says()"
   ]
  },
  {
   "cell_type": "code",
   "execution_count": 24,
   "id": "c61d82a2",
   "metadata": {},
   "outputs": [
    {
     "data": {
      "text/plain": [
       "'히히힝'"
      ]
     },
     "execution_count": 24,
     "metadata": {},
     "output_type": "execute_result"
    }
   ],
   "source": [
    "Hinny().says()"
   ]
  },
  {
   "cell_type": "code",
   "execution_count": 25,
   "id": "2f59a681",
   "metadata": {},
   "outputs": [
    {
     "data": {
      "text/plain": [
       "[__main__.Mule, __main__.Donkey, __main__.Horse, __main__.Animal, object]"
      ]
     },
     "execution_count": 25,
     "metadata": {},
     "output_type": "execute_result"
    }
   ],
   "source": [
    "Mule.mro()"
   ]
  },
  {
   "cell_type": "markdown",
   "id": "3ce87799",
   "metadata": {},
   "source": [
    "### 다형성"
   ]
  },
  {
   "cell_type": "code",
   "execution_count": 26,
   "id": "8bdcfbac",
   "metadata": {},
   "outputs": [
    {
     "name": "stdout",
     "output_type": "stream",
     "text": [
      "히이호\n",
      "히이호\n",
      "동물이 온다\n"
     ]
    }
   ],
   "source": [
    "for animal in [Mule(), Donkey(), Animal()]:\n",
    "    print(animal.says())"
   ]
  },
  {
   "cell_type": "markdown",
   "id": "aeb4390f",
   "metadata": {},
   "source": [
    "### 메서드 타입\n",
    "- 인스턴스 메서드\n",
    "    - self가 1번 인자\n",
    "    - 객체 생성 -> 사용 가능\n",
    "- 클래스 메서드\n",
    "    - 객체 생성하기 않아도 사용 가능\n",
    "    - 클래스에 접근하는 메서드\n",
    "    - @classmethod\n",
    "    - 예약어: cls\n",
    "    - 함수(cls)가 첫 인자\n",
    "    - class Person, cls == Person\n",
    "- 정적 메서드\n",
    "    - 객체 생성하지 않고 접근 가능\n",
    "    - 클래스와 전혀 상관이 없기 때문에 접근 가능한 것\n",
    "    - 여기에 묶어 놓은 이유: 내용, 기능이 비슷해서 클래스 내에 묶어 둠\n",
    "- 추상 메서드\n",
    "    - 추상 클래스 abstract 이름만 존재하는 클래스\n",
    "    - 설계도 역할:\n",
    "    - 상속하는 자식 클래스 => 반드시 구현해야 하는 메소드를 정의한다."
   ]
  },
  {
   "cell_type": "code",
   "execution_count": 27,
   "id": "4776c595",
   "metadata": {},
   "outputs": [
    {
     "data": {
      "text/plain": [
       "'히이호'"
      ]
     },
     "execution_count": 27,
     "metadata": {},
     "output_type": "execute_result"
    }
   ],
   "source": [
    "a = Mule() # 객체 생성\n",
    "a.says()"
   ]
  },
  {
   "cell_type": "code",
   "execution_count": 29,
   "id": "ce938bfb",
   "metadata": {},
   "outputs": [],
   "source": [
    "# Mule.says()  error 뜸"
   ]
  },
  {
   "cell_type": "code",
   "execution_count": 30,
   "id": "6c9cb048",
   "metadata": {},
   "outputs": [],
   "source": [
    "class A:\n",
    "    cnt = 0\n",
    "    \n",
    "    @classmethod\n",
    "    def move(cls):\n",
    "        return cls.cnt"
   ]
  },
  {
   "cell_type": "code",
   "execution_count": 31,
   "id": "f264dcc0",
   "metadata": {},
   "outputs": [
    {
     "data": {
      "text/plain": [
       "0"
      ]
     },
     "execution_count": 31,
     "metadata": {},
     "output_type": "execute_result"
    }
   ],
   "source": [
    "A().move()"
   ]
  },
  {
   "cell_type": "code",
   "execution_count": 32,
   "id": "a545b1b2",
   "metadata": {},
   "outputs": [
    {
     "data": {
      "text/plain": [
       "0"
      ]
     },
     "execution_count": 32,
     "metadata": {},
     "output_type": "execute_result"
    }
   ],
   "source": [
    "A.move()"
   ]
  },
  {
   "cell_type": "code",
   "execution_count": 33,
   "id": "41e726a3",
   "metadata": {},
   "outputs": [],
   "source": [
    "class Person:\n",
    "    def __init__(self, name, age): # self는 p를 탄다.\n",
    "        self.name = name\n",
    "        self.age = age\n",
    "    @classmethod    \n",
    "    def tuple_object(cls, args): # cls는 Person을 탄다.\n",
    "        return cls(args[0], args[1]) # Person()\n",
    "    \n",
    "name = 'kim'\n",
    "age = 24\n",
    "p = Person(name, age)\n",
    "\n",
    "info = name, age\n",
    "p = Person.tuple_object(info) # p 객체 생성하게"
   ]
  },
  {
   "cell_type": "code",
   "execution_count": 34,
   "id": "18df06a9",
   "metadata": {},
   "outputs": [
    {
     "data": {
      "text/plain": [
       "'kim'"
      ]
     },
     "execution_count": 34,
     "metadata": {},
     "output_type": "execute_result"
    }
   ],
   "source": [
    "p.name"
   ]
  },
  {
   "cell_type": "code",
   "execution_count": 35,
   "id": "946efc21",
   "metadata": {},
   "outputs": [
    {
     "data": {
      "text/plain": [
       "3"
      ]
     },
     "execution_count": 35,
     "metadata": {},
     "output_type": "execute_result"
    }
   ],
   "source": [
    "class A:\n",
    "    # 붕어빵 몇개?\n",
    "    cnt = 0\n",
    "    \n",
    "    def __init__(self):\n",
    "        A.cnt += 1\n",
    "    \n",
    "    @classmethod\n",
    "    def count(cls):\n",
    "        return cls.cnt\n",
    "A()\n",
    "A()\n",
    "A()\n",
    "A.cnt"
   ]
  },
  {
   "cell_type": "code",
   "execution_count": 36,
   "id": "cff1b9b5",
   "metadata": {},
   "outputs": [],
   "source": [
    "class Coyote:\n",
    "    @staticmethod\n",
    "    def says(): # self 없음\n",
    "        print('hi')"
   ]
  },
  {
   "cell_type": "code",
   "execution_count": 37,
   "id": "b9ca2f1c",
   "metadata": {},
   "outputs": [
    {
     "name": "stdout",
     "output_type": "stream",
     "text": [
      "hi\n"
     ]
    }
   ],
   "source": [
    "Coyote.says()"
   ]
  },
  {
   "cell_type": "code",
   "execution_count": 38,
   "id": "45155fb6",
   "metadata": {},
   "outputs": [],
   "source": [
    "from abc import *\n",
    "\n",
    "class Vehicle(metaclass=ABCMeta):\n",
    "    # 추상 클래스 설정하는 방법\n",
    "    speed = '속도'\n",
    "    \n",
    "    @abstractmethod\n",
    "    def go(self):\n",
    "        print('탈 것이 간다.')\n",
    "    \"\"\"\n",
    "    def stop(self):\n",
    "    pass\"\"\"\n",
    "    \n",
    "class Car(Vehicle):\n",
    "    def go(self):\n",
    "        print(\"\")"
   ]
  },
  {
   "cell_type": "code",
   "execution_count": 39,
   "id": "6fa370e0",
   "metadata": {},
   "outputs": [
    {
     "data": {
      "text/plain": [
       "<__main__.Car at 0x1878bd7d820>"
      ]
     },
     "execution_count": 39,
     "metadata": {},
     "output_type": "execute_result"
    }
   ],
   "source": [
    "Car()"
   ]
  },
  {
   "cell_type": "code",
   "execution_count": 40,
   "id": "f12f1538",
   "metadata": {},
   "outputs": [
    {
     "name": "stdout",
     "output_type": "stream",
     "text": [
      "hi\n"
     ]
    },
    {
     "data": {
      "text/plain": [
       "<__main__.Car at 0x1878bd8edc0>"
      ]
     },
     "execution_count": 40,
     "metadata": {},
     "output_type": "execute_result"
    }
   ],
   "source": [
    "class A:\n",
    "    cnt = 0\n",
    "    \n",
    "    @classmethod\n",
    "    def move(cls):\n",
    "        return cls.cnt\n",
    "\n",
    "A().move()\n",
    "\n",
    "A.move()\n",
    "\n",
    "class Person:\n",
    "    def __init__(self, name, age): # self는 p를 탄다.\n",
    "        self.name = name\n",
    "        self.age = age\n",
    "    @classmethod    \n",
    "    def tuple_object(cls, args): # cls는 Person을 탄다.\n",
    "        return cls(args[0], args[1]) # Person()\n",
    "    \n",
    "name = 'kim'\n",
    "age = 24\n",
    "p = Person(name, age)\n",
    "\n",
    "info = name, age\n",
    "p = Person.tuple_object(info) # p 객체 생성하게\n",
    "\n",
    "p.name\n",
    "\n",
    "class A:\n",
    "    # 붕어빵 몇개?\n",
    "    cnt = 0\n",
    "    \n",
    "    def __init__(self):\n",
    "        A.cnt += 1\n",
    "    \n",
    "    @classmethod\n",
    "    def count(cls):\n",
    "        return cls.cnt\n",
    "A()\n",
    "A()\n",
    "A()\n",
    "A.cnt\n",
    "\n",
    "class Coyote:\n",
    "    @staticmethod\n",
    "    def says(): # self 없음\n",
    "        print('hi')\n",
    "\n",
    "Coyote.says()\n",
    "\n",
    "from abc import *\n",
    "\n",
    "class Vehicle(metaclass=ABCMeta):\n",
    "    # 추상 클래스 설정하는 방법\n",
    "    speed = '속도'\n",
    "    \n",
    "    @abstractmethod\n",
    "    def go(self):\n",
    "        print('탈 것이 간다.')\n",
    "    \"\"\"\n",
    "    def stop(self):\n",
    "    pass\"\"\"\n",
    "    \n",
    "class Car(Vehicle):\n",
    "    def go(self):\n",
    "        print(\"\")\n",
    "\n",
    "Car()"
   ]
  }
 ],
 "metadata": {
  "kernelspec": {
   "display_name": "Python 3 (ipykernel)",
   "language": "python",
   "name": "python3"
  },
  "language_info": {
   "codemirror_mode": {
    "name": "ipython",
    "version": 3
   },
   "file_extension": ".py",
   "mimetype": "text/x-python",
   "name": "python",
   "nbconvert_exporter": "python",
   "pygments_lexer": "ipython3",
   "version": "3.9.7"
  }
 },
 "nbformat": 4,
 "nbformat_minor": 5
}
