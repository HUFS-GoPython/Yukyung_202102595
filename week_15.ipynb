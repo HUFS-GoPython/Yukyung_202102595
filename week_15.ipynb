{
 "cells": [
  {
   "cell_type": "markdown",
   "id": "878a6732",
   "metadata": {},
   "source": [
    "### 파일과 디렉터리\n",
    "- 디렉터리: 폴더의 다른 말로, 파일이 논리적으로 묶인 단위. 비슷한 애들끼리 묶은 것\n",
    "- 파일: 컴퓨터를 실행하는 기본 단위\n",
    "    - 파일명 + 확장자\n",
    "    - 확장자: 파일의 쓰임을 구분하는 글자\n",
    "        - ex) .pdf, .xlsx, .txt...\n",
    "    - 종류: 바이너리 파일, 텍스트 파일\n",
    "        - 바이너리: 이진 정보로 저장됨\n",
    "            - 내용을 확인 못 함.\n",
    "            - 해당 확정자를 열 수 있는 프로그램이 필요함\n",
    "        - 텍스트: 사람이 이해할 수 있는 문자열로 저장됨\n",
    "            - 메모장, html, py\n",
    "            - 변경 기준: 아스키코드, 유니코드\n",
    "            - 인코딩 (encoding)\n",
    "            - utf-8\n",
    "            - cp494"
   ]
  },
  {
   "cell_type": "markdown",
   "id": "5af041da",
   "metadata": {},
   "source": [
    "#### 파일 열기\n",
    "- open(파일명, 모드)\n",
    "- 모드\n",
    "    - r: read\n",
    "    - w: write - 피알이 있으면 덮어쓰고, 없으면 생성\n",
    "    - x: 파일이 없을 때만 생성\n",
    "    - a: 있을 때 마지막 라인에 추가\n",
    "    \n",
    "    추가 모드\n",
    "    - b: binary\n",
    "    - t: text (default)\n",
    "    \n",
    "    'rb', 'rt'"
   ]
  },
  {
   "cell_type": "code",
   "execution_count": 34,
   "id": "520907d1",
   "metadata": {},
   "outputs": [],
   "source": [
    "# 같은 파일 안에 있을 때\n",
    "# 파일 열기\n",
    "file = 'test.txt'\n",
    "f = open(file, 'r')"
   ]
  },
  {
   "cell_type": "markdown",
   "id": "c80a7e3b",
   "metadata": {},
   "source": [
    "#### 파일 열기\n",
    "- read(n): 전체를 하나의 str\n",
    "    - 포인터\n",
    "- readline(): 한줄만 str\n",
    "- readlines(): 전체를 list, 각 줄이 한 str"
   ]
  },
  {
   "cell_type": "code",
   "execution_count": 35,
   "id": "3573f612",
   "metadata": {},
   "outputs": [
    {
     "data": {
      "text/plain": [
       "'hello'"
      ]
     },
     "execution_count": 35,
     "metadata": {},
     "output_type": "execute_result"
    }
   ],
   "source": [
    "# 파일 열기\n",
    "f.read(5)"
   ]
  },
  {
   "cell_type": "code",
   "execution_count": 36,
   "id": "d5ab7e4f",
   "metadata": {
    "scrolled": true
   },
   "outputs": [
    {
     "data": {
      "text/plain": [
       "' world\\n'"
      ]
     },
     "execution_count": 36,
     "metadata": {},
     "output_type": "execute_result"
    }
   ],
   "source": [
    "f.readline()"
   ]
  },
  {
   "cell_type": "code",
   "execution_count": 37,
   "id": "0de4616f",
   "metadata": {},
   "outputs": [],
   "source": [
    "f.close()"
   ]
  },
  {
   "cell_type": "code",
   "execution_count": 38,
   "id": "63600010",
   "metadata": {},
   "outputs": [],
   "source": [
    "f = open(file, 'r')\n",
    "sents = f.readlines()\n",
    "sents = [s.strip() for s in sents] # 텍스트 정제\n",
    "f.close()"
   ]
  },
  {
   "cell_type": "code",
   "execution_count": 44,
   "id": "6d38c78c",
   "metadata": {},
   "outputs": [
    {
     "data": {
      "text/plain": [
       "['hello world', \"I'm reading a book\", 'I like this book']"
      ]
     },
     "execution_count": 44,
     "metadata": {},
     "output_type": "execute_result"
    }
   ],
   "source": [
    "# close후에도 사용 가능\n",
    "sents"
   ]
  },
  {
   "cell_type": "markdown",
   "id": "7cb59910",
   "metadata": {},
   "source": [
    "#### 파일 닫기\n",
    "- 파일 여는 즉시 닫기\n",
    "- 자원 해제\n",
    "- 파일 여는 것조다 중요\n",
    "- 닫아도 sents처럼 계속 쓸 수 있다"
   ]
  },
  {
   "cell_type": "code",
   "execution_count": 46,
   "id": "51eb4b9b",
   "metadata": {},
   "outputs": [],
   "source": [
    "with open(file, 'r') as f: # file\n",
    "    # open()이 적용되는 블럭\n",
    "    content = f.read()\n",
    "# 들여쓰기 안 한 블록은 파일이 자동으로 닫힌다"
   ]
  },
  {
   "cell_type": "code",
   "execution_count": 47,
   "id": "219fc543",
   "metadata": {},
   "outputs": [
    {
     "data": {
      "text/plain": [
       "\"hello world\\nI'm reading a book\\nI like this book\\n\""
      ]
     },
     "execution_count": 47,
     "metadata": {},
     "output_type": "execute_result"
    }
   ],
   "source": [
    "content"
   ]
  },
  {
   "cell_type": "code",
   "execution_count": 48,
   "id": "94908a6e",
   "metadata": {},
   "outputs": [],
   "source": [
    "# readline 파일 읽는데, while 사용해서 한줄씩 읽고 strip() 해서 리스트에 반환하는 함수 만들기"
   ]
  },
  {
   "cell_type": "code",
   "execution_count": 52,
   "id": "3400429f",
   "metadata": {},
   "outputs": [
    {
     "data": {
      "text/plain": [
       "['hello world',\n",
       " \"I'm reading a book\",\n",
       " 'I like this book',\n",
       " 'hello world',\n",
       " \"I'm reading a book\",\n",
       " 'I like this book',\n",
       " 'hello world',\n",
       " \"I'm reading a book\",\n",
       " 'I like this book']"
      ]
     },
     "execution_count": 52,
     "metadata": {},
     "output_type": "execute_result"
    }
   ],
   "source": [
    "with open('test.txt', 'r') as f:\n",
    "    while True:\n",
    "        line = f.readline()\n",
    "        if not line: # ''의 길이는 1, 컨텐츠가 아예 없을 때 0\n",
    "            break\n",
    "        sent = line.strip()\n",
    "        sents.append(sent)\n",
    "sents"
   ]
  },
  {
   "cell_type": "code",
   "execution_count": 54,
   "id": "9979e713",
   "metadata": {},
   "outputs": [
    {
     "ename": "FileNotFoundError",
     "evalue": "[Errno 2] No such file or directory: './!!고급파이썬/test.txt'",
     "output_type": "error",
     "traceback": [
      "\u001b[1;31m---------------------------------------------------------------------------\u001b[0m",
      "\u001b[1;31mFileNotFoundError\u001b[0m                         Traceback (most recent call last)",
      "\u001b[1;32m~\\AppData\\Local\\Temp/ipykernel_11004/4225739134.py\u001b[0m in \u001b[0;36m<module>\u001b[1;34m\u001b[0m\n\u001b[0;32m      1\u001b[0m \u001b[0mfile\u001b[0m \u001b[1;33m=\u001b[0m \u001b[1;34m'./!!고급파이썬/test.txt'\u001b[0m\u001b[1;33m\u001b[0m\u001b[1;33m\u001b[0m\u001b[0m\n\u001b[0;32m      2\u001b[0m \u001b[1;33m\u001b[0m\u001b[0m\n\u001b[1;32m----> 3\u001b[1;33m \u001b[1;32mwith\u001b[0m \u001b[0mopen\u001b[0m\u001b[1;33m(\u001b[0m\u001b[0mfile\u001b[0m\u001b[1;33m)\u001b[0m \u001b[1;32mas\u001b[0m \u001b[0mf\u001b[0m\u001b[1;33m:\u001b[0m\u001b[1;33m\u001b[0m\u001b[1;33m\u001b[0m\u001b[0m\n\u001b[0m\u001b[0;32m      4\u001b[0m     \u001b[0mprint\u001b[0m\u001b[1;33m(\u001b[0m\u001b[0mf\u001b[0m\u001b[1;33m.\u001b[0m\u001b[0mread\u001b[0m\u001b[1;33m(\u001b[0m\u001b[1;33m)\u001b[0m\u001b[1;33m)\u001b[0m\u001b[1;33m\u001b[0m\u001b[1;33m\u001b[0m\u001b[0m\n",
      "\u001b[1;31mFileNotFoundError\u001b[0m: [Errno 2] No such file or directory: './!!고급파이썬/test.txt'"
     ]
    }
   ],
   "source": [
    "file = './!!고급파이썬/test.txt'\n",
    "\n",
    "with open(file) as f:\n",
    "    print(f.read())"
   ]
  },
  {
   "cell_type": "markdown",
   "id": "5496cca4",
   "metadata": {},
   "source": [
    "#### 쓰기\n",
    "- 인코딩 유의"
   ]
  },
  {
   "cell_type": "code",
   "execution_count": 80,
   "id": "627fd04e",
   "metadata": {},
   "outputs": [],
   "source": [
    "data = list(range(2, 20, 3))\n",
    "with open('test2.txt', 'w', encoding='utf-8') as f:\n",
    "    for i in range(10):\n",
    "        data = f'{i}번째 줄입니다.\\n'\n",
    "        f.write(data)"
   ]
  },
  {
   "cell_type": "code",
   "execution_count": 72,
   "id": "98ff43d7",
   "metadata": {},
   "outputs": [],
   "source": [
    "# print\n",
    "file_out = open('test2.txt', 'a', encoding='utf-8')\n",
    "print('한 줄 추가했습니다.', file=file_out)\n",
    "file_out.close()"
   ]
  },
  {
   "cell_type": "code",
   "execution_count": null,
   "id": "91b87036",
   "metadata": {},
   "outputs": [],
   "source": [
    "# folder 만들어서 추가하는 방법\n",
    "    - 폴더 만들어야 함\n",
    "    - 접근"
   ]
  },
  {
   "cell_type": "code",
   "execution_count": null,
   "id": "e63b6747",
   "metadata": {},
   "outputs": [],
   "source": [
    "with open('./abc/test2.txt', 'a', encoding='utf-8')\n",
    "    for i in range(10):\n",
    "        data = f'{i}번째 줄입니다.\\n'\n",
    "        f.write(data)"
   ]
  },
  {
   "cell_type": "code",
   "execution_count": 74,
   "id": "05ab04b8",
   "metadata": {},
   "outputs": [],
   "source": [
    "import os"
   ]
  },
  {
   "cell_type": "code",
   "execution_count": null,
   "id": "305796ac",
   "metadata": {},
   "outputs": [],
   "source": [
    "os.mkdir('abc')"
   ]
  },
  {
   "cell_type": "code",
   "execution_count": null,
   "id": "65114806",
   "metadata": {},
   "outputs": [],
   "source": [
    "path = 'abc'\n",
    "# 있는지 확인하기\n",
    "if not os.isdir(path):\n",
    "    os.mkdir(path) # 없으면 만들어줌\n",
    "    \n",
    "# dir_name = ',/abc/test2.txt'\n",
    "dir_name = os.path,join(path, 'test2.txt')\n",
    "\n",
    "# 재확인\n",
    "if not os.path.exists(dir_name):\n",
    "    with open(dir_name, 'w') as f: # 덮어 쓸 가능성 배제\n",
    "        #..."
   ]
  },
  {
   "cell_type": "code",
   "execution_count": null,
   "id": "f848b099",
   "metadata": {},
   "outputs": [],
   "source": [
    "os.remove(file_name)\n",
    "os.rmdil(dir_name) # 폴더 안에 파일 있으면 삭제 못함"
   ]
  },
  {
   "cell_type": "code",
   "execution_count": null,
   "id": "579aceae",
   "metadata": {},
   "outputs": [],
   "source": [
    "import shutil\n",
    "\n",
    "shutil.rmtree(dir_name) # 강제로 전부 삭제"
   ]
  },
  {
   "cell_type": "code",
   "execution_count": null,
   "id": "53926830",
   "metadata": {},
   "outputs": [],
   "source": [
    "# folder 새로 만들어서\n",
    "# 파일에 내용 쓰기\n",
    "# 파일 열기"
   ]
  },
  {
   "cell_type": "code",
   "execution_count": 77,
   "id": "3120c099",
   "metadata": {},
   "outputs": [],
   "source": [
    "# my try\n",
    "with open('test.txt', 'w') as f:\n",
    "    f.write('Hello Poppy')"
   ]
  },
  {
   "cell_type": "code",
   "execution_count": 75,
   "id": "fcee1327",
   "metadata": {},
   "outputs": [
    {
     "data": {
      "text/plain": [
       "'C:\\\\Users\\\\sunny\\\\!!고급파이썬'"
      ]
     },
     "execution_count": 75,
     "metadata": {},
     "output_type": "execute_result"
    }
   ],
   "source": [
    "os.getcwd()"
   ]
  },
  {
   "cell_type": "code",
   "execution_count": 76,
   "id": "436e002c",
   "metadata": {},
   "outputs": [],
   "source": [
    "os.chdir('..')"
   ]
  },
  {
   "cell_type": "markdown",
   "id": "4be9ae0f",
   "metadata": {},
   "source": [
    "#### pickle\n",
    "- 객체를 파일로 저장하는 기능 제공"
   ]
  },
  {
   "cell_type": "code",
   "execution_count": 79,
   "id": "98811771",
   "metadata": {},
   "outputs": [
    {
     "data": {
      "text/plain": [
       "[0, 1, 2, 3, 4, 5, 6, 7, 8, 9, 10, 11, 12, 13, 14, 15, 16, 17, 18, 19]"
      ]
     },
     "execution_count": 79,
     "metadata": {},
     "output_type": "execute_result"
    }
   ],
   "source": [
    "nums = list(range(20))\n",
    "nums"
   ]
  },
  {
   "cell_type": "code",
   "execution_count": 66,
   "id": "c1ddbd55",
   "metadata": {},
   "outputs": [],
   "source": [
    "import pickle"
   ]
  },
  {
   "cell_type": "code",
   "execution_count": 68,
   "id": "779b9969",
   "metadata": {},
   "outputs": [],
   "source": [
    "with open('test.pickle', 'wb') as f:\n",
    "    pickle.dump(nums, f)"
   ]
  },
  {
   "cell_type": "code",
   "execution_count": 69,
   "id": "67da4c39",
   "metadata": {},
   "outputs": [],
   "source": [
    "with open('test.pickle', 'rb') as f:\n",
    "    number = pickle.load(f)"
   ]
  },
  {
   "cell_type": "code",
   "execution_count": 70,
   "id": "c3a6a042",
   "metadata": {},
   "outputs": [
    {
     "data": {
      "text/plain": [
       "[0, 1, 2, 3, 4, 5, 6, 7, 8, 9]"
      ]
     },
     "execution_count": 70,
     "metadata": {},
     "output_type": "execute_result"
    }
   ],
   "source": [
    "number"
   ]
  }
 ],
 "metadata": {
  "kernelspec": {
   "display_name": "Python 3 (ipykernel)",
   "language": "python",
   "name": "python3"
  },
  "language_info": {
   "codemirror_mode": {
    "name": "ipython",
    "version": 3
   },
   "file_extension": ".py",
   "mimetype": "text/x-python",
   "name": "python",
   "nbconvert_exporter": "python",
   "pygments_lexer": "ipython3",
   "version": "3.9.7"
  }
 },
 "nbformat": 4,
 "nbformat_minor": 5
}
