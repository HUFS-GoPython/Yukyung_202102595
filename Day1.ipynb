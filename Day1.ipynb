{
 "cells": [
  {
   "cell_type": "code",
   "execution_count": 9,
   "id": "af1924ce-63fb-452b-904d-e20194cd0979",
   "metadata": {},
   "outputs": [
    {
     "data": {
      "text/plain": [
       "45"
      ]
     },
     "execution_count": 9,
     "metadata": {},
     "output_type": "execute_result"
    }
   ],
   "source": [
    "# b\n",
    "# run: shift+enter\n",
    "45"
   ]
  },
  {
   "cell_type": "markdown",
   "id": "8a88416f-59ca-4423-a785-66fd58bb93d2",
   "metadata": {},
   "source": [
    "markdown space\n",
    "\n",
    "# Heading 1\n",
    "## Heading 2\n",
    "### Heading 3"
   ]
  },
  {
   "cell_type": "markdown",
   "id": "231f9d97-5af9-4899-a6b5-395f97bad760",
   "metadata": {
    "tags": []
   },
   "source": [
    "- +m\n",
    "- item 1\n",
    "- item 2"
   ]
  },
  {
   "cell_type": "code",
   "execution_count": 10,
   "id": "1aa04a1c-c5ae-4c0a-85e7-f2df0303a72c",
   "metadata": {
    "tags": []
   },
   "outputs": [
    {
     "name": "stdout",
     "output_type": "stream",
     "text": [
      "45\n"
     ]
    }
   ],
   "source": [
    "print(45) # 주석처리"
   ]
  },
  {
   "cell_type": "markdown",
   "id": "e7ecaef5-3a48-4457-86ff-2f77d92cb8ea",
   "metadata": {
    "tags": []
   },
   "source": [
    "- dd를 누르든지 오른쪽 마우스 누르고 delete 하면 cell 삭제됨"
   ]
  },
  {
   "cell_type": "markdown",
   "id": "79f6955e-752c-4fdb-9090-8b5386001038",
   "metadata": {},
   "source": [
    "## 프로그래밍이란?\n",
    "    - 프로그래밍 언어를 사용하여 프로그램을 개발하는 것\n",
    "    - 논리적인 사고를 가질 수 있다.\n",
    "\n",
    "## programming language?\n",
    "    -프로그램을 개발할 때 사용하는 도구\n",
    "    - 인간이 원하는 것을 컴퓨터가 명령할 때 사용하는 컴퓨터가 이해할 수 있는 언어\n",
    "\n",
    "## 파이썬\n",
    "    -쉽다. 간결하다.\n",
    "    - 라이브러리가 많다."
   ]
  },
  {
   "cell_type": "markdown",
   "id": "bd820de7-6382-4832-a5e6-6ef7aebbfbd9",
   "metadata": {
    "tags": []
   },
   "source": [
    "## Chapter 2. Data: Types, Values, Variables, and Names"
   ]
  },
  {
   "cell_type": "code",
   "execution_count": 11,
   "id": "1bc4af58-3fba-4d6c-8d59-6ff01011053e",
   "metadata": {},
   "outputs": [
    {
     "data": {
      "text/plain": [
       "2"
      ]
     },
     "execution_count": 11,
     "metadata": {},
     "output_type": "execute_result"
    }
   ],
   "source": [
    "a = 2\n",
    "a"
   ]
  },
  {
   "cell_type": "code",
   "execution_count": 12,
   "id": "a831f68e-d44c-47e9-a040-501e5f7bacd4",
   "metadata": {},
   "outputs": [
    {
     "data": {
      "text/plain": [
       "True"
      ]
     },
     "execution_count": 12,
     "metadata": {},
     "output_type": "execute_result"
    }
   ],
   "source": [
    "a == 2"
   ]
  },
  {
   "cell_type": "markdown",
   "id": "15d91178-d5b9-4183-954f-ccbb4eac6a4b",
   "metadata": {
    "tags": []
   },
   "source": [
    "- 변수|variables: 특정 값을 저장하는 공간\n",
    "    a\n",
    "- 값|value\n",
    "    2\n",
    "- 할당하다|assign: 변수에 값을 넣는 과정\n",
    "    \"2를 a에 넣었다.\"\n",
    "    \n",
    "    *** a는 2다. a == 2\n",
    "- 자료형| type: 데이터의 형태\n",
    "    a 데이터의 형태? integer (int 타입이다.)"
   ]
  },
  {
   "cell_type": "code",
   "execution_count": 13,
   "id": "41299ed5-3201-4854-bb23-3ec8e8c5e493",
   "metadata": {},
   "outputs": [
    {
     "name": "stdout",
     "output_type": "stream",
     "text": [
      "2\n"
     ]
    }
   ],
   "source": [
    "print(a)"
   ]
  },
  {
   "cell_type": "code",
   "execution_count": 14,
   "id": "da1eddd7-2ef8-4d62-9bcb-74d04d12f8f3",
   "metadata": {},
   "outputs": [
    {
     "data": {
      "text/plain": [
       "2"
      ]
     },
     "execution_count": 14,
     "metadata": {},
     "output_type": "execute_result"
    }
   ],
   "source": [
    "a"
   ]
  },
  {
   "cell_type": "code",
   "execution_count": 15,
   "id": "44e52de5-522a-454b-aa4e-7393fdbb383f",
   "metadata": {},
   "outputs": [
    {
     "data": {
      "text/plain": [
       "int"
      ]
     },
     "execution_count": 15,
     "metadata": {},
     "output_type": "execute_result"
    }
   ],
   "source": [
    "# type\n",
    "type(a)"
   ]
  },
  {
   "cell_type": "code",
   "execution_count": 16,
   "id": "c44b3de2-2c5a-40c1-be09-c64680135348",
   "metadata": {},
   "outputs": [
    {
     "data": {
      "text/plain": [
       "int"
      ]
     },
     "execution_count": 16,
     "metadata": {},
     "output_type": "execute_result"
    }
   ],
   "source": [
    "type(2)"
   ]
  },
  {
   "cell_type": "code",
   "execution_count": 17,
   "id": "91080d3a-f99b-4d38-8f0f-c4eee2380266",
   "metadata": {},
   "outputs": [
    {
     "data": {
      "text/plain": [
       "bool"
      ]
     },
     "execution_count": 17,
     "metadata": {},
     "output_type": "execute_result"
    }
   ],
   "source": [
    "type(a == 2) # bool, boolean T/F"
   ]
  },
  {
   "cell_type": "markdown",
   "id": "ab49fe21-b737-4ba2-b2c9-79b48929c024",
   "metadata": {},
   "source": [
    "### Type\n",
    "- integer| 정수: 1, 2, 3, ....\n",
    "- floating point number|부동소수점: 1.0, 2,0,..., 0.4\n",
    "- string|문자열: \"1\", 'apple'\n",
    "- boolean|불리언: True/False (bool)"
   ]
  },
  {
   "cell_type": "code",
   "execution_count": 19,
   "id": "2e88cff6-1934-4a65-93a7-efedfc9345f5",
   "metadata": {},
   "outputs": [
    {
     "data": {
      "text/plain": [
       "str"
      ]
     },
     "execution_count": 19,
     "metadata": {},
     "output_type": "execute_result"
    }
   ],
   "source": [
    "type(\"1\")"
   ]
  },
  {
   "cell_type": "code",
   "execution_count": 20,
   "id": "b55be9fd-8cfa-41ce-b882-62868e39a0b9",
   "metadata": {},
   "outputs": [
    {
     "data": {
      "text/plain": [
       "str"
      ]
     },
     "execution_count": 20,
     "metadata": {},
     "output_type": "execute_result"
    }
   ],
   "source": [
    "type('apple')"
   ]
  },
  {
   "cell_type": "code",
   "execution_count": 21,
   "id": "b68e4d6b-d2d9-4ed0-9e97-249ef8848dff",
   "metadata": {},
   "outputs": [
    {
     "ename": "NameError",
     "evalue": "name 'apple' is not defined",
     "output_type": "error",
     "traceback": [
      "\u001b[1;31m---------------------------------------------------------------------------\u001b[0m",
      "\u001b[1;31mNameError\u001b[0m                                 Traceback (most recent call last)",
      "\u001b[1;32m~\\AppData\\Local\\Temp/ipykernel_17376/1841265624.py\u001b[0m in \u001b[0;36m<module>\u001b[1;34m\u001b[0m\n\u001b[1;32m----> 1\u001b[1;33m \u001b[0mtype\u001b[0m\u001b[1;33m(\u001b[0m\u001b[0mapple\u001b[0m\u001b[1;33m)\u001b[0m \u001b[1;31m#apple이 변수로 인식되는데 정의하지 않아서 error 뜸\u001b[0m\u001b[1;33m\u001b[0m\u001b[1;33m\u001b[0m\u001b[0m\n\u001b[0m",
      "\u001b[1;31mNameError\u001b[0m: name 'apple' is not defined"
     ]
    }
   ],
   "source": [
    "type(apple) #apple이 변수로 인식되는데 정의하지 않아서 error 뜸"
   ]
  },
  {
   "cell_type": "code",
   "execution_count": 22,
   "id": "1846a6e3-d5e0-4ba2-8d28-24632ec80739",
   "metadata": {},
   "outputs": [
    {
     "data": {
      "text/plain": [
       "'kim'"
      ]
     },
     "execution_count": 22,
     "metadata": {},
     "output_type": "execute_result"
    }
   ],
   "source": [
    "name = 'kim'\n",
    "name"
   ]
  },
  {
   "cell_type": "code",
   "execution_count": 23,
   "id": "6a7d738e-2d6b-4a81-a08d-b1e1741ce503",
   "metadata": {},
   "outputs": [
    {
     "name": "stdout",
     "output_type": "stream",
     "text": [
      "kim\n"
     ]
    }
   ],
   "source": [
    "print(name)"
   ]
  },
  {
   "cell_type": "code",
   "execution_count": 24,
   "id": "48971584-66d1-4d42-9b52-df4d9766c9cf",
   "metadata": {},
   "outputs": [
    {
     "name": "stdout",
     "output_type": "stream",
     "text": [
      "kim\n"
     ]
    }
   ],
   "source": [
    "print('kim')"
   ]
  },
  {
   "cell_type": "markdown",
   "id": "bf12ce24-41e2-418b-8315-3fffef080908",
   "metadata": {},
   "source": [
    "###할당\n",
    "- +이 기호를 사용한다.\n",
    "수학에서 '양변이 같다'라는 의미로 사용되지만, 프로그래밍에서는 '할당한다'라는 의미가 추가된다.\n",
    "\"오른쪽 값을 왼쪽에 할당한다\"\n",
    "1. 오른쪽에 있는 모든 것은 값을 가져야 한다.(초기화를 해야 한다.)"
   ]
  },
  {
   "cell_type": "code",
   "execution_count": 25,
   "id": "abbf6b15-770c-4a0e-99d1-5e8bf3845c51",
   "metadata": {},
   "outputs": [],
   "source": [
    "x = 4 #초기화\n",
    "y = x + 3"
   ]
  },
  {
   "cell_type": "code",
   "execution_count": 26,
   "id": "a59a4a0e-5504-4e90-8385-3a9b4cd5c06a",
   "metadata": {},
   "outputs": [
    {
     "data": {
      "text/plain": [
       "(4, 7)"
      ]
     },
     "execution_count": 26,
     "metadata": {},
     "output_type": "execute_result"
    }
   ],
   "source": [
    "x, y"
   ]
  },
  {
   "cell_type": "code",
   "execution_count": 27,
   "id": "96359917-922b-482f-9810-ddfa7dad1c0f",
   "metadata": {},
   "outputs": [],
   "source": [
    "name = 'kim'\n",
    "name = 'lee'\n",
    "name = 'park'\n",
    "name = 4"
   ]
  },
  {
   "cell_type": "code",
   "execution_count": 28,
   "id": "bf8b5d1b-64fd-4206-b2ec-d8f0997d2bdb",
   "metadata": {},
   "outputs": [
    {
     "name": "stdout",
     "output_type": "stream",
     "text": [
      "4\n"
     ]
    }
   ],
   "source": [
    "print(name) #변수명 동일하게 사용하지 말라"
   ]
  },
  {
   "cell_type": "code",
   "execution_count": 29,
   "id": "365b686b-4884-43f8-9037-4b1a04cda455",
   "metadata": {},
   "outputs": [],
   "source": [
    "text = 'abc'\n",
    "text = 'cde'"
   ]
  },
  {
   "cell_type": "markdown",
   "id": "b56fea65-1bb4-4cb4-903f-8ccf5700319a",
   "metadata": {},
   "source": [
    "변수명 정하기\n",
    " 나쁜 변수명: a, b, c, a1, b1, ..  #so that anyone can know what it is\n",
    " 의미있는 니름으로 선언해야 한다.\n",
    " 소문자, 대문자, 숫자, 언더바를 사용한다. 예: name, name2, my_name, Name, NAME"
   ]
  },
  {
   "cell_type": "code",
   "execution_count": 30,
   "id": "fa38c1e2-ec82-4ef7-b03a-ea5d6c5550d3",
   "metadata": {},
   "outputs": [
    {
     "name": "stdout",
     "output_type": "stream",
     "text": [
      "juliette,jessica,laura\n"
     ]
    }
   ],
   "source": [
    "name = 'juliette'\n",
    "name1 = 'jessica'\n",
    "my_name = 'laura'\n",
    "#myName 카멜표기법 good\n",
    "\n",
    "print(name, name1, my_name, sep=',')"
   ]
  },
  {
   "cell_type": "markdown",
   "id": "06501227-980d-4685-99d3-46da1ab62964",
   "metadata": {},
   "source": [
    "#안되는 것\n",
    "    - 숫자로 시작할 수 없다.\n",
    "        예: 22name, 22_name\n",
    "       -예약어로 선언할 수 없다.\n",
    "           예: def, False"
   ]
  },
  {
   "cell_type": "code",
   "execution_count": 31,
   "id": "697445c0-d292-4615-a487-bea671bacf0e",
   "metadata": {},
   "outputs": [
    {
     "name": "stdout",
     "output_type": "stream",
     "text": [
      "\n",
      "Here is a list of the Python keywords.  Enter any keyword to get more help.\n",
      "\n",
      "False               break               for                 not\n",
      "None                class               from                or\n",
      "True                continue            global              pass\n",
      "__peg_parser__      def                 if                  raise\n",
      "and                 del                 import              return\n",
      "as                  elif                in                  try\n",
      "assert              else                is                  while\n",
      "async               except              lambda              with\n",
      "await               finally             nonlocal            yield\n",
      "\n"
     ]
    }
   ],
   "source": [
    "# if = 'kim'\n",
    "help(\"keywords\")"
   ]
  },
  {
   "cell_type": "markdown",
   "id": "d567dd70-9087-4435-8ec7-3ee52345c3ae",
   "metadata": {},
   "source": [
    "조심할 것 : 특별한 용도가 있기 때문에\n",
    "    - 언더바로 시작하는 변수명: _name\n",
    "    - 더블 언더바로 시작하는 변수명: _name_\n",
    "    - 대문자로 시작하는 변수명: Name\n",
    "    - 전체 대문자: NAME"
   ]
  },
  {
   "cell_type": "code",
   "execution_count": 32,
   "id": "d4dfb7d4-18f4-43d6-889f-7616dea47dcc",
   "metadata": {},
   "outputs": [],
   "source": [
    "#변수명은 대소문자 구분한다.\n",
    "num = 43\n",
    "Num = 44"
   ]
  },
  {
   "cell_type": "code",
   "execution_count": 33,
   "id": "0203a363-b357-4ea2-8a45-8966e3be1c02",
   "metadata": {},
   "outputs": [
    {
     "data": {
      "text/plain": [
       "False"
      ]
     },
     "execution_count": 33,
     "metadata": {},
     "output_type": "execute_result"
    }
   ],
   "source": [
    "num == Num"
   ]
  },
  {
   "cell_type": "code",
   "execution_count": 34,
   "id": "8c99ddb2-9ab2-4040-9407-35387c6a7587",
   "metadata": {},
   "outputs": [
    {
     "data": {
      "text/plain": [
       "False"
      ]
     },
     "execution_count": 34,
     "metadata": {},
     "output_type": "execute_result"
    }
   ],
   "source": [
    "num = 'number'\n",
    "Num = 'Number'\n",
    "\n",
    "num == Num"
   ]
  },
  {
   "cell_type": "code",
   "execution_count": 35,
   "id": "5e3c68fc-14d3-46b4-8ade-356b0a9af706",
   "metadata": {},
   "outputs": [
    {
     "data": {
      "text/plain": [
       "True"
      ]
     },
     "execution_count": 35,
     "metadata": {},
     "output_type": "execute_result"
    }
   ],
   "source": [
    "num != Num"
   ]
  }
 ],
 "metadata": {
  "kernelspec": {
   "display_name": "Python 3 (ipykernel)",
   "language": "python",
   "name": "python3"
  },
  "language_info": {
   "codemirror_mode": {
    "name": "ipython",
    "version": 3
   },
   "file_extension": ".py",
   "mimetype": "text/x-python",
   "name": "python",
   "nbconvert_exporter": "python",
   "pygments_lexer": "ipython3",
   "version": "3.9.7"
  }
 },
 "nbformat": 4,
 "nbformat_minor": 5
}
