{
 "cells": [
  {
   "cell_type": "markdown",
   "id": "cfdf0718",
   "metadata": {},
   "source": [
    "### 10. 객체와 클래스\n",
    "- object(객체)\n",
    "- 객체지향프로그래밍\n",
    "- 속성과 행동을 가지는 개념 or 실존하는 물체\n",
    "    - 중요한 건: 속성과 행동이 있으면 객체라고 할 수 있다 \n",
    "    - 예: 자동차, 강아지, 꽃, ... thing\n",
    "        - 자동차 속성: 브랜드, 색, 속도, 모델\n",
    "        - 가아지 속석: 이름, 종, 색, 무게\n",
    "        - 자동차 행동: 가다. 서다. 회전, 주차\n",
    "        - 강아지 행동: 뛰다, 핥다, 짓다\n",
    "        \n",
    "    - 편의점 => \"고객이 편의점에서 과자를 샀다\"\n",
    "        => 고객 => 사람: 이름, 돈\n",
    "        => 문건 => 편의점/과자: 재고, 수익/이름, 브랜드, 가격\n",
    "        => 상호 작용으로 코드를 구성하는 것 (필요 없으면 없애: 예) 이름)"
   ]
  },
  {
   "cell_type": "markdown",
   "id": "c4d75452",
   "metadata": {},
   "source": [
    "#### 클래스 이름 정할 때\n",
    "- 첫 글자 대문자\n",
    "- nice car -> Nice_car(x), NiceCar(o) 카멜표기법\n",
    "\n",
    "- 정의부, 선언부\n",
    "    - 정의부 = 붕어빵 틀\n",
    "    - 선언부 = 붕어빵"
   ]
  },
  {
   "cell_type": "code",
   "execution_count": 2,
   "id": "51a97b2d",
   "metadata": {},
   "outputs": [
    {
     "data": {
      "text/plain": [
       "<__main__.Car at 0x212069fe040>"
      ]
     },
     "execution_count": 2,
     "metadata": {},
     "output_type": "execute_result"
    }
   ],
   "source": [
    "# 정의부\n",
    "class Car: # 객체\n",
    "    pass\n",
    "\n",
    "# 선언부\n",
    "my_car = Car()\n",
    "my_car # instance == 붕우빵"
   ]
  },
  {
   "cell_type": "code",
   "execution_count": 3,
   "id": "8f7c1663",
   "metadata": {},
   "outputs": [],
   "source": [
    "my_car.name = 'bmw'\n",
    "my_car.color = 'white'"
   ]
  },
  {
   "cell_type": "code",
   "execution_count": 4,
   "id": "622077bd",
   "metadata": {},
   "outputs": [
    {
     "data": {
      "text/plain": [
       "'bmw'"
      ]
     },
     "execution_count": 4,
     "metadata": {},
     "output_type": "execute_result"
    }
   ],
   "source": [
    "my_car.name"
   ]
  },
  {
   "cell_type": "code",
   "execution_count": 9,
   "id": "2c738799",
   "metadata": {},
   "outputs": [],
   "source": [
    "class Car: # 모든 차 이름 지음\n",
    "    name = 'BMW' # 틀"
   ]
  },
  {
   "cell_type": "code",
   "execution_count": 10,
   "id": "08c44fb8",
   "metadata": {},
   "outputs": [],
   "source": [
    "your_car = Car()"
   ]
  },
  {
   "cell_type": "code",
   "execution_count": 11,
   "id": "23224550",
   "metadata": {},
   "outputs": [
    {
     "data": {
      "text/plain": [
       "'BMW'"
      ]
     },
     "execution_count": 11,
     "metadata": {},
     "output_type": "execute_result"
    }
   ],
   "source": [
    "your_car.name"
   ]
  },
  {
   "cell_type": "code",
   "execution_count": 12,
   "id": "8f84d882",
   "metadata": {},
   "outputs": [],
   "source": [
    "your_car.name = 'Kia'"
   ]
  },
  {
   "cell_type": "code",
   "execution_count": 13,
   "id": "ccae8120",
   "metadata": {},
   "outputs": [
    {
     "data": {
      "text/plain": [
       "'Kia'"
      ]
     },
     "execution_count": 13,
     "metadata": {},
     "output_type": "execute_result"
    }
   ],
   "source": [
    "your_car.name \n",
    "# 근데 매번 바꿔줘야돼"
   ]
  },
  {
   "cell_type": "code",
   "execution_count": 21,
   "id": "3940e924",
   "metadata": {},
   "outputs": [],
   "source": [
    "# 그래서\n",
    "class Car:\n",
    "    def __init__(self, name): # 속성 초기화 함수\n",
    "        # 객체 만들 때 들어는 값으로 이름을 설정하고 싶다.\n",
    "        self.name = name\n",
    "        # self == instance: 나 자신(인스턴스 자신)"
   ]
  },
  {
   "cell_type": "code",
   "execution_count": 22,
   "id": "fc2d0b6d",
   "metadata": {},
   "outputs": [],
   "source": [
    "her_car = Car(name = 'Hyundai')"
   ]
  },
  {
   "cell_type": "code",
   "execution_count": 23,
   "id": "29d14245",
   "metadata": {},
   "outputs": [
    {
     "data": {
      "text/plain": [
       "'Hyundai'"
      ]
     },
     "execution_count": 23,
     "metadata": {},
     "output_type": "execute_result"
    }
   ],
   "source": [
    "her_car.name"
   ]
  },
  {
   "cell_type": "code",
   "execution_count": 24,
   "id": "58ac72cd",
   "metadata": {},
   "outputs": [
    {
     "data": {
      "text/plain": [
       "'Toyota'"
      ]
     },
     "execution_count": 24,
     "metadata": {},
     "output_type": "execute_result"
    }
   ],
   "source": [
    "car2 = Car('Toyota')\n",
    "car2.name"
   ]
  },
  {
   "cell_type": "code",
   "execution_count": 29,
   "id": "43c8f491",
   "metadata": {},
   "outputs": [],
   "source": [
    "# 모델, 칼라 추가\n",
    "class Car:\n",
    "    def __init__(self, name, model, color):\n",
    "        self.name = name\n",
    "        self.model = model\n",
    "        self.color = color"
   ]
  },
  {
   "cell_type": "code",
   "execution_count": 30,
   "id": "dadedff2",
   "metadata": {},
   "outputs": [],
   "source": [
    "their_car = Car(name = 'Kia', model = 'IDK', color = 'red')"
   ]
  },
  {
   "cell_type": "code",
   "execution_count": 32,
   "id": "068242e0",
   "metadata": {},
   "outputs": [
    {
     "data": {
      "text/plain": [
       "'Kia'"
      ]
     },
     "execution_count": 32,
     "metadata": {},
     "output_type": "execute_result"
    }
   ],
   "source": [
    "their_car.name"
   ]
  },
  {
   "cell_type": "code",
   "execution_count": 35,
   "id": "8c39af8a",
   "metadata": {},
   "outputs": [],
   "source": [
    "mom_car = Car('Hyundai', 'IDKagain', 'velvet') # 순서대로 쓰면 'name = ' 이거 안 해도 됨"
   ]
  },
  {
   "cell_type": "code",
   "execution_count": 36,
   "id": "66e42539",
   "metadata": {},
   "outputs": [
    {
     "data": {
      "text/plain": [
       "'velvet'"
      ]
     },
     "execution_count": 36,
     "metadata": {},
     "output_type": "execute_result"
    }
   ],
   "source": [
    "mom_car.color"
   ]
  },
  {
   "cell_type": "code",
   "execution_count": 81,
   "id": "fd9044b6",
   "metadata": {},
   "outputs": [],
   "source": [
    "car3 = Car('kia', 'SM6', 'black')"
   ]
  },
  {
   "cell_type": "code",
   "execution_count": 82,
   "id": "d7e92c8f",
   "metadata": {},
   "outputs": [
    {
     "data": {
      "text/plain": [
       "'SM6'"
      ]
     },
     "execution_count": 82,
     "metadata": {},
     "output_type": "execute_result"
    }
   ],
   "source": [
    "car3.model"
   ]
  },
  {
   "cell_type": "code",
   "execution_count": 83,
   "id": "730b4aea",
   "metadata": {},
   "outputs": [],
   "source": [
    "# 행동하게 끔\n",
    "class Car:\n",
    "    def __init__(self, name, model, color):\n",
    "        self.name = name\n",
    "        self.model = model\n",
    "        self.color = color\n",
    "        \n",
    "    def drive(self):\n",
    "        # {브랜드 이름}가 출발합니다.\n",
    "        print(f'{self.name}가 갑니다.')\n",
    "        \n",
    "    def stop(self):\n",
    "        print('차가 섭니다')\n",
    "        \n",
    "    def change_color(self):\n",
    "        # 1. gray로 바꾼다.\n",
    "        self.color = 'gray'"
   ]
  },
  {
   "cell_type": "code",
   "execution_count": 84,
   "id": "52e93c1c",
   "metadata": {},
   "outputs": [
    {
     "name": "stdout",
     "output_type": "stream",
     "text": [
      "차가 섭니다\n"
     ]
    }
   ],
   "source": [
    "car3.stop()"
   ]
  },
  {
   "cell_type": "code",
   "execution_count": 85,
   "id": "50096500",
   "metadata": {},
   "outputs": [],
   "source": [
    "class Car:\n",
    "    def __init__(self, name, model, color):\n",
    "        self.name = name\n",
    "        self.model = model\n",
    "        self.color = color\n",
    "        \n",
    "    def drive(self):\n",
    "        # {브랜드 이름}가 출발합니다.\n",
    "        print(f'{self.name}가 갑니다.') # name이라고 하면 처음 정한 name만 됨. 즉, 바꾸면 같이 안 바뀜\n",
    "        \n",
    "    def stop(self):\n",
    "        print('차가 섭니다')\n",
    "        \n",
    "    def change_color(self):\n",
    "        # 2. 호출 시 일단 gray로 변동\n",
    "        self.color = 'gray'\n",
    "        print(self.color)"
   ]
  },
  {
   "cell_type": "code",
   "execution_count": 87,
   "id": "0ae82991",
   "metadata": {},
   "outputs": [
    {
     "name": "stdout",
     "output_type": "stream",
     "text": [
      "gray\n"
     ]
    }
   ],
   "source": [
    "car3.change_color()"
   ]
  },
  {
   "cell_type": "code",
   "execution_count": null,
   "id": "5fa92547",
   "metadata": {},
   "outputs": [],
   "source": [
    "class Car:\n",
    "    def __init__(self, name, model, color):\n",
    "        self.name = name\n",
    "        self.model = model\n",
    "        self.color = color\n",
    "        \n",
    "    def drive(self):\n",
    "        # {브랜드 이름}가 출발합니다.\n",
    "        print(f'{self.name}가 갑니다.') # name이라고 하면 처음 정한 name만 됨. 즉, 바꾸면 같이 안 바뀜\n",
    "        \n",
    "    def stop(self):\n",
    "        print('차가 섭니다')\n",
    "        \n",
    "    def change_color(self):\n",
    "        # 3. color을 받아서 그걸로 지정\n",
    "        self.color = color\n",
    "        print(self.color)"
   ]
  },
  {
   "cell_type": "code",
   "execution_count": 90,
   "id": "bc01a846",
   "metadata": {},
   "outputs": [],
   "source": [
    "car3 = Car('kia', 'SM6', 'black')"
   ]
  },
  {
   "cell_type": "code",
   "execution_count": 91,
   "id": "7ebba011",
   "metadata": {},
   "outputs": [],
   "source": [
    "class Car:\n",
    "    def __init__(self, name, model, color):\n",
    "        self.name = name\n",
    "        self.model = model\n",
    "        self.color = color\n",
    "        \n",
    "    def drive(self):\n",
    "        # {브랜드 이름}가 출발합니다.\n",
    "        print(f'{self.name}가 갑니다.') # name이라고 하면 처음 정한 name만 됨. 즉, 바꾸면 같이 안 바뀜\n",
    "        \n",
    "    def stop(self):\n",
    "        print('차가 섭니다')\n",
    "\n",
    "    def change_color(self, color = 'black'):\n",
    "        # 4. color을 받아서 그걸로 지정게 없으면 black\n",
    "        self.color = color\n",
    "        print(self.color)"
   ]
  },
  {
   "cell_type": "code",
   "execution_count": 92,
   "id": "55ceb886",
   "metadata": {},
   "outputs": [
    {
     "name": "stdout",
     "output_type": "stream",
     "text": [
      "black\n"
     ]
    }
   ],
   "source": [
    "car3.change_color()"
   ]
  },
  {
   "cell_type": "code",
   "execution_count": 93,
   "id": "f27bb643",
   "metadata": {},
   "outputs": [
    {
     "name": "stdout",
     "output_type": "stream",
     "text": [
      "yellow\n"
     ]
    }
   ],
   "source": [
    "car3.change_color('yellow')"
   ]
  },
  {
   "cell_type": "code",
   "execution_count": 24,
   "id": "470419e9",
   "metadata": {},
   "outputs": [],
   "source": [
    "class Car:\n",
    "    def __init__(self, name, model=None, color='black'): # my answer는 아예 model 없앰. 근데 그러면 model을 나중에 못 써\n",
    "        self.name = name\n",
    "        self.model = model\n",
    "        self.color = color\n",
    "        \n",
    "        # 5. model을 생성할 때 안 넣어도 되게 설정\n",
    "        \n",
    "    def drive(self):\n",
    "        # {브랜드 이름}가 출발합니다.\n",
    "        print(f'{self.name}가 갑니다.') # name이라고 하면 처음 정한 name만 됨. 즉, 바꾸면 같이 안 바뀜\n",
    "        \n",
    "    def stop(self):\n",
    "        print('차가 섭니다')\n",
    "\n",
    "    def change_color(self, color = 'black'):\n",
    "        self.color = color\n",
    "        print(self.color)"
   ]
  },
  {
   "cell_type": "code",
   "execution_count": 25,
   "id": "554f1b43",
   "metadata": {},
   "outputs": [
    {
     "name": "stdout",
     "output_type": "stream",
     "text": [
      "None\n",
      "SM6\n"
     ]
    }
   ],
   "source": [
    "car4 = Car('Porsche')\n",
    "print(car4.model)\n",
    "car4.model = 'SM6'\n",
    "print(car4.model)"
   ]
  },
  {
   "cell_type": "markdown",
   "id": "a71b0ac0",
   "metadata": {},
   "source": [
    "### 캡슐화, 정보 은닉\n",
    "- public -> private\n",
    "- getter, setter"
   ]
  },
  {
   "cell_type": "code",
   "execution_count": 103,
   "id": "c8ded5a2",
   "metadata": {},
   "outputs": [
    {
     "data": {
      "text/plain": [
       "'red'"
      ]
     },
     "execution_count": 103,
     "metadata": {},
     "output_type": "execute_result"
    }
   ],
   "source": [
    "class Fruit:\n",
    "    color = 'red'\n",
    "    \n",
    "kiwi = Fruit()\n",
    "kiwi.color"
   ]
  },
  {
   "cell_type": "code",
   "execution_count": 104,
   "id": "ac6bb238",
   "metadata": {},
   "outputs": [],
   "source": [
    "Fruit.color = 'black'"
   ]
  },
  {
   "cell_type": "code",
   "execution_count": 105,
   "id": "b64c9950",
   "metadata": {},
   "outputs": [
    {
     "data": {
      "text/plain": [
       "'black'"
      ]
     },
     "execution_count": 105,
     "metadata": {},
     "output_type": "execute_result"
    }
   ],
   "source": [
    "apple = Fruit()\n",
    "apple.color"
   ]
  },
  {
   "cell_type": "markdown",
   "id": "df3dda1e",
   "metadata": {},
   "source": [
    "#### get, set\n",
    "- setter로 설정하고 getter로 반환\n",
    "- getter: 클래스 내 객체 변수 변환\n",
    "- setter: == 변수 설정"
   ]
  },
  {
   "cell_type": "code",
   "execution_count": 107,
   "id": "2f4da2e5",
   "metadata": {},
   "outputs": [],
   "source": [
    "# Java 버전\n",
    "class Car:\n",
    "    def __init__(self, input_name):\n",
    "        self.name = input_name\n",
    "        \n",
    "    def get_name(self):\n",
    "        return self.name\n",
    "    \n",
    "    def set_name(self, input_name):\n",
    "        self.name = input_name\n",
    "        \n",
    "c = Car('name1')"
   ]
  },
  {
   "cell_type": "code",
   "execution_count": 108,
   "id": "4db06c14",
   "metadata": {},
   "outputs": [
    {
     "data": {
      "text/plain": [
       "'name1'"
      ]
     },
     "execution_count": 108,
     "metadata": {},
     "output_type": "execute_result"
    }
   ],
   "source": [
    "c.get_name()"
   ]
  },
  {
   "cell_type": "code",
   "execution_count": 109,
   "id": "95b2e2dc",
   "metadata": {},
   "outputs": [
    {
     "data": {
      "text/plain": [
       "'name2'"
      ]
     },
     "execution_count": 109,
     "metadata": {},
     "output_type": "execute_result"
    }
   ],
   "source": [
    "c.set_name('name2')\n",
    "c.name"
   ]
  },
  {
   "cell_type": "code",
   "execution_count": 111,
   "id": "35f4e6e7",
   "metadata": {},
   "outputs": [
    {
     "data": {
      "text/plain": [
       "'name3'"
      ]
     },
     "execution_count": 111,
     "metadata": {},
     "output_type": "execute_result"
    }
   ],
   "source": [
    "c.name = 'name3'\n",
    "c.name"
   ]
  },
  {
   "cell_type": "code",
   "execution_count": 112,
   "id": "adb12da8",
   "metadata": {},
   "outputs": [
    {
     "data": {
      "text/plain": [
       "'name_1'"
      ]
     },
     "execution_count": 112,
     "metadata": {},
     "output_type": "execute_result"
    }
   ],
   "source": [
    "# Python 버전\n",
    "class Car:\n",
    "    def __init__(self, input_name):\n",
    "        self.hidden_name = input_name # 밖에서 잘 못 바꾸게 숨김\n",
    "        \n",
    "    def get_name(self):\n",
    "        return self.hidden_name\n",
    "    \n",
    "    def set_name(self, input_name):\n",
    "        self.hidden_name = input_name\n",
    "        \n",
    "    name = property(get_name, set_name)\n",
    "    \n",
    "d = Car('name_1')\n",
    "d.name"
   ]
  },
  {
   "cell_type": "markdown",
   "id": "cb253895",
   "metadata": {},
   "source": [
    "#### 3."
   ]
  },
  {
   "cell_type": "code",
   "execution_count": 21,
   "id": "71209ef2",
   "metadata": {},
   "outputs": [
    {
     "data": {
      "text/plain": [
       "'name a'"
      ]
     },
     "execution_count": 21,
     "metadata": {},
     "output_type": "execute_result"
    }
   ],
   "source": [
    "class Car:\n",
    "    def __init__(self, input_name):\n",
    "        self.hidden_name = input_name\n",
    "    \n",
    "    # @를 사용해 decorator\n",
    "    @property # getter\n",
    "    def name(self):\n",
    "        return self.hidden_name\n",
    "    @name.setter # setter\n",
    "    def name(self, input_name):\n",
    "        self.hidden_name = input_name\n",
    "        \n",
    "e = Car('name a')\n",
    "e.name"
   ]
  },
  {
   "cell_type": "code",
   "execution_count": 23,
   "id": "2cdbe13b",
   "metadata": {},
   "outputs": [
    {
     "data": {
      "text/plain": [
       "'name b'"
      ]
     },
     "execution_count": 23,
     "metadata": {},
     "output_type": "execute_result"
    }
   ],
   "source": [
    "f = Car('name b')\n",
    "f.hidden_name"
   ]
  },
  {
   "cell_type": "code",
   "execution_count": 116,
   "id": "a604a5af",
   "metadata": {},
   "outputs": [
    {
     "data": {
      "text/plain": [
       "10"
      ]
     },
     "execution_count": 116,
     "metadata": {},
     "output_type": "execute_result"
    }
   ],
   "source": [
    "class Circle:\n",
    "    def __init__(self, radius):\n",
    "        self.radius = radius\n",
    "    \n",
    "    @property\n",
    "    def parameter(self):\n",
    "        return self.radius * 2\n",
    "ex = Circle(5)\n",
    "ex.parameter"
   ]
  },
  {
   "cell_type": "code",
   "execution_count": 119,
   "id": "8bb5dd5a",
   "metadata": {},
   "outputs": [
    {
     "data": {
      "text/plain": [
       "38"
      ]
     },
     "execution_count": 119,
     "metadata": {},
     "output_type": "execute_result"
    }
   ],
   "source": [
    "ex.radius = 19\n",
    "ex.parameter"
   ]
  },
  {
   "cell_type": "markdown",
   "id": "0db47a57",
   "metadata": {},
   "source": [
    "### 실습\n",
    "- 메모장, 메모 구현하기\n",
    "- 메모장\n",
    "    - 속성: 제목, 페이지번호, 메모\n",
    "    - 행동: 메모 추가하다, 메모 삭제하다, 페이지번호 확인하다\n",
    "- 메모\n",
    "    - 속성: 글귀\n",
    "    - 행동: 쓰다, 지우다\n",
    "- 사용:\n",
    "    - 메모 쓴다\n",
    "    - 메모장에 추가\n",
    "    - 페이지 번호가 늘어난다\n",
    "    - 메모 삭제\n",
    "    - 페이지 번호가 줄어든다\n",
    "    - 메모장> 제목만 은닉시킨다"
   ]
  },
  {
   "cell_type": "code",
   "execution_count": 134,
   "id": "a36c6b4c",
   "metadata": {},
   "outputs": [],
   "source": [
    "class Notebook:\n",
    "    pass\n",
    "\n",
    "class Note:\n",
    "    pass"
   ]
  },
  {
   "cell_type": "code",
   "execution_count": 28,
   "id": "d85b2ae9",
   "metadata": {},
   "outputs": [],
   "source": [
    "# 밑은 내 노력"
   ]
  },
  {
   "cell_type": "code",
   "execution_count": 26,
   "id": "39bf06ee",
   "metadata": {},
   "outputs": [],
   "source": [
    "#class Notebook(title, body):\n",
    "#    my_note.title = title\n",
    "#    my_note.body = body"
   ]
  },
  {
   "cell_type": "code",
   "execution_count": 27,
   "id": "3c344ff5",
   "metadata": {},
   "outputs": [],
   "source": [
    "#my_note = Notebook('7 dwarves')"
   ]
  },
  {
   "cell_type": "code",
   "execution_count": null,
   "id": "917ca5b1",
   "metadata": {},
   "outputs": [],
   "source": [
    "# 사용\n",
    "line1 = '우리 모두 스스로가 원하는 니더가 됩시다'\n",
    "line2 = '모두가 함께 앞으로 나아가면 성공은 저절로 따라옵니다'\n",
    "line3 = '혼자서는 작은 한 방울이지만 함께 모이면 바다를 이룹니다'\n",
    "\n",
    "# 메모 추가\n",
    "my_note = Note()\n",
    "my_note.write(line1)\n",
    "my_note.write(line2)\n",
    "my_note.write(line3)\n",
    "\n",
    "# 페이지 번호 확인하기\n",
    "my_book.get_page_num()\n",
    "\n",
    "# 페이지 삭제하기\n",
    "# 페이지 번호 확인하기"
   ]
  }
 ],
 "metadata": {
  "kernelspec": {
   "display_name": "Python 3 (ipykernel)",
   "language": "python",
   "name": "python3"
  },
  "language_info": {
   "codemirror_mode": {
    "name": "ipython",
    "version": 3
   },
   "file_extension": ".py",
   "mimetype": "text/x-python",
   "name": "python",
   "nbconvert_exporter": "python",
   "pygments_lexer": "ipython3",
   "version": "3.9.7"
  }
 },
 "nbformat": 4,
 "nbformat_minor": 5
}
