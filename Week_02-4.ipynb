{
 "cells": [
  {
   "cell_type": "markdown",
   "id": "8567301d",
   "metadata": {},
   "source": [
    "## 조건문, if\n",
    "- code structure"
   ]
  },
  {
   "cell_type": "markdown",
   "id": "3f01c6be",
   "metadata": {},
   "source": [
    "### 코드 짜는 법\n",
    "- 주석 다는 법\n",
    " - 설명하는 부분\n",
    " - 목적: 의도를 표현한다.\n",
    " - '#' hash, sharp,...\n",
    " - 시작된 부분부터 그 라인에 끝까지가 주석\n",
    " - 문자열 안에 들어있는 해시는 문자열로 인식\n",
    " - \"\"\"<주석>\"\"\"\n",
    " \n",
    "- 라인 유지하기\n",
    " - 들여쓰기, 공백 4개, 텝 1개\n",
    " - 한 줄에 최대 88자 넘지 않게\n",
    " - \"\\\" 백슬래시로 끊어 준다."
   ]
  },
  {
   "cell_type": "code",
   "execution_count": 19,
   "id": "a28f619d",
   "metadata": {},
   "outputs": [],
   "source": [
    "a = 3 # 여기서부터 라인 끝\n",
    "b = 2"
   ]
  },
  {
   "cell_type": "code",
   "execution_count": 37,
   "id": "558cb40e",
   "metadata": {},
   "outputs": [
    {
     "name": "stdout",
     "output_type": "stream",
     "text": [
      "146698\n"
     ]
    }
   ],
   "source": [
    "num = 2 + 4\\\n",
    "- 9 + 8\\\n",
    "+ 789789 - 643096\n",
    "print(num)  # \\를 쓰면 다음 줄까지도 하나로 인식"
   ]
  },
  {
   "cell_type": "code",
   "execution_count": 24,
   "id": "ca9644fa",
   "metadata": {},
   "outputs": [
    {
     "name": "stdout",
     "output_type": "stream",
     "text": [
      "hey ###\n"
     ]
    },
    {
     "data": {
      "text/plain": [
       "'\\n주석1\\n이렇게 달면 출력이 되네\\n주석3\\n'"
      ]
     },
     "execution_count": 24,
     "metadata": {},
     "output_type": "execute_result"
    }
   ],
   "source": [
    "example = 'hey ###'\n",
    "print(example)\n",
    "\"\"\"이렇게 하면 주석으로 인식되지만\"\"\"\n",
    "\"\"\"\n",
    "주석1\n",
    "이렇게 달면 출력이 되네\n",
    "주석3\n",
    "\"\"\""
   ]
  },
  {
   "cell_type": "code",
   "execution_count": null,
   "id": "d4e0f90f",
   "metadata": {},
   "outputs": [],
   "source": [
    "if .....:\n",
    "        ###if 조건문 형식"
   ]
  },
  {
   "cell_type": "markdown",
   "id": "3d997f6c",
   "metadata": {},
   "source": [
    "- 조건 1개\n",
    "    if <조건식>:\n",
    "        <실행할 코드>"
   ]
  },
  {
   "cell_type": "code",
   "execution_count": 5,
   "id": "416ec301",
   "metadata": {},
   "outputs": [
    {
     "name": "stdout",
     "output_type": "stream",
     "text": [
      "Yay!\n"
     ]
    }
   ],
   "source": [
    "if 4 != 9:\n",
    "    print('Yay!')"
   ]
  },
  {
   "cell_type": "markdown",
   "id": "af3af2c9",
   "metadata": {},
   "source": [
    "- 조건 2개\n",
    "    if <조건식1>:\n",
    "        <실행할 코드>\n",
    "    else:\n",
    "        <실행할 코드 2>"
   ]
  },
  {
   "cell_type": "code",
   "execution_count": 25,
   "id": "0e2890e1",
   "metadata": {},
   "outputs": [
    {
     "name": "stdout",
     "output_type": "stream",
     "text": [
      "Hey!\n"
     ]
    }
   ],
   "source": [
    "if 4 == 9:\n",
    "    print('Yay!')\n",
    "else:\n",
    "    print('Hey!')"
   ]
  },
  {
   "cell_type": "code",
   "execution_count": null,
   "id": "2c933cc6",
   "metadata": {},
   "outputs": [],
   "source": [
    "- 조건 1개\n",
    "    if <조건식>:\n",
    "        <실행할 코드>\n",
    "    elif <조건식2>:\n",
    "    \n",
    "    else:\n",
    "        <실행할 코드3>"
   ]
  },
  {
   "cell_type": "code",
   "execution_count": 27,
   "id": "a98d4c77",
   "metadata": {},
   "outputs": [
    {
     "name": "stdout",
     "output_type": "stream",
     "text": [
      "Whoo hoo!\n"
     ]
    }
   ],
   "source": [
    "if 4 > 9:\n",
    "    print('Yay!')\n",
    "elif 4 == 9:\n",
    "    print('Hurray!')\n",
    "else:\n",
    "    print('Whoo hoo!')"
   ]
  },
  {
   "cell_type": "markdown",
   "id": "bb72e342",
   "metadata": {},
   "source": [
    "#### 비교연산자\n",
    "- x < y, x <= y\n",
    "- x>y, x >= y\n",
    "- x == y(값)\n",
    "- x != y (값)\n",
    "- x is y (값, 메모리주소)\n",
    "- x is not y"
   ]
  },
  {
   "cell_type": "markdown",
   "id": "6c8c1fb3",
   "metadata": {},
   "source": [
    "### Quiz 4\n",
    "- 학점 부여하기\n",
    "- 학점을 입력 받아서\n",
    " - 90점 이상이면 A\n",
    " - 80, B\n",
    " - 70, C\n",
    " - 그외, D\n",
    "- 변수 설정 유의"
   ]
  },
  {
   "cell_type": "code",
   "execution_count": 16,
   "id": "15bc0adc",
   "metadata": {},
   "outputs": [
    {
     "name": "stdout",
     "output_type": "stream",
     "text": [
      "받은 점수는 89\n",
      "최종 학점은B\n"
     ]
    }
   ],
   "source": [
    "grade = float(input(\"받은 점수는 \"))\n",
    "print(\"최종 학점은\", end=' ')\n",
    "if grade >= 90:\n",
    "    print(\"A\")\n",
    "elif 90 > grade >= 80:  # 처음이 false이니 \"90 >\" 빼\n",
    "    print(\"B\")\n",
    "elif 80 > grade >= 70:\n",
    "    print(\"C\")\n",
    "else:\n",
    "    print(\"D\")  #print 같은 줄. 최종으로"
   ]
  },
  {
   "cell_type": "code",
   "execution_count": 30,
   "id": "c65caeec",
   "metadata": {},
   "outputs": [
    {
     "name": "stdout",
     "output_type": "stream",
     "text": [
      "받은 점수: 90\n",
      "최종 학점은 A\n"
     ]
    }
   ],
   "source": [
    "#수정본\n",
    "score = int(input(\"받은 점수: \"))\n",
    "if score >= 90:\n",
    "    grade = 'A'\n",
    "elif score >= 80:\n",
    "    grade = 'B'\n",
    "elif score >= 70:\n",
    "    grade = 'C'\n",
    "else:\n",
    "    grade = 'D'\n",
    "print(f\"최종 학점은 {grade}\")"
   ]
  },
  {
   "cell_type": "markdown",
   "id": "0f1f59c6",
   "metadata": {},
   "source": [
    "### Quiz 5\n",
    "- 아이디와 비번 입력 받아서 \n",
    "- 둘다 일치하면 로그인하기\n",
    "- 아이디, 비번 각자 정해놓기\n",
    "- 일치하지 않을 때에는 창의적으로 어떤 걸로 반환하기"
   ]
  },
  {
   "cell_type": "code",
   "execution_count": 13,
   "id": "d261d8ed",
   "metadata": {},
   "outputs": [
    {
     "name": "stdout",
     "output_type": "stream",
     "text": [
      "비밀번호: iseeyou24\n",
      "아이디: djsk\n",
      "비밀번호 또는 아이디 불일치\n"
     ]
    }
   ],
   "source": [
    "# first try\n",
    "pw = \"iseeyou24\"\n",
    "id = \"iknowu\"   #id 이미 있는 거\n",
    "pwtry = input(\"비밀번호: \")  #pwtry x, idtry x 가독성이 떨어짐\n",
    "idtry = input(\"아이디: \")\n",
    "if pwtry == pw and idtry == id:\n",
    "    print(\"로그인 성공\")\n",
    "elif pwtry == pw or idtry == id:\n",
    "    print(\"비밀번호 또는 아이디 불일치\")\n",
    "else:\n",
    "    print(\"로그인 실패\")"
   ]
  },
  {
   "cell_type": "code",
   "execution_count": 41,
   "id": "df4dc79f",
   "metadata": {},
   "outputs": [
    {
     "name": "stdout",
     "output_type": "stream",
     "text": [
      "비밀번호: iamahero\n",
      "아이디: iamhere\n",
      "로그인 성공\n"
     ]
    }
   ],
   "source": [
    "#수정본 1\n",
    "password = input(\"비밀번호: \")\n",
    "identification = input(\"아이디: \")\n",
    "if password == \"iamahero\" and identification == \"iamhere\":\n",
    "    print(\"로그인 성공\")\n",
    "else:\n",
    "    print(\"로그인 실패\")"
   ]
  },
  {
   "cell_type": "code",
   "execution_count": 43,
   "id": "4480e940",
   "metadata": {},
   "outputs": [
    {
     "name": "stdout",
     "output_type": "stream",
     "text": [
      "비밀번호: 안녕~~\n",
      "아이디: iamhere\n",
      "비밀 번호 불일치\n"
     ]
    }
   ],
   "source": [
    "#수정본 2\n",
    "password = input(\"비밀번호: \")\n",
    "identification = input(\"아이디: \")\n",
    "if password == \"iamahero\" and identification == \"iamhere\":\n",
    "    print(\"로그인 성공\")\n",
    "elif password != \"iamahero\" and identification != \"iamhere\":\n",
    "    print(\"비밀 번호와 아이디가 불일치\")\n",
    "elif password != \"iamahero\" and identification == \"iamhere\":\n",
    "    print(\"비밀 번호 불일치\")\n",
    "else:\n",
    "    print(\"아이디 불일치\")"
   ]
  },
  {
   "cell_type": "markdown",
   "id": "84472227",
   "metadata": {},
   "source": [
    "#### 논리연산자\n",
    "- 여러조건식을 비교할 때\n",
    "- 예: 10 < x < 20\n",
    "    - 파이썬에서만 가능한 표현\n",
    "    - 다른 프로그램 언어: x > 10 혹은 x < 20\n",
    "- and, &\n",
    "- or, |  (shift+\\)\n",
    "- not"
   ]
  },
  {
   "cell_type": "markdown",
   "id": "f96dffe6",
   "metadata": {},
   "source": [
    "### Quiz 6\n",
    "- quiz 4 확정판\n",
    "- 결석 횟수를 받아서 점수가 80점 이상인데 결석이 2번 이상이면 F, 나머지는 점수대로"
   ]
  },
  {
   "cell_type": "code",
   "execution_count": 44,
   "id": "5f02e4ef",
   "metadata": {},
   "outputs": [
    {
     "name": "stdout",
     "output_type": "stream",
     "text": [
      "받은 점수: 93\n",
      "결석 횟수: 3\n",
      "최종 점수는 F\n"
     ]
    }
   ],
   "source": [
    "score = int(input(\"받은 점수: \"))\n",
    "attendance = int(input(\"결석 횟수: \"))\n",
    "if attendance >= 2:\n",
    "    grade = \"F\"\n",
    "elif score >= 90:\n",
    "    grade = \"A\"\n",
    "elif score >= 80:\n",
    "    grade = \"B\"\n",
    "elif score >= 70:\n",
    "    grade = \"C\"\n",
    "else:\n",
    "    grade = \"D\"\n",
    "print(f\"최종 점수는 {grade}\")"
   ]
  },
  {
   "cell_type": "code",
   "execution_count": null,
   "id": "79a900bf",
   "metadata": {},
   "outputs": [],
   "source": []
  }
 ],
 "metadata": {
  "kernelspec": {
   "display_name": "Python 3 (ipykernel)",
   "language": "python",
   "name": "python3"
  },
  "language_info": {
   "codemirror_mode": {
    "name": "ipython",
    "version": 3
   },
   "file_extension": ".py",
   "mimetype": "text/x-python",
   "name": "python",
   "nbconvert_exporter": "python",
   "pygments_lexer": "ipython3",
   "version": "3.9.7"
  }
 },
 "nbformat": 4,
 "nbformat_minor": 5
}
