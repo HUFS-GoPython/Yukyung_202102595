{
 "cells": [
  {
   "cell_type": "markdown",
   "id": "b529f93f",
   "metadata": {},
   "source": [
    "# 전반적 내용 다시 복습"
   ]
  },
  {
   "cell_type": "markdown",
   "id": "50b49059",
   "metadata": {},
   "source": [
    "## 나의 궁금증 실험실 & 정리 정돈"
   ]
  },
  {
   "cell_type": "code",
   "execution_count": 4,
   "id": "c2a06d30",
   "metadata": {},
   "outputs": [],
   "source": [
    "a = 2"
   ]
  },
  {
   "cell_type": "code",
   "execution_count": 7,
   "id": "b5757acf",
   "metadata": {},
   "outputs": [
    {
     "data": {
      "text/plain": [
       "False"
      ]
     },
     "execution_count": 7,
     "metadata": {},
     "output_type": "execute_result"
    }
   ],
   "source": [
    "a == 1"
   ]
  },
  {
   "cell_type": "code",
   "execution_count": 150,
   "id": "90097a3a",
   "metadata": {},
   "outputs": [
    {
     "data": {
      "text/plain": [
       "bool"
      ]
     },
     "execution_count": 150,
     "metadata": {},
     "output_type": "execute_result"
    }
   ],
   "source": [
    "type(a == 1)  #bool은 \"참과 거짓으로 나눠질 수 있는 명제다\"하는 '자료형'"
   ]
  },
  {
   "cell_type": "code",
   "execution_count": 21,
   "id": "5b673534",
   "metadata": {},
   "outputs": [
    {
     "data": {
      "text/plain": [
       "False"
      ]
     },
     "execution_count": 21,
     "metadata": {},
     "output_type": "execute_result"
    }
   ],
   "source": [
    "bool(a == 1)  #참인지 아닌지 파악하려면 이런식으로 코딩ㄱㄱ"
   ]
  },
  {
   "cell_type": "markdown",
   "id": "75885c4a",
   "metadata": {},
   "source": [
    "#### float로 소숫점 조절\n",
    "f\"{num.3f}\"  # 소수점 3의 자리 수까지만 나옴"
   ]
  },
  {
   "cell_type": "code",
   "execution_count": 104,
   "id": "b014356b",
   "metadata": {},
   "outputs": [
    {
     "name": "stdout",
     "output_type": "stream",
     "text": [
      "10.325\n"
     ]
    }
   ],
   "source": [
    "num = 10.324543\n",
    "print(f\"{num:.3f}\")"
   ]
  },
  {
   "cell_type": "code",
   "execution_count": 10,
   "id": "313682f0",
   "metadata": {},
   "outputs": [
    {
     "name": "stdout",
     "output_type": "stream",
     "text": [
      "4 2\n"
     ]
    }
   ],
   "source": [
    "# 저번에 내가 질문한 사항 1\n",
    "two = deux = 2\n",
    "two = 4\n",
    "print(two, deux)  # two에 새로운 할당량을 넣어도 deux는 2"
   ]
  },
  {
   "cell_type": "code",
   "execution_count": 12,
   "id": "8129bb85",
   "metadata": {},
   "outputs": [
    {
     "name": "stdout",
     "output_type": "stream",
     "text": [
      "[1, 9, 6, 4] [1, 9, 6, 4]\n"
     ]
    }
   ],
   "source": [
    "# 저번에 내가 질문한 사항 2\n",
    "p = [1, 2, 3, 4]\n",
    "q = p\n",
    "p[2] = 6\n",
    "q[1] = 9\n",
    "print(p, q)  # p와 q가 같은 list를 가르키고 있으니 뭘 바꿔도 p == q"
   ]
  },
  {
   "cell_type": "code",
   "execution_count": 13,
   "id": "29814dd9",
   "metadata": {},
   "outputs": [
    {
     "data": {
      "text/plain": [
       "20"
      ]
     },
     "execution_count": 13,
     "metadata": {},
     "output_type": "execute_result"
    }
   ],
   "source": [
    "# int나 float로 바꿔도 permanent하지 않음\n",
    "x = 20.475\n",
    "int(x)"
   ]
  },
  {
   "cell_type": "code",
   "execution_count": 17,
   "id": "1d40e6f0",
   "metadata": {},
   "outputs": [
    {
     "name": "stdout",
     "output_type": "stream",
     "text": [
      "65.475\n"
     ]
    }
   ],
   "source": [
    "print(x + 45) # x는 20이 아니라 20.475"
   ]
  },
  {
   "cell_type": "code",
   "execution_count": 19,
   "id": "53b57568",
   "metadata": {},
   "outputs": [
    {
     "name": "stdout",
     "output_type": "stream",
     "text": [
      "65\n"
     ]
    }
   ],
   "source": [
    "print(int(x) + 45) #이래야 함"
   ]
  },
  {
   "cell_type": "code",
   "execution_count": 24,
   "id": "a427e1d2",
   "metadata": {},
   "outputs": [
    {
     "name": "stdout",
     "output_type": "stream",
     "text": [
      "kitty///puppy\n"
     ]
    }
   ],
   "source": [
    "# 코드 줄이 짧을 때 ; semicolon으로 연결 가능\n",
    "cat = 'kitty'; dog = 'puppy'; print(cat, dog, sep = \"///\")"
   ]
  },
  {
   "cell_type": "code",
   "execution_count": 35,
   "id": "cecb0543",
   "metadata": {},
   "outputs": [
    {
     "name": "stdout",
     "output_type": "stream",
     "text": [
      "10000000 100000 100000230\n"
     ]
    }
   ],
   "source": [
    "# _를 넣어도 숫자는 출력됨\n",
    "a = 10_000_000\n",
    "b = 10_0000\n",
    "# c = 10___00023은 프린트 안 됨\n",
    "d = 1_00_000230\n",
    "# e = 10_9393_   _로 끝나면 안 됨\n",
    "print(a, b, d)"
   ]
  },
  {
   "cell_type": "markdown",
   "id": "de8cf9e4",
   "metadata": {},
   "source": [
    "#### Divmod"
   ]
  },
  {
   "cell_type": "code",
   "execution_count": 37,
   "id": "4b8e6d1f",
   "metadata": {},
   "outputs": [
    {
     "data": {
      "text/plain": [
       "(2, 0)"
      ]
     },
     "execution_count": 37,
     "metadata": {},
     "output_type": "execute_result"
    }
   ],
   "source": [
    "divmod(10, 5)   #divmod(dividend, divisor) => (dividend / divisor, dividend % divisor)"
   ]
  },
  {
   "cell_type": "markdown",
   "id": "6678a408",
   "metadata": {},
   "source": [
    "#### 지수 표현\n",
    "- e, E 둘 다 가능\n",
    "- 앞은 float나 int(기본 수), 뒤는 int(소수점이 움직이는 자릿수)\n",
    "- 뒷 수가 +면 뒤로 소수점이 움직여 숫자 자체가 커짐\n",
    "- 뒷 수가 -면 앞으로 소수점이 움직여 숫자 자체가 작아짐"
   ]
  },
  {
   "cell_type": "code",
   "execution_count": 38,
   "id": "97558e2f",
   "metadata": {},
   "outputs": [
    {
     "data": {
      "text/plain": [
       "100324500000000.0"
      ]
     },
     "execution_count": 38,
     "metadata": {},
     "output_type": "execute_result"
    }
   ],
   "source": [
    "10032.45e10"
   ]
  },
  {
   "cell_type": "code",
   "execution_count": 39,
   "id": "e072b731",
   "metadata": {},
   "outputs": [
    {
     "data": {
      "text/plain": [
       "2.90148231"
      ]
     },
     "execution_count": 39,
     "metadata": {},
     "output_type": "execute_result"
    }
   ],
   "source": [
    "290148.231E-5"
   ]
  },
  {
   "cell_type": "code",
   "execution_count": 40,
   "id": "d93cf7c7",
   "metadata": {},
   "outputs": [
    {
     "data": {
      "text/plain": [
       "32083000000000.0"
      ]
     },
     "execution_count": 40,
     "metadata": {},
     "output_type": "execute_result"
    }
   ],
   "source": [
    "32083E9"
   ]
  },
  {
   "cell_type": "markdown",
   "id": "48da0af9",
   "metadata": {},
   "source": [
    "#### 줄이 바뀌어도 하나로 유지하는 방법\n",
    "- \\ 사용"
   ]
  },
  {
   "cell_type": "code",
   "execution_count": 50,
   "id": "e143282c",
   "metadata": {},
   "outputs": [
    {
     "name": "stdout",
     "output_type": "stream",
     "text": [
      "13\n"
     ]
    }
   ],
   "source": [
    "a = 9 + 10      -5\\\n",
    "+6 +3\\\n",
    "-10\n",
    "print(a)  #참고: 공백 무시하고 계산됨"
   ]
  },
  {
   "cell_type": "markdown",
   "id": "411c3968",
   "metadata": {},
   "source": [
    "#### 논리연산자\n",
    "- and &\n",
    "- or |(shift + 백슬래시)\n",
    "- not ~"
   ]
  },
  {
   "cell_type": "code",
   "execution_count": 87,
   "id": "676364fb",
   "metadata": {},
   "outputs": [
    {
     "name": "stdout",
     "output_type": "stream",
     "text": [
      "Hiya\n"
     ]
    }
   ],
   "source": [
    "a = 5\n",
    "\n",
    "if (a == 5) | (a == 6):\n",
    "    print(\"Hiya\")\n",
    "else:\n",
    "    print(\"Goodbye\")"
   ]
  },
  {
   "cell_type": "markdown",
   "id": "6c52c844",
   "metadata": {},
   "source": [
    "#### 코끼리 연산자\n",
    "- := walrus operator\n",
    "- 할당 + 테스트 동시\n",
    "- 영어에서 삽입문"
   ]
  },
  {
   "cell_type": "code",
   "execution_count": 83,
   "id": "5293c19e",
   "metadata": {},
   "outputs": [
    {
     "name": "stdout",
     "output_type": "stream",
     "text": [
      "few\n"
     ]
    }
   ],
   "source": [
    "listofnum = [302, 32490, 2332, 4945]\n",
    "if num := len(listofnum) > 5:\n",
    "    print(\"many\")\n",
    "else:\n",
    "    print(\"few\")"
   ]
  },
  {
   "cell_type": "markdown",
   "id": "82196871",
   "metadata": {},
   "source": [
    "#### /~를 출력하고 싶다\n",
    "- r(row)\"~\"\n",
    "- \\"
   ]
  },
  {
   "cell_type": "code",
   "execution_count": 88,
   "id": "3e38449a",
   "metadata": {},
   "outputs": [
    {
     "name": "stdout",
     "output_type": "stream",
     "text": [
      "hello \\n, my friend\n"
     ]
    }
   ],
   "source": [
    "print(r\"hello \\n, my friend\")"
   ]
  },
  {
   "cell_type": "code",
   "execution_count": 91,
   "id": "024d7b39",
   "metadata": {},
   "outputs": [
    {
     "name": "stdout",
     "output_type": "stream",
     "text": [
      "He looked at me and said 'Hi!'\n"
     ]
    }
   ],
   "source": [
    "print(\"He looked at me and said \\'Hi!\\'\")"
   ]
  },
  {
   "cell_type": "markdown",
   "id": "cd726c90",
   "metadata": {},
   "source": [
    "#### 슬라이싱\n",
    "- [start:end(before):step]\n",
    "- start가 -이어도 됨\n",
    "- step가 -이어도 됨"
   ]
  },
  {
   "cell_type": "markdown",
   "id": "7a232aa0",
   "metadata": {},
   "source": [
    "#### NLTK(natural language toolkit)\n",
    "- pip install nltk\n",
    "- import nltk\n",
    "- nltk.download('book', quiet=True)\n",
    "- from nltk import book\n",
    "- moby = book.text1\n",
    "- moby.tokens[:26]"
   ]
  },
  {
   "cell_type": "markdown",
   "id": "8009494b",
   "metadata": {},
   "source": [
    "#### 함수 정리\n",
    "- list()\n",
    "- set()\n",
    "- sorted(~, reverse=True) # 오름차순 -> 내림차순"
   ]
  },
  {
   "cell_type": "markdown",
   "id": "9b51f765",
   "metadata": {},
   "source": [
    "# 4주차 복습"
   ]
  },
  {
   "cell_type": "markdown",
   "id": "ea518929",
   "metadata": {},
   "source": [
    "## String with NLTK"
   ]
  },
  {
   "cell_type": "code",
   "execution_count": 1,
   "id": "c2ead348",
   "metadata": {},
   "outputs": [
    {
     "name": "stdout",
     "output_type": "stream",
     "text": [
      "*** Introductory Examples for the NLTK Book ***\n",
      "Loading text1, ..., text9 and sent1, ..., sent9\n",
      "Type the name of the text or sentence to view it.\n",
      "Type: 'texts()' or 'sents()' to list the materials.\n",
      "text1: Moby Dick by Herman Melville 1851\n",
      "text2: Sense and Sensibility by Jane Austen 1811\n",
      "text3: The Book of Genesis\n",
      "text4: Inaugural Address Corpus\n",
      "text5: Chat Corpus\n",
      "text6: Monty Python and the Holy Grail\n",
      "text7: Wall Street Journal\n",
      "text8: Personals Corpus\n",
      "text9: The Man Who Was Thursday by G . K . Chesterton 1908\n"
     ]
    },
    {
     "data": {
      "text/plain": [
       "True"
      ]
     },
     "execution_count": 1,
     "metadata": {},
     "output_type": "execute_result"
    }
   ],
   "source": [
    "import nltk\n",
    "from nltk.book import *\n",
    "nltk.download('book', quiet=True)"
   ]
  },
  {
   "cell_type": "markdown",
   "id": "07c3dc66",
   "metadata": {},
   "source": [
    "#### 내장함수\n",
    "- string1.method(string2)\n",
    "- list.method(string)\n",
    "    - list.count(string): string이 나타나는 개수\n",
    "- str.replace(): A->B 변경할 때 쓰임\n",
    "- str.strip(): 공백 등등을 제거하는 기능\n",
    "    - 특정한 쪽만 공백 제거: lstrip(left), rstrip(right)\n",
    "- find(string): 오프셋을 반환  (오프셋 offset: 문자열을 작성하면 각 문자마다 고유의 번호가 주어지는데 이를 오프셋이라 함\n",
    "    - lfind(왼쪽에서 처음으로 발견되는 것 출력됨), rfind(오른쪽에서 처음으로 발견되는 것 출력됨)\n",
    "    - 공백 포함\n",
    "    - 첫번째 값의 인덱스\n",
    "    - 만족하는 값이 없는 경우 -1 반환됨\n",
    "- index(string)\n",
    "    - 만족하는 값이 없는 경우 error 발생"
   ]
  },
  {
   "cell_type": "code",
   "execution_count": 107,
   "id": "423f7640",
   "metadata": {},
   "outputs": [
    {
     "data": {
      "text/plain": [
       "553"
      ]
     },
     "execution_count": 107,
     "metadata": {},
     "output_type": "execute_result"
    }
   ],
   "source": [
    "#string1.method(string2) example\n",
    "text1.count('when')"
   ]
  },
  {
   "cell_type": "code",
   "execution_count": 125,
   "id": "26eb7597",
   "metadata": {},
   "outputs": [
    {
     "data": {
      "text/plain": [
       "2"
      ]
     },
     "execution_count": 125,
     "metadata": {},
     "output_type": "execute_result"
    }
   ],
   "source": [
    "#list.method(string) example\n",
    "howRu = ['hi','are', 'you', 'ok', '?', 'or', 'are', 'you', 'dead']\n",
    "howRu.count('you')"
   ]
  },
  {
   "cell_type": "code",
   "execution_count": 141,
   "id": "02735be7",
   "metadata": {},
   "outputs": [
    {
     "name": "stdout",
     "output_type": "stream",
     "text": [
      "0\n",
      "6\n",
      "-1\n"
     ]
    }
   ],
   "source": [
    "#find\n",
    "word = 'y yyukyunglee'\n",
    "print(word.find('y'))\n",
    "print(word.rfind('y'))\n",
    "print(word.find('w'))  #없어서 -1 출력됨"
   ]
  },
  {
   "cell_type": "code",
   "execution_count": 108,
   "id": "132bcd25",
   "metadata": {
    "scrolled": true
   },
   "outputs": [
    {
     "data": {
      "text/plain": [
       "'YukyungLee'"
      ]
     },
     "execution_count": 108,
     "metadata": {},
     "output_type": "execute_result"
    }
   ],
   "source": [
    "'Yukyunglee'.replace('l', 'L')"
   ]
  },
  {
   "cell_type": "code",
   "execution_count": 142,
   "id": "58d923c7",
   "metadata": {
    "scrolled": true
   },
   "outputs": [
    {
     "name": "stdout",
     "output_type": "stream",
     "text": [
      "word\n",
      "\t    word\n",
      "¡Hola, mis amigos!\n"
     ]
    }
   ],
   "source": [
    "print('\\t    word     '.strip())  #\\t도 지워지네\n",
    "print('\\t    word     '.rstrip())\n",
    "print('      ¡Hola, mis amigos!'.lstrip())"
   ]
  },
  {
   "cell_type": "code",
   "execution_count": 144,
   "id": "b47fea17",
   "metadata": {},
   "outputs": [
    {
     "ename": "ValueError",
     "evalue": "substring not found",
     "output_type": "error",
     "traceback": [
      "\u001b[1;31m---------------------------------------------------------------------------\u001b[0m",
      "\u001b[1;31mValueError\u001b[0m                                Traceback (most recent call last)",
      "\u001b[1;32m~\\AppData\\Local\\Temp/ipykernel_1568/2236526053.py\u001b[0m in \u001b[0;36m<module>\u001b[1;34m\u001b[0m\n\u001b[1;32m----> 1\u001b[1;33m \u001b[0mword\u001b[0m\u001b[1;33m.\u001b[0m\u001b[0mindex\u001b[0m\u001b[1;33m(\u001b[0m\u001b[1;34m'h'\u001b[0m\u001b[1;33m)\u001b[0m \u001b[1;31m#index 쓸 때는 찾는 값이 없으면 에러 뜸\u001b[0m\u001b[1;33m\u001b[0m\u001b[1;33m\u001b[0m\u001b[0m\n\u001b[0m",
      "\u001b[1;31mValueError\u001b[0m: substring not found"
     ]
    }
   ],
   "source": [
    "word.index('h') #index 쓸 때는 찾는 값이 없으면 에러 뜸"
   ]
  },
  {
   "cell_type": "code",
   "execution_count": 117,
   "id": "2b6158b4",
   "metadata": {},
   "outputs": [
    {
     "data": {
      "text/plain": [
       "'word'"
      ]
     },
     "execution_count": 117,
     "metadata": {},
     "output_type": "execute_result"
    }
   ],
   "source": [
    "'\\t     word'.strip()"
   ]
  },
  {
   "cell_type": "code",
   "execution_count": 118,
   "id": "06513cb5",
   "metadata": {},
   "outputs": [
    {
     "data": {
      "text/plain": [
       "'\\t     word'"
      ]
     },
     "execution_count": 118,
     "metadata": {},
     "output_type": "execute_result"
    }
   ],
   "source": [
    "'\\t     word  '.rstrip()"
   ]
  },
  {
   "cell_type": "code",
   "execution_count": 147,
   "id": "cf3ad187",
   "metadata": {},
   "outputs": [],
   "source": [
    "world = '\\t I\\'m on top of the world       '\n",
    "world = world.replace('o', 'e').lstrip().replace('m', 'll be')"
   ]
  },
  {
   "cell_type": "code",
   "execution_count": 148,
   "id": "3dbfd505",
   "metadata": {},
   "outputs": [
    {
     "data": {
      "text/plain": [
       "\"I'll be en tep ef the werld       \""
      ]
     },
     "execution_count": 148,
     "metadata": {},
     "output_type": "execute_result"
    }
   ],
   "source": [
    "world"
   ]
  },
  {
   "cell_type": "code",
   "execution_count": 158,
   "id": "8b95ee0d",
   "metadata": {},
   "outputs": [
    {
     "ename": "AttributeError",
     "evalue": "'list' object has no attribute 'replace'",
     "output_type": "error",
     "traceback": [
      "\u001b[1;31m---------------------------------------------------------------------------\u001b[0m",
      "\u001b[1;31mAttributeError\u001b[0m                            Traceback (most recent call last)",
      "\u001b[1;32m~\\AppData\\Local\\Temp/ipykernel_1568/3842091036.py\u001b[0m in \u001b[0;36m<module>\u001b[1;34m\u001b[0m\n\u001b[0;32m      1\u001b[0m \u001b[1;31m#replace할 때 list 쓰면 안 됨\u001b[0m\u001b[1;33m\u001b[0m\u001b[1;33m\u001b[0m\u001b[0m\n\u001b[1;32m----> 2\u001b[1;33m \u001b[1;33m[\u001b[0m\u001b[1;34m'a'\u001b[0m\u001b[1;33m,\u001b[0m \u001b[1;34m'b'\u001b[0m\u001b[1;33m]\u001b[0m\u001b[1;33m.\u001b[0m\u001b[0mreplace\u001b[0m\u001b[1;33m(\u001b[0m\u001b[1;34m'a'\u001b[0m\u001b[1;33m,\u001b[0m \u001b[1;34m'A'\u001b[0m\u001b[1;33m)\u001b[0m \u001b[1;31m#에러 뜸\u001b[0m\u001b[1;33m\u001b[0m\u001b[1;33m\u001b[0m\u001b[0m\n\u001b[0m",
      "\u001b[1;31mAttributeError\u001b[0m: 'list' object has no attribute 'replace'"
     ]
    }
   ],
   "source": [
    "#replace할 때 list 쓰면 안 됨\n",
    "['a', 'b'].replace('a', 'A') #에러 뜸"
   ]
  },
  {
   "cell_type": "markdown",
   "id": "dc77adb5",
   "metadata": {},
   "source": [
    "### NLTK 내장함수\n",
    "- list.method()\n",
    "- 자연어 처리와 관련된 함수들\n",
    "- concordance(): 주어진 string의 앞뒤 문맥을 알 수 있음(앞뒤로 자주 나오는 단어 출력됨)\n",
    "- similar(): 문맥이 비슷한 단어들\n",
    "- common_contexts(): 주어진 스트링이 어떤 문맥을 공유하는지 출력됨\n",
    "- dispersion_plot(): 주어진 스트링이 텍스트에서 출현하는 위치를 이미지로 보여줌(아예 그래프가 나옴)"
   ]
  },
  {
   "cell_type": "code",
   "execution_count": 153,
   "id": "9d3f957f",
   "metadata": {},
   "outputs": [
    {
     "name": "stdout",
     "output_type": "stream",
     "text": [
      "Displaying 25 of 336 matches:\n",
      "is monster ' s mouth , be it beast , boat , or stone , down it goes all incont\n",
      "cut off his head , and tow it with a boat as near the shore as it will come ; \n",
      "ious monster at length rushed on the boat ; himself and comrades only being pr\n",
      "hey departed .\" -- CRUISE IN A WHALE BOAT . \" Suddenly a mighty mass emerged f\n",
      "Sperm Whale close to the head of the boat , threatening it with instant destru\n",
      "or . They had just landed from their boat , and this was the first house they \n",
      "EKIEL HARDY , Who in the bows of his boat was killed by a Sperm Whale on the c\n",
      "romotion , it seems -- aye , a stove boat will make me an immortal by brevet .\n",
      "ers for Nantucket ; and come a stove boat and stove body when they will , for \n",
      "those used in mounting a ship from a boat at sea . The wife of a whaling capta\n",
      ", get into the same watch , the same boat , the same mess with me , in short t\n",
      "e hands were clearing away the stern boat , Queequeg , stripped to the waist ,\n",
      "other dragging a lifeless form . The boat soon picked them up . The poor bumpk\n",
      " Nantucketer -- ever been in a stove boat ?\" \" No , Sir , I never have .\" \" Do\n",
      "usest parmacetty that ever chipped a boat !-- ah , ah !\" I was a little alarme\n",
      "llied waistcoat ; from that becoming boat - header , chief - mate , and captai\n",
      " ever stand in the head of a whale - boat ? did you ever strike a fish ?\" With\n",
      " young Nat Swaine , once the bravest boat - header out of all Nantucket and th\n",
      "ul Charity had come off in a whale - boat , with her last gift -- a night - ca\n",
      " needed no longer . The stout sail - boat that had accompanied us began rangin\n",
      "st go . Back the main - yard there ! Boat ahoy ! Stand by to come close alongs\n",
      "r the side , and both dropt into the boat . Ship and boat diverged ; the cold \n",
      " both dropt into the boat . Ship and boat diverged ; the cold , damp night bre\n",
      "fishery . \" I will have no man in my boat ,\" said Starbuck , \" who is not afra\n",
      "eless , he presided over his whale - boat as if the most deadly encounter were\n"
     ]
    }
   ],
   "source": [
    "text1.concordance('boat')"
   ]
  },
  {
   "cell_type": "code",
   "execution_count": 149,
   "id": "e3b3bbf1",
   "metadata": {},
   "outputs": [
    {
     "name": "stdout",
     "output_type": "stream",
     "text": [
      "ship boat sea time captain world man deck pequod other whales air\n",
      "water head crew line thing side way body\n"
     ]
    }
   ],
   "source": [
    "text1.similar('whale')  #string이어야함"
   ]
  },
  {
   "cell_type": "code",
   "execution_count": 151,
   "id": "c2d16237",
   "metadata": {},
   "outputs": [
    {
     "name": "stdout",
     "output_type": "stream",
     "text": [
      "am_glad a_pretty a_lucky is_pretty be_glad\n"
     ]
    }
   ],
   "source": [
    "text2.common_contexts(['monstrous', 'very']) #list이어야 함"
   ]
  },
  {
   "cell_type": "code",
   "execution_count": 156,
   "id": "a711dee2",
   "metadata": {},
   "outputs": [
    {
     "data": {
      "image/png": "[encoded data removed]",
      "text/plain": [
       "<Figure size 432x288 with 1 Axes>"
      ]
     },
     "metadata": {
      "needs_background": "light"
     },
     "output_type": "display_data"
    }
   ],
   "source": [
    "text4.dispersion_plot(['people', 'love', 'finally'])"
   ]
  },
  {
   "cell_type": "markdown",
   "id": "eae70f67",
   "metadata": {},
   "source": [
    "### Frequency Distribution\n",
    "- 단어의 빈도수를 활용할 수 있는 많은 메소드 제공\n",
    "- 인간의 언어 -> 컴퓨터가 인식\n",
    "    - 전체 단어 수\n",
    "    - 특정 무언가의 빈도수 출력(by graph)"
   ]
  },
  {
   "cell_type": "code",
   "execution_count": 159,
   "id": "a49bbbf9",
   "metadata": {},
   "outputs": [
    {
     "data": {
      "text/plain": [
       "FreqDist({',': 18713, 'the': 13721, '.': 6862, 'of': 6536, 'and': 6024, 'a': 4569, 'to': 4542, ';': 4072, 'in': 3916, 'that': 2982, ...})"
      ]
     },
     "execution_count": 159,
     "metadata": {},
     "output_type": "execute_result"
    }
   ],
   "source": [
    "fdist = FreqDist(text1) #안되면 nltk.FreqDist 써\n",
    "fdist  #dictionary = key:value"
   ]
  },
  {
   "cell_type": "code",
   "execution_count": 160,
   "id": "98088ab6",
   "metadata": {},
   "outputs": [
    {
     "data": {
      "text/plain": [
       "[(',', 18713), ('the', 13721), ('.', 6862), ('of', 6536), ('and', 6024)]"
      ]
     },
     "execution_count": 160,
     "metadata": {},
     "output_type": "execute_result"
    }
   ],
   "source": [
    "FreqDist(text1).most_common(5)"
   ]
  },
  {
   "cell_type": "code",
   "execution_count": 162,
   "id": "d4946cde",
   "metadata": {},
   "outputs": [
    {
     "data": {
      "text/plain": [
       "[(',', 18713), ('the', 13721), ('.', 6862), ('of', 6536), ('and', 6024)]"
      ]
     },
     "execution_count": 162,
     "metadata": {},
     "output_type": "execute_result"
    }
   ],
   "source": [
    "fdist.most_common(5)"
   ]
  },
  {
   "cell_type": "code",
   "execution_count": 163,
   "id": "d8e8dfcc",
   "metadata": {},
   "outputs": [
    {
     "data": {
      "text/plain": [
       "(906, 906)"
      ]
     },
     "execution_count": 163,
     "metadata": {},
     "output_type": "execute_result"
    }
   ],
   "source": [
    "fdist['whale'], text1.count('whale') #count가 일일이 다 세는 거여서 fdist가 효율적임"
   ]
  },
  {
   "cell_type": "code",
   "execution_count": 166,
   "id": "eeb5211d",
   "metadata": {},
   "outputs": [
    {
     "data": {
      "text/plain": [
       "(0.003473673313677301, 0.003473673313677301)"
      ]
     },
     "execution_count": 166,
     "metadata": {},
     "output_type": "execute_result"
    }
   ],
   "source": [
    "fdist.freq('whale'), FreqDist(text1).freq('whale')"
   ]
  },
  {
   "cell_type": "code",
   "execution_count": 167,
   "id": "8d6ce317",
   "metadata": {
    "scrolled": true
   },
   "outputs": [
    {
     "data": {
      "image/png": "[encoded data removed]",
      "text/plain": [
       "<Figure size 432x288 with 1 Axes>"
      ]
     },
     "metadata": {
      "needs_background": "light"
     },
     "output_type": "display_data"
    },
    {
     "data": {
      "text/plain": [
       "<AxesSubplot:xlabel='Samples', ylabel='Counts'>"
      ]
     },
     "execution_count": 167,
     "metadata": {},
     "output_type": "execute_result"
    }
   ],
   "source": [
    "FreqDist(text1).plot(50, cumulative=False) #True값은 상승곡선, False값은 하강곡선"
   ]
  },
  {
   "cell_type": "code",
   "execution_count": 168,
   "id": "412d3b5c",
   "metadata": {},
   "outputs": [
    {
     "data": {
      "image/png": "[encoded data removed]",
      "text/plain": [
       "<Figure size 432x288 with 1 Axes>"
      ]
     },
     "metadata": {
      "needs_background": "light"
     },
     "output_type": "display_data"
    },
    {
     "data": {
      "text/plain": [
       "<AxesSubplot:xlabel='Samples', ylabel='Cumulative Counts'>"
      ]
     },
     "execution_count": 168,
     "metadata": {},
     "output_type": "execute_result"
    }
   ],
   "source": [
    "fdist.plot(20, cumulative=True)"
   ]
  },
  {
   "cell_type": "code",
   "execution_count": 169,
   "id": "79c5d233",
   "metadata": {},
   "outputs": [
    {
     "data": {
      "text/plain": [
       "9002"
      ]
     },
     "execution_count": 169,
     "metadata": {},
     "output_type": "execute_result"
    }
   ],
   "source": [
    "# 한번 나타나는 단어들\n",
    "len(fdist.hapaxes()) #중복 안됨 but 대소문자는 구분"
   ]
  },
  {
   "cell_type": "code",
   "execution_count": 172,
   "id": "4a6316b9",
   "metadata": {},
   "outputs": [],
   "source": [
    "# fdist.hapaxes() 출력했는데 모든 단어 나옴"
   ]
  },
  {
   "cell_type": "markdown",
   "id": "acbece28",
   "metadata": {},
   "source": [
    "### List & List Comprehension\n",
    "- 리스트:\n",
    "    - 다른 언어: 배열(array)\n",
    "    - 파이썬: 리스트(list)\n",
    "- 하나의 변수에 여러 값을 할당하는 자료형\n",
    "    - a = [1, 2, 3, 4, 5]\n",
    "- 대괄호로 선언 [  ]\n",
    "- 내부 요소들은 자료형이 달라도 됨\n",
    "    - a = [1, True, 'hello']\n",
    "- 순서가 있다 => 인덱싱, 슬라이싱 가능\n",
    "- 빈 리스트 선언: list(), []"
   ]
  },
  {
   "cell_type": "code",
   "execution_count": 173,
   "id": "26d331c6",
   "metadata": {},
   "outputs": [
    {
     "data": {
      "text/plain": [
       "['hello', True, 1]"
      ]
     },
     "execution_count": 173,
     "metadata": {},
     "output_type": "execute_result"
    }
   ],
   "source": [
    "a = [1, True, 'hello']\n",
    "a[::-1]"
   ]
  },
  {
   "cell_type": "code",
   "execution_count": 175,
   "id": "642b54df",
   "metadata": {},
   "outputs": [],
   "source": [
    "# 빈 리스트 선언\n",
    "b = []\n",
    "b = list()"
   ]
  },
  {
   "cell_type": "code",
   "execution_count": 5,
   "id": "70f7c916",
   "metadata": {},
   "outputs": [
    {
     "data": {
      "text/plain": [
       "'juice'"
      ]
     },
     "execution_count": 5,
     "metadata": {},
     "output_type": "execute_result"
    }
   ],
   "source": [
    "drinks = ['rum', 'beer', 'soju', 'water', 'juice']\n",
    "drinks[-1]"
   ]
  },
  {
   "cell_type": "code",
   "execution_count": 178,
   "id": "d7d40234",
   "metadata": {},
   "outputs": [
    {
     "data": {
      "text/plain": [
       "2"
      ]
     },
     "execution_count": 178,
     "metadata": {},
     "output_type": "execute_result"
    }
   ],
   "source": [
    "# drinks에서 soju의 오프셋을 알고 싶다\n",
    "drinks.index('soju')"
   ]
  },
  {
   "cell_type": "markdown",
   "id": "d35289f4",
   "metadata": {},
   "source": [
    "### list comprehension\n",
    "- 지능형 리스트\n",
    "- 주어진 리스트를 포함하는 새로운 리스트를 형성하는 것\n",
    "- list + for_loop 한 줄로 해결하는 방식\n",
    "- [A for A' in B]\n",
    "    - B에 있는 A'에서 A를 가진 리스트를 반환\n",
    "    - B: 기존의 리스트\n",
    "    - A': B의 자료 형태\n",
    "    - A: 새로운 리스트의 요소\n",
    "- 조건+:\n",
    "    - [A for A' in B if <조건식>]\n",
    "    - [A for A' in B if <조건식> and <조건식>,...]"
   ]
  },
  {
   "cell_type": "code",
   "execution_count": 180,
   "id": "cd47a3ff",
   "metadata": {},
   "outputs": [
    {
     "data": {
      "text/plain": [
       "['rum', 'beer', 'soju', 'water', 'juice']"
      ]
     },
     "execution_count": 180,
     "metadata": {},
     "output_type": "execute_result"
    }
   ],
   "source": [
    "[d for d in drinks]"
   ]
  },
  {
   "cell_type": "code",
   "execution_count": 182,
   "id": "f47fcbb0",
   "metadata": {},
   "outputs": [
    {
     "data": {
      "text/plain": [
       "['m', 'e', 'j', 't', 'i']"
      ]
     },
     "execution_count": 182,
     "metadata": {},
     "output_type": "execute_result"
    }
   ],
   "source": [
    "[d[2] for d in drinks]"
   ]
  },
  {
   "cell_type": "code",
   "execution_count": 183,
   "id": "49c622fd",
   "metadata": {},
   "outputs": [],
   "source": [
    "# 알파벳 수가 10 이상인 단어 출력"
   ]
  },
  {
   "cell_type": "code",
   "execution_count": 188,
   "id": "064b0e1c",
   "metadata": {},
   "outputs": [],
   "source": [
    "#[word for word in text1] #text1 출력값과 동일함\n",
    "#[word for word in text1 if len(word) >= 10]"
   ]
  },
  {
   "cell_type": "code",
   "execution_count": 6,
   "id": "392d9bf6",
   "metadata": {},
   "outputs": [
    {
     "data": {
      "text/plain": [
       "{'Sovereignty', 'sovereignties', 'sovereignty'}"
      ]
     },
     "execution_count": 6,
     "metadata": {},
     "output_type": "execute_result"
    }
   ],
   "source": [
    "# text4에서 'gnt'를 포함한 단어 반환\n",
    "[word for word in text4 if 'gnt' in word] #모든 sovereignty가 나옴\n",
    "[word for word in set(text4) if 'gnt' in word] #the, The 공존 --> 중복 없앰\n",
    "set([word for word in text4 if 'gnt' in word]) #연산 --> 중복 없앰"
   ]
  },
  {
   "cell_type": "code",
   "execution_count": 5,
   "id": "28c1dcbb",
   "metadata": {},
   "outputs": [],
   "source": [
    "#my answer: wrong\n",
    "#[word for word in text4 if gnt in word] #gnt != 'gnt'"
   ]
  },
  {
   "cell_type": "markdown",
   "id": "4327a5be",
   "metadata": {},
   "source": [
    "### 조건을 위한 함수; uncased, cased\n",
    "- 'the' != 'The'\n",
    "- upper(), lower(), title() #upper과 lower은 전체/title은 첫 글자만 대문자로 변환\n",
    "- capitalize(), swapcase()\n",
    "- isupper(), islower(), istitle() # True or False라고 출력됨\n",
    "- endswith(), startswith(), isalpha() #알파벳인지 True or False"
   ]
  },
  {
   "cell_type": "code",
   "execution_count": 7,
   "id": "742cc7de",
   "metadata": {},
   "outputs": [
    {
     "data": {
      "text/plain": [
       "False"
      ]
     },
     "execution_count": 7,
     "metadata": {},
     "output_type": "execute_result"
    }
   ],
   "source": [
    "'Word'.isupper() #하나만 대문자인 경우 False"
   ]
  },
  {
   "cell_type": "code",
   "execution_count": 11,
   "id": "b61ccd17",
   "metadata": {},
   "outputs": [
    {
     "data": {
      "text/plain": [
       "False"
      ]
     },
     "execution_count": 11,
     "metadata": {},
     "output_type": "execute_result"
    }
   ],
   "source": [
    "'alphabet1'.isalpha() #숫자가 있으니, 기호가 있어도 False"
   ]
  },
  {
   "cell_type": "code",
   "execution_count": 10,
   "id": "06f53cae",
   "metadata": {},
   "outputs": [
    {
     "data": {
      "text/plain": [
       "True"
      ]
     },
     "execution_count": 10,
     "metadata": {},
     "output_type": "execute_result"
    }
   ],
   "source": [
    "'word'.startswith('w')"
   ]
  },
  {
   "cell_type": "code",
   "execution_count": 12,
   "id": "29d259b6",
   "metadata": {},
   "outputs": [
    {
     "data": {
      "text/plain": [
       "'yUKYUNG'"
      ]
     },
     "execution_count": 12,
     "metadata": {},
     "output_type": "execute_result"
    }
   ],
   "source": [
    "'Yukyung'.swapcase()"
   ]
  },
  {
   "cell_type": "code",
   "execution_count": 13,
   "id": "b1e92a13",
   "metadata": {},
   "outputs": [
    {
     "data": {
      "text/plain": [
       "'Lee'"
      ]
     },
     "execution_count": 13,
     "metadata": {},
     "output_type": "execute_result"
    }
   ],
   "source": [
    "'lee'.title()"
   ]
  },
  {
   "cell_type": "code",
   "execution_count": 15,
   "id": "44592ddd",
   "metadata": {},
   "outputs": [
    {
     "data": {
      "text/plain": [
       "['uncomfortableness',\n",
       " 'comfortableness',\n",
       " 'intolerableness',\n",
       " 'immutableness',\n",
       " 'indomitableness',\n",
       " 'reasonableness',\n",
       " 'indispensableness',\n",
       " 'indomitableness',\n",
       " 'honourableness',\n",
       " 'palpableness']"
      ]
     },
     "execution_count": 15,
     "metadata": {},
     "output_type": "execute_result"
    }
   ],
   "source": [
    "#text1에서 'ableness'로 끝나는 단어 반환\n",
    "[word for word in text1 if word.endswith('ableness')]"
   ]
  },
  {
   "cell_type": "code",
   "execution_count": 21,
   "id": "7faee1ee",
   "metadata": {},
   "outputs": [
    {
     "data": {
      "text/plain": [
       "['UNSTABLE',\n",
       " 'THEREFORE',\n",
       " 'ASHKENAZ',\n",
       " 'WHEREAS',\n",
       " 'DINHABAH',\n",
       " 'HUSHAM',\n",
       " 'SEE',\n",
       " 'EPHAH',\n",
       " 'LET',\n",
       " 'WHENCE',\n",
       " 'JAALAM',\n",
       " 'ABELMIZRAIM',\n",
       " 'ZILLAH',\n",
       " 'GIVE',\n",
       " 'NOD',\n",
       " 'BAALHANAN',\n",
       " 'NINEVEH',\n",
       " 'NAHATH',\n",
       " 'JETHETH',\n",
       " 'ZERAH',\n",
       " 'TWO',\n",
       " 'MIZRAIM',\n",
       " 'HARAN',\n",
       " 'EBAL',\n",
       " 'NAPHTALI',\n",
       " 'PERIZZITES',\n",
       " 'CANAANITES',\n",
       " 'FEED',\n",
       " 'BLESSED',\n",
       " 'DOTHAN',\n",
       " 'ABIMELECH',\n",
       " 'SETH',\n",
       " 'HAM',\n",
       " 'CHERAN',\n",
       " 'PADAN',\n",
       " 'ASHER',\n",
       " 'HADAR',\n",
       " 'SHIMRON',\n",
       " 'MIZZ',\n",
       " 'THOU',\n",
       " 'PHICHOL',\n",
       " 'KEDAR',\n",
       " 'TIMNAH',\n",
       " 'ESHBAN',\n",
       " 'MERARI',\n",
       " 'HEAR',\n",
       " 'MIZPAH',\n",
       " 'HANOCH',\n",
       " 'KOR',\n",
       " 'AKAN',\n",
       " 'BELAH',\n",
       " 'ARELI',\n",
       " 'ZIMRAN',\n",
       " 'DINAH',\n",
       " 'HAZEZONTAMAR',\n",
       " 'JEGARSAHADUTHA',\n",
       " 'HITTI',\n",
       " 'TAKE',\n",
       " 'HITTITES',\n",
       " 'DAN',\n",
       " 'TIDAL',\n",
       " 'SAMLAH',\n",
       " 'JUBAL',\n",
       " 'MATRED',\n",
       " 'COME',\n",
       " 'BABEL',\n",
       " 'ABIDE',\n",
       " 'ENO',\n",
       " 'ZARAH',\n",
       " 'NEBAJOTH',\n",
       " 'HEZRON',\n",
       " 'ABRAM',\n",
       " 'GALEED',\n",
       " 'THEY',\n",
       " 'ESHCOL',\n",
       " 'ENOS',\n",
       " 'WHICH',\n",
       " 'ASHTEROTH',\n",
       " 'EGY',\n",
       " 'ZEPHO',\n",
       " 'IRAM',\n",
       " 'RETURN',\n",
       " 'HADAD',\n",
       " 'REBEKAH',\n",
       " 'HEBER',\n",
       " 'HIS',\n",
       " 'JAHLEEL',\n",
       " 'ELAH',\n",
       " 'WHEREFORE',\n",
       " 'PAU',\n",
       " 'NAAMAN',\n",
       " 'HAST',\n",
       " 'ERI',\n",
       " 'MALCHIEL',\n",
       " 'METHUSAEL',\n",
       " 'BENJAMIN',\n",
       " 'SINITE',\n",
       " 'WHOSE',\n",
       " 'DAMASCUS',\n",
       " 'PHALLU',\n",
       " 'FOR',\n",
       " 'HUL',\n",
       " 'KETURAH',\n",
       " 'ADAH',\n",
       " 'JAMIN',\n",
       " 'HIRAH',\n",
       " 'ROSH',\n",
       " 'SHECHEM',\n",
       " 'FIFTEEN',\n",
       " 'ZEBULUN',\n",
       " 'JAPHE',\n",
       " 'SPAKE',\n",
       " 'AMORITES',\n",
       " 'SPEAK',\n",
       " 'SELL',\n",
       " 'CANA',\n",
       " 'ONAM',\n",
       " 'ISRAEL',\n",
       " 'NAY',\n",
       " 'HAGAR',\n",
       " 'AHUZZATH',\n",
       " 'MISHMA',\n",
       " 'MEHUJAEL',\n",
       " 'BINDING',\n",
       " 'METHUSELAH',\n",
       " 'THERE',\n",
       " 'GIRGASHITES',\n",
       " 'HAMUL',\n",
       " 'ALMIGHTY',\n",
       " 'ALL',\n",
       " 'ERECH',\n",
       " 'LAHAIROI',\n",
       " 'MESHA',\n",
       " 'JORDAN',\n",
       " 'SHALL',\n",
       " 'CALNEH',\n",
       " 'KADESH',\n",
       " 'SHILOH',\n",
       " 'BEDAD',\n",
       " 'ZEBOIIM',\n",
       " 'BOW',\n",
       " 'EUPHRAT',\n",
       " 'DISCERN',\n",
       " 'FORGIVE',\n",
       " 'CHEDORLAOMER',\n",
       " 'HORITE',\n",
       " 'CANAAN',\n",
       " 'MAGDIEL',\n",
       " 'ALSO',\n",
       " 'MIBSAM',\n",
       " 'SOD',\n",
       " 'TUBAL',\n",
       " 'UZAL',\n",
       " 'PHARAOH',\n",
       " 'ONLY',\n",
       " 'TEMAN',\n",
       " 'PISON',\n",
       " 'JIDLAPH',\n",
       " 'NIGHT',\n",
       " 'ARAM',\n",
       " 'CAUSE',\n",
       " 'ZILPAH',\n",
       " 'LUD',\n",
       " 'YEA',\n",
       " 'SHUR',\n",
       " 'TOGARMAH',\n",
       " 'SAID',\n",
       " 'HAPPY',\n",
       " 'THUS',\n",
       " 'PATHRUSIM',\n",
       " 'MALE',\n",
       " 'BEWARE',\n",
       " 'SHAVEH',\n",
       " 'FEAR',\n",
       " 'HEMAM',\n",
       " 'STAND',\n",
       " 'LIFT',\n",
       " 'CARMI',\n",
       " 'HUPPIM',\n",
       " 'TAMAR',\n",
       " 'ELISHAH',\n",
       " 'JEHOVAHJIREH',\n",
       " 'MACHPELAH',\n",
       " 'HEREBY',\n",
       " 'EGYPTIANS',\n",
       " 'KORAH',\n",
       " 'MELCHIZEDEK',\n",
       " 'BIRSHA',\n",
       " 'THY',\n",
       " 'MADAI',\n",
       " 'GATAM',\n",
       " 'BERIAH',\n",
       " 'GOMER',\n",
       " 'RACHEL',\n",
       " 'SURELY',\n",
       " 'ARKITE',\n",
       " 'TIMNA',\n",
       " 'CHEZIB',\n",
       " 'SHE',\n",
       " 'PHARA',\n",
       " 'JACHIN',\n",
       " 'ALMODAD',\n",
       " 'ARIOCH',\n",
       " 'KARNAIM',\n",
       " 'HINDER',\n",
       " 'KENIZZITES',\n",
       " 'JOBAB',\n",
       " 'KADMONITES',\n",
       " 'FILL',\n",
       " 'MAHALALEEL',\n",
       " 'HAGGI',\n",
       " 'KENAZ',\n",
       " 'OPHIR',\n",
       " 'THORNS',\n",
       " 'OUR',\n",
       " 'SWEAR',\n",
       " 'PELEG',\n",
       " 'SEIR',\n",
       " 'BECAUSE',\n",
       " 'ELPARAN',\n",
       " 'JAPHETH',\n",
       " 'MAHANAIM',\n",
       " 'SEPHAR',\n",
       " 'HEBREW',\n",
       " 'OHAD',\n",
       " 'BENO',\n",
       " 'LEHABIM',\n",
       " 'ELAM',\n",
       " 'ARPHAXAD',\n",
       " 'REUMAH',\n",
       " 'PHAREZ',\n",
       " 'YET',\n",
       " 'PHILISTINES',\n",
       " 'ABIMAEL',\n",
       " 'BENAM',\n",
       " 'SAY',\n",
       " 'DAY',\n",
       " 'BILHAH',\n",
       " 'HAZO',\n",
       " 'PENUEL',\n",
       " 'NAAMAH',\n",
       " 'OMAR',\n",
       " 'CAIN',\n",
       " 'SEEING',\n",
       " 'SHEM',\n",
       " 'SHOULD',\n",
       " 'REUB',\n",
       " 'CHERUBIMS',\n",
       " 'AMORITE',\n",
       " 'LETUSHIM',\n",
       " 'BERA',\n",
       " 'THIS',\n",
       " 'HEBRON',\n",
       " 'JEBUSITE',\n",
       " 'SARAI',\n",
       " 'EDOMITES',\n",
       " 'MAKE',\n",
       " 'OBAL',\n",
       " 'TARSHISH',\n",
       " 'AND',\n",
       " 'DUMAH',\n",
       " 'ARISE',\n",
       " 'METHUSA',\n",
       " 'GOSHEN',\n",
       " 'POTIPHAR',\n",
       " 'LORD',\n",
       " 'REBEK',\n",
       " 'NOT',\n",
       " 'JEUSH',\n",
       " 'SHEMEBER',\n",
       " 'ASSYRIA',\n",
       " 'GERA',\n",
       " 'ISAAC',\n",
       " 'ANER',\n",
       " 'PILDASH',\n",
       " 'HETH',\n",
       " 'ARAN',\n",
       " 'PINON',\n",
       " 'SHINAB',\n",
       " 'ISCAH',\n",
       " 'ISSACHAR',\n",
       " 'ASK',\n",
       " 'ARE',\n",
       " 'TERAH',\n",
       " 'DRINK',\n",
       " 'SABTAH',\n",
       " 'EBER',\n",
       " 'NAPHISH',\n",
       " 'ESEK',\n",
       " 'BEERSHEBA',\n",
       " 'LEVI',\n",
       " 'LEST',\n",
       " 'BILHAN',\n",
       " 'AFTER',\n",
       " 'AHOLIBAMAH',\n",
       " 'BOZRAH',\n",
       " 'GOMORRAH',\n",
       " 'BEERI',\n",
       " 'ENOCH',\n",
       " 'BETHEL',\n",
       " 'PERADVENTURE',\n",
       " 'LOTAN',\n",
       " 'ADBEEL',\n",
       " 'JOB',\n",
       " 'JACOB',\n",
       " 'EPHRON',\n",
       " 'WHO',\n",
       " 'PEACE',\n",
       " 'ABEL',\n",
       " 'ACCAD',\n",
       " 'MASH',\n",
       " 'ACHBOR',\n",
       " 'JOKTAN',\n",
       " 'ARVADITE',\n",
       " 'IRAD',\n",
       " 'ADMAH',\n",
       " 'MEHETABEL',\n",
       " 'ISHMAEL',\n",
       " 'SHUNI',\n",
       " 'FULFIL',\n",
       " 'ZOAR',\n",
       " 'JEZER',\n",
       " 'ISRA',\n",
       " 'JETUR',\n",
       " 'HAMOR',\n",
       " 'KOHATH',\n",
       " 'EZBON',\n",
       " 'SHED',\n",
       " 'ONAN',\n",
       " 'ELIPHAZ',\n",
       " 'PASS',\n",
       " 'EPHRA',\n",
       " 'BEOR',\n",
       " 'REHOBOTH',\n",
       " 'SITNAH',\n",
       " 'JIMNAH',\n",
       " 'ELIEZER',\n",
       " 'JARED',\n",
       " 'JOKSHAN',\n",
       " 'NAHOR',\n",
       " 'ZEBOIM',\n",
       " 'TUBALCAIN',\n",
       " 'ABRAH',\n",
       " 'NIMROD',\n",
       " 'SHELAH',\n",
       " 'CASLUHIM',\n",
       " 'TIRAS',\n",
       " 'THAT',\n",
       " 'REMAIN',\n",
       " 'ARBAH',\n",
       " 'PERIZZITE',\n",
       " 'KIRIATHAIM',\n",
       " 'LAMECH',\n",
       " 'JAC',\n",
       " 'SHALT',\n",
       " 'RESEN',\n",
       " 'EUPHRATES',\n",
       " 'GERAR',\n",
       " 'KIRJATHARBA',\n",
       " 'DELIVER',\n",
       " 'MOREH',\n",
       " 'CAPHTORIM',\n",
       " 'SOME',\n",
       " 'MAM',\n",
       " 'WHEN',\n",
       " 'ENMISHPAT',\n",
       " 'UPON',\n",
       " 'ZIDON',\n",
       " 'ESCAPE',\n",
       " 'MASSA',\n",
       " 'ZEMARITE',\n",
       " 'GENTILES',\n",
       " 'RIPHATH',\n",
       " 'BELA',\n",
       " 'MACHIR',\n",
       " 'LABAN',\n",
       " 'FROM',\n",
       " 'DEDAN',\n",
       " 'EXCEPT',\n",
       " 'PENIEL',\n",
       " 'HAI',\n",
       " 'TIMNATH',\n",
       " 'PHILISTIM',\n",
       " 'EDAR',\n",
       " 'GUNI',\n",
       " 'MOAB',\n",
       " 'MANAHATH',\n",
       " 'EVERY',\n",
       " 'EDOM',\n",
       " 'JABBOK',\n",
       " 'SHOBAL',\n",
       " 'SHEL',\n",
       " 'GILEAD',\n",
       " 'DIKLAH',\n",
       " 'EPHER',\n",
       " 'ETHIOPIA',\n",
       " 'EZER',\n",
       " 'ARD',\n",
       " 'OUT',\n",
       " 'TEMA',\n",
       " 'MASREKAH',\n",
       " 'THEN',\n",
       " 'MAN',\n",
       " 'AMAL',\n",
       " 'TEMANI',\n",
       " 'PUT',\n",
       " 'THESE',\n",
       " 'DIN',\n",
       " 'REUEL',\n",
       " 'SHEBA',\n",
       " 'GIRGASITE',\n",
       " 'LASHA',\n",
       " 'SIMEON',\n",
       " 'SHAMMAH',\n",
       " 'ASSHUR',\n",
       " 'MAACHAH',\n",
       " 'CAST',\n",
       " 'MESOPOTAMIA',\n",
       " 'JEBUSITES',\n",
       " 'PHUVAH',\n",
       " 'REPHAIMS',\n",
       " 'GAZA',\n",
       " 'ART',\n",
       " 'FORASMUCH',\n",
       " 'HAVE',\n",
       " 'HAZARMAVETH',\n",
       " 'HORI',\n",
       " 'AVITH',\n",
       " 'SALAH',\n",
       " 'TWELVE',\n",
       " 'HOBAH',\n",
       " 'MIBZAR',\n",
       " 'LAY',\n",
       " 'ZUZIMS',\n",
       " 'HUZ',\n",
       " 'BUT',\n",
       " 'ABRAHAM',\n",
       " 'EVE',\n",
       " 'ZEBUL',\n",
       " 'RAMESES',\n",
       " 'SEBA',\n",
       " 'JERAH',\n",
       " 'SHEBAH',\n",
       " 'KNOW',\n",
       " 'EPHRAIM',\n",
       " 'SAVE',\n",
       " 'WHERE',\n",
       " 'BETHUEL',\n",
       " 'AMALEKITES',\n",
       " 'WHILE',\n",
       " 'ZAR',\n",
       " 'SODOM',\n",
       " 'ELBETHEL',\n",
       " 'MAHALATH',\n",
       " 'EGYPT',\n",
       " 'HOW',\n",
       " 'DODANIM',\n",
       " 'NAPHTUHIM',\n",
       " 'REUBEN',\n",
       " 'SALEM',\n",
       " 'NOW',\n",
       " 'BERED',\n",
       " 'BEHOLD',\n",
       " 'PERIZZIT',\n",
       " 'SPIRIT',\n",
       " 'GAD',\n",
       " 'MORIAH',\n",
       " 'LOT',\n",
       " 'POTIPHERAH',\n",
       " 'BASHEMATH',\n",
       " 'CHESED',\n",
       " 'SUCCOTH',\n",
       " 'EHI',\n",
       " 'TELL',\n",
       " 'SICHEM',\n",
       " 'MESHECH',\n",
       " 'ISHMEELITES',\n",
       " 'SOJOURN',\n",
       " 'CURSED',\n",
       " 'ELON',\n",
       " 'EGYPTIAN',\n",
       " 'PARAN',\n",
       " 'MILCAH',\n",
       " 'DUKE',\n",
       " 'ANAMIM',\n",
       " 'THIRTY',\n",
       " 'SYRIAN',\n",
       " 'ESAU',\n",
       " 'ELELOHEISRAEL',\n",
       " 'SHELEPH',\n",
       " 'HEAVEN',\n",
       " 'BEERLAHAIROI',\n",
       " 'MEDAN',\n",
       " 'AMALEK',\n",
       " 'CALAH',\n",
       " 'ZIPHION',\n",
       " 'GIHON',\n",
       " 'REU',\n",
       " 'JUDITH',\n",
       " 'SARAH',\n",
       " 'HAMATHITE',\n",
       " 'KEDEMAH',\n",
       " 'BETHLEHEM',\n",
       " 'WOMAN',\n",
       " 'ALVAH',\n",
       " 'SERAH',\n",
       " 'CANAANITISH',\n",
       " 'JUDGE',\n",
       " 'ADULLAMITE',\n",
       " 'DISHON',\n",
       " 'WILT',\n",
       " 'JOSEPH',\n",
       " 'SHINAR',\n",
       " 'THE',\n",
       " 'EPHRATH',\n",
       " 'JAHZEEL',\n",
       " 'SERUG',\n",
       " 'GAHAM',\n",
       " 'SHILLEM',\n",
       " 'HADORAM',\n",
       " 'MIDIANITES',\n",
       " 'JEMUEL',\n",
       " 'ASHBEL',\n",
       " 'SHEPHO',\n",
       " 'WHAT',\n",
       " 'EDEN',\n",
       " 'SIDON',\n",
       " 'ISHUAH',\n",
       " 'CUSH',\n",
       " 'EGYPTIA',\n",
       " 'WHY',\n",
       " 'ARARAT',\n",
       " 'JUDAH',\n",
       " 'ALVAN',\n",
       " 'HUSHIM',\n",
       " 'ISA',\n",
       " 'ARODI',\n",
       " 'ZAPHNATHPAANEAH',\n",
       " 'DISHAN',\n",
       " 'LEAH',\n",
       " 'LUZ',\n",
       " 'WHOSO',\n",
       " 'ASENATH',\n",
       " 'BOTH',\n",
       " 'SHALEM',\n",
       " 'AMRAPHEL',\n",
       " 'MANASS',\n",
       " 'GOD',\n",
       " 'ASSHURIM',\n",
       " 'HORITES',\n",
       " 'AJAH',\n",
       " 'JABAL',\n",
       " 'ISUI',\n",
       " 'ISHBAK',\n",
       " 'CHALDEES',\n",
       " 'BECHER',\n",
       " 'RAAMAH',\n",
       " 'HEBREWS',\n",
       " 'HIVITE',\n",
       " 'DEBORAH',\n",
       " 'SIDDIM',\n",
       " 'LIE',\n",
       " 'HERE',\n",
       " 'ABIDAH',\n",
       " 'CAN',\n",
       " 'CAINAN',\n",
       " 'ABR',\n",
       " 'SLAY',\n",
       " 'UNTIL',\n",
       " 'APPOINT',\n",
       " 'EARTH',\n",
       " 'NOAH',\n",
       " 'ELLASAR',\n",
       " 'TEBAH',\n",
       " 'BRING',\n",
       " 'SHUAH',\n",
       " 'NEITHER',\n",
       " 'PHUT',\n",
       " 'WITH',\n",
       " 'GERSHON',\n",
       " 'MANASSEH',\n",
       " 'LEUMMIM',\n",
       " 'ZOHAR',\n",
       " 'ZAAVAN',\n",
       " 'MAGOG',\n",
       " 'HASTE',\n",
       " 'GETHER',\n",
       " 'ZIBEON',\n",
       " 'SERED',\n",
       " 'ADAM',\n",
       " 'ANGEL',\n",
       " 'SET',\n",
       " 'BUZ',\n",
       " 'LUDIM',\n",
       " 'CANAANITE',\n",
       " 'ATAD',\n",
       " 'MAMRE',\n",
       " 'EMINS',\n",
       " 'ANAH',\n",
       " 'ALLONBACHUTH',\n",
       " 'ITHRAN',\n",
       " 'HITTITE',\n",
       " 'MIDIAN',\n",
       " 'KEMUEL',\n",
       " 'HEMDAN',\n",
       " 'THAHASH',\n",
       " 'LOOK',\n",
       " 'ELDAAH',\n",
       " 'SEND',\n",
       " 'HIDDEKEL',\n",
       " 'SHAUL',\n",
       " 'TOLA',\n",
       " 'SABTECH',\n",
       " 'HAVILAH',\n",
       " 'JAVAN',\n",
       " 'BLESS',\n",
       " 'PADANARAM',\n",
       " 'SAUL',\n",
       " 'MEZAHAB',\n",
       " 'ASSYR',\n",
       " 'MOABITES',\n",
       " 'MUPPIM',\n",
       " 'GET',\n",
       " 'AMMON',\n",
       " 'EVEN',\n",
       " 'GATHER',\n",
       " 'KENITES',\n",
       " 'KITTIM',\n",
       " 'MOREOVER',\n",
       " 'UNTO']"
      ]
     },
     "execution_count": 21,
     "metadata": {},
     "output_type": "execute_result"
    }
   ],
   "source": [
    "#text3 대문자로 시작하는 단어들 중에 길이가 3 이상인 단어 -> 중복 없이 뽑자 -> 대문자로 반환하자\n",
    "[word.upper() for word in set(text3) if word[0].isupper()==True and len(word) >= 3]\n",
    "#word.upper() 이 부분 주의"
   ]
  },
  {
   "cell_type": "code",
   "execution_count": 2,
   "id": "5e7a3f8e",
   "metadata": {},
   "outputs": [],
   "source": [
    "#other answers\n",
    "#[word for word in book.text3 if word.istitle() and len(word) >= 3]\n",
    "#[word for word in set(text3) if word[0].isupper==True and len(word) >= 3]"
   ]
  },
  {
   "cell_type": "code",
   "execution_count": null,
   "id": "e58931d6",
   "metadata": {},
   "outputs": [],
   "source": [
    "# set -> upper 중복 없애도 대소문자 공존. 그대로 upper\n",
    "# upper -> set 원래 upper lower 다른 거 다 똑같이 upper하고 중복 없앰\n",
    "# 순서에 따라 출력값이 다르다."
   ]
  },
  {
   "cell_type": "code",
   "execution_count": 6,
   "id": "7e9649d3",
   "metadata": {},
   "outputs": [
    {
     "data": {
      "text/plain": [
       "\"['rum', 'beer', 'soju', 'water', 'juice']\""
      ]
     },
     "execution_count": 6,
     "metadata": {},
     "output_type": "execute_result"
    }
   ],
   "source": [
    "str(drinks)"
   ]
  },
  {
   "cell_type": "code",
   "execution_count": 12,
   "id": "ae139d3f",
   "metadata": {},
   "outputs": [],
   "source": [
    "fdist4 = FreqDist(text4)"
   ]
  },
  {
   "cell_type": "code",
   "execution_count": 14,
   "id": "3d431eb9",
   "metadata": {},
   "outputs": [
    {
     "data": {
      "text/plain": [
       "[6,\n",
       " 8,\n",
       " 6,\n",
       " 5,\n",
       " 15,\n",
       " 12,\n",
       " 8,\n",
       " 4,\n",
       " 5,\n",
       " 5,\n",
       " 4,\n",
       " 6,\n",
       " 4,\n",
       " 7,\n",
       " 4,\n",
       " 4,\n",
       " 5,\n",
       " 4,\n",
       " 5,\n",
       " 8,\n",
       " 7,\n",
       " 4,\n",
       " 8,\n",
       " 7,\n",
       " 5,\n",
       " 5,\n",
       " 5,\n",
       " 4,\n",
       " 4,\n",
       " 10,\n",
       " 4,\n",
       " 4,\n",
       " 7,\n",
       " 5,\n",
       " 6,\n",
       " 4,\n",
       " 5,\n",
       " 4,\n",
       " 8,\n",
       " 5,\n",
       " 7,\n",
       " 5,\n",
       " 8,\n",
       " 5,\n",
       " 4,\n",
       " 9,\n",
       " 4,\n",
       " 4,\n",
       " 4,\n",
       " 8,\n",
       " 6,\n",
       " 5,\n",
       " 9,\n",
       " 4,\n",
       " 5,\n",
       " 4,\n",
       " 9,\n",
       " 10,\n",
       " 5,\n",
       " 5,\n",
       " 5,\n",
       " 7,\n",
       " 6,\n",
       " 5,\n",
       " 10,\n",
       " 6,\n",
       " 4,\n",
       " 11,\n",
       " 8,\n",
       " 4,\n",
       " 14,\n",
       " 5,\n",
       " 4,\n",
       " 4,\n",
       " 6,\n",
       " 6,\n",
       " 5,\n",
       " 14,\n",
       " 5,\n",
       " 10,\n",
       " 9,\n",
       " 4,\n",
       " 8,\n",
       " 4,\n",
       " 4,\n",
       " 4,\n",
       " 8,\n",
       " 7,\n",
       " 4,\n",
       " 4,\n",
       " 4,\n",
       " 5,\n",
       " 5,\n",
       " 5,\n",
       " 8,\n",
       " 4,\n",
       " 4,\n",
       " 4,\n",
       " 4,\n",
       " 4,\n",
       " 4,\n",
       " 4,\n",
       " 4,\n",
       " 8,\n",
       " 6,\n",
       " 9,\n",
       " 4,\n",
       " 5,\n",
       " 10,\n",
       " 6,\n",
       " 8,\n",
       " 4,\n",
       " 6,\n",
       " 4,\n",
       " 6,\n",
       " 5,\n",
       " 4,\n",
       " 7,\n",
       " 5,\n",
       " 12,\n",
       " 7,\n",
       " 4,\n",
       " 4,\n",
       " 5,\n",
       " 5,\n",
       " 4,\n",
       " 4,\n",
       " 5,\n",
       " 5,\n",
       " 5,\n",
       " 4,\n",
       " 9,\n",
       " 6,\n",
       " 7,\n",
       " 7,\n",
       " 5,\n",
       " 10,\n",
       " 4,\n",
       " 5,\n",
       " 8,\n",
       " 7,\n",
       " 13,\n",
       " 4,\n",
       " 8,\n",
       " 5,\n",
       " 5,\n",
       " 4,\n",
       " 8,\n",
       " 7,\n",
       " 5,\n",
       " 4,\n",
       " 6,\n",
       " 5,\n",
       " 5,\n",
       " 4,\n",
       " 9,\n",
       " 9,\n",
       " 6,\n",
       " 6,\n",
       " 6,\n",
       " 10,\n",
       " 10,\n",
       " 10,\n",
       " 5,\n",
       " 9,\n",
       " 8,\n",
       " 6,\n",
       " 5,\n",
       " 10,\n",
       " 8,\n",
       " 14,\n",
       " 7,\n",
       " 4,\n",
       " 7,\n",
       " 9,\n",
       " 6,\n",
       " 4,\n",
       " 5,\n",
       " 6,\n",
       " 5,\n",
       " 6,\n",
       " 7,\n",
       " 4,\n",
       " 6,\n",
       " 6,\n",
       " 4,\n",
       " 4,\n",
       " 10,\n",
       " 4,\n",
       " 4,\n",
       " 5,\n",
       " 6,\n",
       " 8,\n",
       " 5,\n",
       " 4,\n",
       " 4,\n",
       " 6,\n",
       " 6,\n",
       " 5,\n",
       " 11,\n",
       " 5,\n",
       " 7,\n",
       " 4,\n",
       " 4,\n",
       " 5,\n",
       " 6,\n",
       " 6,\n",
       " 5,\n",
       " 4,\n",
       " 5,\n",
       " 4,\n",
       " 4,\n",
       " 8,\n",
       " 9,\n",
       " 11,\n",
       " 6,\n",
       " 5,\n",
       " 4,\n",
       " 4,\n",
       " 13,\n",
       " 4,\n",
       " 6,\n",
       " 9,\n",
       " 10,\n",
       " 4,\n",
       " 12,\n",
       " 6,\n",
       " 5,\n",
       " 6,\n",
       " 10,\n",
       " 13,\n",
       " 9,\n",
       " 7,\n",
       " 4,\n",
       " 8,\n",
       " 11,\n",
       " 4,\n",
       " 5,\n",
       " 5,\n",
       " 4,\n",
       " 5,\n",
       " 5,\n",
       " 4,\n",
       " 11,\n",
       " 4,\n",
       " 4,\n",
       " 11,\n",
       " 7,\n",
       " 4,\n",
       " 6,\n",
       " 9,\n",
       " 5,\n",
       " 4,\n",
       " 6,\n",
       " 6,\n",
       " 9,\n",
       " 5,\n",
       " 4,\n",
       " 4,\n",
       " 5,\n",
       " 7,\n",
       " 6,\n",
       " 4,\n",
       " 6,\n",
       " 10,\n",
       " 8,\n",
       " 4,\n",
       " 4,\n",
       " 4,\n",
       " 4,\n",
       " 5,\n",
       " 4,\n",
       " 5,\n",
       " 4,\n",
       " 5,\n",
       " 9,\n",
       " 5,\n",
       " 4,\n",
       " 10,\n",
       " 4,\n",
       " 8,\n",
       " 7,\n",
       " 9,\n",
       " 10,\n",
       " 4,\n",
       " 4,\n",
       " 9,\n",
       " 9,\n",
       " 4,\n",
       " 13,\n",
       " 4,\n",
       " 8,\n",
       " 5,\n",
       " 5,\n",
       " 9,\n",
       " 9,\n",
       " 13,\n",
       " 5,\n",
       " 5,\n",
       " 4,\n",
       " 4,\n",
       " 4,\n",
       " 8,\n",
       " 4,\n",
       " 4,\n",
       " 7,\n",
       " 7,\n",
       " 4,\n",
       " 5,\n",
       " 5,\n",
       " 14,\n",
       " 7,\n",
       " 5,\n",
       " 5,\n",
       " 9,\n",
       " 5,\n",
       " 4,\n",
       " 6,\n",
       " 7,\n",
       " 5,\n",
       " 4,\n",
       " 9,\n",
       " 5,\n",
       " 4,\n",
       " 4,\n",
       " 10,\n",
       " 4,\n",
       " 5,\n",
       " 13,\n",
       " 4,\n",
       " 4,\n",
       " 8,\n",
       " 5,\n",
       " 5,\n",
       " 14,\n",
       " 10,\n",
       " 8,\n",
       " 4,\n",
       " 7,\n",
       " 10,\n",
       " 5,\n",
       " 10,\n",
       " 8,\n",
       " 5,\n",
       " 4,\n",
       " 5,\n",
       " 9,\n",
       " 14,\n",
       " 6,\n",
       " 7,\n",
       " 4,\n",
       " 4,\n",
       " 5,\n",
       " 10,\n",
       " 8,\n",
       " 5,\n",
       " 5,\n",
       " 11,\n",
       " 4,\n",
       " 5,\n",
       " 5,\n",
       " 5,\n",
       " 5,\n",
       " 4,\n",
       " 4,\n",
       " 5,\n",
       " 11,\n",
       " 9,\n",
       " 7,\n",
       " 4,\n",
       " 10,\n",
       " 8,\n",
       " 6,\n",
       " 4,\n",
       " 4,\n",
       " 4,\n",
       " 10,\n",
       " 7,\n",
       " 8,\n",
       " 4,\n",
       " 10,\n",
       " 5,\n",
       " 10,\n",
       " 8,\n",
       " 7,\n",
       " 7,\n",
       " 5,\n",
       " 4,\n",
       " 8,\n",
       " 4,\n",
       " 5,\n",
       " 12,\n",
       " 5,\n",
       " 6,\n",
       " 4,\n",
       " 7,\n",
       " 7,\n",
       " 5,\n",
       " 5,\n",
       " 5,\n",
       " 4,\n",
       " 11,\n",
       " 4,\n",
       " 4,\n",
       " 5,\n",
       " 6,\n",
       " 7,\n",
       " 6,\n",
       " 6,\n",
       " 5,\n",
       " 7,\n",
       " 6,\n",
       " 9,\n",
       " 7,\n",
       " 4,\n",
       " 9,\n",
       " 7,\n",
       " 7,\n",
       " 6,\n",
       " 6,\n",
       " 7,\n",
       " 6,\n",
       " 10,\n",
       " 5,\n",
       " 5,\n",
       " 4,\n",
       " 4,\n",
       " 6,\n",
       " 5,\n",
       " 8,\n",
       " 6,\n",
       " 4,\n",
       " 7,\n",
       " 5,\n",
       " 5,\n",
       " 5,\n",
       " 5,\n",
       " 6,\n",
       " 6,\n",
       " 5,\n",
       " 12,\n",
       " 6,\n",
       " 4,\n",
       " 7,\n",
       " 7,\n",
       " 10,\n",
       " 10,\n",
       " 6,\n",
       " 10,\n",
       " 7,\n",
       " 6,\n",
       " 7,\n",
       " 10,\n",
       " 5,\n",
       " 8,\n",
       " 6,\n",
       " 8,\n",
       " 7,\n",
       " 9,\n",
       " 4,\n",
       " 4,\n",
       " 4,\n",
       " 6,\n",
       " 4,\n",
       " 4,\n",
       " 8,\n",
       " 6,\n",
       " 8,\n",
       " 5,\n",
       " 9,\n",
       " 7,\n",
       " 12,\n",
       " 8,\n",
       " 9,\n",
       " 7,\n",
       " 6,\n",
       " 10,\n",
       " 5,\n",
       " 4,\n",
       " 4,\n",
       " 5,\n",
       " 7,\n",
       " 6,\n",
       " 6,\n",
       " 5,\n",
       " 5,\n",
       " 5,\n",
       " 4,\n",
       " 10,\n",
       " 15,\n",
       " 4,\n",
       " 7,\n",
       " 5,\n",
       " 5,\n",
       " 6,\n",
       " 6,\n",
       " 7,\n",
       " 4,\n",
       " 8,\n",
       " 13,\n",
       " 5,\n",
       " 5,\n",
       " 4,\n",
       " 6,\n",
       " 10,\n",
       " 4,\n",
       " 7,\n",
       " 6,\n",
       " 4,\n",
       " 6,\n",
       " 6,\n",
       " 4,\n",
       " 6,\n",
       " 9,\n",
       " 5,\n",
       " 5,\n",
       " 5,\n",
       " 5,\n",
       " 8,\n",
       " 8,\n",
       " 6,\n",
       " 9,\n",
       " 10,\n",
       " 5,\n",
       " 5,\n",
       " 5,\n",
       " 6,\n",
       " 7,\n",
       " 10,\n",
       " 9,\n",
       " 6,\n",
       " 7,\n",
       " 6,\n",
       " 6,\n",
       " 7,\n",
       " 4,\n",
       " 12,\n",
       " 9,\n",
       " 4,\n",
       " 13,\n",
       " 8,\n",
       " 6,\n",
       " 6,\n",
       " 6,\n",
       " 8,\n",
       " 4,\n",
       " 5,\n",
       " 4,\n",
       " 4,\n",
       " 8,\n",
       " 5,\n",
       " 15,\n",
       " 8,\n",
       " 6,\n",
       " 4,\n",
       " 9,\n",
       " 5,\n",
       " 8,\n",
       " 4,\n",
       " 5,\n",
       " 7,\n",
       " 4,\n",
       " 4,\n",
       " 4,\n",
       " 7,\n",
       " 7,\n",
       " 4,\n",
       " 7,\n",
       " 8,\n",
       " 9,\n",
       " 5,\n",
       " 5,\n",
       " 4,\n",
       " 8,\n",
       " 4,\n",
       " 6,\n",
       " 5,\n",
       " 9,\n",
       " 4,\n",
       " 4,\n",
       " 10,\n",
       " 4,\n",
       " 8,\n",
       " 5,\n",
       " 5,\n",
       " 5,\n",
       " 5,\n",
       " 8,\n",
       " 4,\n",
       " 7,\n",
       " 6,\n",
       " 5,\n",
       " 8,\n",
       " 5,\n",
       " 9,\n",
       " 9,\n",
       " 9,\n",
       " 10,\n",
       " 4,\n",
       " 4,\n",
       " 4,\n",
       " 9,\n",
       " 7,\n",
       " 5,\n",
       " 6,\n",
       " 6,\n",
       " 11,\n",
       " 7,\n",
       " 4,\n",
       " 6,\n",
       " 12,\n",
       " 6,\n",
       " 4,\n",
       " 7,\n",
       " 7,\n",
       " 6,\n",
       " 4,\n",
       " 10,\n",
       " 4,\n",
       " 4,\n",
       " 4,\n",
       " 8,\n",
       " 5,\n",
       " 6,\n",
       " 8,\n",
       " 5,\n",
       " 4,\n",
       " 7,\n",
       " 5,\n",
       " 7,\n",
       " 4,\n",
       " 4,\n",
       " 6,\n",
       " 6,\n",
       " 4,\n",
       " 5,\n",
       " 4,\n",
       " 5,\n",
       " 8,\n",
       " 6,\n",
       " 4,\n",
       " 13,\n",
       " 7,\n",
       " 12,\n",
       " 4,\n",
       " 4,\n",
       " 10,\n",
       " 8,\n",
       " 5,\n",
       " 5,\n",
       " 11,\n",
       " 5,\n",
       " 9,\n",
       " 6,\n",
       " 8,\n",
       " 7,\n",
       " 8,\n",
       " 5,\n",
       " 4,\n",
       " 8,\n",
       " 5,\n",
       " 7,\n",
       " 4,\n",
       " 10,\n",
       " 4,\n",
       " 6,\n",
       " 6,\n",
       " 8,\n",
       " 5,\n",
       " 6,\n",
       " 4,\n",
       " 5,\n",
       " 7,\n",
       " 7,\n",
       " 9,\n",
       " 5,\n",
       " 10,\n",
       " 4,\n",
       " 8,\n",
       " 6,\n",
       " 5,\n",
       " 5,\n",
       " 8,\n",
       " 7,\n",
       " 4,\n",
       " 5,\n",
       " 9,\n",
       " 4,\n",
       " 13,\n",
       " 5,\n",
       " 10,\n",
       " 5,\n",
       " 4,\n",
       " 7,\n",
       " 6,\n",
       " 6,\n",
       " 7,\n",
       " 9,\n",
       " 8,\n",
       " 9,\n",
       " 12,\n",
       " 8,\n",
       " 4,\n",
       " 6,\n",
       " 4,\n",
       " 4,\n",
       " 5,\n",
       " 4,\n",
       " 4,\n",
       " 8,\n",
       " 4,\n",
       " 5,\n",
       " 5,\n",
       " 6,\n",
       " 14,\n",
       " 10,\n",
       " 4,\n",
       " 8,\n",
       " 7,\n",
       " 14,\n",
       " 10,\n",
       " 7,\n",
       " 7,\n",
       " 6,\n",
       " 8,\n",
       " 4,\n",
       " 5,\n",
       " 5,\n",
       " 5,\n",
       " 4,\n",
       " 6,\n",
       " 6,\n",
       " 7,\n",
       " 8,\n",
       " 7,\n",
       " 9,\n",
       " 7,\n",
       " 5,\n",
       " 12,\n",
       " 6,\n",
       " 10,\n",
       " 4,\n",
       " 4,\n",
       " 6,\n",
       " 4,\n",
       " 10,\n",
       " 5,\n",
       " 6,\n",
       " 4,\n",
       " 4,\n",
       " 9,\n",
       " 6,\n",
       " 4,\n",
       " 4,\n",
       " 5,\n",
       " 5,\n",
       " 5,\n",
       " 9,\n",
       " 5,\n",
       " 10,\n",
       " 5,\n",
       " 10,\n",
       " 10,\n",
       " 4,\n",
       " 5,\n",
       " 4,\n",
       " 5,\n",
       " 4,\n",
       " 9,\n",
       " 7,\n",
       " 7,\n",
       " 6,\n",
       " 5,\n",
       " 10,\n",
       " 7,\n",
       " 5,\n",
       " 5,\n",
       " 9,\n",
       " 12,\n",
       " 6,\n",
       " 5,\n",
       " 10,\n",
       " 5,\n",
       " 9,\n",
       " 4,\n",
       " 7,\n",
       " 4,\n",
       " 5,\n",
       " 15,\n",
       " 4,\n",
       " 6,\n",
       " 4,\n",
       " 6,\n",
       " 4,\n",
       " 4,\n",
       " 4,\n",
       " 7,\n",
       " 6,\n",
       " 4,\n",
       " 5,\n",
       " 4,\n",
       " 4,\n",
       " 7,\n",
       " 4,\n",
       " 5,\n",
       " 5,\n",
       " 4,\n",
       " 4,\n",
       " 5,\n",
       " 11,\n",
       " 4,\n",
       " 6,\n",
       " 6,\n",
       " 5,\n",
       " 10,\n",
       " 6,\n",
       " 5,\n",
       " 10,\n",
       " 5,\n",
       " 9,\n",
       " 12,\n",
       " 7,\n",
       " 13,\n",
       " 5,\n",
       " 5,\n",
       " 4,\n",
       " 9,\n",
       " 8,\n",
       " 4,\n",
       " 4,\n",
       " 8,\n",
       " 5,\n",
       " 6,\n",
       " 4,\n",
       " 7,\n",
       " 9,\n",
       " 4,\n",
       " 4,\n",
       " 5,\n",
       " 6,\n",
       " 5,\n",
       " 4,\n",
       " 10,\n",
       " 8,\n",
       " 10,\n",
       " 4,\n",
       " 7,\n",
       " 4,\n",
       " 7,\n",
       " 5,\n",
       " 5,\n",
       " 4,\n",
       " 10,\n",
       " 6,\n",
       " 4,\n",
       " 9,\n",
       " 4,\n",
       " 8,\n",
       " 9,\n",
       " 4,\n",
       " 5,\n",
       " 15,\n",
       " 9,\n",
       " 4,\n",
       " 11,\n",
       " 6,\n",
       " 4,\n",
       " 4,\n",
       " 5,\n",
       " 12,\n",
       " 9,\n",
       " 10,\n",
       " 6,\n",
       " 7,\n",
       " 10,\n",
       " 8,\n",
       " 9,\n",
       " 12,\n",
       " 9,\n",
       " 4,\n",
       " 5,\n",
       " 5,\n",
       " 5,\n",
       " 7,\n",
       " 6,\n",
       " 7,\n",
       " 5,\n",
       " 4,\n",
       " 13,\n",
       " 6,\n",
       " 4,\n",
       " 7,\n",
       " 7,\n",
       " 6,\n",
       " 11,\n",
       " 12,\n",
       " 7,\n",
       " 11,\n",
       " 4,\n",
       " 5,\n",
       " 8,\n",
       " 4,\n",
       " 9,\n",
       " 6,\n",
       " 6,\n",
       " 7,\n",
       " 4,\n",
       " 9,\n",
       " 5,\n",
       " 4,\n",
       " 5,\n",
       " 8,\n",
       " 4,\n",
       " 10,\n",
       " 9,\n",
       " 4,\n",
       " 7,\n",
       " 4,\n",
       " 4,\n",
       " 4,\n",
       " 7,\n",
       " 5,\n",
       " 9,\n",
       " 7,\n",
       " 6,\n",
       " 8,\n",
       " 12,\n",
       " 7,\n",
       " 6,\n",
       " 7,\n",
       " 7,\n",
       " 7,\n",
       " 7,\n",
       " 6,\n",
       " 9,\n",
       " 7,\n",
       " 6,\n",
       " 13,\n",
       " 7,\n",
       " 5,\n",
       " 12,\n",
       " 10,\n",
       " 7,\n",
       " 7,\n",
       " 6,\n",
       " 6,\n",
       " 5,\n",
       " 6,\n",
       " 5,\n",
       " 12,\n",
       " 5,\n",
       " 12,\n",
       " 6,\n",
       " 6,\n",
       " 7,\n",
       " 7,\n",
       " 6,\n",
       " 6,\n",
       " 5,\n",
       " 4,\n",
       " 4,\n",
       " 5,\n",
       " 12,\n",
       " 6,\n",
       " 4,\n",
       " 5,\n",
       " 4,\n",
       " 6,\n",
       " 10,\n",
       " 6,\n",
       " 7,\n",
       " 6,\n",
       " 9,\n",
       " 9,\n",
       " 9,\n",
       " 4,\n",
       " 6,\n",
       " 7,\n",
       " 4,\n",
       " 5,\n",
       " 4,\n",
       " 4,\n",
       " 8,\n",
       " 7,\n",
       " 10,\n",
       " 5,\n",
       " 4,\n",
       " 6,\n",
       " 10,\n",
       " 4,\n",
       " 4,\n",
       " 4,\n",
       " 6,\n",
       " 6,\n",
       " 5,\n",
       " 10,\n",
       " 11,\n",
       " 9,\n",
       " 5,\n",
       " 8,\n",
       " ...]"
      ]
     },
     "execution_count": 14,
     "metadata": {},
     "output_type": "execute_result"
    }
   ],
   "source": [
    "#text4에서 알파벳인 단어 중, 길이가 4개 이상이고, 빈도수가 5 이상인 단어의 길이 반환\n",
    "#['apple'] => [5]\n",
    "[len(word) for word in text4 if len(word) >= 4 and fdist4[word] >= 5]"
   ]
  },
  {
   "cell_type": "code",
   "execution_count": null,
   "id": "b403b4e7",
   "metadata": {},
   "outputs": [],
   "source": [
    "# bad answer 비효율적\n",
    "#len([word for word in text4 if len(word) >= 4 and text4.count(word) >= 5])"
   ]
  },
  {
   "cell_type": "markdown",
   "id": "54ba3fc4",
   "metadata": {},
   "source": [
    "### 리스트, 스트링\n",
    "- str.split(sep): str -> list\n",
    "- join(): list -> str"
   ]
  },
  {
   "cell_type": "code",
   "execution_count": 10,
   "id": "ee9843d7",
   "metadata": {},
   "outputs": [
    {
     "data": {
      "text/plain": [
       "['I', ' am', ' thirsty']"
      ]
     },
     "execution_count": 10,
     "metadata": {},
     "output_type": "execute_result"
    }
   ],
   "source": [
    "sent = 'I, am, thirsty'\n",
    "sent.split(',') #strip"
   ]
  },
  {
   "cell_type": "code",
   "execution_count": 16,
   "id": "ccd0c8e9",
   "metadata": {},
   "outputs": [
    {
     "data": {
      "text/plain": [
       "['I', ' am', ' thirsty']"
      ]
     },
     "execution_count": 16,
     "metadata": {},
     "output_type": "execute_result"
    }
   ],
   "source": [
    "# 공백 없애봐\n",
    "# 틀린 답\n",
    "sent.strip().split(',') #t쉼표 아직도 있어"
   ]
  },
  {
   "cell_type": "code",
   "execution_count": 18,
   "id": "74a265fd",
   "metadata": {},
   "outputs": [
    {
     "data": {
      "text/plain": [
       "['I', 'am', 'thirsty']"
      ]
     },
     "execution_count": 18,
     "metadata": {},
     "output_type": "execute_result"
    }
   ],
   "source": [
    "#answer but bad\n",
    "sent.replace(',', '').split()"
   ]
  },
  {
   "cell_type": "code",
   "execution_count": 21,
   "id": "501cb728",
   "metadata": {},
   "outputs": [
    {
     "data": {
      "text/plain": [
       "['I', ' am', ' thirsty']"
      ]
     },
     "execution_count": 21,
     "metadata": {},
     "output_type": "execute_result"
    }
   ],
   "source": [
    "# right answer by professor: list comprehension\n",
    "tokens = sent.split(',')\n",
    "tokens"
   ]
  },
  {
   "cell_type": "code",
   "execution_count": 22,
   "id": "944cf029",
   "metadata": {},
   "outputs": [
    {
     "data": {
      "text/plain": [
       "['I', 'am', 'thirsty']"
      ]
     },
     "execution_count": 22,
     "metadata": {},
     "output_type": "execute_result"
    }
   ],
   "source": [
    "[word.lstrip() for word in tokens]"
   ]
  },
  {
   "cell_type": "code",
   "execution_count": 23,
   "id": "65347ab8",
   "metadata": {},
   "outputs": [
    {
     "data": {
      "text/plain": [
       "'I- am- thirsty'"
      ]
     },
     "execution_count": 23,
     "metadata": {},
     "output_type": "execute_result"
    }
   ],
   "source": [
    "'-'.join(tokens)"
   ]
  },
  {
   "cell_type": "code",
   "execution_count": 25,
   "id": "5b345632",
   "metadata": {},
   "outputs": [
    {
     "data": {
      "text/plain": [
       "'I am thirsty'"
      ]
     },
     "execution_count": 25,
     "metadata": {},
     "output_type": "execute_result"
    }
   ],
   "source": [
    "''.join(tokens)"
   ]
  },
  {
   "cell_type": "markdown",
   "id": "7f0dd15d",
   "metadata": {},
   "source": [
    "### 반복문\n",
    "- [word for word in text1]\n",
    "- 자료구조를 순회할 때 사용함.\n",
    "- 정해진 동작을 반복적으로 수행할 때 내리는 명령어\n",
    "- 시작조건, 종료조건, 수행할 때 내리는 명령어\n",
    "- for 요소 in 반복범위:\n",
    "        수행명령\n",
    "- for, while\n",
    "- 들여쓰기, 불록 => 논리구조\n",
    "- 무한루프가 되지 않도록 주의"
   ]
  },
  {
   "cell_type": "code",
   "execution_count": 26,
   "id": "b7d2c305",
   "metadata": {},
   "outputs": [
    {
     "data": {
      "text/plain": [
       "True"
      ]
     },
     "execution_count": 26,
     "metadata": {},
     "output_type": "execute_result"
    }
   ],
   "source": [
    "import nltk\n",
    "from nltk.book import *\n",
    "nltk.download('book', quiet=True)"
   ]
  },
  {
   "cell_type": "code",
   "execution_count": 28,
   "id": "1ccea8c7",
   "metadata": {},
   "outputs": [
    {
     "name": "stdout",
     "output_type": "stream",
     "text": [
      "[\n",
      "Moby\n",
      "Dick\n",
      "by\n",
      "Herman\n",
      "Melville\n",
      "1851\n",
      "]\n",
      "ETYMOLOGY\n",
      ".\n"
     ]
    }
   ],
   "source": [
    "# word for word in text1\n",
    "for word in text1[:10]:\n",
    "    print(word)\n",
    "# 하나씩 출력"
   ]
  },
  {
   "cell_type": "code",
   "execution_count": 30,
   "id": "44a5ab7b",
   "metadata": {},
   "outputs": [
    {
     "data": {
      "text/plain": [
       "['[',\n",
       " 'Moby',\n",
       " 'Dick',\n",
       " 'by',\n",
       " 'Herman',\n",
       " 'Melville',\n",
       " '1851',\n",
       " ']',\n",
       " 'ETYMOLOGY',\n",
       " '.']"
      ]
     },
     "execution_count": 30,
     "metadata": {},
     "output_type": "execute_result"
    }
   ],
   "source": [
    "[word for word in text1[:10]]\n",
    "# 한 리스트로 출력"
   ]
  },
  {
   "cell_type": "code",
   "execution_count": 31,
   "id": "d0276631",
   "metadata": {},
   "outputs": [
    {
     "name": "stdout",
     "output_type": "stream",
     "text": [
      "a\n",
      "b\n",
      "c\n"
     ]
    }
   ],
   "source": [
    "alphabet = ['a', 'b', 'c']\n",
    "for w in alphabet:\n",
    "    print(w)"
   ]
  },
  {
   "cell_type": "code",
   "execution_count": 32,
   "id": "9928c004",
   "metadata": {},
   "outputs": [
    {
     "name": "stdout",
     "output_type": "stream",
     "text": [
      "1\n",
      "3\n",
      "5\n",
      "7\n",
      "9\n"
     ]
    }
   ],
   "source": [
    "#숫자 반복: range(start, end, step)\n",
    "for i in range(1, 10, 2):\n",
    "    print(i)"
   ]
  },
  {
   "cell_type": "code",
   "execution_count": 33,
   "id": "694856d3",
   "metadata": {},
   "outputs": [
    {
     "name": "stdout",
     "output_type": "stream",
     "text": [
      "260819\n",
      "141576\n",
      "44764\n",
      "152901\n",
      "45010\n",
      "16967\n",
      "100676\n",
      "4867\n",
      "69213\n"
     ]
    }
   ],
   "source": [
    "#text 1-9 각 텍스트의 단어 수를 반환\n",
    "    # 10만, 20만, 24만,...\n",
    "# answer\n",
    "texts = [text1, text2, text3, text4, text5, text6, text7, text8, text9]\n",
    "for i in range(0, 9):\n",
    "    print(len(texts[i]))"
   ]
  },
  {
   "cell_type": "code",
   "execution_count": 34,
   "id": "741b09f5",
   "metadata": {},
   "outputs": [],
   "source": [
    "# my pathetic answer\n",
    "#for i in range(1, 10):\n",
    "    #print(len(texti))\n",
    "#obviously didn't work. Be more creative!!"
   ]
  },
  {
   "cell_type": "markdown",
   "id": "f2744743",
   "metadata": {},
   "source": [
    "### 출력 포매팅\n",
    "- 1. f\"str...{var}\"\n",
    "    - f, F 둘다 가능\n",
    "    \n",
    "- 2. %옛날 방식\n",
    "    - ...%s, %var, %d\n",
    "- 3. '....{}'.format(var)"
   ]
  },
  {
   "cell_type": "code",
   "execution_count": 38,
   "id": "b8ebe9a0",
   "metadata": {},
   "outputs": [],
   "source": [
    "name = 'Lee'\n",
    "#print('My name is ###')"
   ]
  },
  {
   "cell_type": "code",
   "execution_count": 39,
   "id": "847fc5df",
   "metadata": {},
   "outputs": [
    {
     "name": "stdout",
     "output_type": "stream",
     "text": [
      "My name is Lee\n"
     ]
    }
   ],
   "source": [
    "print('My name is', name)"
   ]
  },
  {
   "cell_type": "code",
   "execution_count": 40,
   "id": "016b96f0",
   "metadata": {},
   "outputs": [
    {
     "name": "stdout",
     "output_type": "stream",
     "text": [
      "My name is Lee\n"
     ]
    }
   ],
   "source": [
    "print(f\"My name is {name}\")"
   ]
  },
  {
   "cell_type": "code",
   "execution_count": 41,
   "id": "816fcd4f",
   "metadata": {},
   "outputs": [
    {
     "name": "stdout",
     "output_type": "stream",
     "text": [
      "My name is Lee\n"
     ]
    }
   ],
   "source": [
    "print(\"My name is %s\" %name)"
   ]
  },
  {
   "cell_type": "code",
   "execution_count": 42,
   "id": "4d7514ec",
   "metadata": {},
   "outputs": [
    {
     "name": "stdout",
     "output_type": "stream",
     "text": [
      "My name is Lee, and I am 21 years old.\n"
     ]
    }
   ],
   "source": [
    "age = 21\n",
    "print(f'My name is {name}, and I am {age} years old.')"
   ]
  },
  {
   "cell_type": "code",
   "execution_count": 43,
   "id": "86a20437",
   "metadata": {},
   "outputs": [
    {
     "name": "stdout",
     "output_type": "stream",
     "text": [
      "My name is 0.556\n"
     ]
    }
   ],
   "source": [
    "a = 0.55555555555\n",
    "print(\"My name is %.3f\" %a)"
   ]
  },
  {
   "cell_type": "code",
   "execution_count": 44,
   "id": "9f9552a0",
   "metadata": {},
   "outputs": [],
   "source": [
    "#  \"%.nf\" %a"
   ]
  }
 ],
 "metadata": {
  "kernelspec": {
   "display_name": "Python 3 (ipykernel)",
   "language": "python",
   "name": "python3"
  },
  "language_info": {
   "codemirror_mode": {
    "name": "ipython",
    "version": 3
   },
   "file_extension": ".py",
   "mimetype": "text/x-python",
   "name": "python",
   "nbconvert_exporter": "python",
   "pygments_lexer": "ipython3",
   "version": "3.9.7"
  }
 },
 "nbformat": 4,
 "nbformat_minor": 5
}
