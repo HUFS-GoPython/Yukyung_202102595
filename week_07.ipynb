{
 "cells": [
  {
   "cell_type": "markdown",
   "id": "73b6766c",
   "metadata": {},
   "source": [
    "### 함수\n",
    "1. 정의\n",
    "2. 인수\n",
    "3. 호출 방식"
   ]
  },
  {
   "cell_type": "markdown",
   "id": "ae0ccfcb",
   "metadata": {},
   "source": [
    "#### 1. 정의\n",
    "- 코드의 덩어리, 묶음\n",
    "- 간편한 재사용을 위해 사용. 한줄로 재사용 가능.\n",
    "- 정의(define) 부분 + 호출(call) 부분\n",
    "    - 정의하기:\n",
    "        - def 함수 이름([매개변수1, 2, 3, ...])\n",
    "            - 수행문1(위에 설정한 매개변수 사용)\n",
    "            - 수행문2....\n",
    "            - return\n",
    "        - 호출하기 함수 이름(인수1, 2, 3,...)\n",
    "- 2 * 2 = 4\n",
    "    1. 매개변수와 반환값이 둘다 없는 케이스\n",
    "    2. 둘다 있는 케이스\n",
    "    3. 매개변수만 있는 케이스\n",
    "    4. 반환값만 있는 케이스    "
   ]
  },
  {
   "cell_type": "code",
   "execution_count": 5,
   "id": "84eac132",
   "metadata": {},
   "outputs": [],
   "source": [
    "# x는 매개변수, y는 반환값 (x + 1 수행문)"
   ]
  },
  {
   "cell_type": "code",
   "execution_count": 2,
   "id": "5f702663",
   "metadata": {},
   "outputs": [
    {
     "data": {
      "text/plain": [
       "'\\ny = x + 1\\ndef ex():\\n    y = x + 1 # x가 무엇인지 정의하지 않음. 그래서 error\\n    return y # 그리고 함수 호출하지 않음\\n'"
      ]
     },
     "execution_count": 2,
     "metadata": {},
     "output_type": "execute_result"
    }
   ],
   "source": [
    "# my answer: wrong\n",
    "'''\n",
    "y = x + 1\n",
    "def ex():\n",
    "    y = x + 1 # x가 무엇인지 정의하지 않음. 그래서 error\n",
    "    return y # 그리고 함수 호출하지 않음\n",
    "'''"
   ]
  },
  {
   "cell_type": "code",
   "execution_count": 4,
   "id": "5b98d8f7",
   "metadata": {},
   "outputs": [
    {
     "data": {
      "text/plain": [
       "8"
      ]
     },
     "execution_count": 4,
     "metadata": {},
     "output_type": "execute_result"
    }
   ],
   "source": [
    "# good answer\n",
    "# 2. 매개변수와 반환값 둘다 있는 경우\n",
    "def ex(x):\n",
    "    # y = x + 1\n",
    "    # return y\n",
    "    return x + 1\n",
    "ex(7)"
   ]
  },
  {
   "cell_type": "code",
   "execution_count": 6,
   "id": "a4bc6da6",
   "metadata": {},
   "outputs": [
    {
     "name": "stdout",
     "output_type": "stream",
     "text": [
      "quack\n"
     ]
    }
   ],
   "source": [
    "# 1. 매개변수와 반환값 둘다 없는 케이스\n",
    "def make_a_sound():\n",
    "    print('quack')\n",
    "    # return None이 함축\n",
    "    \n",
    "make_a_sound()"
   ]
  },
  {
   "cell_type": "code",
   "execution_count": 10,
   "id": "1d851292",
   "metadata": {},
   "outputs": [
    {
     "name": "stdout",
     "output_type": "stream",
     "text": [
      "ayayayaya\n"
     ]
    }
   ],
   "source": [
    "# 3. 매개변수만 있는 케이스\n",
    "def make_a_sound(sound):\n",
    "    print(sound)\n",
    "    \n",
    "make_a_sound('ayayayaya')"
   ]
  },
  {
   "cell_type": "code",
   "execution_count": 13,
   "id": "11133426",
   "metadata": {},
   "outputs": [
    {
     "name": "stdout",
     "output_type": "stream",
     "text": [
      "unexpected!\n"
     ]
    }
   ],
   "source": [
    "# 4. 반환값만 있는 케이스\n",
    "def agree():\n",
    "    return False\n",
    "\n",
    "if agree():\n",
    "    print('Splendid')\n",
    "else:\n",
    "    print('unexpected!')"
   ]
  },
  {
   "cell_type": "markdown",
   "id": "a11bd684",
   "metadata": {},
   "source": [
    "##### 이름 짓기\n",
    "- 소문자만 사용\n",
    "    - splitWord 가능하긴하나\n",
    "    - split_word 선호\n",
    "- 동작과 관련되어 있기 때문에 \"동사+명사\"의 형태로 주로 씀\n",
    "- i.e., 클래스는 주로 명사 def split_word(): X\n",
    "- 줄임말 쓰지 말 것\n",
    "    - split_word X 단, 많은 이들이 같이 쓰는 줄임 말은 괜찮음 ex) calc(calculate)"
   ]
  },
  {
   "cell_type": "markdown",
   "id": "14b37ade",
   "metadata": {},
   "source": [
    "#### 2. 인수\n",
    "- 매개변수 vs 인수\n",
    "    - 매개변수: 함수 내(\"인터페이스\")에서 유효한 변수. 그래서 sound를 치면 define 안 되었다고 뜸.\n",
    "    - 인수: 실제 매개변수에 대입되는 변수\n",
    "- 위치 인수\n",
    "    - positional argument\n",
    "    - 매개변수를 값이 순서와 상응하게 복제함\n",
    "- 키워드 인스\n",
    "    - keyword argument\n",
    "    - 매개변수 키워드에 맞는 인수로 지정 => 위치 달라도 됨.\n",
    "- 디폴트 인수\n",
    "    - default argument\n",
    "    - 매개변수를 정의할 때 값을 미리 지정해놓는 것\n",
    "    - 호출 시에 값이 입력되지 않으면 디폴트값을 사용한다.\n",
    "    - 단, 디폴트값이 언디폴트값 앞에 위치할 수는 없다."
   ]
  },
  {
   "cell_type": "code",
   "execution_count": 14,
   "id": "5bd855f1",
   "metadata": {},
   "outputs": [
    {
     "ename": "NameError",
     "evalue": "name 'sound' is not defined",
     "output_type": "error",
     "traceback": [
      "\u001b[1;31m---------------------------------------------------------------------------\u001b[0m",
      "\u001b[1;31mNameError\u001b[0m                                 Traceback (most recent call last)",
      "\u001b[1;32m~\\AppData\\Local\\Temp/ipykernel_13112/1461625377.py\u001b[0m in \u001b[0;36m<module>\u001b[1;34m\u001b[0m\n\u001b[0;32m      1\u001b[0m \u001b[1;31m# 매개변수는 인터페이스 외에 존재하지 않음\u001b[0m\u001b[1;33m\u001b[0m\u001b[1;33m\u001b[0m\u001b[0m\n\u001b[1;32m----> 2\u001b[1;33m \u001b[0msound\u001b[0m\u001b[1;33m\u001b[0m\u001b[1;33m\u001b[0m\u001b[0m\n\u001b[0m",
      "\u001b[1;31mNameError\u001b[0m: name 'sound' is not defined"
     ]
    }
   ],
   "source": [
    "# 매개변수는 인터페이스 외에 존재하지 않음\n",
    "sound"
   ]
  },
  {
   "cell_type": "code",
   "execution_count": 22,
   "id": "4e9ae3da",
   "metadata": {},
   "outputs": [
    {
     "data": {
      "text/plain": [
       "'water'"
      ]
     },
     "execution_count": 22,
     "metadata": {},
     "output_type": "execute_result"
    }
   ],
   "source": [
    "def commentary(thirsty):\n",
    "    if thirsty == 'b':\n",
    "        return 'beer'\n",
    "    else:\n",
    "        return 'water'\n",
    "    \n",
    "drink = 'sprite'\n",
    "commentary(drink)"
   ]
  },
  {
   "cell_type": "code",
   "execution_count": 23,
   "id": "9f4305c0",
   "metadata": {},
   "outputs": [
    {
     "name": "stdout",
     "output_type": "stream",
     "text": [
      "water\n",
      "beer\n",
      "water\n"
     ]
    }
   ],
   "source": [
    "drinks = ['w', 'b', 's']\n",
    "for drink in drinks:\n",
    "    print(commentary(drink))"
   ]
  },
  {
   "cell_type": "code",
   "execution_count": 25,
   "id": "f37f2093",
   "metadata": {},
   "outputs": [
    {
     "data": {
      "text/plain": [
       "{'wine': 'a', 'entree': 'b', 'dessert': 'c'}"
      ]
     },
     "execution_count": 25,
     "metadata": {},
     "output_type": "execute_result"
    }
   ],
   "source": [
    "# 위치 인수\n",
    "def menu(wine, entree, dessert):\n",
    "    return{'wine':wine, 'entree':entree, 'dessert':dessert}\n",
    "menu('a', 'b', 'c')"
   ]
  },
  {
   "cell_type": "code",
   "execution_count": 26,
   "id": "6b6f7140",
   "metadata": {},
   "outputs": [
    {
     "data": {
      "text/plain": [
       "{'wine': 'c', 'entree': 'a', 'dessert': 'b'}"
      ]
     },
     "execution_count": 26,
     "metadata": {},
     "output_type": "execute_result"
    }
   ],
   "source": [
    "# 키워드 인수\n",
    "menu(entree='a', dessert='b', wine='c')"
   ]
  },
  {
   "cell_type": "code",
   "execution_count": 27,
   "id": "2ad4a962",
   "metadata": {},
   "outputs": [
    {
     "data": {
      "text/plain": [
       "{'wine': 'rioja', 'entree': 'egg', 'dessert': 'strawberry'}"
      ]
     },
     "execution_count": 27,
     "metadata": {},
     "output_type": "execute_result"
    }
   ],
   "source": [
    "# 디폴트 인수\n",
    "def menu2(wine, entree, dessert='strawberry'): # 디폴트 값이 뒤로 와야한다. 뒤 없는데 앞있는 경우 x\n",
    "    # 안되는 예: def menu2(wine='white wine', entree, dessert='strawberry')\n",
    "    return{'wine':wine, 'entree':entree, 'dessert':dessert}\n",
    "menu2('rioja', 'egg')"
   ]
  },
  {
   "cell_type": "code",
   "execution_count": 30,
   "id": "30d5a5f5",
   "metadata": {},
   "outputs": [
    {
     "data": {
      "text/plain": [
       "{'wine': 'rioja', 'entree': 'egg', 'dessert': 'blueberry'}"
      ]
     },
     "execution_count": 30,
     "metadata": {},
     "output_type": "execute_result"
    }
   ],
   "source": [
    "# 주의! 디폴트값이 있어도 호출할 때 달리 설정해주면 설정해준대로 나옴\n",
    "menu2(dessert='blueberry', wine='rioja', entree='egg')"
   ]
  },
  {
   "cell_type": "code",
   "execution_count": 31,
   "id": "cc2c2407",
   "metadata": {},
   "outputs": [
    {
     "data": {
      "text/plain": [
       "{'wine': 'roija', 'entree': 'egg', 'dessert': 'kiwi'}"
      ]
     },
     "execution_count": 31,
     "metadata": {},
     "output_type": "execute_result"
    }
   ],
   "source": [
    "menu2('roija', 'egg', 'kiwi')"
   ]
  },
  {
   "cell_type": "markdown",
   "id": "b2083fbe",
   "metadata": {},
   "source": [
    "#### 3. 호출 방식\n",
    "- 정의 부분은 호풀 시 실행된다.\n",
    "- 메모리에 저장되어 있다가 호출 시에 실행\n",
    "- 매개변수 vs 인수\n",
    "    - 참조에 의한 호출(call by reference)\n",
    "    - \"매개변수 = 인수\" copy되기 때문에 나타나는 문제점\n",
    "        - 리스트처럼 가변 객체일 때 주소값을 공유하므로 값이 변함."
   ]
  },
  {
   "cell_type": "code",
   "execution_count": 1,
   "id": "30004801",
   "metadata": {},
   "outputs": [
    {
     "name": "stdout",
     "output_type": "stream",
     "text": [
      "2\n",
      "3\n",
      "1\n",
      "4\n"
     ]
    }
   ],
   "source": [
    "def multiply(x, y):\n",
    "    print('1')\n",
    "    return x * y\n",
    "print('2')\n",
    "i = 2\n",
    "j = 4\n",
    "print('3')\n",
    "multiply(i, j)\n",
    "\n",
    "print('4')"
   ]
  },
  {
   "cell_type": "code",
   "execution_count": 2,
   "id": "d01b9832",
   "metadata": {},
   "outputs": [
    {
     "name": "stdout",
     "output_type": "stream",
     "text": [
      "['a']\n",
      "['a', 'b']\n"
     ]
    }
   ],
   "source": [
    "def buggy(arg, result=[]):\n",
    "    result.append(arg)\n",
    "    print(result)\n",
    "    \n",
    "a, b = 'a', 'b'\n",
    "buggy(a)\n",
    "buggy(b)"
   ]
  },
  {
   "cell_type": "code",
   "execution_count": 3,
   "id": "4cb49f3b",
   "metadata": {},
   "outputs": [
    {
     "name": "stdout",
     "output_type": "stream",
     "text": [
      "['a']\n",
      "['b']\n"
     ]
    }
   ],
   "source": [
    "# 쌓이지 않게 하려면 list 초기화\n",
    "def buggy(arg, result=[]):\n",
    "    result=[]  # 안 쌓이게 하려면 초기화\n",
    "    result.append(arg)\n",
    "    print(result)\n",
    "    \n",
    "a, b = 'a', 'b'\n",
    "buggy(a)\n",
    "buggy(b) "
   ]
  },
  {
   "cell_type": "code",
   "execution_count": null,
   "id": "81a3337f",
   "metadata": {},
   "outputs": [],
   "source": [
    "# 둘다 조건식으로 포함하는 함수로 변경하기\n",
    "# 리스트 없으면 빈 리스트 생성하고, 있으면 그거 써라"
   ]
  },
  {
   "cell_type": "code",
   "execution_count": null,
   "id": "b2d3c400",
   "metadata": {},
   "outputs": [],
   "source": [
    "# my answer: wrong\n",
    "def nonbuggy(arg, result=[]):\n",
    "    if type([]) = None: #type 필요 없고 result 안 씀\n",
    "        list = []\n",
    "    result.append(arg)\n",
    "    print(result)\n",
    "    \n",
    "    \n",
    "# \"없는 값, 아무것도 없다\" None"
   ]
  },
  {
   "cell_type": "code",
   "execution_count": 4,
   "id": "7f5bfa74",
   "metadata": {},
   "outputs": [
    {
     "name": "stdout",
     "output_type": "stream",
     "text": [
      "['c', 'a']\n",
      "['c', 'a', 'b']\n"
     ]
    }
   ],
   "source": [
    "# right answer\n",
    "def nonbuggy(arg, result=[]):\n",
    "    if result is None:\n",
    "        result = []\n",
    "        \n",
    "    result.append(arg)\n",
    "    print(result)\n",
    "\n",
    "empty = ['c']\n",
    "nonbuggy('a', empty)\n",
    "nonbuggy('b', empty) # empty이면 result는 None이 아니기에 쌓인다."
   ]
  },
  {
   "cell_type": "code",
   "execution_count": 5,
   "id": "87f02088",
   "metadata": {},
   "outputs": [
    {
     "name": "stdout",
     "output_type": "stream",
     "text": [
      "['d']\n",
      "['e']\n"
     ]
    }
   ],
   "source": [
    "# right answer\n",
    "def nonbuggy(arg, result=None):\n",
    "    if result is None:   # == value는 \"같다\", is는 id \"비교\"\n",
    "        result = []\n",
    "        \n",
    "    result.append(arg)\n",
    "    print(result)\n",
    "    \n",
    "nonbuggy('d')\n",
    "nonbuggy('e') # list가 없어서 함수 함출할 때마다 새로 만듬. 그래서 안 쌓여"
   ]
  },
  {
   "cell_type": "code",
   "execution_count": 6,
   "id": "5c50140e",
   "metadata": {},
   "outputs": [
    {
     "name": "stdout",
     "output_type": "stream",
     "text": [
      "None\n"
     ]
    }
   ],
   "source": [
    "thing = None\n",
    "if thing: # True\n",
    "    print('True')\n",
    "elif thing == False: #False\n",
    "    print('False')\n",
    "else:\n",
    "    print('None') # True도 False도 아님"
   ]
  },
  {
   "cell_type": "code",
   "execution_count": 9,
   "id": "ad2319af",
   "metadata": {},
   "outputs": [
    {
     "name": "stdout",
     "output_type": "stream",
     "text": [
      "london\n",
      "paris == london?\n"
     ]
    }
   ],
   "source": [
    "def fx():\n",
    "    city = 'london' # 지역 변수\n",
    "    print(city)\n",
    "city = 'paris'\n",
    "fx() # city = london\n",
    "print(city, '== london?')"
   ]
  },
  {
   "cell_type": "code",
   "execution_count": 10,
   "id": "fcb37306",
   "metadata": {},
   "outputs": [
    {
     "name": "stdout",
     "output_type": "stream",
     "text": [
      "london\n",
      "london == london?\n"
     ]
    }
   ],
   "source": [
    "def fx():\n",
    "    global city # 전역 변수\n",
    "    city = 'london'\n",
    "    print(city)\n",
    "city = 'paris'\n",
    "fx()  # city = london\n",
    "print(city, '== london?')"
   ]
  },
  {
   "cell_type": "code",
   "execution_count": 11,
   "id": "a9b57f7b",
   "metadata": {},
   "outputs": [
    {
     "data": {
      "text/plain": [
       "'seoul'"
      ]
     },
     "execution_count": 11,
     "metadata": {},
     "output_type": "execute_result"
    }
   ],
   "source": [
    "# 다시 바꿀 수도 있다.\n",
    "city = 'seoul'\n",
    "city"
   ]
  },
  {
   "cell_type": "markdown",
   "id": "d65225bb",
   "metadata": {},
   "source": [
    "#### doc string\n",
    "- 함수 설명\n",
    "- 매개변수 타입, 의미, 함수 기능\n",
    "- 함수는 주석 다는게 친절함\n",
    "    - \"\"\"\n",
    "    - 보통 이 주석이 좋음\n",
    "    - ex) arg: str, 이름을 받는다\n",
    "    - result: list, 요소를 받는다\n",
    "    - 등등\n",
    "    - \"\"\""
   ]
  },
  {
   "cell_type": "code",
   "execution_count": 12,
   "id": "1731cea9",
   "metadata": {},
   "outputs": [],
   "source": [
    "def buggy(arg, result=[]):\n",
    "    \"\"\"\n",
    "    보통 이 주석이 좋음\n",
    "    ex) arg: str, 이름을 받는다.\n",
    "    result: list, 요소를 받는다\n",
    "    \"\"\"\n",
    "    result.append(arg)\n",
    "    print(result)"
   ]
  },
  {
   "cell_type": "code",
   "execution_count": 14,
   "id": "517684d7",
   "metadata": {},
   "outputs": [
    {
     "name": "stdout",
     "output_type": "stream",
     "text": [
      "Help on function buggy in module __main__:\n",
      "\n",
      "buggy(arg, result=[])\n",
      "    보통 이 주석이 좋음\n",
      "    ex) arg: str, 이름을 받는다.\n",
      "    result: list, 요소를 받는다\n",
      "\n"
     ]
    }
   ],
   "source": [
    "help(buggy)  # help치면 주석 설명 확인 가능"
   ]
  },
  {
   "cell_type": "code",
   "execution_count": 15,
   "id": "edf71621",
   "metadata": {},
   "outputs": [],
   "source": [
    "# 나이 -> 연도\n",
    "# 함수: 입력값 = 나이, 반환 => 연도\n",
    "# 나이 = input 받기"
   ]
  },
  {
   "cell_type": "markdown",
   "id": "8f692cce",
   "metadata": {},
   "source": [
    "##### good 변수 이름\n",
    "- calc_birthyear\n",
    "- age_to_year\n",
    "- convert_year\n",
    "- get_year\n",
    "\n",
    "##### bad 변수 이름\n",
    "- birth_year # just noun\n",
    "- birthyear\n",
    "- yearofbirth # 띄어 쓰기 해야해\n",
    "- born # 명사\n",
    "- year\n",
    "- change_age_to_year # 너무 길어"
   ]
  },
  {
   "cell_type": "code",
   "execution_count": 17,
   "id": "13e8bf67",
   "metadata": {},
   "outputs": [
    {
     "name": "stdout",
     "output_type": "stream",
     "text": [
      "나이를 입력해 주세요: 34\n"
     ]
    },
    {
     "data": {
      "text/plain": [
       "1989"
      ]
     },
     "execution_count": 17,
     "metadata": {},
     "output_type": "execute_result"
    }
   ],
   "source": [
    "# answer\n",
    "age = int(input(\"나이를 입력해 주세요: \"))\n",
    "def age_to_year(age):\n",
    "    birthyear = 2022 - age + 1\n",
    "    return birthyear # return(birthyear) 다 가능\n",
    "age_to_year(age)"
   ]
  },
  {
   "cell_type": "code",
   "execution_count": 22,
   "id": "9c60b220",
   "metadata": {},
   "outputs": [
    {
     "name": "stdout",
     "output_type": "stream",
     "text": [
      "나이를 입력하세요: 89\n",
      "1934\n"
     ]
    }
   ],
   "source": [
    "# another answer\n",
    "def convert_age(age):\n",
    "    this_year = 2022\n",
    "    return this_year - age + 1\n",
    "\n",
    "age= int(input(\"나이를 입력하세요: \"))\n",
    "print(convert_age(age))"
   ]
  },
  {
   "cell_type": "markdown",
   "id": "12b74ade",
   "metadata": {},
   "source": [
    "## 브라운 정제하기\n",
    "1. 문장 분절\n",
    "2. 단어 분절\n",
    "    - A. 문장 부호 제거\n",
    "    - B. 하이픈, 's\n",
    "3. 위의 것을 함수로 만들어라"
   ]
  },
  {
   "cell_type": "code",
   "execution_count": 23,
   "id": "4de5986e",
   "metadata": {
    "collapsed": true
   },
   "outputs": [
    {
     "name": "stderr",
     "output_type": "stream",
     "text": [
      "[nltk_data] Downloading package brown to\n",
      "[nltk_data]     C:\\Users\\sunny\\AppData\\Roaming\\nltk_data...\n",
      "[nltk_data]   Package brown is already up-to-date!\n"
     ]
    },
    {
     "data": {
      "text/plain": [
       "\"\\n\\n\\tThey/ppss neither/cc liked/vbd nor/cc disliked/vbd the/at Old/jj-tl Man/nn-tl ./.\\nTo/in them/ppo he/pps could/md have/hv been/ben the/at broken/vbn bell/nn in/in the/at church/nn tower/nn which/wdt rang/vbd before/in and/cc after/in Mass/nn-tl ,/, and/cc at/in noon/nn ,/, and/cc at/in six/cd each/dt evening/nn --/-- its/pp$ tone/nn ,/, repetitive/jj ,/, monotonous/jj ,/, never/rb breaking/vbg the/at boredom/nn of/in the/at streets/nns ./.\\nThe/at Old/jj-tl Man/nn-tl was/bedz unimportant/jj ./.\\n\\n\\n\\tYet/rb if/cs he/pps were/bed not/* there/rb ,/, they/ppss would/md have/hv missed/vbn him/ppo ,/, as/cs they/ppss would/md have/hv missed/vbn the/at sounds/nns of/in bees/nns buzzing/vbg against/in the/at screen/nn door/nn in/in early/jj June/np ;/. ;/.\\nor/cc the/at smell/nn of/in thick/jj tomato/nn paste/nn --/-- the/at ripe/jj smell/nn that/wps was/bedz both/abx sweet/jj and/cc sour/jj --/-- rising/vbg up/rp from/in aluminum/nn trays/nns wrapped/vbn in/in fly-dotted/jj cheesecloth/nn ./.\\nOr/cc the/at surging/vbg whirling/vbg sounds/nns of/in bats/nns at/in night/nn ,/, when/wrb their/pp$ black/jj bodies/nns dived/vbd into/in the/at blackness/nn above/in and/cc below/in the/at amber/jj street/nn lights/nns ./.\\nOr/cc the/at bay/nn of/in female/nn dogs/nns in/in heat/nn ./.\\n\\n\\n\\tThey/ppss never/rb called/vbd him/ppo by/in name/nn ,/, although/cs he/pps had/hvd one/pn ./.\\nFilippo/np Rossi/np ,/, that's/dt+bez what/wdt he/pps was/bedz called/vbn in/in the/at old/jj country/nn ;/. ;/.\\nbut/cc here/rb he/pps was/bedz just/rb Signore/np or/cc the/at Old/jj-tl Man/nn-tl ./.\\nBut/cc this/dt was/bedz not/* unusual/jj ,/, because/cs youth/nn in/in these/dts quarters/nns was/bedz always/rb pushed/vbn at/in a/at distance/nn from/in its/pp$ elders/nns ./.\\nYouth/nn obeyed/vbd when/wrb commanded/vbn ./.\\nIt/pps went/vbd to/in church/nn on/in Sunday/nr and/cc one/cd Saturday/nr a/at month/nn went/vbd to/in confession/nn ./.\\nBut/cc youth/nn asked/vbd nothing/pn of/in its/pp$ parents/nns --/-- not/* a/at touch/nn of/in the/at hand/nn or/cc a/at kiss/nn given/vbn in/in passing/vbg ./.\\n\\n\\n\\tThe/at only/ap thing/nn unusual/jj about/in the/at Old/jj-tl Man/nn-tl had/hvd long/jj since/rb happened/vbn ./.\\nBut/cc the/at past/nn was/bedz dead/jj here/rb as/cs the/at present/jj was/bedz dead/jj ./.\\nOnce/cs the/at Old/jj-tl Man/nn-tl had/hvd had/hvn a/at wife/nn ./.\\nAnd/cc once/cs she/pps ,/, too/rb ,/, ignored/vbd him/ppo ./.\\nWith/in a/at tiny/jj fur-piece/nn wrapped/vbd around/in her/pp$ shoulders/nns ,/, she/pps wiggled/vbd her/pp$ satin-covered/jj buttocks/nns down/in the/at street/nn before/in him/ppo and/cc didn't/dod* stop/vb ./.\\nIn/in one/cd hand/nn she/pps clutched/vbd a/at hundred/cd dollar/nn bill/nn and/cc in/in the/at other/ap a/at straw/nn suitcase/nn ./.\\nThe/at way/nn she/pps strutted/vbd down/in the/at street/nn ,/, the/at Old/jj-tl Man/nn-tl would/md have/hv been/ben blind/jj not/* to/to have/hv noticed/vbn both/abx ./.\\nWithout/in looking/vbg at/in him/ppo ,/, without/in looking/vbg at/in anything/pn except/in Drexel/np-tl Street/nn-tl directly/rb in/in front/nn of/in her/ppo ,/, she/pps climbed/vbd up/rp into/in one/cd of/in those/dts orange/jj streetcars/nns ,/, rode/vbd away/rb in/in it/ppo ,/, and/cc never/rb came/vbd back/rb ./.\\n\\n\\n\\t``/`` But/cc she/pps shouldn't/md* have/hv come/vbn here/rb in/in the/at first/od place/nn ''/'' ,/, the/at women/nns had/hvd said/vbn ./.\\n\\n\\n\\t``/`` No/rb ,/, no/rb ./.\\nNot/* that/dt one/pn ./.\\nShe/pps thought/vbd she/pps was/bedz bigger/jjr than/cs we/ppss are/ber because/cs she/pps came/vbd from/in Torino/np ''/'' ./.\\n\\n\\n\\t``/`` Eh/uh ,/, Torino/np !/. !/.\\nShe/pps gave/vbd herself/ppl fancy/jj airs/nns !/. !/.\\nJust/rb because/cs she/pps had/hvd a/at part/nn on/in the/at stage/nn in/in the/at old/jj country/nn ,/, she/pps thought/vbd she/pps could/md carry/vb her/pp$ head/nn higher/rbr than/cs ours/pp$$ ''/'' ./.\\nThey/ppss had/hvd slapped/vbn their/pp$ thighs/nns ./.\\n\\n\\n\\t``/`` It's/pps+bez not/* for/in making/vbg pretty/jj speeches/nns about/in Dante/np those/dts actresses/nns get/vb paid/vbn so/ql good/rb ''/'' ./.\\n\\n\\n\\t``/`` Henh/uh ''/'' !/. !/.\\nCalloused/vbn fingers/nns ,/, caressed/vbn only/rb by/in the/at smoothness/nn of/in polished/vbn rosaries/nns ,/, had/hvd swayed/vbn excitedly/rb beneath/in puckered/vbn chins/nns where/wrb tiny/jj black/jj hairs/nns sprouted/vbd ,/, never/rb to/to be/be tweezed/vbn away/rb ./.\\nMauve-colored/jj mouths/nns that/wps had/hvd never/rb known/vbn anything/pn sweeter/jjr than/cs the/at taste/nn of/in new/jj wine/nn and/cc the/at passion/nn of/in man's/nn$ tongue/nn had/hvd not/* smiled/vbn ,/, but/cc had/hvd condemned/vbn again/rb and/cc again/rb ./.\\n``/`` Puttana/fw-nn ''/'' !/. !/.\\n\\n\\n\\tBut/cc if/cs the/at Old/jj-tl Man/nn-tl even/rb thought/vbd about/in his/pp$ wife/nn now/rb ,/, nobody/pn cared/vbd a/at fig/nn ./.\\nIt/pps was/bedz enough/ap for/in people/nns to/to know/vb that/cs at/in one/cd time/nn he/pps had/hvd looked/vbn down/in the/at street/nn at/in the/at f\""
      ]
     },
     "execution_count": 23,
     "metadata": {},
     "output_type": "execute_result"
    }
   ],
   "source": [
    "import string # punctuation에 쓸거임\n",
    "import nltk\n",
    "\n",
    "nltk.download('brown')\n",
    "brown = nltk.corpus.brown\n",
    "romance = brown.raw(categories='romance')[:5000]\n",
    "romance"
   ]
  },
  {
   "cell_type": "markdown",
   "id": "0c69961c",
   "metadata": {},
   "source": [
    "### 문장 분절"
   ]
  },
  {
   "cell_type": "code",
   "execution_count": 24,
   "id": "f737354f",
   "metadata": {},
   "outputs": [
    {
     "data": {
      "text/plain": [
       "'They/ppss neither/cc liked/vbd nor/cc disliked/vbd the/at Old/jj-tl Man/nn-tl .'"
      ]
     },
     "execution_count": 24,
     "metadata": {},
     "output_type": "execute_result"
    }
   ],
   "source": [
    "# ./.\n",
    "# /. => 처리 가능함 -> ! 문장에서 제외\n",
    "# \\n\n",
    "sentences = [sent.strip() for sent in romance.split('/.')] # 쓸때 없는 공백 제거\n",
    "sentences[0]"
   ]
  },
  {
   "cell_type": "code",
   "execution_count": 25,
   "id": "64aaef7c",
   "metadata": {},
   "outputs": [
    {
     "data": {
      "text/plain": [
       "['``/`` Eh/uh ,/, Torino/np !',\n",
       " 'She/pps gave/vbd herself/ppl fancy/jj airs/nns !',\n",
       " \"``/`` Henh/uh ''/'' !\",\n",
       " \"``/`` Puttana/fw-nn ''/'' !\"]"
      ]
     },
     "execution_count": 25,
     "metadata": {},
     "output_type": "execute_result"
    }
   ],
   "source": [
    "# ! 없애기\n",
    "[s for s in sentences if '!' in s if s != '!']"
   ]
  },
  {
   "cell_type": "code",
   "execution_count": 26,
   "id": "58b6b0eb",
   "metadata": {
    "collapsed": true
   },
   "outputs": [
    {
     "data": {
      "text/plain": [
       "['They/ppss neither/cc liked/vbd nor/cc disliked/vbd the/at Old/jj-tl Man/nn-tl',\n",
       " 'To/in them/ppo he/pps could/md have/hv been/ben the/at broken/vbn bell/nn in/in the/at church/nn tower/nn which/wdt rang/vbd before/in and/cc after/in Mass/nn-tl ,/, and/cc at/in noon/nn ,/, and/cc at/in six/cd each/dt evening/nn --/-- its/pp$ tone/nn ,/, repetitive/jj ,/, monotonous/jj ,/, never/rb breaking/vbg the/at boredom/nn of/in the/at streets/nns',\n",
       " 'The/at Old/jj-tl Man/nn-tl was/bedz unimportant/jj',\n",
       " 'Yet/rb if/cs he/pps were/bed not/* there/rb ,/, they/ppss would/md have/hv missed/vbn him/ppo ,/, as/cs they/ppss would/md have/hv missed/vbn the/at sounds/nns of/in bees/nns buzzing/vbg against/in the/at screen/nn door/nn in/in early/jj June/np ;/. ;/.\\nor/cc the/at smell/nn of/in thick/jj tomato/nn paste/nn --/-- the/at ripe/jj smell/nn that/wps was/bedz both/abx sweet/jj and/cc sour/jj --/-- rising/vbg up/rp from/in aluminum/nn trays/nns wrapped/vbn in/in fly-dotted/jj cheesecloth/nn',\n",
       " 'Or/cc the/at surging/vbg whirling/vbg sounds/nns of/in bats/nns at/in night/nn ,/, when/wrb their/pp$ black/jj bodies/nns dived/vbd into/in the/at blackness/nn above/in and/cc below/in the/at amber/jj street/nn lights/nns',\n",
       " 'Or/cc the/at bay/nn of/in female/nn dogs/nns in/in heat/nn',\n",
       " 'They/ppss never/rb called/vbd him/ppo by/in name/nn ,/, although/cs he/pps had/hvd one/pn',\n",
       " \"Filippo/np Rossi/np ,/, that's/dt+bez what/wdt he/pps was/bedz called/vbn in/in the/at old/jj country/nn ;/. ;/.\\nbut/cc here/rb he/pps was/bedz just/rb Signore/np or/cc the/at Old/jj-tl Man/nn-tl\",\n",
       " 'But/cc this/dt was/bedz not/* unusual/jj ,/, because/cs youth/nn in/in these/dts quarters/nns was/bedz always/rb pushed/vbn at/in a/at distance/nn from/in its/pp$ elders/nns',\n",
       " 'Youth/nn obeyed/vbd when/wrb commanded/vbn',\n",
       " 'It/pps went/vbd to/in church/nn on/in Sunday/nr and/cc one/cd Saturday/nr a/at month/nn went/vbd to/in confession/nn',\n",
       " 'But/cc youth/nn asked/vbd nothing/pn of/in its/pp$ parents/nns --/-- not/* a/at touch/nn of/in the/at hand/nn or/cc a/at kiss/nn given/vbn in/in passing/vbg',\n",
       " 'The/at only/ap thing/nn unusual/jj about/in the/at Old/jj-tl Man/nn-tl had/hvd long/jj since/rb happened/vbn',\n",
       " 'But/cc the/at past/nn was/bedz dead/jj here/rb as/cs the/at present/jj was/bedz dead/jj',\n",
       " 'Once/cs the/at Old/jj-tl Man/nn-tl had/hvd had/hvn a/at wife/nn',\n",
       " 'And/cc once/cs she/pps ,/, too/rb ,/, ignored/vbd him/ppo',\n",
       " \"With/in a/at tiny/jj fur-piece/nn wrapped/vbd around/in her/pp$ shoulders/nns ,/, she/pps wiggled/vbd her/pp$ satin-covered/jj buttocks/nns down/in the/at street/nn before/in him/ppo and/cc didn't/dod* stop/vb\",\n",
       " 'In/in one/cd hand/nn she/pps clutched/vbd a/at hundred/cd dollar/nn bill/nn and/cc in/in the/at other/ap a/at straw/nn suitcase/nn',\n",
       " 'The/at way/nn she/pps strutted/vbd down/in the/at street/nn ,/, the/at Old/jj-tl Man/nn-tl would/md have/hv been/ben blind/jj not/* to/to have/hv noticed/vbn both/abx',\n",
       " 'Without/in looking/vbg at/in him/ppo ,/, without/in looking/vbg at/in anything/pn except/in Drexel/np-tl Street/nn-tl directly/rb in/in front/nn of/in her/ppo ,/, she/pps climbed/vbd up/rp into/in one/cd of/in those/dts orange/jj streetcars/nns ,/, rode/vbd away/rb in/in it/ppo ,/, and/cc never/rb came/vbd back/rb',\n",
       " \"``/`` But/cc she/pps shouldn't/md* have/hv come/vbn here/rb in/in the/at first/od place/nn ''/'' ,/, the/at women/nns had/hvd said/vbn\",\n",
       " '``/`` No/rb ,/, no/rb',\n",
       " 'Not/* that/dt one/pn',\n",
       " \"She/pps thought/vbd she/pps was/bedz bigger/jjr than/cs we/ppss are/ber because/cs she/pps came/vbd from/in Torino/np ''/''\",\n",
       " \"``/`` Eh/uh ,/, Torino/np ././. ././.\\nShe/pps gave/vbd herself/ppl fancy/jj airs/nns ././. ././.\\nJust/rb because/cs she/pps had/hvd a/at part/nn on/in the/at stage/nn in/in the/at old/jj country/nn ,/, she/pps thought/vbd she/pps could/md carry/vb her/pp$ head/nn higher/rbr than/cs ours/pp$$ ''/''\",\n",
       " 'They/ppss had/hvd slapped/vbn their/pp$ thighs/nns',\n",
       " \"``/`` It's/pps+bez not/* for/in making/vbg pretty/jj speeches/nns about/in Dante/np those/dts actresses/nns get/vb paid/vbn so/ql good/rb ''/''\",\n",
       " \"``/`` Henh/uh ''/'' ././. ././.\\nCalloused/vbn fingers/nns ,/, caressed/vbn only/rb by/in the/at smoothness/nn of/in polished/vbn rosaries/nns ,/, had/hvd swayed/vbn excitedly/rb beneath/in puckered/vbn chins/nns where/wrb tiny/jj black/jj hairs/nns sprouted/vbd ,/, never/rb to/to be/be tweezed/vbn away/rb\",\n",
       " \"Mauve-colored/jj mouths/nns that/wps had/hvd never/rb known/vbn anything/pn sweeter/jjr than/cs the/at taste/nn of/in new/jj wine/nn and/cc the/at passion/nn of/in man's/nn$ tongue/nn had/hvd not/* smiled/vbn ,/, but/cc had/hvd condemned/vbn again/rb and/cc again/rb\",\n",
       " \"``/`` Puttana/fw-nn ''/'' ././. ././.\\n\\n\\n\\tBut/cc if/cs the/at Old/jj-tl Man/nn-tl even/rb thought/vbd about/in his/pp$ wife/nn now/rb ,/, nobody/pn cared/vbd a/at fig/nn\",\n",
       " 'It/pps was/bedz enough/ap for/in people/nns to/to know/vb that/cs at/in one/cd time/nn he/pps had/hvd looked/vbn down/in the/at street/nn at/in the/at f']"
      ]
     },
     "execution_count": 26,
     "metadata": {},
     "output_type": "execute_result"
    }
   ],
   "source": [
    "# good suggestion\n",
    "[sent.replace('!', './.').strip() for sent in romance.split('./.')]"
   ]
  },
  {
   "cell_type": "markdown",
   "id": "2e3329a0",
   "metadata": {},
   "source": [
    "#### 단어 분절\n",
    "- sentences -> POS 제거, 단어 분절"
   ]
  },
  {
   "cell_type": "code",
   "execution_count": 27,
   "id": "886cac31",
   "metadata": {},
   "outputs": [
    {
     "data": {
      "text/plain": [
       "['They', 'neither', 'liked', 'nor', 'disliked', 'the', 'Old', 'Man', '.']"
      ]
     },
     "execution_count": 27,
     "metadata": {},
     "output_type": "execute_result"
    }
   ],
   "source": [
    "SLASH = '/' # 대문자\n",
    "example = sentences[0] # index 썼는데 없으면 error\n",
    "[word[:word.find(SLASH)] if word[:word.find(SLASH)] else word for word in example.split()]"
   ]
  },
  {
   "cell_type": "code",
   "execution_count": 32,
   "id": "50b7efd7",
   "metadata": {
    "collapsed": true
   },
   "outputs": [
    {
     "data": {
      "text/plain": [
       "[['They', 'neither', 'liked', 'nor', 'disliked', 'the', 'Old', 'Man', '.'],\n",
       " ['To',\n",
       "  'them',\n",
       "  'he',\n",
       "  'could',\n",
       "  'have',\n",
       "  'been',\n",
       "  'the',\n",
       "  'broken',\n",
       "  'bell',\n",
       "  'in',\n",
       "  'the',\n",
       "  'church',\n",
       "  'tower',\n",
       "  'which',\n",
       "  'rang',\n",
       "  'before',\n",
       "  'and',\n",
       "  'after',\n",
       "  'Mass',\n",
       "  ',',\n",
       "  'and',\n",
       "  'at',\n",
       "  'noon',\n",
       "  ',',\n",
       "  'and',\n",
       "  'at',\n",
       "  'six',\n",
       "  'each',\n",
       "  'evening',\n",
       "  '--',\n",
       "  'its',\n",
       "  'tone',\n",
       "  ',',\n",
       "  'repetitive',\n",
       "  ',',\n",
       "  'monotonous',\n",
       "  ',',\n",
       "  'never',\n",
       "  'breaking',\n",
       "  'the',\n",
       "  'boredom',\n",
       "  'of',\n",
       "  'the',\n",
       "  'streets',\n",
       "  '.'],\n",
       " ['The', 'Old', 'Man', 'was', 'unimportant', '.'],\n",
       " ['Yet',\n",
       "  'if',\n",
       "  'he',\n",
       "  'were',\n",
       "  'not',\n",
       "  'there',\n",
       "  ',',\n",
       "  'they',\n",
       "  'would',\n",
       "  'have',\n",
       "  'missed',\n",
       "  'him',\n",
       "  ',',\n",
       "  'as',\n",
       "  'they',\n",
       "  'would',\n",
       "  'have',\n",
       "  'missed',\n",
       "  'the',\n",
       "  'sounds',\n",
       "  'of',\n",
       "  'bees',\n",
       "  'buzzing',\n",
       "  'against',\n",
       "  'the',\n",
       "  'screen',\n",
       "  'door',\n",
       "  'in',\n",
       "  'early',\n",
       "  'June',\n",
       "  ';'],\n",
       " [';'],\n",
       " ['or',\n",
       "  'the',\n",
       "  'smell',\n",
       "  'of',\n",
       "  'thick',\n",
       "  'tomato',\n",
       "  'paste',\n",
       "  '--',\n",
       "  'the',\n",
       "  'ripe',\n",
       "  'smell',\n",
       "  'that',\n",
       "  'was',\n",
       "  'both',\n",
       "  'sweet',\n",
       "  'and',\n",
       "  'sour',\n",
       "  '--',\n",
       "  'rising',\n",
       "  'up',\n",
       "  'from',\n",
       "  'aluminum',\n",
       "  'trays',\n",
       "  'wrapped',\n",
       "  'in',\n",
       "  'fly-dotted',\n",
       "  'cheesecloth',\n",
       "  '.'],\n",
       " ['Or',\n",
       "  'the',\n",
       "  'surging',\n",
       "  'whirling',\n",
       "  'sounds',\n",
       "  'of',\n",
       "  'bats',\n",
       "  'at',\n",
       "  'night',\n",
       "  ',',\n",
       "  'when',\n",
       "  'their',\n",
       "  'black',\n",
       "  'bodies',\n",
       "  'dived',\n",
       "  'into',\n",
       "  'the',\n",
       "  'blackness',\n",
       "  'above',\n",
       "  'and',\n",
       "  'below',\n",
       "  'the',\n",
       "  'amber',\n",
       "  'street',\n",
       "  'lights',\n",
       "  '.'],\n",
       " ['Or', 'the', 'bay', 'of', 'female', 'dogs', 'in', 'heat', '.'],\n",
       " ['They',\n",
       "  'never',\n",
       "  'called',\n",
       "  'him',\n",
       "  'by',\n",
       "  'name',\n",
       "  ',',\n",
       "  'although',\n",
       "  'he',\n",
       "  'had',\n",
       "  'one',\n",
       "  '.'],\n",
       " ['Filippo',\n",
       "  'Rossi',\n",
       "  ',',\n",
       "  \"that's\",\n",
       "  'what',\n",
       "  'he',\n",
       "  'was',\n",
       "  'called',\n",
       "  'in',\n",
       "  'the',\n",
       "  'old',\n",
       "  'country',\n",
       "  ';'],\n",
       " [';'],\n",
       " ['but',\n",
       "  'here',\n",
       "  'he',\n",
       "  'was',\n",
       "  'just',\n",
       "  'Signore',\n",
       "  'or',\n",
       "  'the',\n",
       "  'Old',\n",
       "  'Man',\n",
       "  '.'],\n",
       " ['But',\n",
       "  'this',\n",
       "  'was',\n",
       "  'not',\n",
       "  'unusual',\n",
       "  ',',\n",
       "  'because',\n",
       "  'youth',\n",
       "  'in',\n",
       "  'these',\n",
       "  'quarters',\n",
       "  'was',\n",
       "  'always',\n",
       "  'pushed',\n",
       "  'at',\n",
       "  'a',\n",
       "  'distance',\n",
       "  'from',\n",
       "  'its',\n",
       "  'elders',\n",
       "  '.'],\n",
       " ['Youth', 'obeyed', 'when', 'commanded', '.'],\n",
       " ['It',\n",
       "  'went',\n",
       "  'to',\n",
       "  'church',\n",
       "  'on',\n",
       "  'Sunday',\n",
       "  'and',\n",
       "  'one',\n",
       "  'Saturday',\n",
       "  'a',\n",
       "  'month',\n",
       "  'went',\n",
       "  'to',\n",
       "  'confession',\n",
       "  '.'],\n",
       " ['But',\n",
       "  'youth',\n",
       "  'asked',\n",
       "  'nothing',\n",
       "  'of',\n",
       "  'its',\n",
       "  'parents',\n",
       "  '--',\n",
       "  'not',\n",
       "  'a',\n",
       "  'touch',\n",
       "  'of',\n",
       "  'the',\n",
       "  'hand',\n",
       "  'or',\n",
       "  'a',\n",
       "  'kiss',\n",
       "  'given',\n",
       "  'in',\n",
       "  'passing',\n",
       "  '.'],\n",
       " ['The',\n",
       "  'only',\n",
       "  'thing',\n",
       "  'unusual',\n",
       "  'about',\n",
       "  'the',\n",
       "  'Old',\n",
       "  'Man',\n",
       "  'had',\n",
       "  'long',\n",
       "  'since',\n",
       "  'happened',\n",
       "  '.'],\n",
       " ['But',\n",
       "  'the',\n",
       "  'past',\n",
       "  'was',\n",
       "  'dead',\n",
       "  'here',\n",
       "  'as',\n",
       "  'the',\n",
       "  'present',\n",
       "  'was',\n",
       "  'dead',\n",
       "  '.'],\n",
       " ['Once', 'the', 'Old', 'Man', 'had', 'had', 'a', 'wife', '.'],\n",
       " ['And', 'once', 'she', ',', 'too', ',', 'ignored', 'him', '.'],\n",
       " ['With',\n",
       "  'a',\n",
       "  'tiny',\n",
       "  'fur-piece',\n",
       "  'wrapped',\n",
       "  'around',\n",
       "  'her',\n",
       "  'shoulders',\n",
       "  ',',\n",
       "  'she',\n",
       "  'wiggled',\n",
       "  'her',\n",
       "  'satin-covered',\n",
       "  'buttocks',\n",
       "  'down',\n",
       "  'the',\n",
       "  'street',\n",
       "  'before',\n",
       "  'him',\n",
       "  'and',\n",
       "  \"didn't\",\n",
       "  'stop',\n",
       "  '.'],\n",
       " ['In',\n",
       "  'one',\n",
       "  'hand',\n",
       "  'she',\n",
       "  'clutched',\n",
       "  'a',\n",
       "  'hundred',\n",
       "  'dollar',\n",
       "  'bill',\n",
       "  'and',\n",
       "  'in',\n",
       "  'the',\n",
       "  'other',\n",
       "  'a',\n",
       "  'straw',\n",
       "  'suitcase',\n",
       "  '.'],\n",
       " ['The',\n",
       "  'way',\n",
       "  'she',\n",
       "  'strutted',\n",
       "  'down',\n",
       "  'the',\n",
       "  'street',\n",
       "  ',',\n",
       "  'the',\n",
       "  'Old',\n",
       "  'Man',\n",
       "  'would',\n",
       "  'have',\n",
       "  'been',\n",
       "  'blind',\n",
       "  'not',\n",
       "  'to',\n",
       "  'have',\n",
       "  'noticed',\n",
       "  'both',\n",
       "  '.'],\n",
       " ['Without',\n",
       "  'looking',\n",
       "  'at',\n",
       "  'him',\n",
       "  ',',\n",
       "  'without',\n",
       "  'looking',\n",
       "  'at',\n",
       "  'anything',\n",
       "  'except',\n",
       "  'Drexel',\n",
       "  'Street',\n",
       "  'directly',\n",
       "  'in',\n",
       "  'front',\n",
       "  'of',\n",
       "  'her',\n",
       "  ',',\n",
       "  'she',\n",
       "  'climbed',\n",
       "  'up',\n",
       "  'into',\n",
       "  'one',\n",
       "  'of',\n",
       "  'those',\n",
       "  'orange',\n",
       "  'streetcars',\n",
       "  ',',\n",
       "  'rode',\n",
       "  'away',\n",
       "  'in',\n",
       "  'it',\n",
       "  ',',\n",
       "  'and',\n",
       "  'never',\n",
       "  'came',\n",
       "  'back',\n",
       "  '.'],\n",
       " ['``',\n",
       "  'But',\n",
       "  'she',\n",
       "  \"shouldn't\",\n",
       "  'have',\n",
       "  'come',\n",
       "  'here',\n",
       "  'in',\n",
       "  'the',\n",
       "  'first',\n",
       "  'place',\n",
       "  \"''\",\n",
       "  ',',\n",
       "  'the',\n",
       "  'women',\n",
       "  'had',\n",
       "  'said',\n",
       "  '.'],\n",
       " ['``', 'No', ',', 'no', '.'],\n",
       " ['Not', 'that', 'one', '.'],\n",
       " ['She',\n",
       "  'thought',\n",
       "  'she',\n",
       "  'was',\n",
       "  'bigger',\n",
       "  'than',\n",
       "  'we',\n",
       "  'are',\n",
       "  'because',\n",
       "  'she',\n",
       "  'came',\n",
       "  'from',\n",
       "  'Torino',\n",
       "  \"''\",\n",
       "  '.'],\n",
       " ['``', 'Eh', ',', 'Torino', '!'],\n",
       " ['!'],\n",
       " ['She', 'gave', 'herself', 'fancy', 'airs', '!'],\n",
       " ['!'],\n",
       " ['Just',\n",
       "  'because',\n",
       "  'she',\n",
       "  'had',\n",
       "  'a',\n",
       "  'part',\n",
       "  'on',\n",
       "  'the',\n",
       "  'stage',\n",
       "  'in',\n",
       "  'the',\n",
       "  'old',\n",
       "  'country',\n",
       "  ',',\n",
       "  'she',\n",
       "  'thought',\n",
       "  'she',\n",
       "  'could',\n",
       "  'carry',\n",
       "  'her',\n",
       "  'head',\n",
       "  'higher',\n",
       "  'than',\n",
       "  'ours',\n",
       "  \"''\",\n",
       "  '.'],\n",
       " ['They', 'had', 'slapped', 'their', 'thighs', '.'],\n",
       " ['``',\n",
       "  \"It's\",\n",
       "  'not',\n",
       "  'for',\n",
       "  'making',\n",
       "  'pretty',\n",
       "  'speeches',\n",
       "  'about',\n",
       "  'Dante',\n",
       "  'those',\n",
       "  'actresses',\n",
       "  'get',\n",
       "  'paid',\n",
       "  'so',\n",
       "  'good',\n",
       "  \"''\",\n",
       "  '.'],\n",
       " ['``', 'Henh', \"''\", '!'],\n",
       " ['!'],\n",
       " ['Calloused',\n",
       "  'fingers',\n",
       "  ',',\n",
       "  'caressed',\n",
       "  'only',\n",
       "  'by',\n",
       "  'the',\n",
       "  'smoothness',\n",
       "  'of',\n",
       "  'polished',\n",
       "  'rosaries',\n",
       "  ',',\n",
       "  'had',\n",
       "  'swayed',\n",
       "  'excitedly',\n",
       "  'beneath',\n",
       "  'puckered',\n",
       "  'chins',\n",
       "  'where',\n",
       "  'tiny',\n",
       "  'black',\n",
       "  'hairs',\n",
       "  'sprouted',\n",
       "  ',',\n",
       "  'never',\n",
       "  'to',\n",
       "  'be',\n",
       "  'tweezed',\n",
       "  'away',\n",
       "  '.'],\n",
       " ['Mauve-colored',\n",
       "  'mouths',\n",
       "  'that',\n",
       "  'had',\n",
       "  'never',\n",
       "  'known',\n",
       "  'anything',\n",
       "  'sweeter',\n",
       "  'than',\n",
       "  'the',\n",
       "  'taste',\n",
       "  'of',\n",
       "  'new',\n",
       "  'wine',\n",
       "  'and',\n",
       "  'the',\n",
       "  'passion',\n",
       "  'of',\n",
       "  \"man's\",\n",
       "  'tongue',\n",
       "  'had',\n",
       "  'not',\n",
       "  'smiled',\n",
       "  ',',\n",
       "  'but',\n",
       "  'had',\n",
       "  'condemned',\n",
       "  'again',\n",
       "  'and',\n",
       "  'again',\n",
       "  '.'],\n",
       " ['``', 'Puttana', \"''\", '!'],\n",
       " ['!'],\n",
       " ['But',\n",
       "  'if',\n",
       "  'the',\n",
       "  'Old',\n",
       "  'Man',\n",
       "  'even',\n",
       "  'thought',\n",
       "  'about',\n",
       "  'his',\n",
       "  'wife',\n",
       "  'now',\n",
       "  ',',\n",
       "  'nobody',\n",
       "  'cared',\n",
       "  'a',\n",
       "  'fig',\n",
       "  '.'],\n",
       " ['It',\n",
       "  'was',\n",
       "  'enough',\n",
       "  'for',\n",
       "  'people',\n",
       "  'to',\n",
       "  'know',\n",
       "  'that',\n",
       "  'at',\n",
       "  'one',\n",
       "  'time',\n",
       "  'he',\n",
       "  'had',\n",
       "  'looked',\n",
       "  'down',\n",
       "  'the',\n",
       "  'street',\n",
       "  'at',\n",
       "  'the',\n",
       "  'f']]"
      ]
     },
     "execution_count": 32,
     "metadata": {},
     "output_type": "execute_result"
    }
   ],
   "source": [
    "# 모든 문장에 적용하기\n",
    "sentence_tokens = [[word[:word.find(SLASH)]\\\n",
    "                   if word[:word.find(SLASH)] else word\\\n",
    "                        for word in example.split()] for example in sentences]\n",
    "sentence_tokens"
   ]
  },
  {
   "cell_type": "markdown",
   "id": "085ba052",
   "metadata": {},
   "source": [
    "#### punctuations"
   ]
  },
  {
   "cell_type": "code",
   "execution_count": 33,
   "id": "17f10c91",
   "metadata": {
    "collapsed": true
   },
   "outputs": [
    {
     "data": {
      "text/plain": [
       "['!',\n",
       " '\"',\n",
       " '#',\n",
       " '$',\n",
       " '%',\n",
       " '&',\n",
       " \"'\",\n",
       " '(',\n",
       " ')',\n",
       " '*',\n",
       " '+',\n",
       " ',',\n",
       " '-',\n",
       " '.',\n",
       " '/',\n",
       " ':',\n",
       " ';',\n",
       " '<',\n",
       " '=',\n",
       " '>',\n",
       " '?',\n",
       " '@',\n",
       " '[',\n",
       " '\\\\',\n",
       " ']',\n",
       " '^',\n",
       " '_',\n",
       " '`',\n",
       " '{',\n",
       " '|',\n",
       " '}',\n",
       " '~']"
      ]
     },
     "execution_count": 33,
     "metadata": {},
     "output_type": "execute_result"
    }
   ],
   "source": [
    "punct = list(string.punctuation)\n",
    "punct"
   ]
  },
  {
   "cell_type": "code",
   "execution_count": 49,
   "id": "9d46a252",
   "metadata": {},
   "outputs": [
    {
     "data": {
      "text/plain": [
       "['The', 'Old', 'Man', 'was', 'unimportant', '']"
      ]
     },
     "execution_count": 49,
     "metadata": {},
     "output_type": "execute_result"
    }
   ],
   "source": [
    "# 제거하기\n",
    "sentences_token_no_punctuation = [[word[:word.find(SLASH)]\\\n",
    "                                  if word[:word.find(SLASH)] not in punct\\\n",
    "                                  else word for word in example.split()] for example in sentences]\n",
    "sentences_token_no_punctuation[2]"
   ]
  },
  {
   "cell_type": "markdown",
   "id": "a666fe20",
   "metadata": {},
   "source": [
    "#### hyphen\n",
    "- split한 뒤에 extend\n",
    "    ex) 'fur-piece'.split('-')\n",
    "    \n",
    "#### apostrophe\n",
    "- c'mon 이런 말들을 나누면 안 돼"
   ]
  },
  {
   "cell_type": "code",
   "execution_count": 43,
   "id": "dd908acd",
   "metadata": {},
   "outputs": [
    {
     "data": {
      "text/plain": [
       "('she', \"'s\")"
      ]
     },
     "execution_count": 43,
     "metadata": {},
     "output_type": "execute_result"
    }
   ],
   "source": [
    "# example\n",
    "word = 'she\\'s'\n",
    "index = word.find('\\'')\n",
    "word[:index], word[index:]"
   ]
  },
  {
   "cell_type": "markdown",
   "id": "3941c6d5",
   "metadata": {},
   "source": [
    "### 알아 두면 도움 되는 것\n",
    "- word.isdigit(): 숫자로만 된거 출력\n",
    "- word.isalpha(): 글자로만 된거 출력\n",
    "- word.isalnum(): 글자나 숫자로만 된거 출력"
   ]
  },
  {
   "cell_type": "code",
   "execution_count": null,
   "id": "5fd30afc",
   "metadata": {},
   "outputs": [],
   "source": []
  }
 ],
 "metadata": {
  "kernelspec": {
   "display_name": "Python 3 (ipykernel)",
   "language": "python",
   "name": "python3"
  },
  "language_info": {
   "codemirror_mode": {
    "name": "ipython",
    "version": 3
   },
   "file_extension": ".py",
   "mimetype": "text/x-python",
   "name": "python",
   "nbconvert_exporter": "python",
   "pygments_lexer": "ipython3",
   "version": "3.9.7"
  }
 },
 "nbformat": 4,
 "nbformat_minor": 5
}
