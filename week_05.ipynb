{
 "cells": [
  {
   "cell_type": "markdown",
   "id": "3300272c",
   "metadata": {},
   "source": [
    "## 5주차"
   ]
  },
  {
   "cell_type": "markdown",
   "id": "9ad47ca2",
   "metadata": {},
   "source": [
    "### 반복문\n",
    "- while, for loop\n",
    "- 정해진 동작을 반복해야 할 때\n",
    "\n",
    "### while loop\n",
    "- 어떤 조건이 만족하는 동안 명령 블록을 수행한다.\n",
    "- if + for loop\n",
    "- 해당 조건이 거짓이면 멈춘다. => 언제 멈추는지 정확히 파악해야 함.\n",
    "#### for vs while\n",
    "- for: 반복 횟수가 정해짐, 정확함. 변하지 않음\n",
    "    - 예: 성적 산출\n",
    "- while: 횟수 정해지지 않음. (중요하지 않다.) 어떤 조건을 만족시킬 때 빠져나오게 하는 게 중요할 때 사용"
   ]
  },
  {
   "cell_type": "code",
   "execution_count": 1,
   "id": "17cbe6ac",
   "metadata": {},
   "outputs": [
    {
     "name": "stdout",
     "output_type": "stream",
     "text": [
      "0\n",
      "1\n",
      "2\n",
      "3\n",
      "4\n",
      "5\n",
      "6\n",
      "7\n",
      "8\n",
      "9\n"
     ]
    }
   ],
   "source": [
    "for i in range(10):\n",
    "    print(i)"
   ]
  },
  {
   "cell_type": "code",
   "execution_count": 2,
   "id": "db228dd7",
   "metadata": {},
   "outputs": [
    {
     "name": "stdout",
     "output_type": "stream",
     "text": [
      "0\n",
      "1\n",
      "2\n"
     ]
    }
   ],
   "source": [
    "j = 0 #while에서는 j를 정의 해줘야함. 초기화\n",
    "while j < 3: # 0, 1, 2, False\n",
    "    print(j) # 0, 1, 2\n",
    "    j += 1 #변화 1, 2, 3"
   ]
  },
  {
   "cell_type": "code",
   "execution_count": 4,
   "id": "91dbcba9",
   "metadata": {},
   "outputs": [
    {
     "name": "stdout",
     "output_type": "stream",
     "text": [
      "1\n",
      "2\n",
      "3\n"
     ]
    }
   ],
   "source": [
    "j = 0\n",
    "while j < 3: #0, 1, 2, False\n",
    "    j += 1   #1, 2, 3\n",
    "    print(j) #1, 2, 3\n",
    "    # j += 1을 옯기면 출력이 달라져"
   ]
  },
  {
   "cell_type": "markdown",
   "id": "2214b82e",
   "metadata": {},
   "source": [
    "- j += 1\n",
    "- print(j)\n",
    "- 이 둘의 순서에 따라 다르게 출력되는데 while문 작성할 때 어디서부터 어디까지 출력되는지 알아야함."
   ]
  },
  {
   "cell_type": "code",
   "execution_count": 6,
   "id": "06d5ae5f",
   "metadata": {},
   "outputs": [
    {
     "name": "stdout",
     "output_type": "stream",
     "text": [
      "a\n",
      "b\n",
      "c\n",
      "d\n"
     ]
    }
   ],
   "source": [
    "abcd = ['a', 'b', 'c', 'd']\n",
    "for ch in abcd:\n",
    "    print(ch)\n",
    "    #이걸 while로 바꾸면"
   ]
  },
  {
   "cell_type": "code",
   "execution_count": 7,
   "id": "388e45f2",
   "metadata": {},
   "outputs": [
    {
     "name": "stdout",
     "output_type": "stream",
     "text": [
      "a\n",
      "b\n",
      "c\n",
      "d\n"
     ]
    }
   ],
   "source": [
    "# 복습할 때 my answer\n",
    "j = 0\n",
    "while j < len(abcd):\n",
    "    print(abcd[j])\n",
    "    j += 1"
   ]
  },
  {
   "cell_type": "code",
   "execution_count": 8,
   "id": "3d0ec7d0",
   "metadata": {},
   "outputs": [
    {
     "name": "stdout",
     "output_type": "stream",
     "text": [
      "a\n",
      "b\n",
      "c\n",
      "d\n"
     ]
    }
   ],
   "source": [
    "#what some other students did\n",
    "i = 0\n",
    "while i < 4:\n",
    "    print(abcd[i])\n",
    "    i += 1"
   ]
  },
  {
   "cell_type": "markdown",
   "id": "7f378f7f",
   "metadata": {},
   "source": [
    "### 반복문 제어\n",
    "- 의도치 않은 오류 발생을 피해가 위해 되도록 사용하지 않는다.\n",
    "\n",
    "- break: 논리적으로 반복문을 종료시키는 방법.\n",
    "- else: 어떤 조건이 완전히 끝났을 때 한번 더 실행함. break시에 실행 안 됨. => 어느 지점에서 종료되었는지 확인할 때 사용할 수 있다.\n",
    "    - ex) else: print('끝'), 출력되면 break에서 멈춘거 아님 확인 가능\n",
    "- continue: 특정 조건을 건너뛰고 다음 조건 실행"
   ]
  },
  {
   "cell_type": "code",
   "execution_count": 11,
   "id": "6b27db6f",
   "metadata": {},
   "outputs": [
    {
     "name": "stdout",
     "output_type": "stream",
     "text": [
      "0\n",
      "1\n",
      "2\n",
      "3\n",
      "4\n",
      "5\n",
      "6\n"
     ]
    }
   ],
   "source": [
    "j = 0 #초기화\n",
    "while j < 10:\n",
    "    print(j)  #0, 1, 2, 3, 4, 5, 6\n",
    "    if j == 6: break\n",
    "    j += 1\n",
    "else:  #else 를 써 break에서 끝난건지 확인\n",
    "    print('ended')"
   ]
  },
  {
   "cell_type": "code",
   "execution_count": 17,
   "id": "a2059264",
   "metadata": {},
   "outputs": [
    {
     "name": "stdout",
     "output_type": "stream",
     "text": [
      "2\n",
      "4\n",
      "8\n",
      "10\n",
      "stopped\n"
     ]
    }
   ],
   "source": [
    "j = 0  #초기화\n",
    "while j < 10:\n",
    "    j += 2\n",
    "    if j == 6: continue\n",
    "    print(j)  #continue 밑에 있는거 다 안됨. 바로 위로 다시 돌아감.\n",
    "else:\n",
    "    print('stopped')"
   ]
  },
  {
   "cell_type": "code",
   "execution_count": 18,
   "id": "44d6d993",
   "metadata": {},
   "outputs": [
    {
     "name": "stdout",
     "output_type": "stream",
     "text": [
      "0\n",
      "1\n",
      "2\n",
      "3\n",
      "4\n",
      "5\n"
     ]
    }
   ],
   "source": [
    "for i in range(10):\n",
    "    if i == 6: break\n",
    "    print(i)  #6은 출력이 안됨"
   ]
  },
  {
   "cell_type": "markdown",
   "id": "2832709e",
   "metadata": {},
   "source": [
    "### gugudan\n",
    "변수는 입력을 받아서 사용함.\n",
    "Quiz\n",
    "- 1. n단 출력\n",
    "- 2. 1~n단까지 출력\n",
    "    - n > 10 경우를 대비한 코드도 작성\n",
    "- 3. n, m 모두 입력 받아서 출력\n",
    "    - n > m\n",
    "- 4. 프로그램으로 만듦.\n",
    "    - 메뉴: 1) n, 2) 1-n, #) n-m단\n",
    "    - 메뉴에 없는 옵션 선택할 때\n",
    "- print format 사용할 것"
   ]
  },
  {
   "cell_type": "code",
   "execution_count": 22,
   "id": "33a58af1",
   "metadata": {},
   "outputs": [
    {
     "name": "stdout",
     "output_type": "stream",
     "text": [
      "출력할 단을 입력하세요: 6\n",
      "===6단===\n",
      "6 * 1 = 6\n",
      "6 * 2 = 12\n",
      "6 * 3 = 18\n",
      "6 * 4 = 24\n",
      "6 * 5 = 30\n",
      "6 * 6 = 36\n",
      "6 * 7 = 42\n",
      "6 * 8 = 48\n",
      "6 * 9 = 54\n"
     ]
    }
   ],
   "source": [
    "#quiz 1 my answer using while\n",
    "n = int(input(\"출력할 단을 입력하세요: \"))\n",
    "i = 1\n",
    "print(f\"==={n}단===\")\n",
    "while i < 10:\n",
    "    print(\"%d * %d = %d\" %(n, i, n*i))\n",
    "    i += 1\n",
    "# 친절한 코드: 입력할 때 말 넣고, 출력할 때 단 깔끔하게 정리"
   ]
  },
  {
   "cell_type": "code",
   "execution_count": 28,
   "id": "62377220",
   "metadata": {},
   "outputs": [
    {
     "name": "stdout",
     "output_type": "stream",
     "text": [
      "숫자를 입력하시오(9 이하): 3\n",
      "===1단===\n",
      "1 * 1 = 1\n",
      "1 * 2 = 2\n",
      "1 * 3 = 3\n",
      "1 * 4 = 4\n",
      "1 * 5 = 5\n",
      "1 * 6 = 6\n",
      "1 * 7 = 7\n",
      "1 * 8 = 8\n",
      "1 * 9 = 9\n",
      "===2단===\n",
      "2 * 1 = 2\n",
      "2 * 2 = 4\n",
      "2 * 3 = 6\n",
      "2 * 4 = 8\n",
      "2 * 5 = 10\n",
      "2 * 6 = 12\n",
      "2 * 7 = 14\n",
      "2 * 8 = 16\n",
      "2 * 9 = 18\n",
      "===3단===\n",
      "3 * 1 = 3\n",
      "3 * 2 = 6\n",
      "3 * 3 = 9\n",
      "3 * 4 = 12\n",
      "3 * 5 = 15\n",
      "3 * 6 = 18\n",
      "3 * 7 = 21\n",
      "3 * 8 = 24\n",
      "3 * 9 = 27\n"
     ]
    }
   ],
   "source": [
    "# quiz 2\n",
    "n = int(input(\"숫자를 입력하시오(9 이하): \"))\n",
    "j = 1\n",
    "if n > 9:\n",
    "    n = int(input(\"너무 큰 숫자입니다. 다시 입력해주십시오: \"))\n",
    "while j <= n:\n",
    "    print(f\"==={j}단===\")\n",
    "    i = 1  # 여기다가 안 넣으면 새로운 단이 출력될 때 i = 1로 매번 초기화되지 않아 밑에 while문이 실행 안 됨.\n",
    "    while i < 10:\n",
    "        print(f\"{j} * {i} = {i*j}\")\n",
    "        i += 1\n",
    "    j += 1"
   ]
  },
  {
   "cell_type": "code",
   "execution_count": 29,
   "id": "3a8c9069",
   "metadata": {
    "scrolled": true
   },
   "outputs": [
    {
     "name": "stdout",
     "output_type": "stream",
     "text": [
      "숫자를 입력하시오: 4\n",
      "===1단===\n",
      "1 * 1 = 1\n",
      "1 * 2 = 2\n",
      "1 * 3 = 3\n",
      "1 * 4 = 4\n",
      "1 * 5 = 5\n",
      "1 * 6 = 6\n",
      "1 * 7 = 7\n",
      "1 * 8 = 8\n",
      "1 * 9 = 9\n",
      "===2단===\n",
      "2 * 1 = 2\n",
      "2 * 2 = 4\n",
      "2 * 3 = 6\n",
      "2 * 4 = 8\n",
      "2 * 5 = 10\n",
      "2 * 6 = 12\n",
      "2 * 7 = 14\n",
      "2 * 8 = 16\n",
      "2 * 9 = 18\n",
      "===3단===\n",
      "3 * 1 = 3\n",
      "3 * 2 = 6\n",
      "3 * 3 = 9\n",
      "3 * 4 = 12\n",
      "3 * 5 = 15\n",
      "3 * 6 = 18\n",
      "3 * 7 = 21\n",
      "3 * 8 = 24\n",
      "3 * 9 = 27\n",
      "===4단===\n",
      "4 * 1 = 4\n",
      "4 * 2 = 8\n",
      "4 * 3 = 12\n",
      "4 * 4 = 16\n",
      "4 * 5 = 20\n",
      "4 * 6 = 24\n",
      "4 * 7 = 28\n",
      "4 * 8 = 32\n",
      "4 * 9 = 36\n"
     ]
    }
   ],
   "source": [
    "#quiz 2 for문 사용하면\n",
    "n = int(input('숫자를 입력하시오: '))\n",
    "for i in range(1, n+1):\n",
    "    print(f'==={i}단===')\n",
    "    for k in range(1, 10):\n",
    "        print(f'{i} * {k} = {i*k}')"
   ]
  },
  {
   "cell_type": "code",
   "execution_count": 37,
   "id": "080f0cfe",
   "metadata": {},
   "outputs": [
    {
     "name": "stdout",
     "output_type": "stream",
     "text": [
      "시작하는 단을 입력하시오(9 이하): 12\n",
      "숫자가 너무 큽니다.\n",
      "시작하는 단을 다시 입력하시오(9 이하): 14\n",
      "숫자가 너무 큽니다.\n",
      "시작하는 단을 다시 입력하시오(9 이하): 9\n",
      "끝나는 단을 입력하시오: 10\n",
      "===9단===\n",
      "9 * 1 = 9\n",
      "9 * 2 = 18\n",
      "9 * 3 = 27\n",
      "9 * 4 = 36\n",
      "9 * 5 = 45\n",
      "9 * 6 = 54\n",
      "9 * 7 = 63\n",
      "9 * 8 = 72\n",
      "9 * 9 = 81\n",
      "===10단===\n",
      "10 * 1 = 10\n",
      "10 * 2 = 20\n",
      "10 * 3 = 30\n",
      "10 * 4 = 40\n",
      "10 * 5 = 50\n",
      "10 * 6 = 60\n",
      "10 * 7 = 70\n",
      "10 * 8 = 80\n",
      "10 * 9 = 90\n"
     ]
    }
   ],
   "source": [
    "#quiz 3 수업시간에 한 my answer  문제 지적\n",
    "danStart = int(input(\"시작하는 단을 입력하시오(9 이하): \"))\n",
    "while danStart > 9:\n",
    "    print(\"숫자가 너무 큽니다.\")\n",
    "    danStart = int(input(\"시작하는 단을 다시 입력하시오(9 이하): \"))\n",
    "danEnd = int(input(\"끝나는 단을 입력하시오: \"))  #danEnd에는 제한이 없음\n",
    "while danStart > danEnd:\n",
    "    print(\"시작하는 단이 끝나는 단보다 큽니다.\")\n",
    "    danEnd = int(input(\"끝나는 단을 다시 입력하시오: \"))\n",
    "j = 1\n",
    "\n",
    "if danStart <= danEnd:\n",
    "    for i in range(danStart, danEnd + 1):\n",
    "        print(f\"==={i}단===\")\n",
    "        for j in range(1, 10):\n",
    "            print(\"%d * %d = %d\" %(i, j, i * j))\n",
    "            j += 1   #for문인데 이 부분 이하는 필요 없음\n",
    "            if j >= 10:\n",
    "                break"
   ]
  },
  {
   "cell_type": "code",
   "execution_count": 41,
   "id": "e10e4e0f",
   "metadata": {},
   "outputs": [
    {
     "name": "stdout",
     "output_type": "stream",
     "text": [
      "시작하는 단을 입력하시오(9 이하): 13\n",
      "숫자가 너무 큽니다. 다시 입력하시오: 15\n",
      "숫자가 너무 큽니다. 다시 입력하시오: 5\n",
      "끝나는 단을 입력하시오(9 이하): 1\n",
      "두번째 수가 너무 작읍니다. 다시 입력하시오: 20\n",
      "두번째 수가 너무 큽니다. 다시 입력하시오: 7\n",
      "===5단===\n",
      "5 * 1 = 5\n",
      "5 * 2 = 10\n",
      "5 * 3 = 15\n",
      "5 * 4 = 20\n",
      "5 * 5 = 25\n",
      "5 * 6 = 30\n",
      "5 * 7 = 35\n",
      "5 * 8 = 40\n",
      "5 * 9 = 45\n",
      "===6단===\n",
      "6 * 1 = 6\n",
      "6 * 2 = 12\n",
      "6 * 3 = 18\n",
      "6 * 4 = 24\n",
      "6 * 5 = 30\n",
      "6 * 6 = 36\n",
      "6 * 7 = 42\n",
      "6 * 8 = 48\n",
      "6 * 9 = 54\n",
      "===7단===\n",
      "7 * 1 = 7\n",
      "7 * 2 = 14\n",
      "7 * 3 = 21\n",
      "7 * 4 = 28\n",
      "7 * 5 = 35\n",
      "7 * 6 = 42\n",
      "7 * 7 = 49\n",
      "7 * 8 = 56\n",
      "7 * 9 = 63\n"
     ]
    }
   ],
   "source": [
    "#quiz 3 복습 시 my answer\n",
    "#n = 시작하는 단\n",
    "#m = 끝나는 단\n",
    "n = int(input('시작하는 단을 입력하시오(9 이하): '))\n",
    "while n > 9:   #if를 쓰면 한번만 수정 기회가 주어짐. while을 쓰면 조건이 충족되는 이상 계속 입력받을 수 있어\n",
    "    n = int(input('숫자가 너무 큽니다. 다시 입력하시오: '))\n",
    "m = int(input('끝나는 단을 입력하시오(9 이하): '))\n",
    "while m > 9 or n > m:\n",
    "    if m > 9:\n",
    "        m = int(input('두번째 수가 너무 큽니다. 다시 입력하시오: '))\n",
    "    elif n > m:\n",
    "        m = int(input('두번째 수가 너무 작읍니다. 다시 입력하시오: '))\n",
    "for i in range(n, m+1):\n",
    "    print(f'==={i}단===')\n",
    "    j = 1\n",
    "    while j < 10:\n",
    "        print(f'{i} * {j} = {i*j}')\n",
    "        j += 1"
   ]
  },
  {
   "cell_type": "code",
   "execution_count": 52,
   "id": "940778dc",
   "metadata": {},
   "outputs": [
    {
     "name": "stdout",
     "output_type": "stream",
     "text": [
      "메뉴\n",
      " 1. 특정 단만 출력\n",
      " 2. 1~n단 출력\n",
      " 3. n~m단 출력\n",
      "메뉴 중 하나를 고르시오: 6\n",
      "메뉴에서 다시 고르시오:7\n",
      "메뉴에서 다시 고르시오:3\n",
      "시작하는 단을 입력하시오: 4\n",
      "끝나는 단을 입력하시오: 2\n",
      "숫자가 너무 작습니다. 다시 입력하시오: 11\n",
      "숫자가 너무 큽니다. 다시 입력하시오: 6\n",
      "===4단===\n",
      "4 * 1 = 4\n",
      "4 * 2 = 8\n",
      "4 * 3 = 12\n",
      "4 * 4 = 16\n",
      "4 * 5 = 20\n",
      "4 * 6 = 24\n",
      "4 * 7 = 28\n",
      "4 * 8 = 32\n",
      "4 * 9 = 36\n",
      "===5단===\n",
      "5 * 1 = 5\n",
      "5 * 2 = 10\n",
      "5 * 3 = 15\n",
      "5 * 4 = 20\n",
      "5 * 5 = 25\n",
      "5 * 6 = 30\n",
      "5 * 7 = 35\n",
      "5 * 8 = 40\n",
      "5 * 9 = 45\n",
      "===6단===\n",
      "6 * 1 = 6\n",
      "6 * 2 = 12\n",
      "6 * 3 = 18\n",
      "6 * 4 = 24\n",
      "6 * 5 = 30\n",
      "6 * 6 = 36\n",
      "6 * 7 = 42\n",
      "6 * 8 = 48\n",
      "6 * 9 = 54\n"
     ]
    }
   ],
   "source": [
    "print('메뉴\\n 1. 특정 단만 출력\\n 2. 1~n단 출력\\n 3. n~m단 출력')\n",
    "choice = int(input('메뉴 중 하나를 고르시오: '))\n",
    "while choice != 1 and choice != 2 and choice != 3:\n",
    "    choice = int(input('메뉴에서 다시 고르시오:'))\n",
    "if choice == 1:\n",
    "    n = int(input('숫자를 입력하시오: '))\n",
    "    print(f'==={n}단===')\n",
    "    for i in range(1, 10):\n",
    "        print(f'{n} * {i} = {n*i}')\n",
    "elif choice == 2:\n",
    "    n = int(input('숫자를 입력하시오: '))\n",
    "    for i in range(1, n+1):\n",
    "        print(f'==={i}단===')\n",
    "        for j in range(1, 10):\n",
    "            print(f'{i} * {j} = {i*j}')        \n",
    "else:\n",
    "    n = int(input('시작하는 단을 입력하시오: '))\n",
    "    while n > 9:\n",
    "        n = int(input('숫자가 너무 큽니다. 다시 입력하시오: '))\n",
    "    m = int(input('끝나는 단을 입력하시오: '))\n",
    "    while m > 9 or n > m:\n",
    "        if m > 9:\n",
    "            m = int(input('숫자가 너무 큽니다. 다시 입력하시오: '))\n",
    "        elif n > m:\n",
    "            m = int(input('숫자가 너무 작습니다. 다시 입력하시오: '))\n",
    "    for i in range(n, m+1):\n",
    "        print(f'==={i}단===')\n",
    "        for k in range(1, 10):\n",
    "            print(f'{i} * {k} = {i*k}')"
   ]
  },
  {
   "cell_type": "code",
   "execution_count": 33,
   "id": "cde7bcd8",
   "metadata": {},
   "outputs": [],
   "source": [
    "#학생 질문: text1~9 하드코딩 없이 가져오기 가능한가요?\n",
    "    #text1 != 'text1'\n",
    "    #string --> fx: getattr(library, 'string_name')"
   ]
  },
  {
   "cell_type": "code",
   "execution_count": 35,
   "id": "62f4a94e",
   "metadata": {},
   "outputs": [
    {
     "data": {
      "text/plain": [
       "[<Text: Moby Dick by Herman Melville 1851>,\n",
       " <Text: Sense and Sensibility by Jane Austen 1811>,\n",
       " <Text: The Book of Genesis>,\n",
       " <Text: Inaugural Address Corpus>,\n",
       " <Text: Chat Corpus>,\n",
       " <Text: Monty Python and the Holy Grail>,\n",
       " <Text: Wall Street Journal>,\n",
       " <Text: Personals Corpus>,\n",
       " <Text: The Man Who Was Thursday by G . K . Chesterton 1908>]"
      ]
     },
     "execution_count": 35,
     "metadata": {},
     "output_type": "execute_result"
    }
   ],
   "source": [
    "[getattr(nltk.book, f'text{i}') for i in range(1, 10)]"
   ]
  },
  {
   "cell_type": "markdown",
   "id": "0f494f54",
   "metadata": {},
   "source": [
    "### NLTK corpus\n",
    "- 코퍼스 + 테마\n",
    "- 종류\n",
    "    - brown\n",
    "    - gutenberg\n",
    "    - inaugural"
   ]
  },
  {
   "cell_type": "code",
   "execution_count": 2,
   "id": "3bfbfab7",
   "metadata": {},
   "outputs": [
    {
     "name": "stdout",
     "output_type": "stream",
     "text": [
      "*** Introductory Examples for the NLTK Book ***\n",
      "Loading text1, ..., text9 and sent1, ..., sent9\n",
      "Type the name of the text or sentence to view it.\n",
      "Type: 'texts()' or 'sents()' to list the materials.\n",
      "text1: Moby Dick by Herman Melville 1851\n",
      "text2: Sense and Sensibility by Jane Austen 1811\n",
      "text3: The Book of Genesis\n",
      "text4: Inaugural Address Corpus\n",
      "text5: Chat Corpus\n",
      "text6: Monty Python and the Holy Grail\n",
      "text7: Wall Street Journal\n",
      "text8: Personals Corpus\n",
      "text9: The Man Who Was Thursday by G . K . Chesterton 1908\n"
     ]
    },
    {
     "data": {
      "text/plain": [
       "True"
      ]
     },
     "execution_count": 2,
     "metadata": {},
     "output_type": "execute_result"
    }
   ],
   "source": [
    "import nltk\n",
    "from nltk.book import *\n",
    "nltk.download('book', quiet=True)"
   ]
  },
  {
   "cell_type": "markdown",
   "id": "cea96dd6",
   "metadata": {},
   "source": [
    "### Gutenberg"
   ]
  },
  {
   "cell_type": "code",
   "execution_count": 4,
   "id": "1dccfb57",
   "metadata": {},
   "outputs": [
    {
     "name": "stderr",
     "output_type": "stream",
     "text": [
      "[nltk_data] Downloading package brown to\n",
      "[nltk_data]     C:\\Users\\sunny\\AppData\\Roaming\\nltk_data...\n",
      "[nltk_data]   Package brown is already up-to-date!\n",
      "[nltk_data] Downloading package gutenberg to\n",
      "[nltk_data]     C:\\Users\\sunny\\AppData\\Roaming\\nltk_data...\n",
      "[nltk_data]   Package gutenberg is already up-to-date!\n",
      "[nltk_data] Downloading package inaugural to\n",
      "[nltk_data]     C:\\Users\\sunny\\AppData\\Roaming\\nltk_data...\n",
      "[nltk_data]   Package inaugural is already up-to-date!\n"
     ]
    },
    {
     "data": {
      "text/plain": [
       "True"
      ]
     },
     "execution_count": 4,
     "metadata": {},
     "output_type": "execute_result"
    }
   ],
   "source": [
    "from nltk.corpus import gutenberg\n",
    "nltk.download(['brown', 'gutenberg', 'inaugural'])"
   ]
  },
  {
   "cell_type": "code",
   "execution_count": 5,
   "id": "68d03383",
   "metadata": {},
   "outputs": [
    {
     "data": {
      "text/plain": [
       "<PlaintextCorpusReader in 'C:\\\\Users\\\\sunny\\\\AppData\\\\Roaming\\\\nltk_data\\\\corpora\\\\gutenberg'>"
      ]
     },
     "execution_count": 5,
     "metadata": {},
     "output_type": "execute_result"
    }
   ],
   "source": [
    "gutenberg  # = nltk.corpus.gutenberg"
   ]
  },
  {
   "cell_type": "code",
   "execution_count": 5,
   "id": "fd2e3733",
   "metadata": {},
   "outputs": [
    {
     "data": {
      "text/plain": [
       "['austen-emma.txt',\n",
       " 'austen-persuasion.txt',\n",
       " 'austen-sense.txt',\n",
       " 'bible-kjv.txt',\n",
       " 'blake-poems.txt',\n",
       " 'bryant-stories.txt',\n",
       " 'burgess-busterbrown.txt',\n",
       " 'carroll-alice.txt',\n",
       " 'chesterton-ball.txt',\n",
       " 'chesterton-brown.txt',\n",
       " 'chesterton-thursday.txt',\n",
       " 'edgeworth-parents.txt',\n",
       " 'melville-moby_dick.txt',\n",
       " 'milton-paradise.txt',\n",
       " 'shakespeare-caesar.txt',\n",
       " 'shakespeare-hamlet.txt',\n",
       " 'shakespeare-macbeth.txt',\n",
       " 'whitman-leaves.txt']"
      ]
     },
     "execution_count": 5,
     "metadata": {},
     "output_type": "execute_result"
    }
   ],
   "source": [
    "gutenberg.fileids()"
   ]
  },
  {
   "cell_type": "code",
   "execution_count": 12,
   "id": "05605428",
   "metadata": {},
   "outputs": [
    {
     "data": {
      "text/plain": [
       "['[', 'The', 'King', 'James', 'Bible', ']', 'The', ...]"
      ]
     },
     "execution_count": 12,
     "metadata": {},
     "output_type": "execute_result"
    }
   ],
   "source": [
    "gutenberg.words(fileids='austen-emma.txt') # 하나의 파일에서 word 가져오기 소괄호 사용\n",
    "gutenberg.words(fileids=['bible-kjv.txt', 'carroll-alice.txt', 'shakespeare-hamlet.txt']) # 여러개의 파일에서 word 가져오기 list사용"
   ]
  },
  {
   "cell_type": "code",
   "execution_count": 10,
   "id": "ea972335",
   "metadata": {},
   "outputs": [],
   "source": [
    "# 각 파일마다 word, character, sentence 개수 출력하기\n",
    "# 단어 = words, 문장 = sentences, 글자수 = raw"
   ]
  },
  {
   "cell_type": "code",
   "execution_count": 25,
   "id": "1bf16664",
   "metadata": {},
   "outputs": [
    {
     "name": "stdout",
     "output_type": "stream",
     "text": [
      "austen-emma.txt\n",
      "글자수는 887071\n",
      "단어 수는 192427\n",
      "문장 수는 7752\n",
      "austen-persuasion.txt\n",
      "글자수는 466292\n",
      "단어 수는 98171\n",
      "문장 수는 3747\n",
      "austen-sense.txt\n",
      "글자수는 673022\n",
      "단어 수는 141576\n",
      "문장 수는 4999\n",
      "bible-kjv.txt\n",
      "글자수는 4332554\n",
      "단어 수는 1010654\n",
      "문장 수는 30103\n",
      "blake-poems.txt\n",
      "글자수는 38153\n",
      "단어 수는 8354\n",
      "문장 수는 438\n",
      "bryant-stories.txt\n",
      "글자수는 249439\n",
      "단어 수는 55563\n",
      "문장 수는 2863\n",
      "burgess-busterbrown.txt\n",
      "글자수는 84663\n",
      "단어 수는 18963\n",
      "문장 수는 1054\n",
      "carroll-alice.txt\n",
      "글자수는 144395\n",
      "단어 수는 34110\n",
      "문장 수는 1703\n",
      "chesterton-ball.txt\n",
      "글자수는 457450\n",
      "단어 수는 96996\n",
      "문장 수는 4779\n",
      "chesterton-brown.txt\n",
      "글자수는 406629\n",
      "단어 수는 86063\n",
      "문장 수는 3806\n",
      "chesterton-thursday.txt\n",
      "글자수는 320525\n",
      "단어 수는 69213\n",
      "문장 수는 3742\n",
      "edgeworth-parents.txt\n",
      "글자수는 935158\n",
      "단어 수는 210663\n",
      "문장 수는 10230\n",
      "melville-moby_dick.txt\n",
      "글자수는 1242990\n",
      "단어 수는 260819\n",
      "문장 수는 10059\n",
      "milton-paradise.txt\n",
      "글자수는 468220\n",
      "단어 수는 96825\n",
      "문장 수는 1851\n",
      "shakespeare-caesar.txt\n",
      "글자수는 112310\n",
      "단어 수는 25833\n",
      "문장 수는 2163\n",
      "shakespeare-hamlet.txt\n",
      "글자수는 162881\n",
      "단어 수는 37360\n",
      "문장 수는 3106\n",
      "shakespeare-macbeth.txt\n",
      "글자수는 100351\n",
      "단어 수는 23140\n",
      "문장 수는 1907\n",
      "whitman-leaves.txt\n",
      "글자수는 711215\n",
      "단어 수는 154883\n",
      "문장 수는 4250\n"
     ]
    }
   ],
   "source": [
    "# my answer\n",
    "for i in gutenberg.fileids():\n",
    "    print(i)\n",
    "    print('글자수는', len(gutenberg.raw(i))) #글자 list\n",
    "    print('단어 수는', len(gutenberg.words(i))) #단어 list\n",
    "    print('문장 수는', len(gutenberg.sents(i))) #문장 list"
   ]
  },
  {
   "cell_type": "code",
   "execution_count": 10,
   "id": "21afd716",
   "metadata": {},
   "outputs": [
    {
     "name": "stdout",
     "output_type": "stream",
     "text": [
      "austen-emma: 글자는 887071개, 단어는 192427개, 문장은 7752개이다.\n",
      "austen-persuasion: 글자는 466292개, 단어는 98171개, 문장은 3747개이다.\n",
      "austen-sense: 글자는 673022개, 단어는 141576개, 문장은 4999개이다.\n",
      "bible-kjv: 글자는 4332554개, 단어는 1010654개, 문장은 30103개이다.\n",
      "blake-poems: 글자는 38153개, 단어는 8354개, 문장은 438개이다.\n",
      "bryant-stories: 글자는 249439개, 단어는 55563개, 문장은 2863개이다.\n",
      "burgess-busterbrown: 글자는 84663개, 단어는 18963개, 문장은 1054개이다.\n",
      "carroll-alice: 글자는 144395개, 단어는 34110개, 문장은 1703개이다.\n",
      "chesterton-ball: 글자는 457450개, 단어는 96996개, 문장은 4779개이다.\n",
      "chesterton-brown: 글자는 406629개, 단어는 86063개, 문장은 3806개이다.\n",
      "chesterton-thursday: 글자는 320525개, 단어는 69213개, 문장은 3742개이다.\n",
      "edgeworth-parents: 글자는 935158개, 단어는 210663개, 문장은 10230개이다.\n",
      "melville-moby_dick: 글자는 1242990개, 단어는 260819개, 문장은 10059개이다.\n",
      "milton-paradise: 글자는 468220개, 단어는 96825개, 문장은 1851개이다.\n",
      "shakespeare-caesar: 글자는 112310개, 단어는 25833개, 문장은 2163개이다.\n",
      "shakespeare-hamlet: 글자는 162881개, 단어는 37360개, 문장은 3106개이다.\n",
      "shakespeare-macbeth: 글자는 100351개, 단어는 23140개, 문장은 1907개이다.\n",
      "whitman-leaves: 글자는 711215개, 단어는 154883개, 문장은 4250개이다.\n"
     ]
    }
   ],
   "source": [
    "# good answer\n",
    "for txt in gutenberg.fileids():\n",
    "    characters = len(gutenberg.raw(txt))\n",
    "    words = len(gutenberg.words(txt))\n",
    "    sents = len(gutenberg.sents(txt))\n",
    "    print(f'{txt[:-4]}: 글자는 {characters}개, 단어는 {words}개, 문장은 {sents}개이다.')"
   ]
  },
  {
   "cell_type": "markdown",
   "id": "fd582edf",
   "metadata": {},
   "source": [
    "#### Gutenberg\n",
    "- 1. shakespeare-caesar의 중복된 단어를 거르고 각 단어의 길이를 출력하시오.\n",
    "- 2. chesterton-thursday에서 길이가 4자 이하인 알파벳 중 ie를 포함하는 단어를 소문자로 출력하고, 개수를 세시오.\n",
    "- 3. bryant-stories에서 ch로 끝나는 단어를 출력하는데, 중복 없이, 첫글자(모두 소문자)와 끝 ch만 남기고 가운데 글자들은 모두 -로 가려라. 예: much -> m-ch"
   ]
  },
  {
   "cell_type": "code",
   "execution_count": 32,
   "id": "b1bb51aa",
   "metadata": {},
   "outputs": [
    {
     "data": {
      "text/plain": [
       "[11, 4, 9, 3, 10, 6, 5, 5, 8, 5]"
      ]
     },
     "execution_count": 32,
     "metadata": {},
     "output_type": "execute_result"
    }
   ],
   "source": [
    "# quiz 1\n",
    "[len(word) for word in set(gutenberg.words(fileids = 'shakespeare-caesar.txt'))][:10]"
   ]
  },
  {
   "cell_type": "code",
   "execution_count": 30,
   "id": "d3453c8b",
   "metadata": {},
   "outputs": [
    {
     "name": "stdout",
     "output_type": "stream",
     "text": [
      "['foie', 'died', 'pier', 'died', 'lies', 'died', 'lie', 'tie', 'tie', 'die']\n",
      "[4, 4, 4, 4, 4, 4, 3, 3, 3, 3]\n"
     ]
    }
   ],
   "source": [
    "# quiz 2\n",
    "print([word.lower() for word in gutenberg.words('chesterton-thursday.txt') if len(word) <=4 and 'ie' in word][:10])\n",
    "print([len(word) for word in gutenberg.words('chesterton-thursday.txt') if len(word) <= 4 and 'ie' in word][:10])"
   ]
  },
  {
   "cell_type": "code",
   "execution_count": 29,
   "id": "4140f3ee",
   "metadata": {},
   "outputs": [
    {
     "data": {
      "text/plain": [
       "['w--ch',\n",
       " 'a-ch',\n",
       " 'c--ch',\n",
       " 'c--ch',\n",
       " 'c--ch',\n",
       " 'c--ch',\n",
       " 'c--ch',\n",
       " 'c--ch',\n",
       " 'c--ch',\n",
       " 'c--ch']"
      ]
     },
     "execution_count": 29,
     "metadata": {},
     "output_type": "execute_result"
    }
   ],
   "source": [
    "[word.replace(word[1:-2], '-' * len(word[1:-2])) for word in gutenberg.words('bryant-stories.txt') if word.endswith('ch')][:10]"
   ]
  },
  {
   "cell_type": "markdown",
   "id": "3d58798d",
   "metadata": {},
   "source": [
    "### Brown\n",
    "- categories()"
   ]
  },
  {
   "cell_type": "code",
   "execution_count": 36,
   "id": "255b08b0",
   "metadata": {},
   "outputs": [],
   "source": [
    "brown = nltk.corpus.brown"
   ]
  },
  {
   "cell_type": "code",
   "execution_count": 37,
   "id": "fc980fd6",
   "metadata": {},
   "outputs": [
    {
     "data": {
      "text/plain": [
       "['adventure',\n",
       " 'belles_lettres',\n",
       " 'editorial',\n",
       " 'fiction',\n",
       " 'government',\n",
       " 'hobbies',\n",
       " 'humor',\n",
       " 'learned',\n",
       " 'lore',\n",
       " 'mystery',\n",
       " 'news',\n",
       " 'religion',\n",
       " 'reviews',\n",
       " 'romance',\n",
       " 'science_fiction']"
      ]
     },
     "execution_count": 37,
     "metadata": {},
     "output_type": "execute_result"
    }
   ],
   "source": [
    "brown.categories()"
   ]
  },
  {
   "cell_type": "code",
   "execution_count": 38,
   "id": "c9c5c817",
   "metadata": {},
   "outputs": [],
   "source": [
    "# Frequency distribution\n",
    "fdist = nltk.FreqDist([word.lower() for word in brown.words(categories = 'adventure')])"
   ]
  },
  {
   "cell_type": "code",
   "execution_count": 45,
   "id": "64fe0b15",
   "metadata": {},
   "outputs": [
    {
     "data": {
      "text/plain": [
       "(19, 83)"
      ]
     },
     "execution_count": 45,
     "metadata": {},
     "output_type": "execute_result"
    }
   ],
   "source": [
    "fdist['women'], fdist['men']"
   ]
  },
  {
   "cell_type": "code",
   "execution_count": 41,
   "id": "bbc02148",
   "metadata": {},
   "outputs": [
    {
     "data": {
      "text/plain": [
       "[('.', 4057), ('the', 3780), (',', 3488), ('and', 1706), ('a', 1432)]"
      ]
     },
     "execution_count": 41,
     "metadata": {},
     "output_type": "execute_result"
    }
   ],
   "source": [
    "fdist.most_common(5)"
   ]
  },
  {
   "cell_type": "code",
   "execution_count": 46,
   "id": "28cd5260",
   "metadata": {},
   "outputs": [
    {
     "name": "stdout",
     "output_type": "stream",
     "text": [
      "can 48\n",
      "could 154\n",
      "will 51\n",
      "would 194\n",
      "may 7\n",
      "might 59\n"
     ]
    }
   ],
   "source": [
    "#modal verbs\n",
    "modals = ['can', 'could', 'will', 'would', 'may', 'might']\n",
    "for verb in modals:\n",
    "    print(verb, fdist[verb])"
   ]
  },
  {
   "cell_type": "code",
   "execution_count": 48,
   "id": "54282c10",
   "metadata": {},
   "outputs": [
    {
     "name": "stdout",
     "output_type": "stream",
     "text": [
      "a 1432\n",
      "an 165\n",
      "the 3780\n"
     ]
    }
   ],
   "source": [
    "#articles\n",
    "mainarticles = ['a', 'an', 'the']\n",
    "for articles in mainarticles:\n",
    "    print(articles, fdist[articles])"
   ]
  },
  {
   "cell_type": "markdown",
   "id": "d776726e",
   "metadata": {},
   "source": [
    "### conditional frequency distribution\n",
    "- 조건에 따른 fdist"
   ]
  },
  {
   "cell_type": "code",
   "execution_count": 50,
   "id": "d718f91a",
   "metadata": {},
   "outputs": [],
   "source": [
    "cfd = nltk.ConditionalFreqDist(\n",
    "    #각 장르에 따른 frequency distribution을 만든다.\n",
    "    (genre, word.lower())\n",
    "    for genre in brown.categories()\n",
    "    for word in brown.words(categories = genre)\n",
    ")"
   ]
  },
  {
   "cell_type": "code",
   "execution_count": 51,
   "id": "1d5cefea",
   "metadata": {},
   "outputs": [
    {
     "data": {
      "text/plain": [
       "36"
      ]
     },
     "execution_count": 51,
     "metadata": {},
     "output_type": "execute_result"
    }
   ],
   "source": [
    "cfd['romance']['love']"
   ]
  },
  {
   "cell_type": "markdown",
   "id": "1e7fb37b",
   "metadata": {},
   "source": [
    "## 궁급증 실험실"
   ]
  },
  {
   "cell_type": "code",
   "execution_count": 24,
   "id": "4f9bef0d",
   "metadata": {},
   "outputs": [
    {
     "name": "stdout",
     "output_type": "stream",
     "text": [
      "1 1\n"
     ]
    }
   ],
   "source": [
    "a = 1\n",
    "print(f\"{a} %d\" %a) #format과 % 동시에 사용됨."
   ]
  }
 ],
 "metadata": {
  "kernelspec": {
   "display_name": "Python 3 (ipykernel)",
   "language": "python",
   "name": "python3"
  },
  "language_info": {
   "codemirror_mode": {
    "name": "ipython",
    "version": 3
   },
   "file_extension": ".py",
   "mimetype": "text/x-python",
   "name": "python",
   "nbconvert_exporter": "python",
   "pygments_lexer": "ipython3",
   "version": "3.9.7"
  }
 },
 "nbformat": 4,
 "nbformat_minor": 5
}
