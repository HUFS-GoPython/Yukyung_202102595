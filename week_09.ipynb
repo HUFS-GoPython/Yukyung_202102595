{
 "cells": [
  {
   "cell_type": "markdown",
   "id": "da369525",
   "metadata": {},
   "source": [
    "## Dictionary\n",
    "- 영어 사전\n",
    "    - 단어: 뜻 = 키: 값\n",
    "    - 순서가 없다. => 인덱싱 불가능\n",
    "    - \"키(단어)로 값을 찾는다\"\n",
    "        - 키는 중복되지 않는 고유한 값(값은 중복되도 상관 없음)\n",
    "    - 가변: 수정, 삭제, 추가, 가능\n",
    "    - 타입: dict\n",
    "    - 중괄호 사용 {}, 콤마로 구분함\n",
    "    - 값에 다양한 자료구조가 올 수 있음\n",
    "        - a: 1, a: [1, 2, 3, 4]"
   ]
  },
  {
   "cell_type": "code",
   "execution_count": 1,
   "id": "c6801e5f",
   "metadata": {},
   "outputs": [
    {
     "data": {
      "text/plain": [
       "1"
      ]
     },
     "execution_count": 1,
     "metadata": {},
     "output_type": "execute_result"
    }
   ],
   "source": [
    "a = [1, 2, 3]\n",
    "a[0]"
   ]
  },
  {
   "cell_type": "code",
   "execution_count": 4,
   "id": "752e3dae",
   "metadata": {},
   "outputs": [
    {
     "data": {
      "text/plain": [
       "{}"
      ]
     },
     "execution_count": 4,
     "metadata": {},
     "output_type": "execute_result"
    }
   ],
   "source": [
    "# dictionary 만드는 법 1\n",
    "empty = dict()\n",
    "empty"
   ]
  },
  {
   "cell_type": "code",
   "execution_count": 7,
   "id": "c578a215",
   "metadata": {},
   "outputs": [
    {
     "data": {
      "text/plain": [
       "{}"
      ]
     },
     "execution_count": 7,
     "metadata": {},
     "output_type": "execute_result"
    }
   ],
   "source": [
    "# dictionary 만드는 법 2\n",
    "empty = {}\n",
    "empty"
   ]
  },
  {
   "cell_type": "code",
   "execution_count": 8,
   "id": "3d5a55bd",
   "metadata": {},
   "outputs": [
    {
     "data": {
      "text/plain": [
       "set"
      ]
     },
     "execution_count": 8,
     "metadata": {},
     "output_type": "execute_result"
    }
   ],
   "source": [
    "# set\n",
    "empty = {} # dict type\n",
    "empty = set()\n",
    "type(empty)"
   ]
  },
  {
   "cell_type": "code",
   "execution_count": 9,
   "id": "b8e1bc8d",
   "metadata": {},
   "outputs": [
    {
     "data": {
      "text/plain": [
       "{1: 'apple', 2: 'banana', 3: 'kiwi'}"
      ]
     },
     "execution_count": 9,
     "metadata": {},
     "output_type": "execute_result"
    }
   ],
   "source": [
    "a = {1, 2, 3} # set\n",
    "a = {1:'apple', 2:'banana', 3:'kiwi'} # dict\n",
    "a"
   ]
  },
  {
   "cell_type": "code",
   "execution_count": 10,
   "id": "6b8900f2",
   "metadata": {},
   "outputs": [
    {
     "data": {
      "text/plain": [
       "{'apple': 'a', 'banana': 'b', 'kiwi': 'c'}"
      ]
     },
     "execution_count": 10,
     "metadata": {},
     "output_type": "execute_result"
    }
   ],
   "source": [
    "# :가 귀찮을 때\n",
    "b = {'', '', ''}\n",
    "b = dict(apple = 'a', banana = 'b', kiwi = 'c')\n",
    "b"
   ]
  },
  {
   "cell_type": "code",
   "execution_count": null,
   "id": "778cba31",
   "metadata": {},
   "outputs": [],
   "source": [
    "# 출석부로 딕셔너리 만들기\n",
    "이름, 학번, 학과\n",
    "james 202201 경제학과\n",
    "laura 202203 스페인어과\n",
    "louis 202202 컴공과"
   ]
  },
  {
   "cell_type": "code",
   "execution_count": 11,
   "id": "61b9046b",
   "metadata": {},
   "outputs": [
    {
     "data": {
      "text/plain": [
       "{'james': '202201 경제학과', 'laura': '202203 스페인어과', 'louis': '202202 컴공과'}"
      ]
     },
     "execution_count": 11,
     "metadata": {},
     "output_type": "execute_result"
    }
   ],
   "source": [
    "# my answer during class\n",
    "attendance = {'', '', ''}\n",
    "attendance = dict(james = '202201 경제학과', laura = '202203 스페인어과', louis = '202202 컴공과')\n",
    "attendance"
   ]
  },
  {
   "cell_type": "code",
   "execution_count": 26,
   "id": "2876970a",
   "metadata": {},
   "outputs": [
    {
     "data": {
      "text/plain": [
       "{202201: ('james', '경제학과'),\n",
       " 202202: ('louis', '컴공과'),\n",
       " 202203: ('laura', '스페인어과')}"
      ]
     },
     "execution_count": 26,
     "metadata": {},
     "output_type": "execute_result"
    }
   ],
   "source": [
    "# my answer during review\n",
    "# 이거 필요 없음 attendance = {'', '', ''}\n",
    "#attendance = dict(202201: 'james' '경제학과', 202202: 'louis' '컴공과', 202203: 'laura' '스페인어과')\n",
    "# list 또는 tuple로 가져야 함.\n",
    "attendance = {202201 : ('james', '경제학과'), 202202 : ('louis', '컴공과'), 202203 : ('laura', '스페인어과')}\n",
    "attendance"
   ]
  },
  {
   "cell_type": "code",
   "execution_count": 24,
   "id": "364e0988",
   "metadata": {},
   "outputs": [],
   "source": [
    "#f = dict(202201 = ['james', '경제학과'], 202202 = ['louis', '컴공과'], 202203 = ['laura', '스페인어과'])\n",
    "# 값이 여러 개일 때 dict() 쓰면 에러 뜸"
   ]
  },
  {
   "cell_type": "code",
   "execution_count": 27,
   "id": "2a200be9",
   "metadata": {},
   "outputs": [
    {
     "data": {
      "text/plain": [
       "{202201: ['james', '경제학과'],\n",
       " 202203: ['laura', '스페인어과'],\n",
       " 202202: ['louis', '컴공과']}"
      ]
     },
     "execution_count": 27,
     "metadata": {},
     "output_type": "execute_result"
    }
   ],
   "source": [
    "# good answer\n",
    "# list말고 tuple로 가져도 됨\n",
    "{202201: ['james', '경제학과'], 202203: ['laura', '스페인어과'], 202202: ['louis', '컴공과']}"
   ]
  },
  {
   "cell_type": "markdown",
   "id": "f066a413",
   "metadata": {},
   "source": [
    "### 형 변환"
   ]
  },
  {
   "cell_type": "code",
   "execution_count": 28,
   "id": "cda7bbe0",
   "metadata": {},
   "outputs": [
    {
     "data": {
      "text/plain": [
       "{1: 2, 2: 3, 3: 4}"
      ]
     },
     "execution_count": 28,
     "metadata": {},
     "output_type": "execute_result"
    }
   ],
   "source": [
    "ex1 = [[1, 2], [2, 3], [3, 4]]\n",
    "dict(ex1)"
   ]
  },
  {
   "cell_type": "code",
   "execution_count": 30,
   "id": "12567604",
   "metadata": {},
   "outputs": [
    {
     "data": {
      "text/plain": [
       "{'hi': 'bye', 'love': 'romance', 'baby': 'me'}"
      ]
     },
     "execution_count": 30,
     "metadata": {},
     "output_type": "execute_result"
    }
   ],
   "source": [
    "ex2 = [('hi', 'bye'), ('love', 'romance'), ('baby', 'me')]\n",
    "dict(ex2)"
   ]
  },
  {
   "cell_type": "code",
   "execution_count": 34,
   "id": "9905014e",
   "metadata": {},
   "outputs": [
    {
     "data": {
      "text/plain": [
       "{'h': 'o'}"
      ]
     },
     "execution_count": 34,
     "metadata": {},
     "output_type": "execute_result"
    }
   ],
   "source": [
    "# 키는 중복이 안 되서 h는 마지막 o만 값으로 갖는 것\n",
    "ex3 = ['hi', 'he', 'ho']\n",
    "dict(ex3)"
   ]
  },
  {
   "cell_type": "code",
   "execution_count": 36,
   "id": "14e714df",
   "metadata": {},
   "outputs": [
    {
     "data": {
      "text/plain": [
       "{'t': 'i', 'c': 'e', 'h': 'o'}"
      ]
     },
     "execution_count": 36,
     "metadata": {},
     "output_type": "execute_result"
    }
   ],
   "source": [
    "ex4 = ['ti', 'ce', 'ho']\n",
    "dict(ex4)"
   ]
  },
  {
   "cell_type": "markdown",
   "id": "d85ee6c9",
   "metadata": {},
   "source": [
    "### 항목 조회 & 변경"
   ]
  },
  {
   "cell_type": "code",
   "execution_count": 38,
   "id": "02563700",
   "metadata": {},
   "outputs": [],
   "source": [
    "pythons = { # 성: 이름\n",
    "    'Champman': 'Graham',\n",
    "    'Cleese': 'John',\n",
    "    'Idle': 'Eric',\n",
    "    'Jones': 'Terry',\n",
    "    'Palin': 'MIchael'\n",
    "} # , 까먹지 마"
   ]
  },
  {
   "cell_type": "code",
   "execution_count": 39,
   "id": "4e75fd64",
   "metadata": {},
   "outputs": [
    {
     "data": {
      "text/plain": [
       "'Eric'"
      ]
     },
     "execution_count": 39,
     "metadata": {},
     "output_type": "execute_result"
    }
   ],
   "source": [
    "pythons['Idle']"
   ]
  },
  {
   "cell_type": "code",
   "execution_count": 40,
   "id": "276f04da",
   "metadata": {},
   "outputs": [],
   "source": [
    "pythons['Hwa'] = 'Chloe' # 추가"
   ]
  },
  {
   "cell_type": "code",
   "execution_count": 41,
   "id": "c37dd8e3",
   "metadata": {},
   "outputs": [
    {
     "data": {
      "text/plain": [
       "{'Champman': 'Graham',\n",
       " 'Cleese': 'John',\n",
       " 'Idle': 'James',\n",
       " 'Jones': 'Terry',\n",
       " 'Palin': 'MIchael',\n",
       " 'Hwa': 'Chloe'}"
      ]
     },
     "execution_count": 41,
     "metadata": {},
     "output_type": "execute_result"
    }
   ],
   "source": [
    "pythons['Idle'] = 'James' # 변경\n",
    "pythons"
   ]
  },
  {
   "cell_type": "code",
   "execution_count": 42,
   "id": "893edce0",
   "metadata": {},
   "outputs": [
    {
     "data": {
      "text/plain": [
       "True"
      ]
     },
     "execution_count": 42,
     "metadata": {},
     "output_type": "execute_result"
    }
   ],
   "source": [
    "# 예외 없이\n",
    "'Hwa' in pythons"
   ]
  },
  {
   "cell_type": "code",
   "execution_count": 44,
   "id": "21d70d08",
   "metadata": {},
   "outputs": [
    {
     "data": {
      "text/plain": [
       "0"
      ]
     },
     "execution_count": 44,
     "metadata": {},
     "output_type": "execute_result"
    }
   ],
   "source": [
    "# get()\n",
    "pythons.get('Lee', 0) # 없는 키는 None 반환(옆에 0 설정)"
   ]
  },
  {
   "cell_type": "markdown",
   "id": "83611c4d",
   "metadata": {},
   "source": [
    "### 전체 조회\n",
    "- keys()\n",
    "- values()\n",
    "- items()"
   ]
  },
  {
   "cell_type": "code",
   "execution_count": 45,
   "id": "ecd58bce",
   "metadata": {},
   "outputs": [
    {
     "data": {
      "text/plain": [
       "['Champman', 'Cleese', 'Idle', 'Jones', 'Palin', 'Hwa']"
      ]
     },
     "execution_count": 45,
     "metadata": {},
     "output_type": "execute_result"
    }
   ],
   "source": [
    "list(pythons.keys())"
   ]
  },
  {
   "cell_type": "code",
   "execution_count": 48,
   "id": "7766ef78",
   "metadata": {},
   "outputs": [
    {
     "data": {
      "text/plain": [
       "dict_values(['Graham', 'John', 'James', 'Terry', 'MIchael', 'Chloe'])"
      ]
     },
     "execution_count": 48,
     "metadata": {},
     "output_type": "execute_result"
    }
   ],
   "source": [
    "pythons.values()"
   ]
  },
  {
   "cell_type": "code",
   "execution_count": 49,
   "id": "b6fb3f1a",
   "metadata": {},
   "outputs": [
    {
     "data": {
      "text/plain": [
       "dict_items([('Champman', 'Graham'), ('Cleese', 'John'), ('Idle', 'James'), ('Jones', 'Terry'), ('Palin', 'MIchael'), ('Hwa', 'Chloe')])"
      ]
     },
     "execution_count": 49,
     "metadata": {},
     "output_type": "execute_result"
    }
   ],
   "source": [
    "pythons.items()"
   ]
  },
  {
   "cell_type": "code",
   "execution_count": 50,
   "id": "8d4463a4",
   "metadata": {},
   "outputs": [
    {
     "name": "stdout",
     "output_type": "stream",
     "text": [
      "Champman = Graham\n",
      "Cleese = John\n",
      "Idle = James\n",
      "Jones = Terry\n",
      "Palin = MIchael\n",
      "Hwa = Chloe\n"
     ]
    }
   ],
   "source": [
    "for k, v in pythons.items():  # list comprehension\n",
    "    print(f'{k} = {v}')"
   ]
  },
  {
   "cell_type": "code",
   "execution_count": 51,
   "id": "445ffc4a",
   "metadata": {},
   "outputs": [
    {
     "data": {
      "text/plain": [
       "[('Champman', 'Graham'),\n",
       " ('Cleese', 'John'),\n",
       " ('Idle', 'James'),\n",
       " ('Jones', 'Terry'),\n",
       " ('Palin', 'MIchael'),\n",
       " ('Hwa', 'Chloe')]"
      ]
     },
     "execution_count": 51,
     "metadata": {},
     "output_type": "execute_result"
    }
   ],
   "source": [
    "[(k, v) for k, v in pythons.items()]"
   ]
  },
  {
   "cell_type": "code",
   "execution_count": 52,
   "id": "e6ee8252",
   "metadata": {},
   "outputs": [
    {
     "data": {
      "text/plain": [
       "['Graham', 'John', 'James', 'Terry', 'MIchael', 'Chloe']"
      ]
     },
     "execution_count": 52,
     "metadata": {},
     "output_type": "execute_result"
    }
   ],
   "source": [
    "[k[1] for k in pythons.items()] # 0=key, 1=value"
   ]
  },
  {
   "cell_type": "code",
   "execution_count": 53,
   "id": "85067eaf",
   "metadata": {},
   "outputs": [
    {
     "data": {
      "text/plain": [
       "['Champman', 'Cleese', 'Idle', 'Jones', 'Palin', 'Hwa']"
      ]
     },
     "execution_count": 53,
     "metadata": {},
     "output_type": "execute_result"
    }
   ],
   "source": [
    "[k for k in pythons] # keys"
   ]
  },
  {
   "cell_type": "markdown",
   "id": "bd52a67e",
   "metadata": {},
   "source": [
    "### ex\n",
    "animal: num_leg 딕셔너리 만드시오"
   ]
  },
  {
   "cell_type": "code",
   "execution_count": 61,
   "id": "e8cfd58f",
   "metadata": {},
   "outputs": [],
   "source": [
    "animal = 'cat snake monkey ant spider'.split()\n",
    "legs = 4, 0, 2, 4, 8"
   ]
  },
  {
   "cell_type": "code",
   "execution_count": 62,
   "id": "8b654c23",
   "metadata": {},
   "outputs": [],
   "source": [
    "# my answer during class\n",
    "# num_leg = dict([(k, v) for k in animal and v in legs])"
   ]
  },
  {
   "cell_type": "code",
   "execution_count": 65,
   "id": "ef89945a",
   "metadata": {},
   "outputs": [
    {
     "data": {
      "text/plain": [
       "{'cat': 4, 'snake': 0, 'monkey': 2, 'ant': 4, 'spider': 8}"
      ]
     },
     "execution_count": 65,
     "metadata": {},
     "output_type": "execute_result"
    }
   ],
   "source": [
    "# my answer during review\n",
    "num_leg = {}\n",
    "list(legs)\n",
    "for i in range(len(animal)):\n",
    "    num_leg[animal[i]] = legs[i]\n",
    "num_leg"
   ]
  },
  {
   "cell_type": "code",
   "execution_count": 67,
   "id": "8065f089",
   "metadata": {},
   "outputs": [
    {
     "data": {
      "text/plain": [
       "{'cat': 4, 'snake': 0, 'monkey': 2, 'ant': 4, 'spider': 8}"
      ]
     },
     "execution_count": 67,
     "metadata": {},
     "output_type": "execute_result"
    }
   ],
   "source": [
    "# good answer\n",
    "animal_legs = {}\n",
    "list(legs)\n",
    "for x, y in zip(animal, legs):\n",
    "    animal_legs[x] = y\n",
    "animal_legs"
   ]
  },
  {
   "cell_type": "markdown",
   "id": "77dd00b5",
   "metadata": {},
   "source": [
    "#### Q. pythons에서 성: 이름, 성 첫 글자만, 이름은 글자 개수로 이뤄진 튜플(성, 이름) 리스트로 반환하기\n",
    "- dict comprehension 쓰지 말기"
   ]
  },
  {
   "cell_type": "code",
   "execution_count": 68,
   "id": "b3bb9d8a",
   "metadata": {},
   "outputs": [
    {
     "data": {
      "text/plain": [
       "{'Champman': 'Graham',\n",
       " 'Cleese': 'John',\n",
       " 'Idle': 'James',\n",
       " 'Jones': 'Terry',\n",
       " 'Palin': 'MIchael',\n",
       " 'Hwa': 'Chloe'}"
      ]
     },
     "execution_count": 68,
     "metadata": {},
     "output_type": "execute_result"
    }
   ],
   "source": [
    "pythons"
   ]
  },
  {
   "cell_type": "code",
   "execution_count": 69,
   "id": "eb1e29ad",
   "metadata": {},
   "outputs": [
    {
     "data": {
      "text/plain": [
       "{'C': 4, 'I': 5, 'J': 5, 'P': 7, 'H': 5}"
      ]
     },
     "execution_count": 69,
     "metadata": {},
     "output_type": "execute_result"
    }
   ],
   "source": [
    "# good answer 1\n",
    "new_pythons = {}\n",
    "for k in pythons.keys():\n",
    "    new_pythons[k[0]] = len(pythons[k])\n",
    "new_pythons"
   ]
  },
  {
   "cell_type": "code",
   "execution_count": 72,
   "id": "08421b09",
   "metadata": {},
   "outputs": [
    {
     "data": {
      "text/plain": [
       "[('C', 6), ('C', 4), ('I', 5), ('J', 5), ('P', 7), ('H', 5)]"
      ]
     },
     "execution_count": 72,
     "metadata": {},
     "output_type": "execute_result"
    }
   ],
   "source": [
    "# good answer 2\n",
    "[(key[0], len(value)) for key, value in pythons.items()]"
   ]
  },
  {
   "cell_type": "markdown",
   "id": "c71848fd",
   "metadata": {},
   "source": [
    "### 값을 수정, 삭제, 복제, 비교"
   ]
  },
  {
   "cell_type": "code",
   "execution_count": 73,
   "id": "a331b878",
   "metadata": {},
   "outputs": [
    {
     "data": {
      "text/plain": [
       "{'Champman': 'Graham',\n",
       " 'Cleese': 'John',\n",
       " 'Idle': 'James',\n",
       " 'Jones': 'Terry',\n",
       " 'Palin': 'MIchael',\n",
       " 'Hwa': 'Chloe'}"
      ]
     },
     "execution_count": 73,
     "metadata": {},
     "output_type": "execute_result"
    }
   ],
   "source": [
    "pythons"
   ]
  },
  {
   "cell_type": "code",
   "execution_count": 75,
   "id": "7fc92d23",
   "metadata": {},
   "outputs": [
    {
     "data": {
      "text/plain": [
       "{'Marx': 'Groucho', 'Howard': 'Moe'}"
      ]
     },
     "execution_count": 75,
     "metadata": {},
     "output_type": "execute_result"
    }
   ],
   "source": [
    "others = {\n",
    "    'Marx': 'Groucho',\n",
    "    'Howard': 'Moe'\n",
    "}\n",
    "others"
   ]
  },
  {
   "cell_type": "code",
   "execution_count": 76,
   "id": "6064a619",
   "metadata": {},
   "outputs": [],
   "source": [
    "# 추가\n",
    "pythons.update(others)"
   ]
  },
  {
   "cell_type": "code",
   "execution_count": 77,
   "id": "91d780ca",
   "metadata": {},
   "outputs": [
    {
     "data": {
      "text/plain": [
       "{'Champman': 'Graham',\n",
       " 'Cleese': 'John',\n",
       " 'Idle': 'James',\n",
       " 'Jones': 'Terry',\n",
       " 'Palin': 'MIchael',\n",
       " 'Hwa': 'Chloe',\n",
       " 'Marx': 'Groucho',\n",
       " 'Howard': 'Moe'}"
      ]
     },
     "execution_count": 77,
     "metadata": {},
     "output_type": "execute_result"
    }
   ],
   "source": [
    "pythons"
   ]
  },
  {
   "cell_type": "code",
   "execution_count": 78,
   "id": "4b4c5b73",
   "metadata": {},
   "outputs": [
    {
     "data": {
      "text/plain": [
       "{'Marx': 'Groucho',\n",
       " 'Howard': 'Moe',\n",
       " 'Champman': 'Graham',\n",
       " 'Cleese': 'John',\n",
       " 'Idle': 'James',\n",
       " 'Jones': 'Terry',\n",
       " 'Palin': 'MIchael',\n",
       " 'Hwa': 'Chloe'}"
      ]
     },
     "execution_count": 78,
     "metadata": {},
     "output_type": "execute_result"
    }
   ],
   "source": [
    "# python 3에서만 가능한 것:\n",
    "{**others, **pythons}"
   ]
  },
  {
   "cell_type": "code",
   "execution_count": 79,
   "id": "050e2f29",
   "metadata": {},
   "outputs": [],
   "source": [
    "# 삭제\n",
    "del pythons['Hwa']"
   ]
  },
  {
   "cell_type": "code",
   "execution_count": 80,
   "id": "51029683",
   "metadata": {},
   "outputs": [
    {
     "data": {
      "text/plain": [
       "{'Champman': 'Graham',\n",
       " 'Cleese': 'John',\n",
       " 'Idle': 'James',\n",
       " 'Jones': 'Terry',\n",
       " 'Palin': 'MIchael',\n",
       " 'Marx': 'Groucho',\n",
       " 'Howard': 'Moe'}"
      ]
     },
     "execution_count": 80,
     "metadata": {},
     "output_type": "execute_result"
    }
   ],
   "source": [
    "pythons"
   ]
  },
  {
   "cell_type": "code",
   "execution_count": 81,
   "id": "3cd1af93",
   "metadata": {},
   "outputs": [
    {
     "ename": "KeyError",
     "evalue": "'Lee'",
     "output_type": "error",
     "traceback": [
      "\u001b[1;31m---------------------------------------------------------------------------\u001b[0m",
      "\u001b[1;31mKeyError\u001b[0m                                  Traceback (most recent call last)",
      "\u001b[1;32m~\\AppData\\Local\\Temp/ipykernel_17056/3645201150.py\u001b[0m in \u001b[0;36m<module>\u001b[1;34m\u001b[0m\n\u001b[0;32m      1\u001b[0m \u001b[1;31m# 없는 값 삭제하려고 하면 error\u001b[0m\u001b[1;33m\u001b[0m\u001b[1;33m\u001b[0m\u001b[0m\n\u001b[1;32m----> 2\u001b[1;33m \u001b[1;32mdel\u001b[0m \u001b[0mpythons\u001b[0m\u001b[1;33m[\u001b[0m\u001b[1;34m'Lee'\u001b[0m\u001b[1;33m]\u001b[0m\u001b[1;33m\u001b[0m\u001b[1;33m\u001b[0m\u001b[0m\n\u001b[0m",
      "\u001b[1;31mKeyError\u001b[0m: 'Lee'"
     ]
    }
   ],
   "source": [
    "# 없는 값 삭제하려고 하면 error\n",
    "del pythons['Lee']"
   ]
  },
  {
   "cell_type": "code",
   "execution_count": 82,
   "id": "58074a67",
   "metadata": {},
   "outputs": [
    {
     "data": {
      "text/plain": [
       "'Groucho'"
      ]
     },
     "execution_count": 82,
     "metadata": {},
     "output_type": "execute_result"
    }
   ],
   "source": [
    "pythons.pop('Marx')"
   ]
  },
  {
   "cell_type": "code",
   "execution_count": 84,
   "id": "1fc6a161",
   "metadata": {},
   "outputs": [
    {
     "data": {
      "text/plain": [
       "0"
      ]
     },
     "execution_count": 84,
     "metadata": {},
     "output_type": "execute_result"
    }
   ],
   "source": [
    "pythons.pop('Lee', 0) # 0을 설정해주면 없을 때 0 너옴"
   ]
  },
  {
   "cell_type": "code",
   "execution_count": 85,
   "id": "c1745f4f",
   "metadata": {},
   "outputs": [],
   "source": [
    "# 전체 삭제\n",
    "# 방법 1\n",
    "pythons.clear()\n",
    "# 방법 2\n",
    "pythons = {}"
   ]
  },
  {
   "cell_type": "code",
   "execution_count": 86,
   "id": "350ea9e1",
   "metadata": {},
   "outputs": [
    {
     "data": {
      "text/plain": [
       "{}"
      ]
     },
     "execution_count": 86,
     "metadata": {},
     "output_type": "execute_result"
    }
   ],
   "source": [
    "pythons"
   ]
  },
  {
   "cell_type": "markdown",
   "id": "f353f716",
   "metadata": {},
   "source": [
    "### 복제\n",
    "- 할당\n",
    "- 얕은 복사\n",
    "- 깊은 복사"
   ]
  },
  {
   "cell_type": "code",
   "execution_count": 87,
   "id": "8d2c2fdc",
   "metadata": {},
   "outputs": [
    {
     "data": {
      "text/plain": [
       "({1: 45, 2: 2, 3: 3}, {1: 45, 2: 2, 3: 3})"
      ]
     },
     "execution_count": 87,
     "metadata": {},
     "output_type": "execute_result"
    }
   ],
   "source": [
    "a = {1:1, 2:2, 3:3}\n",
    "b = a\n",
    "a[1] = 45\n",
    "a, b"
   ]
  },
  {
   "cell_type": "code",
   "execution_count": 88,
   "id": "2ea17187",
   "metadata": {},
   "outputs": [
    {
     "data": {
      "text/plain": [
       "({1: 45, 2: 22, 3: 3}, {1: 45, 2: 2, 3: 3})"
      ]
     },
     "execution_count": 88,
     "metadata": {},
     "output_type": "execute_result"
    }
   ],
   "source": [
    "c = a.copy()\n",
    "a[2] = 22\n",
    "a, c"
   ]
  },
  {
   "cell_type": "code",
   "execution_count": 90,
   "id": "cc62b4b1",
   "metadata": {},
   "outputs": [
    {
     "data": {
      "text/plain": [
       "({1: [100, 2, 3], 2: [2, 3, 4]}, {1: [100, 2, 3], 2: [2, 3, 4]})"
      ]
     },
     "execution_count": 90,
     "metadata": {},
     "output_type": "execute_result"
    }
   ],
   "source": [
    "a = {1: [1, 2, 3], 2: [2, 3, 4]}\n",
    "d = a.copy()\n",
    "a[1][0] = 100\n",
    "a, d"
   ]
  },
  {
   "cell_type": "code",
   "execution_count": 91,
   "id": "c808e0b4",
   "metadata": {},
   "outputs": [
    {
     "data": {
      "text/plain": [
       "({1: [100, 999, 3], 2: [2, 3, 4]}, {1: [100, 2, 3], 2: [2, 3, 4]})"
      ]
     },
     "execution_count": 91,
     "metadata": {},
     "output_type": "execute_result"
    }
   ],
   "source": [
    "import copy\n",
    "e = copy.deepcopy(a)\n",
    "a[1][1] = 999\n",
    "a, e"
   ]
  },
  {
   "cell_type": "markdown",
   "id": "04ffff55",
   "metadata": {},
   "source": [
    "#### 비교\n",
    "- '같다', '다르다'만 된다."
   ]
  },
  {
   "cell_type": "code",
   "execution_count": 92,
   "id": "a2d3248d",
   "metadata": {},
   "outputs": [
    {
     "data": {
      "text/plain": [
       "False"
      ]
     },
     "execution_count": 92,
     "metadata": {},
     "output_type": "execute_result"
    }
   ],
   "source": [
    "a == b"
   ]
  },
  {
   "cell_type": "code",
   "execution_count": 93,
   "id": "04419501",
   "metadata": {},
   "outputs": [
    {
     "data": {
      "text/plain": [
       "True"
      ]
     },
     "execution_count": 93,
     "metadata": {},
     "output_type": "execute_result"
    }
   ],
   "source": [
    "a != b"
   ]
  },
  {
   "cell_type": "markdown",
   "id": "38317214",
   "metadata": {},
   "source": [
    "### EX\n",
    "1. 두 리스트로 하나의 딕셔너리 생성\n",
    "2. 명왕성 = pluto 추가하기\n",
    "3. '성'으로 끝나지 않는 키 삭제하기\n",
    "    - del dict1['태양'] (x)\n",
    "4. sorted 이용해서 값 정렬하기 i) key, ii) value"
   ]
  },
  {
   "cell_type": "code",
   "execution_count": 95,
   "id": "c891e300",
   "metadata": {},
   "outputs": [],
   "source": [
    "solar_kor = '태양 수성 금성 지구 화성 목성 토성 천왕성 혜왕성'.split()\n",
    "solar_eng = 'sun mercury venus earth mars jupiter saturn uranus neptune'.split()"
   ]
  },
  {
   "cell_type": "code",
   "execution_count": 97,
   "id": "3209c320",
   "metadata": {},
   "outputs": [
    {
     "data": {
      "text/plain": [
       "{'수성': 'mercury',\n",
       " '금성': 'venus',\n",
       " '화성': 'mars',\n",
       " '목성': 'jupiter',\n",
       " '토성': 'saturn',\n",
       " '천왕성': 'uranus',\n",
       " '혜왕성': 'neptune'}"
      ]
     },
     "execution_count": 97,
     "metadata": {},
     "output_type": "execute_result"
    }
   ],
   "source": [
    "# good answer 1\n",
    "kor_eng = {}\n",
    "for i in range(len(solar_kor)):\n",
    "    kor_eng[solar_kor[i]] = solar_eng[i]\n",
    "# 성만 남기기\n",
    "for planet in list(kor_eng.keys()):\n",
    "    if not planet.endswith('성'):\n",
    "        del kor_eng[planet]\n",
    "kor_eng"
   ]
  },
  {
   "cell_type": "code",
   "execution_count": 99,
   "id": "511c0274",
   "metadata": {},
   "outputs": [
    {
     "data": {
      "text/plain": [
       "['금성', '명왕성', '목성', '수성', '천왕성', '토성', '혜왕성', '화성']"
      ]
     },
     "execution_count": 99,
     "metadata": {},
     "output_type": "execute_result"
    }
   ],
   "source": [
    "# good answer 2\n",
    "dict_EX = dict([[x, y] for x, y in zip(solar_kor, solar_eng)])\n",
    "dict_EX['명왕성'] = 'pluto'\n",
    "for i in list(dict_EX.keys()):\n",
    "    if not i.endswith('성'):\n",
    "        dict_EX.pop(i)\n",
    "sorted(dict_EX)"
   ]
  },
  {
   "cell_type": "code",
   "execution_count": 100,
   "id": "9eaf2240",
   "metadata": {},
   "outputs": [
    {
     "data": {
      "text/plain": [
       "{'태양': 'sun',\n",
       " '수성': 'mercury',\n",
       " '금성': 'venus',\n",
       " '지구': 'earth',\n",
       " '화성': 'mars',\n",
       " '목성': 'jupiter',\n",
       " '토성': 'saturn',\n",
       " '천왕성': 'uranus',\n",
       " '혜왕성': 'neptune'}"
      ]
     },
     "execution_count": 100,
     "metadata": {},
     "output_type": "execute_result"
    }
   ],
   "source": [
    "# professor\n",
    "system = {}\n",
    "for k, v in zip(solar_kor, solar_eng):\n",
    "    system[k] = v\n",
    "    \n",
    "system"
   ]
  },
  {
   "cell_type": "code",
   "execution_count": 103,
   "id": "01b1a15f",
   "metadata": {
    "scrolled": true
   },
   "outputs": [
    {
     "data": {
      "text/plain": [
       "{'수성': 'mercury',\n",
       " '금성': 'venus',\n",
       " '화성': 'mars',\n",
       " '목성': 'jupiter',\n",
       " '토성': 'saturn',\n",
       " '천왕성': 'uranus',\n",
       " '혜왕성': 'neptune'}"
      ]
     },
     "execution_count": 103,
     "metadata": {},
     "output_type": "execute_result"
    }
   ],
   "source": [
    "# 성만 남기기\n",
    "{k: v for k, v in system.items() if k.endswith('성')}"
   ]
  },
  {
   "cell_type": "markdown",
   "id": "698fc0c7",
   "metadata": {},
   "source": [
    "### 컴프리헨션"
   ]
  },
  {
   "cell_type": "code",
   "execution_count": 104,
   "id": "1dea87b1",
   "metadata": {},
   "outputs": [
    {
     "data": {
      "text/plain": [
       "{'a': 1, 'p': 2, 'l': 1, 'e': 1}"
      ]
     },
     "execution_count": 104,
     "metadata": {},
     "output_type": "execute_result"
    }
   ],
   "source": [
    "letter = 'apple'\n",
    "# a: 1, p: 2...\n",
    "{ch: letter.count(ch) for ch in letter}"
   ]
  },
  {
   "cell_type": "code",
   "execution_count": 105,
   "id": "55c92102",
   "metadata": {},
   "outputs": [],
   "source": [
    "# 단어의 모음 세기\n",
    "vowels = 'aeiou'\n",
    "word = 'onomatopoeia'\n",
    "\n",
    "# word 순회\n",
    "# vowels 순회"
   ]
  },
  {
   "cell_type": "code",
   "execution_count": 106,
   "id": "35168e26",
   "metadata": {},
   "outputs": [
    {
     "data": {
      "text/plain": [
       "{'a': 2, 'e': 1, 'i': 1, 'o': 4}"
      ]
     },
     "execution_count": 106,
     "metadata": {},
     "output_type": "execute_result"
    }
   ],
   "source": [
    "# good answer\n",
    "{v: word.count(v) for v in vowels if v in word}"
   ]
  },
  {
   "cell_type": "code",
   "execution_count": 108,
   "id": "7d17e89d",
   "metadata": {},
   "outputs": [
    {
     "data": {
      "text/plain": [
       "{'m': 1, 'e': 1, 'p': 1, 'i': 1, 'o': 4, 'n': 1, 't': 1, 'a': 2}"
      ]
     },
     "execution_count": 108,
     "metadata": {},
     "output_type": "execute_result"
    }
   ],
   "source": [
    "# 모음뿐만 아니라 모든 글자 출력\n",
    "{w: word.count(w) for w in set(word) if w in word}"
   ]
  },
  {
   "cell_type": "markdown",
   "id": "c30a9cfb",
   "metadata": {},
   "source": [
    "### sorting"
   ]
  },
  {
   "cell_type": "code",
   "execution_count": 109,
   "id": "719a3b94",
   "metadata": {},
   "outputs": [
    {
     "data": {
      "text/plain": [
       "[('금성', 'venus'),\n",
       " ('목성', 'jupiter'),\n",
       " ('수성', 'mercury'),\n",
       " ('지구', 'earth'),\n",
       " ('천왕성', 'uranus'),\n",
       " ('태양', 'sun'),\n",
       " ('토성', 'saturn'),\n",
       " ('혜왕성', 'neptune'),\n",
       " ('화성', 'mars')]"
      ]
     },
     "execution_count": 109,
     "metadata": {},
     "output_type": "execute_result"
    }
   ],
   "source": [
    "# sorted 쓰면 key만 나옴. 그래서 다 나오려면 items\n",
    "sorted(system.items())"
   ]
  },
  {
   "cell_type": "code",
   "execution_count": 110,
   "id": "aeccf412",
   "metadata": {},
   "outputs": [],
   "source": [
    "def fx(x):\n",
    "    return x[1]"
   ]
  },
  {
   "cell_type": "code",
   "execution_count": 112,
   "id": "1bb33e38",
   "metadata": {
    "scrolled": true
   },
   "outputs": [
    {
     "data": {
      "text/plain": [
       "[('지구', 'earth'),\n",
       " ('목성', 'jupiter'),\n",
       " ('화성', 'mars'),\n",
       " ('수성', 'mercury'),\n",
       " ('혜왕성', 'neptune'),\n",
       " ('토성', 'saturn'),\n",
       " ('태양', 'sun'),\n",
       " ('천왕성', 'uranus'),\n",
       " ('금성', 'venus')]"
      ]
     },
     "execution_count": 112,
     "metadata": {},
     "output_type": "execute_result"
    }
   ],
   "source": [
    "sorted(system.items(), key = fx) # item이 기준으로 정리"
   ]
  },
  {
   "cell_type": "markdown",
   "id": "e128595e",
   "metadata": {},
   "source": [
    "### Set\n",
    "- \"중복이 없다.\"\n",
    "- 집합 => 교집합, 합집합, 차집합,...\n",
    "- bag, 인덱싱도 없다."
   ]
  },
  {
   "cell_type": "code",
   "execution_count": 114,
   "id": "b5ac7468",
   "metadata": {},
   "outputs": [
    {
     "data": {
      "text/plain": [
       "set()"
      ]
     },
     "execution_count": 114,
     "metadata": {},
     "output_type": "execute_result"
    }
   ],
   "source": [
    "empty = set()\n",
    "empty"
   ]
  },
  {
   "cell_type": "code",
   "execution_count": 115,
   "id": "abc6f9c5",
   "metadata": {},
   "outputs": [
    {
     "data": {
      "text/plain": [
       "{1, 2, 3}"
      ]
     },
     "execution_count": 115,
     "metadata": {},
     "output_type": "execute_result"
    }
   ],
   "source": [
    "a = {1, 2, 3}\n",
    "a"
   ]
  },
  {
   "cell_type": "code",
   "execution_count": 116,
   "id": "f42846db",
   "metadata": {},
   "outputs": [
    {
     "data": {
      "text/plain": [
       "{1, 2, 3}"
      ]
     },
     "execution_count": 116,
     "metadata": {},
     "output_type": "execute_result"
    }
   ],
   "source": [
    "a = set((1, 2, 3)) # 선언, 형 변환\n",
    "a"
   ]
  },
  {
   "cell_type": "code",
   "execution_count": 117,
   "id": "af143942",
   "metadata": {},
   "outputs": [
    {
     "data": {
      "text/plain": [
       "{1, 2, 3}"
      ]
     },
     "execution_count": 117,
     "metadata": {},
     "output_type": "execute_result"
    }
   ],
   "source": [
    "# 추가\n",
    "a.add(3) # 중복 안 되서 있는 숫자 넣어도 다를 바 없다\n",
    "a"
   ]
  },
  {
   "cell_type": "code",
   "execution_count": 118,
   "id": "0f1befe8",
   "metadata": {},
   "outputs": [
    {
     "data": {
      "text/plain": [
       "{1, 2, 3, 4}"
      ]
     },
     "execution_count": 118,
     "metadata": {},
     "output_type": "execute_result"
    }
   ],
   "source": [
    "a.add(4)\n",
    "a"
   ]
  },
  {
   "cell_type": "code",
   "execution_count": 119,
   "id": "e3ba15bf",
   "metadata": {},
   "outputs": [
    {
     "data": {
      "text/plain": [
       "{1, 2, 3}"
      ]
     },
     "execution_count": 119,
     "metadata": {},
     "output_type": "execute_result"
    }
   ],
   "source": [
    "# 삭제\n",
    "a.remove(4)\n",
    "a"
   ]
  },
  {
   "cell_type": "code",
   "execution_count": 121,
   "id": "bf7f1e25",
   "metadata": {},
   "outputs": [],
   "source": [
    "drinks = {\n",
    "    'martini': {'vodka', 'vermouth'},\n",
    "    'black russian': {'vodka', 'kahlua'},\n",
    "    'white russian': {'cream', 'kahlua', 'vodka'},\n",
    "    'manhattan': {'rye', 'vermouth', 'bitters'},\n",
    "    'screwdriver': {'orange juice', 'vodka'}\n",
    "}\n",
    "# vodka가 포함된 술 출력하기\n",
    "# vodka는 있지만 cream, vermouth 없는 술 출력하기"
   ]
  },
  {
   "cell_type": "code",
   "execution_count": 123,
   "id": "cc616a5e",
   "metadata": {},
   "outputs": [],
   "source": [
    "# my bad answer during class\n",
    "# [drink for drink in drinks.keys() if 'vodka' in drinks.values()]"
   ]
  },
  {
   "cell_type": "code",
   "execution_count": 124,
   "id": "598fcbd6",
   "metadata": {},
   "outputs": [
    {
     "name": "stdout",
     "output_type": "stream",
     "text": [
      "martini\n",
      "black russian\n",
      "white russian\n",
      "screwdriver\n"
     ]
    }
   ],
   "source": [
    "# good answer\n",
    "for k, v in drinks.items():\n",
    "    if 'vodka' in v:\n",
    "        print(k)"
   ]
  },
  {
   "cell_type": "code",
   "execution_count": 125,
   "id": "659e5d23",
   "metadata": {},
   "outputs": [
    {
     "name": "stdout",
     "output_type": "stream",
     "text": [
      "black russian\n",
      "screwdriver\n"
     ]
    }
   ],
   "source": [
    "# my answer during class (right but not the best)\n",
    "for k, v in drinks.items():\n",
    "    if 'vodka' in v:\n",
    "        if 'cream' not in v and 'vermouth' not in v:\n",
    "            print(k)"
   ]
  },
  {
   "cell_type": "code",
   "execution_count": 128,
   "id": "41606f0c",
   "metadata": {},
   "outputs": [
    {
     "name": "stdout",
     "output_type": "stream",
     "text": [
      "black russian\n",
      "screwdriver\n"
     ]
    }
   ],
   "source": [
    "# better answer\n",
    "for k, v in drinks.items():\n",
    "    if 'vodka' in v and not('cream' in v or 'vermouth' in v): # not()할 때 or인거 확인\n",
    "            print(k)"
   ]
  },
  {
   "cell_type": "code",
   "execution_count": 129,
   "id": "59658003",
   "metadata": {},
   "outputs": [
    {
     "data": {
      "text/plain": [
       "({1}, {4})"
      ]
     },
     "execution_count": 129,
     "metadata": {},
     "output_type": "execute_result"
    }
   ],
   "source": [
    "a = {1, 2, 3}\n",
    "b = {2, 3, 4}\n",
    "\n",
    "# 교집합 | intersection\n",
    "a.intersection(b)\n",
    "a & b\n",
    "\n",
    "# 합집합 | union\n",
    "a.union(b)\n",
    "a | b\n",
    "\n",
    "# 차집합 | difference\n",
    "a.difference(b)\n",
    "a - b, b - a"
   ]
  },
  {
   "cell_type": "code",
   "execution_count": 130,
   "id": "32016cae",
   "metadata": {},
   "outputs": [
    {
     "name": "stdout",
     "output_type": "stream",
     "text": [
      "black russian\n",
      "screwdriver\n"
     ]
    }
   ],
   "source": [
    "# 윗 문제 set을 활용해서 바꾸기\n",
    "for k, v in drinks.items():\n",
    "    if 'vodka' in v and not v & {'cream', 'vermouth'}:\n",
    "        print(k)"
   ]
  },
  {
   "cell_type": "code",
   "execution_count": 131,
   "id": "4b351dd2",
   "metadata": {},
   "outputs": [
    {
     "data": {
      "text/plain": [
       "{0, 1, 2, 3, 4}"
      ]
     },
     "execution_count": 131,
     "metadata": {},
     "output_type": "execute_result"
    }
   ],
   "source": [
    "# set도 컴프리헨션\n",
    "{s for s in range(5)}"
   ]
  },
  {
   "cell_type": "code",
   "execution_count": 132,
   "id": "6d72301a",
   "metadata": {},
   "outputs": [
    {
     "data": {
      "text/plain": [
       "frozenset({1, 2})"
      ]
     },
     "execution_count": 132,
     "metadata": {},
     "output_type": "execute_result"
    }
   ],
   "source": [
    "# frozenset\n",
    "set([1, 2])\n",
    "frozenset([1, 2])"
   ]
  },
  {
   "cell_type": "markdown",
   "id": "d48a0575",
   "metadata": {},
   "source": [
    "### Project\n",
    "- 팀별로 한 파일\n",
    "- 100(2), 70, 50, 30\n",
    "- task를 풀고 수업 30분 랜덤으로 코드 설명 => 못 했다, 성의 없다 => 점수 안 줌\n",
    "- 제출: 수요일 자정. 수요일에만 제출 (00:00 ~ 11:59)"
   ]
  },
  {
   "cell_type": "markdown",
   "id": "225a7a84",
   "metadata": {},
   "source": [
    "!pip install pylint\n",
    "\n",
    "!pylint example.py\n",
    "\n",
    "!pip install pydocstyle\n",
    "\n",
    "!pydocstyle example.py"
   ]
  }
 ],
 "metadata": {
  "kernelspec": {
   "display_name": "Python 3 (ipykernel)",
   "language": "python",
   "name": "python3"
  },
  "language_info": {
   "codemirror_mode": {
    "name": "ipython",
    "version": 3
   },
   "file_extension": ".py",
   "mimetype": "text/x-python",
   "name": "python",
   "nbconvert_exporter": "python",
   "pygments_lexer": "ipython3",
   "version": "3.9.7"
  }
 },
 "nbformat": 4,
 "nbformat_minor": 5
}
